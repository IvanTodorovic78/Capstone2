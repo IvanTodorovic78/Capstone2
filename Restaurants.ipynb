{
 "cells": [
  {
   "cell_type": "markdown",
   "metadata": {},
   "source": [
    "# Predicting Restaurant Ratings"
   ]
  },
  {
   "cell_type": "markdown",
   "metadata": {},
   "source": [
    "This notebook will combine the information about restaurants and the processed text from reviews and perform machine learning algorithms to make predictions about ratings based on the restaurants' features and reviews.\n",
    "The analysis will focus on restaurants from Phoenix, Arizona, as this represents a compact data set with approx. 3,500 restaurants and just over 300,000 reviews about them. The analysis involves the following steps:\n",
    "1. Importing the raw data from the _'business.json'_ file, filtering for restaurants in Phoenix, AZ, and converted to a pandas DataFrame format\n",
    "2. Extracting features of each business for analysis\n",
    "3. Importing the reviews from the _'review.json'_ file and converting each review to a vector, to be used with the already trained word2vec model\n",
    "4. Sentiment modeling - this involves two parts: first, a training set of reviews will be used for supervised learning of the reviews' sentiment (positive or negative), using the star ratings as labels. Then the entiment will be predicted on a test set and its accuracy scored against the actual ratings. A variety of prediction models will be tested, including random forest and neural networks (MLPC).\n",
    "5. Predicting actual star ratings based on the text of a review using a number of classifier models: random forest, ada boost and MLPC.\n",
    "6. Visualising star rating predictions in 2-dimensional space, using t-SNE dimensionality reduction\n",
    "\n"
   ]
  },
  {
   "cell_type": "markdown",
   "metadata": {},
   "source": [
    "# 1. Importing Restaurant  Data"
   ]
  },
  {
   "cell_type": "code",
   "execution_count": 4,
   "metadata": {
    "collapsed": true
   },
   "outputs": [],
   "source": [
    "import pandas as pd\n",
    "import numpy as np\n",
    "import json"
   ]
  },
  {
   "cell_type": "code",
   "execution_count": 5,
   "metadata": {
    "collapsed": false
   },
   "outputs": [],
   "source": [
    "# import raw data from json in the first run and save to .csv file\n",
    "# for new runs load data directly from a .csv file to speed up the process \n",
    "if 0 == 1:\n",
    "    businesses_df = pd.read_json('data/dataset/business.json', lines=True)\n",
    "    businesses_df['restaurants'] = businesses_df['categories'].apply(lambda x: 'Restaurants' in x)\n",
    "    restaurants_df = businesses_df[businesses_df['restaurants'] == True]\n",
    "    restaurants_df.to_csv('data/restaurants.csv', encoding='utf-8')\n",
    "\n",
    "else:\n",
    "    restaurants_df = pd.read_csv('data/restaurants.csv', encoding='utf-8')"
   ]
  },
  {
   "cell_type": "code",
   "execution_count": 6,
   "metadata": {
    "collapsed": false
   },
   "outputs": [
    {
     "data": {
      "text/plain": [
       "(51613, 15)"
      ]
     },
     "execution_count": 6,
     "metadata": {},
     "output_type": "execute_result"
    }
   ],
   "source": [
    "restaurants_df = restaurants_df.drop(['Unnamed: 0', 'restaurants'], axis=1)\n",
    "restaurants_df.shape"
   ]
  },
  {
   "cell_type": "code",
   "execution_count": 7,
   "metadata": {
    "collapsed": false
   },
   "outputs": [
    {
     "data": {
      "text/html": [
       "<div>\n",
       "<style>\n",
       "    .dataframe thead tr:only-child th {\n",
       "        text-align: right;\n",
       "    }\n",
       "\n",
       "    .dataframe thead th {\n",
       "        text-align: left;\n",
       "    }\n",
       "\n",
       "    .dataframe tbody tr th {\n",
       "        vertical-align: top;\n",
       "    }\n",
       "</style>\n",
       "<table border=\"1\" class=\"dataframe\">\n",
       "  <thead>\n",
       "    <tr style=\"text-align: right;\">\n",
       "      <th></th>\n",
       "      <th>address</th>\n",
       "      <th>attributes</th>\n",
       "      <th>business_id</th>\n",
       "      <th>categories</th>\n",
       "      <th>city</th>\n",
       "      <th>hours</th>\n",
       "      <th>is_open</th>\n",
       "      <th>latitude</th>\n",
       "      <th>longitude</th>\n",
       "      <th>name</th>\n",
       "      <th>neighborhood</th>\n",
       "      <th>postal_code</th>\n",
       "      <th>review_count</th>\n",
       "      <th>stars</th>\n",
       "      <th>state</th>\n",
       "    </tr>\n",
       "  </thead>\n",
       "  <tbody>\n",
       "    <tr>\n",
       "      <th>0</th>\n",
       "      <td>2824 Milton Rd</td>\n",
       "      <td>{u'GoodForMeal': {u'dessert': False, u'latenig...</td>\n",
       "      <td>mLwM-h2YhXl2NCgdS84_Bw</td>\n",
       "      <td>[Food, Soul Food, Convenience Stores, Restaura...</td>\n",
       "      <td>Charlotte</td>\n",
       "      <td>{u'Monday': u'10:00-22:00', u'Tuesday': u'10:0...</td>\n",
       "      <td>0</td>\n",
       "      <td>35.236870</td>\n",
       "      <td>-80.741976</td>\n",
       "      <td>South Florida Style Chicken &amp; Ribs</td>\n",
       "      <td>Eastland</td>\n",
       "      <td>28215</td>\n",
       "      <td>4</td>\n",
       "      <td>4.5</td>\n",
       "      <td>NC</td>\n",
       "    </tr>\n",
       "    <tr>\n",
       "      <th>1</th>\n",
       "      <td>4719 N 20Th St</td>\n",
       "      <td>{u'GoodForMeal': {u'dessert': False, u'latenig...</td>\n",
       "      <td>duHFBe87uNSXImQmvBh87Q</td>\n",
       "      <td>[Sandwiches, Restaurants]</td>\n",
       "      <td>Phoenix</td>\n",
       "      <td>{}</td>\n",
       "      <td>0</td>\n",
       "      <td>33.505928</td>\n",
       "      <td>-112.038847</td>\n",
       "      <td>Blimpie</td>\n",
       "      <td>NaN</td>\n",
       "      <td>85016</td>\n",
       "      <td>10</td>\n",
       "      <td>4.5</td>\n",
       "      <td>AZ</td>\n",
       "    </tr>\n",
       "  </tbody>\n",
       "</table>\n",
       "</div>"
      ],
      "text/plain": [
       "          address                                         attributes  \\\n",
       "0  2824 Milton Rd  {u'GoodForMeal': {u'dessert': False, u'latenig...   \n",
       "1  4719 N 20Th St  {u'GoodForMeal': {u'dessert': False, u'latenig...   \n",
       "\n",
       "              business_id                                         categories  \\\n",
       "0  mLwM-h2YhXl2NCgdS84_Bw  [Food, Soul Food, Convenience Stores, Restaura...   \n",
       "1  duHFBe87uNSXImQmvBh87Q                          [Sandwiches, Restaurants]   \n",
       "\n",
       "        city                                              hours  is_open  \\\n",
       "0  Charlotte  {u'Monday': u'10:00-22:00', u'Tuesday': u'10:0...        0   \n",
       "1    Phoenix                                                 {}        0   \n",
       "\n",
       "    latitude   longitude                                name neighborhood  \\\n",
       "0  35.236870  -80.741976  South Florida Style Chicken & Ribs     Eastland   \n",
       "1  33.505928 -112.038847                             Blimpie          NaN   \n",
       "\n",
       "  postal_code  review_count  stars state  \n",
       "0       28215             4    4.5    NC  \n",
       "1       85016            10    4.5    AZ  "
      ]
     },
     "execution_count": 7,
     "metadata": {},
     "output_type": "execute_result"
    }
   ],
   "source": [
    "restaurants_df.head(2)"
   ]
  },
  {
   "cell_type": "code",
   "execution_count": 8,
   "metadata": {
    "collapsed": false
   },
   "outputs": [
    {
     "data": {
      "text/plain": [
       "Index([u'address', u'attributes', u'business_id', u'categories', u'city',\n",
       "       u'hours', u'is_open', u'latitude', u'longitude', u'name',\n",
       "       u'neighborhood', u'postal_code', u'review_count', u'stars', u'state'],\n",
       "      dtype='object')"
      ]
     },
     "execution_count": 8,
     "metadata": {},
     "output_type": "execute_result"
    }
   ],
   "source": [
    "restaurants_df.columns"
   ]
  },
  {
   "cell_type": "markdown",
   "metadata": {},
   "source": [
    "Data required is now loaded as restaurants_df data frame. The line below shows the structure of data by state - first Arizona (AZ) was selected as having a large data set of 10,000+ restaurants, and then Phoenix with 3,500+ restaurants. Choosing a single city with a wealth of data means that restaurants are comparable to each other and that meaningful conclusions can be drawn. However, the analysis can be easily expanded in scope to include other cities / states. Additionally, avoiding e.g. Quebec means that the analysis is limited to English language reviews."
   ]
  },
  {
   "cell_type": "code",
   "execution_count": 9,
   "metadata": {
    "collapsed": false,
    "scrolled": false
   },
   "outputs": [
    {
     "data": {
      "text/plain": [
       "state\n",
       "01         6\n",
       "3          1\n",
       "ABE        1\n",
       "AZ     10219\n",
       "BW      1759\n",
       "BY         3\n",
       "C         23\n",
       "CA         1\n",
       "EDH     1396\n",
       "ELN       19\n",
       "ESX        3\n",
       "FIF       27\n",
       "HH         1\n",
       "HLD       60\n",
       "IL       598\n",
       "KHL        1\n",
       "MLN       92\n",
       "NC      3625\n",
       "NI         8\n",
       "NV      6883\n",
       "NY        11\n",
       "NYK       12\n",
       "OH      4513\n",
       "ON     12634\n",
       "PA      3435\n",
       "PKN        1\n",
       "QC      4567\n",
       "RCC        1\n",
       "SC       201\n",
       "ST         4\n",
       "WA         1\n",
       "WHT        1\n",
       "WI      1486\n",
       "WLN       18\n",
       "XGL        1\n",
       "ZET        1\n",
       "Name: stars, dtype: int64"
      ]
     },
     "execution_count": 9,
     "metadata": {},
     "output_type": "execute_result"
    }
   ],
   "source": [
    "by_state = restaurants_df.groupby('state')['stars'].count()\n",
    "by_state"
   ]
  },
  {
   "cell_type": "code",
   "execution_count": 10,
   "metadata": {
    "collapsed": false
   },
   "outputs": [
    {
     "data": {
      "text/plain": [
       "(36L,)"
      ]
     },
     "execution_count": 10,
     "metadata": {},
     "output_type": "execute_result"
    }
   ],
   "source": [
    "by_state.shape"
   ]
  },
  {
   "cell_type": "code",
   "execution_count": 11,
   "metadata": {
    "collapsed": false
   },
   "outputs": [
    {
     "data": {
      "text/plain": [
       "(3515, 15)"
      ]
     },
     "execution_count": 11,
     "metadata": {},
     "output_type": "execute_result"
    }
   ],
   "source": [
    "arizona = restaurants_df.loc[restaurants_df.state == 'AZ']\n",
    "phoenix = arizona.loc[arizona.city == 'Phoenix']\n",
    "phoenix.shape"
   ]
  },
  {
   "cell_type": "code",
   "execution_count": 12,
   "metadata": {
    "collapsed": false
   },
   "outputs": [
    {
     "data": {
      "text/plain": [
       "302259L"
      ]
     },
     "execution_count": 12,
     "metadata": {},
     "output_type": "execute_result"
    }
   ],
   "source": [
    "phoenix.groupby('postal_code')['review_count'].sum().sum()"
   ]
  },
  {
   "cell_type": "code",
   "execution_count": 13,
   "metadata": {
    "collapsed": false
   },
   "outputs": [
    {
     "data": {
      "text/plain": [
       "302400L"
      ]
     },
     "execution_count": 13,
     "metadata": {},
     "output_type": "execute_result"
    }
   ],
   "source": [
    "phoenix.review_count.sum()"
   ]
  },
  {
   "cell_type": "code",
   "execution_count": 14,
   "metadata": {
    "collapsed": false
   },
   "outputs": [
    {
     "data": {
      "text/plain": [
       "set"
      ]
     },
     "execution_count": 14,
     "metadata": {},
     "output_type": "execute_result"
    }
   ],
   "source": [
    "# save id's as set for faster searching\n",
    "phx_ids = set(phoenix.business_id)\n",
    "type(phx_ids)"
   ]
  },
  {
   "cell_type": "markdown",
   "metadata": {},
   "source": [
    "The Phoenix restaurants are contained in the 'phoenix' data frame and the related business id data is kept in the 'phx-ids' set to be used when loading reviews."
   ]
  },
  {
   "cell_type": "code",
   "execution_count": 15,
   "metadata": {
    "collapsed": true
   },
   "outputs": [],
   "source": [
    "import matplotlib.pyplot as plt\n",
    "% matplotlib inline"
   ]
  },
  {
   "cell_type": "code",
   "execution_count": 16,
   "metadata": {
    "collapsed": false
   },
   "outputs": [
    {
     "data": {
      "image/png": "[encoded data removed]",
      "text/plain": [
       "<matplotlib.figure.Figure at 0x175f27b8>"
      ]
     },
     "metadata": {},
     "output_type": "display_data"
    }
   ],
   "source": [
    "stars_rating = phoenix.stars\n",
    "#log_stars = np.log(stars_rating)\n",
    "plt.hist(phoenix.stars, bins=9)\n",
    "plt.show()"
   ]
  },
  {
   "cell_type": "code",
   "execution_count": 17,
   "metadata": {
    "collapsed": false
   },
   "outputs": [
    {
     "data": {
      "text/plain": [
       "4.0    877\n",
       "3.5    804\n",
       "3.0    603\n",
       "4.5    431\n",
       "2.5    368\n",
       "2.0    218\n",
       "5.0    100\n",
       "1.5     82\n",
       "1.0     32\n",
       "Name: stars, dtype: int64"
      ]
     },
     "execution_count": 17,
     "metadata": {},
     "output_type": "execute_result"
    }
   ],
   "source": [
    "phoenix.stars.value_counts()"
   ]
  },
  {
   "cell_type": "code",
   "execution_count": 18,
   "metadata": {
    "collapsed": false
   },
   "outputs": [
    {
     "data": {
      "text/plain": [
       "3515"
      ]
     },
     "execution_count": 18,
     "metadata": {},
     "output_type": "execute_result"
    }
   ],
   "source": [
    "phoenix.stars.count()"
   ]
  },
  {
   "cell_type": "code",
   "execution_count": 19,
   "metadata": {
    "collapsed": false
   },
   "outputs": [
    {
     "name": "stdout",
     "output_type": "stream",
     "text": [
      "0.400568990043\n",
      "0.0944523470839\n"
     ]
    }
   ],
   "source": [
    "high_ratings = phoenix.stars[phoenix.stars >= 4]\n",
    "low_ratings = phoenix.stars[phoenix.stars <= 2]\n",
    "print high_ratings.count() / 3515.0\n",
    "print low_ratings.count() / 3515.0"
   ]
  },
  {
   "cell_type": "markdown",
   "metadata": {},
   "source": [
    "# 2. Extracting Business Features "
   ]
  },
  {
   "cell_type": "markdown",
   "metadata": {},
   "source": [
    "The code below extracts data from the 'business.json' file and converts into a pandas data frame  using the json_normalize function. This will form the features matrix for machine learniong algorithms. Items such as parking, ambience and food choice are included. The json_normalize function extracts all the information in one step for each line of the json file. "
   ]
  },
  {
   "cell_type": "code",
   "execution_count": 25,
   "metadata": {
    "collapsed": true
   },
   "outputs": [],
   "source": [
    "from pandas.io.json import json_normalize\n",
    "import codecs\n",
    "import os\n",
    "#import jsonlines"
   ]
  },
  {
   "cell_type": "code",
   "execution_count": 26,
   "metadata": {
    "collapsed": false
   },
   "outputs": [
    {
     "name": "stdout",
     "output_type": "stream",
     "text": [
      "Wall time: 2min 3s\n"
     ]
    }
   ],
   "source": [
    "%%time\n",
    "\n",
    "# set the file path\n",
    "business_json_filepath = os.path.abspath('data/dataset/business.json')\n",
    "\n",
    "# initiate empty data frame\n",
    "featuresdf = pd.DataFrame(zip([],[]))\n",
    "\n",
    "# extract info line by line for each \n",
    "with codecs.open(business_json_filepath, encoding='utf_8') as f:\n",
    "    for line in f:\n",
    "        business = json.loads(line)\n",
    "        bus_id = business[u'business_id'] \n",
    "        if bus_id not in phx_ids:\n",
    "            continue\n",
    "        norm = json_normalize(business) \n",
    "\n",
    "        featuresdf = featuresdf.append(norm)\n",
    "        "
   ]
  },
  {
   "cell_type": "code",
   "execution_count": 27,
   "metadata": {
    "collapsed": false
   },
   "outputs": [
    {
     "data": {
      "text/plain": [
       "(3515, 93)"
      ]
     },
     "execution_count": 27,
     "metadata": {},
     "output_type": "execute_result"
    }
   ],
   "source": [
    "featuresdf.shape"
   ]
  },
  {
   "cell_type": "code",
   "execution_count": 28,
   "metadata": {
    "collapsed": false,
    "scrolled": false
   },
   "outputs": [
    {
     "data": {
      "text/html": [
       "<div>\n",
       "<style>\n",
       "    .dataframe thead tr:only-child th {\n",
       "        text-align: right;\n",
       "    }\n",
       "\n",
       "    .dataframe thead th {\n",
       "        text-align: left;\n",
       "    }\n",
       "\n",
       "    .dataframe tbody tr th {\n",
       "        vertical-align: top;\n",
       "    }\n",
       "</style>\n",
       "<table border=\"1\" class=\"dataframe\">\n",
       "  <thead>\n",
       "    <tr style=\"text-align: right;\">\n",
       "      <th></th>\n",
       "      <th>address</th>\n",
       "      <th>attributes.AcceptsInsurance</th>\n",
       "      <th>attributes.AgesAllowed</th>\n",
       "      <th>attributes.Alcohol</th>\n",
       "      <th>attributes.Ambience.casual</th>\n",
       "      <th>attributes.Ambience.classy</th>\n",
       "      <th>attributes.Ambience.divey</th>\n",
       "      <th>attributes.Ambience.hipster</th>\n",
       "      <th>attributes.Ambience.intimate</th>\n",
       "      <th>attributes.Ambience.romantic</th>\n",
       "      <th>...</th>\n",
       "      <th>hours.Wednesday</th>\n",
       "      <th>is_open</th>\n",
       "      <th>latitude</th>\n",
       "      <th>longitude</th>\n",
       "      <th>name</th>\n",
       "      <th>neighborhood</th>\n",
       "      <th>postal_code</th>\n",
       "      <th>review_count</th>\n",
       "      <th>stars</th>\n",
       "      <th>state</th>\n",
       "    </tr>\n",
       "  </thead>\n",
       "  <tbody>\n",
       "    <tr>\n",
       "      <th>0</th>\n",
       "      <td>4719 N 20Th St</td>\n",
       "      <td>NaN</td>\n",
       "      <td>NaN</td>\n",
       "      <td>none</td>\n",
       "      <td>False</td>\n",
       "      <td>False</td>\n",
       "      <td>False</td>\n",
       "      <td>False</td>\n",
       "      <td>False</td>\n",
       "      <td>False</td>\n",
       "      <td>...</td>\n",
       "      <td>NaN</td>\n",
       "      <td>0</td>\n",
       "      <td>33.505928</td>\n",
       "      <td>-112.038847</td>\n",
       "      <td>Blimpie</td>\n",
       "      <td></td>\n",
       "      <td>85016</td>\n",
       "      <td>10</td>\n",
       "      <td>4.5</td>\n",
       "      <td>AZ</td>\n",
       "    </tr>\n",
       "    <tr>\n",
       "      <th>0</th>\n",
       "      <td>2641 N 44th St, Ste 100</td>\n",
       "      <td>NaN</td>\n",
       "      <td>NaN</td>\n",
       "      <td>none</td>\n",
       "      <td>True</td>\n",
       "      <td>False</td>\n",
       "      <td>False</td>\n",
       "      <td>False</td>\n",
       "      <td>False</td>\n",
       "      <td>False</td>\n",
       "      <td>...</td>\n",
       "      <td>10:00-22:00</td>\n",
       "      <td>1</td>\n",
       "      <td>33.478043</td>\n",
       "      <td>-111.986370</td>\n",
       "      <td>Five Guys</td>\n",
       "      <td></td>\n",
       "      <td>85008</td>\n",
       "      <td>63</td>\n",
       "      <td>3.5</td>\n",
       "      <td>AZ</td>\n",
       "    </tr>\n",
       "  </tbody>\n",
       "</table>\n",
       "<p>2 rows × 93 columns</p>\n",
       "</div>"
      ],
      "text/plain": [
       "                   address attributes.AcceptsInsurance attributes.AgesAllowed  \\\n",
       "0           4719 N 20Th St                         NaN                    NaN   \n",
       "0  2641 N 44th St, Ste 100                         NaN                    NaN   \n",
       "\n",
       "  attributes.Alcohol attributes.Ambience.casual attributes.Ambience.classy  \\\n",
       "0               none                      False                      False   \n",
       "0               none                       True                      False   \n",
       "\n",
       "  attributes.Ambience.divey attributes.Ambience.hipster  \\\n",
       "0                     False                       False   \n",
       "0                     False                       False   \n",
       "\n",
       "  attributes.Ambience.intimate attributes.Ambience.romantic  ...   \\\n",
       "0                        False                        False  ...    \n",
       "0                        False                        False  ...    \n",
       "\n",
       "  hours.Wednesday is_open   latitude   longitude       name neighborhood  \\\n",
       "0             NaN       0  33.505928 -112.038847    Blimpie                \n",
       "0     10:00-22:00       1  33.478043 -111.986370  Five Guys                \n",
       "\n",
       "  postal_code review_count stars state  \n",
       "0       85016           10   4.5    AZ  \n",
       "0       85008           63   3.5    AZ  \n",
       "\n",
       "[2 rows x 93 columns]"
      ]
     },
     "execution_count": 28,
     "metadata": {},
     "output_type": "execute_result"
    }
   ],
   "source": [
    "featuresdf.head(2)"
   ]
  },
  {
   "cell_type": "code",
   "execution_count": 29,
   "metadata": {
    "collapsed": false,
    "scrolled": true
   },
   "outputs": [
    {
     "data": {
      "text/plain": [
       "Index([u'address', u'attributes.AcceptsInsurance', u'attributes.AgesAllowed',\n",
       "       u'attributes.Alcohol', u'attributes.Ambience.casual',\n",
       "       u'attributes.Ambience.classy', u'attributes.Ambience.divey',\n",
       "       u'attributes.Ambience.hipster', u'attributes.Ambience.intimate',\n",
       "       u'attributes.Ambience.romantic', u'attributes.Ambience.touristy',\n",
       "       u'attributes.Ambience.trendy', u'attributes.Ambience.upscale',\n",
       "       u'attributes.BYOB', u'attributes.BYOBCorkage',\n",
       "       u'attributes.BestNights.friday', u'attributes.BestNights.monday',\n",
       "       u'attributes.BestNights.saturday', u'attributes.BestNights.sunday',\n",
       "       u'attributes.BestNights.thursday', u'attributes.BestNights.tuesday',\n",
       "       u'attributes.BestNights.wednesday', u'attributes.BikeParking',\n",
       "       u'attributes.BusinessAcceptsBitcoin',\n",
       "       u'attributes.BusinessAcceptsCreditCards',\n",
       "       u'attributes.BusinessParking.garage', u'attributes.BusinessParking.lot',\n",
       "       u'attributes.BusinessParking.street',\n",
       "       u'attributes.BusinessParking.valet',\n",
       "       u'attributes.BusinessParking.validated',\n",
       "       u'attributes.ByAppointmentOnly', u'attributes.Caters',\n",
       "       u'attributes.CoatCheck', u'attributes.Corkage',\n",
       "       u'attributes.DietaryRestrictions.dairy-free',\n",
       "       u'attributes.DietaryRestrictions.gluten-free',\n",
       "       u'attributes.DietaryRestrictions.halal',\n",
       "       u'attributes.DietaryRestrictions.kosher',\n",
       "       u'attributes.DietaryRestrictions.soy-free',\n",
       "       u'attributes.DietaryRestrictions.vegan',\n",
       "       u'attributes.DietaryRestrictions.vegetarian', u'attributes.DogsAllowed',\n",
       "       u'attributes.DriveThru', u'attributes.GoodForDancing',\n",
       "       u'attributes.GoodForKids', u'attributes.GoodForMeal.breakfast',\n",
       "       u'attributes.GoodForMeal.brunch', u'attributes.GoodForMeal.dessert',\n",
       "       u'attributes.GoodForMeal.dinner', u'attributes.GoodForMeal.latenight',\n",
       "       u'attributes.GoodForMeal.lunch', u'attributes.HappyHour',\n",
       "       u'attributes.HasTV', u'attributes.Music.background_music',\n",
       "       u'attributes.Music.dj', u'attributes.Music.jukebox',\n",
       "       u'attributes.Music.karaoke', u'attributes.Music.live',\n",
       "       u'attributes.Music.no_music', u'attributes.Music.video',\n",
       "       u'attributes.NoiseLevel', u'attributes.Open24Hours',\n",
       "       u'attributes.OutdoorSeating', u'attributes.RestaurantsAttire',\n",
       "       u'attributes.RestaurantsCounterService',\n",
       "       u'attributes.RestaurantsDelivery',\n",
       "       u'attributes.RestaurantsGoodForGroups',\n",
       "       u'attributes.RestaurantsPriceRange2',\n",
       "       u'attributes.RestaurantsReservations',\n",
       "       u'attributes.RestaurantsTableService', u'attributes.RestaurantsTakeOut',\n",
       "       u'attributes.Smoking', u'attributes.WheelchairAccessible',\n",
       "       u'attributes.WiFi', u'business_id', u'categories', u'city',\n",
       "       u'hours.Friday', u'hours.Monday', u'hours.Saturday', u'hours.Sunday',\n",
       "       u'hours.Thursday', u'hours.Tuesday', u'hours.Wednesday', u'is_open',\n",
       "       u'latitude', u'longitude', u'name', u'neighborhood', u'postal_code',\n",
       "       u'review_count', u'stars', u'state'],\n",
       "      dtype='object')"
      ]
     },
     "execution_count": 29,
     "metadata": {},
     "output_type": "execute_result"
    }
   ],
   "source": [
    "featuresdf.columns"
   ]
  },
  {
   "cell_type": "markdown",
   "metadata": {},
   "source": [
    "# 3. Importing Reviews Data"
   ]
  },
  {
   "cell_type": "code",
   "execution_count": 30,
   "metadata": {
    "collapsed": false
   },
   "outputs": [
    {
     "name": "stdout",
     "output_type": "stream",
     "text": [
      "302403\n",
      "302403\n",
      "302403\n"
     ]
    }
   ],
   "source": [
    "# extract reviews data from the json file and store to data frame\n",
    "review_json_filepath = os.path.abspath('data/dataset/review.json')\n",
    "\n",
    "biz_data = []\n",
    "rating_data = []\n",
    "review_data = []\n",
    "\n",
    "\n",
    "with codecs.open(review_json_filepath, encoding='utf_8') as f:\n",
    "    for line in f:\n",
    "        business = json.loads(line)\n",
    "        bus_id = business[u'business_id'] \n",
    "        # filter restaurants in Phoenix\n",
    "        if bus_id not in phx_ids:\n",
    "            continue\n",
    "        biz_data.append(bus_id)\n",
    "        rating_data.append(business[u'stars'])\n",
    "        review_data.append(business[u'text'])\n",
    "\n",
    "print len(biz_data)\n",
    "print len(rating_data)\n",
    "print len(review_data)"
   ]
  },
  {
   "cell_type": "code",
   "execution_count": 31,
   "metadata": {
    "collapsed": false
   },
   "outputs": [
    {
     "data": {
      "text/html": [
       "<div>\n",
       "<style>\n",
       "    .dataframe thead tr:only-child th {\n",
       "        text-align: right;\n",
       "    }\n",
       "\n",
       "    .dataframe thead th {\n",
       "        text-align: left;\n",
       "    }\n",
       "\n",
       "    .dataframe tbody tr th {\n",
       "        vertical-align: top;\n",
       "    }\n",
       "</style>\n",
       "<table border=\"1\" class=\"dataframe\">\n",
       "  <thead>\n",
       "    <tr style=\"text-align: right;\">\n",
       "      <th></th>\n",
       "      <th>business_id</th>\n",
       "      <th>stars_rating</th>\n",
       "      <th>review</th>\n",
       "    </tr>\n",
       "  </thead>\n",
       "  <tbody>\n",
       "    <tr>\n",
       "      <th>0</th>\n",
       "      <td>_mqUzNXs_sJ1EJYgYZYszg</td>\n",
       "      <td>4</td>\n",
       "      <td>A really good sandwich place. It's location is...</td>\n",
       "    </tr>\n",
       "    <tr>\n",
       "      <th>1</th>\n",
       "      <td>_mqUzNXs_sJ1EJYgYZYszg</td>\n",
       "      <td>5</td>\n",
       "      <td>The food was definitely solid but what stood o...</td>\n",
       "    </tr>\n",
       "    <tr>\n",
       "      <th>2</th>\n",
       "      <td>_mqUzNXs_sJ1EJYgYZYszg</td>\n",
       "      <td>4</td>\n",
       "      <td>Great place to grab lunch. The location is a l...</td>\n",
       "    </tr>\n",
       "    <tr>\n",
       "      <th>3</th>\n",
       "      <td>_mqUzNXs_sJ1EJYgYZYszg</td>\n",
       "      <td>5</td>\n",
       "      <td>What a find, right behind the Radisson, fresh ...</td>\n",
       "    </tr>\n",
       "    <tr>\n",
       "      <th>4</th>\n",
       "      <td>_mqUzNXs_sJ1EJYgYZYszg</td>\n",
       "      <td>5</td>\n",
       "      <td>I work in a office building right around the c...</td>\n",
       "    </tr>\n",
       "    <tr>\n",
       "      <th>5</th>\n",
       "      <td>_mqUzNXs_sJ1EJYgYZYszg</td>\n",
       "      <td>3</td>\n",
       "      <td>I can't figure out why their food isn't that g...</td>\n",
       "    </tr>\n",
       "    <tr>\n",
       "      <th>6</th>\n",
       "      <td>_mqUzNXs_sJ1EJYgYZYszg</td>\n",
       "      <td>4</td>\n",
       "      <td>Only open for lunch spot, a nice little sandwi...</td>\n",
       "    </tr>\n",
       "    <tr>\n",
       "      <th>7</th>\n",
       "      <td>_mqUzNXs_sJ1EJYgYZYszg</td>\n",
       "      <td>5</td>\n",
       "      <td>After arriving at PHX airport we searched for ...</td>\n",
       "    </tr>\n",
       "    <tr>\n",
       "      <th>8</th>\n",
       "      <td>_mqUzNXs_sJ1EJYgYZYszg</td>\n",
       "      <td>3</td>\n",
       "      <td>I have visited The Lunch Lounge 3 times since ...</td>\n",
       "    </tr>\n",
       "    <tr>\n",
       "      <th>9</th>\n",
       "      <td>_mqUzNXs_sJ1EJYgYZYszg</td>\n",
       "      <td>5</td>\n",
       "      <td>Happy to have found this place! Great food, de...</td>\n",
       "    </tr>\n",
       "  </tbody>\n",
       "</table>\n",
       "</div>"
      ],
      "text/plain": [
       "              business_id  stars_rating  \\\n",
       "0  _mqUzNXs_sJ1EJYgYZYszg             4   \n",
       "1  _mqUzNXs_sJ1EJYgYZYszg             5   \n",
       "2  _mqUzNXs_sJ1EJYgYZYszg             4   \n",
       "3  _mqUzNXs_sJ1EJYgYZYszg             5   \n",
       "4  _mqUzNXs_sJ1EJYgYZYszg             5   \n",
       "5  _mqUzNXs_sJ1EJYgYZYszg             3   \n",
       "6  _mqUzNXs_sJ1EJYgYZYszg             4   \n",
       "7  _mqUzNXs_sJ1EJYgYZYszg             5   \n",
       "8  _mqUzNXs_sJ1EJYgYZYszg             3   \n",
       "9  _mqUzNXs_sJ1EJYgYZYszg             5   \n",
       "\n",
       "                                              review  \n",
       "0  A really good sandwich place. It's location is...  \n",
       "1  The food was definitely solid but what stood o...  \n",
       "2  Great place to grab lunch. The location is a l...  \n",
       "3  What a find, right behind the Radisson, fresh ...  \n",
       "4  I work in a office building right around the c...  \n",
       "5  I can't figure out why their food isn't that g...  \n",
       "6  Only open for lunch spot, a nice little sandwi...  \n",
       "7  After arriving at PHX airport we searched for ...  \n",
       "8  I have visited The Lunch Lounge 3 times since ...  \n",
       "9  Happy to have found this place! Great food, de...  "
      ]
     },
     "execution_count": 31,
     "metadata": {},
     "output_type": "execute_result"
    }
   ],
   "source": [
    "reviews_df = pd.DataFrame(zip(biz_data, rating_data, review_data))\n",
    "reviews_df.columns = ['business_id', 'stars_rating', 'review']\n",
    "reviews_df.head(10)"
   ]
  },
  {
   "cell_type": "markdown",
   "metadata": {},
   "source": [
    "Reviews data stored in 'reviews_df' data frame and includes business id, stars rating and revew text. Line below extracts one sample review text (stored as unicode):"
   ]
  },
  {
   "cell_type": "code",
   "execution_count": 32,
   "metadata": {
    "collapsed": false
   },
   "outputs": [
    {
     "data": {
      "text/plain": [
       "u'I absolutely always enjoy the jade red chicken.  A little disappointed they do not have egg rolls but the heat selection of Asian beers definitely make up for it'"
      ]
     },
     "execution_count": 32,
     "metadata": {},
     "output_type": "execute_result"
    }
   ],
   "source": [
    "reviews_df.review[299522]"
   ]
  },
  {
   "cell_type": "code",
   "execution_count": 33,
   "metadata": {
    "collapsed": false
   },
   "outputs": [
    {
     "data": {
      "text/plain": [
       "3.803288988535167"
      ]
     },
     "execution_count": 33,
     "metadata": {},
     "output_type": "execute_result"
    }
   ],
   "source": [
    "# mean of the ratings\n",
    "reviews_df.stars_rating.mean()"
   ]
  },
  {
   "cell_type": "code",
   "execution_count": 34,
   "metadata": {
    "collapsed": false
   },
   "outputs": [
    {
     "data": {
      "image/png": "[encoded data removed]",
      "text/plain": [
       "<matplotlib.figure.Figure at 0xe54c208>"
      ]
     },
     "metadata": {},
     "output_type": "display_data"
    }
   ],
   "source": [
    "# histogram of individual ratings\n",
    "plt.hist(reviews_df.stars_rating, bins=5)\n",
    "plt.show()"
   ]
  },
  {
   "cell_type": "markdown",
   "metadata": {},
   "source": [
    "# 4. Sentiment Modeling"
   ]
  },
  {
   "cell_type": "markdown",
   "metadata": {},
   "source": [
    "## 4.1. Importing the Trained NLP Model"
   ]
  },
  {
   "cell_type": "markdown",
   "metadata": {},
   "source": [
    "We now have two data frames for the set of approx. 3500 restaurant businesses in Phoenix. - one with business information and one containing 300,000+ reviews about them. \n",
    "\n",
    "The next step uses the NLP model (already trained on the entire dataset of 2.9 million reviews) to extract summary information from the reviews about each business and add this information to the features matrix.\n",
    "\n",
    "The model will be imported as a gensim word2vec model and each review will be converted to a feature vector. As reviews vary in length, a method is needed to obtain a representative feature vector for each review in the same format. The solution used here is to generate a feature vector for each word in the review (in its lemma form, excluding punctuation, white space and stop words), add vectors for all words in the review, and divide by the number of words. This will create an average feature vector that is a representation of the broad meaning of the review."
   ]
  },
  {
   "cell_type": "code",
   "execution_count": 35,
   "metadata": {
    "collapsed": true
   },
   "outputs": [],
   "source": [
    "# this is to access the file where the ENglish language model is located\n",
    "import sys\n",
    "sys.path.append('C:\\Windows\\System32\\.env\\Lib\\site-packages')"
   ]
  },
  {
   "cell_type": "code",
   "execution_count": 36,
   "metadata": {
    "collapsed": false
   },
   "outputs": [],
   "source": [
    "# import spact for processing text in reviews\n",
    "import spacy\n",
    "import en_core_web_sm\n",
    "nlp = en_core_web_sm.load() "
   ]
  },
  {
   "cell_type": "code",
   "execution_count": 37,
   "metadata": {
    "collapsed": false
   },
   "outputs": [
    {
     "name": "stderr",
     "output_type": "stream",
     "text": [
      "C:\\Users\\Work\\Anaconda2\\lib\\site-packages\\gensim\\utils.py:865: UserWarning: detected Windows; aliasing chunkize to chunkize_serial\n",
      "  warnings.warn(\"detected Windows; aliasing chunkize to chunkize_serial\")\n"
     ]
    }
   ],
   "source": [
    "# import gensime module to use word2vec model created\n",
    "from gensim.models import Word2Vec"
   ]
  },
  {
   "cell_type": "code",
   "execution_count": 38,
   "metadata": {
    "collapsed": false
   },
   "outputs": [],
   "source": [
    "# import the trained word2vec model\n",
    "model = Word2Vec.load('data/intermediate/word2vec_model_all')"
   ]
  },
  {
   "cell_type": "code",
   "execution_count": 39,
   "metadata": {
    "collapsed": false
   },
   "outputs": [],
   "source": [
    "# create set of words in word2vec model\n",
    "index2word_set = set(model.wv.index2word)"
   ]
  },
  {
   "cell_type": "code",
   "execution_count": 40,
   "metadata": {
    "collapsed": false
   },
   "outputs": [
    {
     "data": {
      "text/plain": [
       "array([ 0.44177014,  0.34545311, -0.4863095 ,  0.35393116,  0.20394039,\n",
       "        0.32689789, -0.04189698,  0.09583075,  0.59013194,  0.13289815,\n",
       "       -0.43105602,  0.4870742 , -0.16222502, -0.2792412 ,  0.29100522,\n",
       "       -0.23376985, -0.16161127, -0.33476841,  0.11884616, -0.02219654,\n",
       "       -0.06832016,  0.18777724, -0.31993359,  0.41420466,  0.02011142,\n",
       "        0.34190252, -0.02196711,  0.16111246, -0.16246185,  0.0499949 ,\n",
       "       -0.19975521, -0.16161473,  0.17163743, -0.22013833,  0.23611847,\n",
       "       -0.27877772, -0.37166238,  0.0329407 ,  0.58188915,  0.24307698,\n",
       "        0.4378143 ,  0.02364679, -0.20428382,  0.06199164,  0.05651153,\n",
       "       -0.15151869,  0.58012015, -0.288416  ,  0.45948359,  0.33597344,\n",
       "        0.13952601, -0.23661782, -0.20378302,  0.42699447, -0.07695791,\n",
       "       -0.21763811, -0.12416524,  0.39530164,  0.24426317, -0.08625464,\n",
       "        0.01122354,  0.07476675,  0.07364706,  0.05514677,  0.03141041,\n",
       "       -0.44871995, -0.64922386,  0.27328208, -0.46428677, -0.07973774,\n",
       "       -0.11277536, -0.03787094, -0.13846612,  0.00076886, -0.31760025,\n",
       "       -0.07917943,  0.03352406,  0.55011755, -0.10536788, -0.11815295,\n",
       "       -0.03641997,  0.09829271,  0.20049158, -0.03420196, -0.1365761 ,\n",
       "       -0.1268909 , -0.29851314, -0.41611037, -0.13607046, -0.22747231,\n",
       "       -0.29927588, -0.25337467, -0.19961017, -0.22294429, -0.20607883,\n",
       "        0.10806422, -0.15409589,  0.04500968,  0.04672743,  0.39272976], dtype=float32)"
      ]
     },
     "execution_count": 40,
     "metadata": {},
     "output_type": "execute_result"
    }
   ],
   "source": [
    "# show feature vector for selected words\n",
    "model['excellent']"
   ]
  },
  {
   "cell_type": "code",
   "execution_count": 41,
   "metadata": {
    "collapsed": true
   },
   "outputs": [],
   "source": [
    "# smaller data set to test model\n",
    "smalldf = reviews_df.head(3100)"
   ]
  },
  {
   "cell_type": "code",
   "execution_count": 42,
   "metadata": {
    "collapsed": false
   },
   "outputs": [],
   "source": [
    "def punct_space_stop(token):\n",
    "    \"\"\"\n",
    "    helper function to eliminate tokens\n",
    "    that are pure punctuation, whitespace and stop words\n",
    "    \"\"\"\n",
    "    \n",
    "    return token.is_punct or token.is_space or token.is_stop\n"
   ]
  },
  {
   "cell_type": "code",
   "execution_count": 44,
   "metadata": {
    "collapsed": false
   },
   "outputs": [],
   "source": [
    "def makeFeatureVec(words, model, num_features):\n",
    "    \"\"\"\n",
    "    Function to average all of the word vectors in a review\n",
    "    \"\"\"\n",
    "    # process the unicode input text to tokens\n",
    "    nlp_words = nlp(words)\n",
    "    # Pre-initialize an empty numpy array (for speed)\n",
    "    featureVec = np.zeros((num_features,),dtype=\"float32\")\n",
    "    #\n",
    "    nwords = 0.\n",
    "    # Loop over each word in the review and, if it is in the model's\n",
    "    # vocaublary, add its feature vector to the total\n",
    "    for word in nlp_words:\n",
    "        if not punct_space_stop(word):\n",
    "            # convert to lemma and unicode \n",
    "            uw = unicode(word.lemma_)\n",
    "            if uw in index2word_set: \n",
    "                nwords = nwords + 1.\n",
    "                featureVec = np.add(featureVec,model[uw])\n",
    "    # \n",
    "    # Divide the result by the number of words to get the average\n",
    "    featureVec = np.divide(featureVec,nwords)\n",
    "    return featureVec"
   ]
  },
  {
   "cell_type": "code",
   "execution_count": 45,
   "metadata": {
    "collapsed": false
   },
   "outputs": [],
   "source": [
    "def getAvgFeatureVecs(reviews, model, num_features):\n",
    "    \"\"\"\n",
    "    Function to calculate the average feature vector for each \n",
    "    review given a list of reviews and return a 2D numpy array. \n",
    "    If list of reviews is a pandas DataFrame column, a slice of the column \n",
    "    needs to be fed into the function and not simply the column name\n",
    "    \"\"\"\n",
    "    # Initialize a counter\n",
    "    counter = 0\n",
    "    # \n",
    "    # Preallocate a 2D numpy array, for speed\n",
    "    reviewFeatureVecs = np.zeros((len(reviews),num_features),dtype=\"float32\")\n",
    "    # \n",
    "    # Loop through the reviews and update progress everu 1000 reviews\n",
    "    for review in reviews:\n",
    "        # keep track of progress\n",
    "        if counter%10000 == 0:\n",
    "            print \"Review %d of %d\" % (counter, len(reviews)) \n",
    "            \n",
    "        # Call the function (defined above) that makes average feature vectors\n",
    "        reviewFeatureVecs[counter] = makeFeatureVec(review, model, num_features)\n",
    "       \n",
    "        # Increment the counter\n",
    "        counter = counter + 1\n",
    "    return reviewFeatureVecs\n"
   ]
  },
  {
   "cell_type": "markdown",
   "metadata": {},
   "source": [
    "## 4.2. Random Forest Classifier "
   ]
  },
  {
   "cell_type": "markdown",
   "metadata": {},
   "source": [
    "The first attemt to classify data will use a random forest model. Paramneters to be tuned to optimize the model are: number of trees used, maximum tree depth, minimum items in a leaf. In addition the n_jobs parameter can be set to parallelize the process, using all 4 cores (importnat for the whole data set of 300k+ reviews)."
   ]
  },
  {
   "cell_type": "code",
   "execution_count": 46,
   "metadata": {
    "collapsed": true
   },
   "outputs": [],
   "source": [
    "from sklearn.model_selection import train_test_split"
   ]
  },
  {
   "cell_type": "code",
   "execution_count": 47,
   "metadata": {
    "collapsed": true
   },
   "outputs": [],
   "source": [
    "from sklearn.ensemble import RandomForestClassifier"
   ]
  },
  {
   "cell_type": "code",
   "execution_count": 48,
   "metadata": {
    "collapsed": true
   },
   "outputs": [],
   "source": [
    "# function to map star ratings to sentiment\n",
    "# 1-2 stars: set to 0, 'negative review'\n",
    "# 4-5 stars: set to 1, 'positive review'\n",
    "# 3 stars: net to None and drop values at later stage, 'neutral review that is not useful for sentiment analysis'\n",
    "def ratings_map(x):\n",
    "    if x in [1,2]:\n",
    "        xnew = 0\n",
    "    elif x in [4,5]:\n",
    "        xnew = 1\n",
    "    else: \n",
    "        xnew = None\n",
    "    return xnew"
   ]
  },
  {
   "cell_type": "code",
   "execution_count": 49,
   "metadata": {
    "collapsed": false
   },
   "outputs": [
    {
     "data": {
      "text/plain": [
       "(302403, 4)"
      ]
     },
     "execution_count": 49,
     "metadata": {},
     "output_type": "execute_result"
    }
   ],
   "source": [
    "# add sentiment column to the entire data set (300k reviews)\n",
    "reviews_df.loc[:,'sentiment'] = reviews_df.stars_rating.apply(lambda x: ratings_map(x))\n",
    "reviews_df.shape"
   ]
  },
  {
   "cell_type": "code",
   "execution_count": 50,
   "metadata": {
    "collapsed": false
   },
   "outputs": [
    {
     "data": {
      "text/plain": [
       "(265745, 4)"
      ]
     },
     "execution_count": 50,
     "metadata": {},
     "output_type": "execute_result"
    }
   ],
   "source": [
    "# drop the 3's and save to reviews_df1\n",
    "reviews_df1 = reviews_df.dropna()\n",
    "reviews_df1.shape"
   ]
  },
  {
   "cell_type": "code",
   "execution_count": 55,
   "metadata": {
    "collapsed": false
   },
   "outputs": [
    {
     "name": "stdout",
     "output_type": "stream",
     "text": [
      "Wall time: 98 ms\n"
     ]
    }
   ],
   "source": [
    "%%time\n",
    "# create feature matrix X and results vector y\n",
    "# for X need to extract feature vectors for all reviews in the large data set\n",
    "\n",
    "if 0==1:\n",
    "    X2 = getAvgFeatureVecs(reviews_df1.review[:], model, 100)\n",
    "    # if the array contains NaN, convert to zero\n",
    "    X21 = np.nan_to_num(X2) \n",
    "    np.save('X_matrix', X21)\n",
    "    \n",
    "else: \n",
    "    X21 = np.load('X_matrix.npy')\n",
    "y2 = reviews_df1.sentiment"
   ]
  },
  {
   "cell_type": "code",
   "execution_count": 56,
   "metadata": {
    "collapsed": true
   },
   "outputs": [],
   "source": [
    "# split data into training and test sets\n",
    "X2_train, X2_test, y2_train, y2_test = train_test_split(X21, y2, test_size=0.3)"
   ]
  },
  {
   "cell_type": "code",
   "execution_count": 57,
   "metadata": {
    "collapsed": false
   },
   "outputs": [
    {
     "name": "stdout",
     "output_type": "stream",
     "text": [
      "0.915997692038\n",
      "Wall time: 13min 32s\n"
     ]
    }
   ],
   "source": [
    "%%time\n",
    "# fit random forest model to training set\n",
    "# use to predict sentiment on test set\n",
    "# evaluate score as proportion of accurate predictions\n",
    "\n",
    "forest2 = RandomForestClassifier(n_estimators = 500, n_jobs=4)\n",
    "forest2 = forest2.fit(X2_train, y2_train)\n",
    "result2 = forest2.predict(X2_test)\n",
    "score = (result2 - y2_test) == 0\n",
    "print float(score.sum())/len(score)"
   ]
  },
  {
   "cell_type": "markdown",
   "metadata": {},
   "source": [
    "Results:\n",
    "- RandomForestClassifier(n_estimators = 500, n_jobs=4); score: 0.9157\n",
    "- "
   ]
  },
  {
   "cell_type": "markdown",
   "metadata": {},
   "source": [
    "## 4.3. Neural Network Classifier "
   ]
  },
  {
   "cell_type": "markdown",
   "metadata": {},
   "source": [
    "The next part is an attempt to produce better prediction results using a neural network model on the same data. The model used is the Multi-layer Perceptron (MLP) classifier from the scikit-learn library. Further, a range of parameters will be tested in order to tune the model for optimal results."
   ]
  },
  {
   "cell_type": "code",
   "execution_count": 58,
   "metadata": {
    "collapsed": false
   },
   "outputs": [],
   "source": [
    "from sklearn.neural_network import MLPClassifier"
   ]
  },
  {
   "cell_type": "code",
   "execution_count": 62,
   "metadata": {
    "collapsed": true
   },
   "outputs": [],
   "source": [
    "clf = MLPClassifier(solver='adam', alpha=1e-4, random_state=1)"
   ]
  },
  {
   "cell_type": "code",
   "execution_count": 63,
   "metadata": {
    "collapsed": false
   },
   "outputs": [
    {
     "data": {
      "text/plain": [
       "MLPClassifier(activation='relu', alpha=0.0001, batch_size='auto', beta_1=0.9,\n",
       "       beta_2=0.999, early_stopping=False, epsilon=1e-08,\n",
       "       hidden_layer_sizes=(100,), learning_rate='constant',\n",
       "       learning_rate_init=0.001, max_iter=200, momentum=0.9,\n",
       "       nesterovs_momentum=True, power_t=0.5, random_state=1, shuffle=True,\n",
       "       solver='adam', tol=0.0001, validation_fraction=0.1, verbose=False,\n",
       "       warm_start=False)"
      ]
     },
     "execution_count": 63,
     "metadata": {},
     "output_type": "execute_result"
    }
   ],
   "source": [
    "clf.fit(X2_train, y2_train)"
   ]
  },
  {
   "cell_type": "code",
   "execution_count": 64,
   "metadata": {
    "collapsed": false
   },
   "outputs": [
    {
     "name": "stdout",
     "output_type": "stream",
     "text": [
      "0.94368069841\n"
     ]
    }
   ],
   "source": [
    "clf_result = clf.predict(X2_test)\n",
    "score = (clf_result - y2_test) == 0\n",
    "print float(score.sum())/len(score)"
   ]
  },
  {
   "cell_type": "markdown",
   "metadata": {},
   "source": [
    "Results:\n",
    " - MLPClassifier(solver='lbfgs', alpha=1e-5, random_state=1); score: 0.9400\n",
    " - MLPClassifier(solver='lbfgs', alpha=1e-4, random_state=1); score: 0.9406\n",
    " - MLPClassifier(solver='lbfgs', alpha=1e-3, random_state=1); score: 0.9397\n",
    " - MLPClassifier(solver='sgd', alpha=1e-4, random_state=1); score: 0.9360\n",
    " - MLPClassifier(solver='sgd', alpha=1e-4, random_state=1, learning_rate='adaptive'); score: 0.9362\n",
    " - MLPClassifier(solver='sgd', alpha=1e-4, random_state=1, learning_rate='invscaling'); score: 0.7796\n",
    " - MLPClassifier(solver='adam', alpha=1e-4, random_state=1); score: 0.9412 \n",
    " - MLPClassifier(solver='adam', alpha=1e-3, random_state=1); score = 0.9419 (this took much longer to run)"
   ]
  },
  {
   "cell_type": "markdown",
   "metadata": {},
   "source": [
    "The standard MLP classifier, with default settings gives a prediction accuracy of 94.0%. Using different solvers and varying values of alpha (L2 regularization parameter that helps avoid overfitting) gave little variation in accuracy. The best result obtained was 94.2% using the 'adam' solver. According to the scikit-learn documentation, the 'adam' solver works relatively well on large data sets. The only outlier in the model is the 'sgd' solver with an inverse scaling learning rate, which only gave 78% accuracy.  \n",
    "\n",
    "Overall, this model gave better results that the random forest model, with an increase in accuracy of approximately 2.5 percentage points."
   ]
  },
  {
   "cell_type": "markdown",
   "metadata": {},
   "source": [
    "# 5. Predicting Star Ratings"
   ]
  },
  {
   "cell_type": "markdown",
   "metadata": {},
   "source": [
    "The previous section analyzed sentiment predictions for reviews as a positive (rating of 4 or 5 stars) or negative (rating of 1 or 2 stars). The 3-star reviews were ignored altogether. Using a random forest or MLP classifier bith gave good results with accuracy of 92% (random forest) and 94% (MLP). This is not surprising, as the elimination of 3-star reviews has provided a clearer separation of the two classes.\n",
    "\n",
    "In the next section, we will try to predict the actual star rating of a review. In order to provide a more computationally manageable data set, the analysis will be performed on a slice of the original data, containing 50,000 reviews. A training set of 35,000 will be used to 'learn' the data, using 3 types of classifier:\n",
    "- Random Forest\n",
    "- Ada Boost\n",
    "- MLP\n",
    "\n",
    "The test sample of 15,000 reviews will be used to predict the data and obtain a prediction accuracy as the mean squared error (MSE). Further, we will look at the proportion of correct predictions for each model, and the proportion of 'bad' predictions (where the error is 2 or higher)."
   ]
  },
  {
   "cell_type": "code",
   "execution_count": 65,
   "metadata": {
    "collapsed": false
   },
   "outputs": [
    {
     "data": {
      "text/plain": [
       "(50000, 4)"
      ]
     },
     "execution_count": 65,
     "metadata": {},
     "output_type": "execute_result"
    }
   ],
   "source": [
    "reviews_sample = reviews_df.loc[50000:99999,:]\n",
    "reviews_sample.shape"
   ]
  },
  {
   "cell_type": "code",
   "execution_count": 67,
   "metadata": {
    "collapsed": false
   },
   "outputs": [],
   "source": [
    "if 0 ==1:\n",
    "    X3 = getAvgFeatureVecs(reviews_sample.review[:], model, 100)\n",
    "    np.save('X_matrix_classification', X3)\n",
    "else: X3 = np.load('X_matrix_classification.npy')"
   ]
  },
  {
   "cell_type": "code",
   "execution_count": 68,
   "metadata": {
    "collapsed": false
   },
   "outputs": [
    {
     "data": {
      "text/plain": [
       "(array([1, 2, 3, 4, 5], dtype=int64),\n",
       " array([ 6250,  4850,  6347, 13318, 19235], dtype=int64))"
      ]
     },
     "execution_count": 68,
     "metadata": {},
     "output_type": "execute_result"
    }
   ],
   "source": [
    "y3 = reviews_sample.stars_rating.values\n",
    "np.unique(y3, return_counts=True)"
   ]
  },
  {
   "cell_type": "code",
   "execution_count": 69,
   "metadata": {
    "collapsed": true
   },
   "outputs": [],
   "source": [
    "# split data into training and test sets\n",
    "X3_train, X3_test, y3_train, y3_test = train_test_split(X3, y3, test_size=0.3)"
   ]
  },
  {
   "cell_type": "code",
   "execution_count": 70,
   "metadata": {
    "collapsed": true
   },
   "outputs": [],
   "source": [
    "from sklearn.metrics import mean_squared_error"
   ]
  },
  {
   "cell_type": "code",
   "execution_count": 71,
   "metadata": {
    "collapsed": false
   },
   "outputs": [
    {
     "name": "stdout",
     "output_type": "stream",
     "text": [
      "MSE on random forect classifier:  1.22633333333\n",
      "Proportion of correct predictions:  0.540333333333\n"
     ]
    }
   ],
   "source": [
    "# random forest classifier\n",
    "\n",
    "rfc = RandomForestClassifier(n_estimators = 200, max_depth = 100, min_samples_leaf = 1, n_jobs=4)\n",
    "rfc = rfc.fit(X3_train, y3_train)\n",
    "result_rfc = rfc.predict(X3_test)\n",
    "mse_rfc = mean_squared_error(y3_test, result_rfc)\n",
    "correct_pred_rfc = (result_rfc - y3_test) == 0\n",
    "print 'MSE on random forect classifier: ', mse_rfc\n",
    "print 'Proportion of correct predictions: ', correct_pred_rfc.sum() / float(len(y3_test))"
   ]
  },
  {
   "cell_type": "code",
   "execution_count": 72,
   "metadata": {
    "collapsed": true
   },
   "outputs": [],
   "source": [
    "from sklearn.ensemble import AdaBoostClassifier"
   ]
  },
  {
   "cell_type": "code",
   "execution_count": 73,
   "metadata": {
    "collapsed": false
   },
   "outputs": [
    {
     "name": "stdout",
     "output_type": "stream",
     "text": [
      "MSE on Ada Boost classifier:  1.14113333333\n",
      "Proportion of correct predictions:  0.533666666667\n"
     ]
    }
   ],
   "source": [
    "ada = AdaBoostClassifier(n_estimators = 100, random_state=1)\n",
    "ada = ada.fit(X3_train, y3_train)\n",
    "result_ada = ada.predict(X3_test)\n",
    "mse_ada = mean_squared_error(y3_test, result_ada)\n",
    "correct_pred_ada = (result_ada - y3_test) == 0\n",
    "print 'MSE on Ada Boost classifier: ', mse_ada\n",
    "print 'Proportion of correct predictions: ', correct_pred_ada.sum() / float(len(y3_test))              "
   ]
  },
  {
   "cell_type": "code",
   "execution_count": 74,
   "metadata": {
    "collapsed": false
   },
   "outputs": [
    {
     "name": "stdout",
     "output_type": "stream",
     "text": [
      "MSE on MLP classifier:  0.876466666667\n",
      "Proportion of correct predictions:  0.572733333333\n"
     ]
    }
   ],
   "source": [
    "# MLPClassifier\n",
    "\n",
    "mlpc = MLPClassifier(solver='adam', alpha=1e-4, random_state=1)\n",
    "mlpc = mlpc.fit(X3_train, y3_train)\n",
    "result_mlpc = mlpc.predict(X3_test)\n",
    "mse_mlpc = mean_squared_error(y3_test, result_mlpc)\n",
    "correct_pred_mlpc = (result_mlpc - y3_test) == 0\n",
    "print 'MSE on MLP classifier: ', mse_mlpc\n",
    "print 'Proportion of correct predictions: ', correct_pred_mlpc.sum() / float(len(y3_test))"
   ]
  },
  {
   "cell_type": "code",
   "execution_count": 75,
   "metadata": {
    "collapsed": false
   },
   "outputs": [
    {
     "name": "stdout",
     "output_type": "stream",
     "text": [
      "Random forest classifier bad predictions:  0.099\n",
      "Ada Boost classifier bad predictions:  0.0672\n",
      "MLP classifier bad predictions:  0.0554\n"
     ]
    }
   ],
   "source": [
    "# proportion of 'bad' predictions\n",
    "bads_rfc = ((result_rfc - y3_test) >= 2).sum() / float(len(y3_test))\n",
    "bads_ada = ((result_ada - y3_test) >= 2).sum() / float(len(y3_test))\n",
    "bads_mlpc = ((result_mlpc - y3_test) >= 2).sum() / float(len(y3_test))\n",
    "\n",
    "print 'Random forest classifier bad predictions: ', bads_rfc\n",
    "print 'Ada Boost classifier bad predictions: ', bads_ada\n",
    "print 'MLP classifier bad predictions: ', bads_mlpc\n"
   ]
  },
  {
   "cell_type": "code",
   "execution_count": 76,
   "metadata": {
    "collapsed": false
   },
   "outputs": [],
   "source": [
    "# accurate predictions\n",
    "acc_rfc = correct_pred_rfc.sum() / float(len(y3_test))\n",
    "acc_ada = correct_pred_ada.sum() / float(len(y3_test))\n",
    "acc_mlpc = correct_pred_mlpc.sum() / float(len(y3_test))"
   ]
  },
  {
   "cell_type": "markdown",
   "metadata": {},
   "source": [
    "__Summary of Results__"
   ]
  },
  {
   "cell_type": "code",
   "execution_count": 77,
   "metadata": {
    "collapsed": false
   },
   "outputs": [
    {
     "data": {
      "text/html": [
       "<div>\n",
       "<style>\n",
       "    .dataframe thead tr:only-child th {\n",
       "        text-align: right;\n",
       "    }\n",
       "\n",
       "    .dataframe thead th {\n",
       "        text-align: left;\n",
       "    }\n",
       "\n",
       "    .dataframe tbody tr th {\n",
       "        vertical-align: top;\n",
       "    }\n",
       "</style>\n",
       "<table border=\"1\" class=\"dataframe\">\n",
       "  <thead>\n",
       "    <tr style=\"text-align: right;\">\n",
       "      <th></th>\n",
       "      <th>Accurate predictions</th>\n",
       "      <th>Bad predictions</th>\n",
       "      <th>MSE</th>\n",
       "    </tr>\n",
       "  </thead>\n",
       "  <tbody>\n",
       "    <tr>\n",
       "      <th>Random Forest</th>\n",
       "      <td>0.540333</td>\n",
       "      <td>0.0990</td>\n",
       "      <td>1.226333</td>\n",
       "    </tr>\n",
       "    <tr>\n",
       "      <th>Ada Boost</th>\n",
       "      <td>0.533667</td>\n",
       "      <td>0.0672</td>\n",
       "      <td>1.141133</td>\n",
       "    </tr>\n",
       "    <tr>\n",
       "      <th>MLP</th>\n",
       "      <td>0.572733</td>\n",
       "      <td>0.0554</td>\n",
       "      <td>0.876467</td>\n",
       "    </tr>\n",
       "  </tbody>\n",
       "</table>\n",
       "</div>"
      ],
      "text/plain": [
       "               Accurate predictions  Bad predictions       MSE\n",
       "Random Forest              0.540333           0.0990  1.226333\n",
       "Ada Boost                  0.533667           0.0672  1.141133\n",
       "MLP                        0.572733           0.0554  0.876467"
      ]
     },
     "execution_count": 77,
     "metadata": {},
     "output_type": "execute_result"
    }
   ],
   "source": [
    "results_summary = pd.DataFrame({'MSE': [mse_rfc, mse_ada, mse_mlpc],\n",
    "                               'Accurate predictions': [acc_rfc, acc_ada, acc_mlpc],\n",
    "                               'Bad predictions': [bads_rfc, bads_ada, bads_mlpc]})\n",
    "results_summary.index = ['Random Forest', 'Ada Boost', 'MLP'] \n",
    "results_summary                               "
   ]
  },
  {
   "cell_type": "markdown",
   "metadata": {},
   "source": [
    "For this clasification exercise, the MLP classifier gave the best results, with the lowest MSE, highest proportion of accurate predictions and lowest number of 'bad' predictions with an error >= 2. The Ada Boost and random forest models were equal in accurate predictions, but Ada Boost outperformed the random forest model by having fewer 'bad' predictions, resulting in a lower mean squared error. \n",
    "\n",
    "A possible further improvement of the neural network classifier would be to use a deep learning model, e.g. using the keras package."
   ]
  },
  {
   "cell_type": "markdown",
   "metadata": {},
   "source": [
    "# 6. Visualising Classification Results"
   ]
  },
  {
   "cell_type": "code",
   "execution_count": 78,
   "metadata": {
    "collapsed": true
   },
   "outputs": [],
   "source": [
    "from sklearn.manifold import TSNE"
   ]
  },
  {
   "cell_type": "code",
   "execution_count": 79,
   "metadata": {
    "collapsed": true
   },
   "outputs": [],
   "source": [
    "from sklearn.decomposition import PCA"
   ]
  },
  {
   "cell_type": "code",
   "execution_count": 80,
   "metadata": {
    "collapsed": true
   },
   "outputs": [],
   "source": [
    "pca = PCA(n_components=2)\n",
    "pca_vectors = pca.fit_transform(X3)"
   ]
  },
  {
   "cell_type": "code",
   "execution_count": 81,
   "metadata": {
    "collapsed": false
   },
   "outputs": [
    {
     "data": {
      "text/plain": [
       "array([ 0.07562994,  0.04948046], dtype=float32)"
      ]
     },
     "execution_count": 81,
     "metadata": {},
     "output_type": "execute_result"
    }
   ],
   "source": [
    "pca.explained_variance_ "
   ]
  },
  {
   "cell_type": "code",
   "execution_count": 82,
   "metadata": {
    "collapsed": false
   },
   "outputs": [
    {
     "data": {
      "text/plain": [
       "(500L, 100L)"
      ]
     },
     "execution_count": 82,
     "metadata": {},
     "output_type": "execute_result"
    }
   ],
   "source": [
    "# reduce the set to 500 data points from the test set, for easier dimensionality reduction and visualisation\n",
    "Xtest = X3_test[:500]\n",
    "Xtest.shape"
   ]
  },
  {
   "cell_type": "code",
   "execution_count": 83,
   "metadata": {
    "collapsed": false
   },
   "outputs": [],
   "source": [
    "# use t-SNE for dimensionality reduction to 2D\n",
    "tsne = TSNE()\n",
    "tsne_vectors = tsne.fit_transform(Xtest)\n",
    "coords = tsne.embedding_"
   ]
  },
  {
   "cell_type": "code",
   "execution_count": 84,
   "metadata": {
    "collapsed": false
   },
   "outputs": [
    {
     "data": {
      "text/html": [
       "<div>\n",
       "<style>\n",
       "    .dataframe thead tr:only-child th {\n",
       "        text-align: right;\n",
       "    }\n",
       "\n",
       "    .dataframe thead th {\n",
       "        text-align: left;\n",
       "    }\n",
       "\n",
       "    .dataframe tbody tr th {\n",
       "        vertical-align: top;\n",
       "    }\n",
       "</style>\n",
       "<table border=\"1\" class=\"dataframe\">\n",
       "  <thead>\n",
       "    <tr style=\"text-align: right;\">\n",
       "      <th></th>\n",
       "      <th>x_coord</th>\n",
       "      <th>y_coord</th>\n",
       "      <th>true_labels</th>\n",
       "      <th>mlpc_labels</th>\n",
       "      <th>ada_labels</th>\n",
       "      <th>rf_labels</th>\n",
       "    </tr>\n",
       "  </thead>\n",
       "  <tbody>\n",
       "    <tr>\n",
       "      <th>480</th>\n",
       "      <td>-3.804321</td>\n",
       "      <td>4.707441</td>\n",
       "      <td>5</td>\n",
       "      <td>5</td>\n",
       "      <td>5</td>\n",
       "      <td>5</td>\n",
       "    </tr>\n",
       "    <tr>\n",
       "      <th>481</th>\n",
       "      <td>-12.070126</td>\n",
       "      <td>-1.330015</td>\n",
       "      <td>5</td>\n",
       "      <td>5</td>\n",
       "      <td>5</td>\n",
       "      <td>5</td>\n",
       "    </tr>\n",
       "    <tr>\n",
       "      <th>482</th>\n",
       "      <td>0.727990</td>\n",
       "      <td>7.378148</td>\n",
       "      <td>5</td>\n",
       "      <td>2</td>\n",
       "      <td>1</td>\n",
       "      <td>5</td>\n",
       "    </tr>\n",
       "    <tr>\n",
       "      <th>483</th>\n",
       "      <td>-13.206208</td>\n",
       "      <td>1.465818</td>\n",
       "      <td>5</td>\n",
       "      <td>4</td>\n",
       "      <td>5</td>\n",
       "      <td>4</td>\n",
       "    </tr>\n",
       "    <tr>\n",
       "      <th>484</th>\n",
       "      <td>-13.284616</td>\n",
       "      <td>1.367914</td>\n",
       "      <td>4</td>\n",
       "      <td>4</td>\n",
       "      <td>4</td>\n",
       "      <td>4</td>\n",
       "    </tr>\n",
       "    <tr>\n",
       "      <th>485</th>\n",
       "      <td>-1.743398</td>\n",
       "      <td>-1.995149</td>\n",
       "      <td>5</td>\n",
       "      <td>5</td>\n",
       "      <td>5</td>\n",
       "      <td>5</td>\n",
       "    </tr>\n",
       "    <tr>\n",
       "      <th>486</th>\n",
       "      <td>5.917442</td>\n",
       "      <td>-2.263778</td>\n",
       "      <td>4</td>\n",
       "      <td>5</td>\n",
       "      <td>4</td>\n",
       "      <td>4</td>\n",
       "    </tr>\n",
       "    <tr>\n",
       "      <th>487</th>\n",
       "      <td>-7.411382</td>\n",
       "      <td>6.321702</td>\n",
       "      <td>4</td>\n",
       "      <td>4</td>\n",
       "      <td>5</td>\n",
       "      <td>5</td>\n",
       "    </tr>\n",
       "    <tr>\n",
       "      <th>488</th>\n",
       "      <td>0.101799</td>\n",
       "      <td>4.075646</td>\n",
       "      <td>2</td>\n",
       "      <td>4</td>\n",
       "      <td>5</td>\n",
       "      <td>5</td>\n",
       "    </tr>\n",
       "    <tr>\n",
       "      <th>489</th>\n",
       "      <td>-2.044399</td>\n",
       "      <td>4.126488</td>\n",
       "      <td>5</td>\n",
       "      <td>5</td>\n",
       "      <td>5</td>\n",
       "      <td>5</td>\n",
       "    </tr>\n",
       "    <tr>\n",
       "      <th>490</th>\n",
       "      <td>-10.979782</td>\n",
       "      <td>2.672521</td>\n",
       "      <td>4</td>\n",
       "      <td>5</td>\n",
       "      <td>5</td>\n",
       "      <td>5</td>\n",
       "    </tr>\n",
       "    <tr>\n",
       "      <th>491</th>\n",
       "      <td>-7.688374</td>\n",
       "      <td>-3.791448</td>\n",
       "      <td>4</td>\n",
       "      <td>4</td>\n",
       "      <td>5</td>\n",
       "      <td>5</td>\n",
       "    </tr>\n",
       "    <tr>\n",
       "      <th>492</th>\n",
       "      <td>1.906789</td>\n",
       "      <td>9.182252</td>\n",
       "      <td>2</td>\n",
       "      <td>1</td>\n",
       "      <td>1</td>\n",
       "      <td>1</td>\n",
       "    </tr>\n",
       "    <tr>\n",
       "      <th>493</th>\n",
       "      <td>-1.780311</td>\n",
       "      <td>0.446585</td>\n",
       "      <td>5</td>\n",
       "      <td>5</td>\n",
       "      <td>5</td>\n",
       "      <td>5</td>\n",
       "    </tr>\n",
       "    <tr>\n",
       "      <th>494</th>\n",
       "      <td>2.367477</td>\n",
       "      <td>-0.139413</td>\n",
       "      <td>3</td>\n",
       "      <td>5</td>\n",
       "      <td>2</td>\n",
       "      <td>1</td>\n",
       "    </tr>\n",
       "    <tr>\n",
       "      <th>495</th>\n",
       "      <td>-4.661551</td>\n",
       "      <td>8.202293</td>\n",
       "      <td>4</td>\n",
       "      <td>5</td>\n",
       "      <td>4</td>\n",
       "      <td>5</td>\n",
       "    </tr>\n",
       "    <tr>\n",
       "      <th>496</th>\n",
       "      <td>-1.016469</td>\n",
       "      <td>-8.497925</td>\n",
       "      <td>4</td>\n",
       "      <td>5</td>\n",
       "      <td>5</td>\n",
       "      <td>5</td>\n",
       "    </tr>\n",
       "    <tr>\n",
       "      <th>497</th>\n",
       "      <td>1.661185</td>\n",
       "      <td>2.018171</td>\n",
       "      <td>5</td>\n",
       "      <td>5</td>\n",
       "      <td>4</td>\n",
       "      <td>4</td>\n",
       "    </tr>\n",
       "    <tr>\n",
       "      <th>498</th>\n",
       "      <td>4.099822</td>\n",
       "      <td>-9.302789</td>\n",
       "      <td>4</td>\n",
       "      <td>4</td>\n",
       "      <td>5</td>\n",
       "      <td>4</td>\n",
       "    </tr>\n",
       "    <tr>\n",
       "      <th>499</th>\n",
       "      <td>-6.361690</td>\n",
       "      <td>-5.133227</td>\n",
       "      <td>3</td>\n",
       "      <td>5</td>\n",
       "      <td>5</td>\n",
       "      <td>5</td>\n",
       "    </tr>\n",
       "  </tbody>\n",
       "</table>\n",
       "</div>"
      ],
      "text/plain": [
       "       x_coord   y_coord  true_labels  mlpc_labels  ada_labels  rf_labels\n",
       "480  -3.804321  4.707441            5            5           5          5\n",
       "481 -12.070126 -1.330015            5            5           5          5\n",
       "482   0.727990  7.378148            5            2           1          5\n",
       "483 -13.206208  1.465818            5            4           5          4\n",
       "484 -13.284616  1.367914            4            4           4          4\n",
       "485  -1.743398 -1.995149            5            5           5          5\n",
       "486   5.917442 -2.263778            4            5           4          4\n",
       "487  -7.411382  6.321702            4            4           5          5\n",
       "488   0.101799  4.075646            2            4           5          5\n",
       "489  -2.044399  4.126488            5            5           5          5\n",
       "490 -10.979782  2.672521            4            5           5          5\n",
       "491  -7.688374 -3.791448            4            4           5          5\n",
       "492   1.906789  9.182252            2            1           1          1\n",
       "493  -1.780311  0.446585            5            5           5          5\n",
       "494   2.367477 -0.139413            3            5           2          1\n",
       "495  -4.661551  8.202293            4            5           4          5\n",
       "496  -1.016469 -8.497925            4            5           5          5\n",
       "497   1.661185  2.018171            5            5           4          4\n",
       "498   4.099822 -9.302789            4            4           5          4\n",
       "499  -6.361690 -5.133227            3            5           5          5"
      ]
     },
     "execution_count": 84,
     "metadata": {},
     "output_type": "execute_result"
    }
   ],
   "source": [
    "# assemble relevant arrays in a data frame\n",
    "x_coord = coords[:, 0]\n",
    "y_coord = coords[:, 1]\n",
    "true_labels = y3_test[:500]\n",
    "mlpc = result_mlpc[:500]\n",
    "ada = result_ada[:500]\n",
    "rf = result_rfc[:500]\n",
    "results_df = pd.DataFrame(zip(x_coord, y_coord, true_labels, mlpc, ada, rf))\n",
    "results_df.columns = ['x_coord', 'y_coord', 'true_labels', 'mlpc_labels', 'ada_labels', 'rf_labels']\n",
    "results_df.tail(20)"
   ]
  },
  {
   "cell_type": "code",
   "execution_count": 85,
   "metadata": {
    "collapsed": true
   },
   "outputs": [],
   "source": [
    "results_df.to_csv('data/2dresults.csv')"
   ]
  },
  {
   "cell_type": "code",
   "execution_count": 86,
   "metadata": {
    "collapsed": false
   },
   "outputs": [
    {
     "data": {
      "image/png": "[encoded data removed]",
      "text/plain": [
       "<matplotlib.figure.Figure at 0xa9f12b38>"
      ]
     },
     "metadata": {},
     "output_type": "display_data"
    }
   ],
   "source": [
    "plt.scatter(x = results_df.loc[results_df['true_labels'] == 5].x_coord, \n",
    "            y = results_df.loc[results_df['true_labels'] == 5].y_coord, c='b', s=20, label='5 stars')\n",
    "plt.scatter(x = results_df.loc[results_df['true_labels'] == 4].x_coord, \n",
    "            y = results_df.loc[results_df['true_labels'] == 4].y_coord, c='g', s=20, label='4 stars')\n",
    "plt.scatter(x = results_df.loc[results_df['true_labels'] == 3].x_coord, \n",
    "            y = results_df.loc[results_df['true_labels'] == 3].y_coord, c='k', s=20, label='3 stars')\n",
    "plt.scatter(x = results_df.loc[results_df['true_labels'] == 2].x_coord, \n",
    "            y = results_df.loc[results_df['true_labels'] == 2].y_coord, c='y', s=20, label='3 stars')\n",
    "plt.scatter(x = results_df.loc[results_df['true_labels'] == 1].x_coord, \n",
    "            y = results_df.loc[results_df['true_labels'] == 1].y_coord, c='r', s=20, label='1 star')\n",
    "plt.legend()\n",
    "plt.title('True embeddings of all 5 classes in 2D space')\n",
    "plt.show()"
   ]
  },
  {
   "cell_type": "markdown",
   "metadata": {},
   "source": [
    "Due to the large number of features, the 2-D representation does not show clear boundaries between the classes. Charts below show the positioning of 5-star and 1-star classes (two classes that are the most different from each other). The MLPC model misclassifies between these two labels (true 5 predicted as 1, and true 1 predicted as 5) in <1% of cases. "
   ]
  },
  {
   "cell_type": "code",
   "execution_count": 87,
   "metadata": {
    "collapsed": false
   },
   "outputs": [
    {
     "data": {
      "image/png": "[encoded data removed]",
      "text/plain": [
       "<matplotlib.figure.Figure at 0xb8d63d68>"
      ]
     },
     "metadata": {},
     "output_type": "display_data"
    }
   ],
   "source": [
    "plt.scatter(x = results_df.loc[results_df['true_labels'] == 5].x_coord, \n",
    "            y = results_df.loc[results_df['true_labels'] == 5].y_coord, c='b', s=20, label='5 stars')\n",
    "\n",
    "plt.scatter(x = results_df.loc[results_df['true_labels'] == 1].x_coord, \n",
    "            y = results_df.loc[results_df['true_labels'] == 1].y_coord, c='r', s=20, label='1 star')\n",
    "plt.legend()\n",
    "plt.show()"
   ]
  },
  {
   "cell_type": "markdown",
   "metadata": {},
   "source": [
    "Looking at 5-star ratings only, we can visualise which points are correctly/falsely predicted by the MLPC model..."
   ]
  },
  {
   "cell_type": "code",
   "execution_count": 88,
   "metadata": {
    "collapsed": false
   },
   "outputs": [
    {
     "data": {
      "image/png": "[encoded data removed]",
      "text/plain": [
       "<matplotlib.figure.Figure at 0xb8d63390>"
      ]
     },
     "metadata": {},
     "output_type": "display_data"
    }
   ],
   "source": [
    "# 5-star correct and false predictions using MLPC\n",
    "plt.scatter(x = results_df.loc[(results_df['true_labels'] == 5) & (results_df['mlpc_labels'] == 5)].x_coord, \n",
    "            y = results_df.loc[(results_df['true_labels'] == 5) & (results_df['mlpc_labels'] == 5)].y_coord, \n",
    "            c='b', s=20, label='correct')\n",
    "\n",
    "plt.scatter(x = results_df.loc[(results_df['true_labels'] == 5) & (results_df['mlpc_labels'] != 5)].x_coord, \n",
    "            y = results_df.loc[(results_df['true_labels'] == 5) & (results_df['mlpc_labels'] != 5)].y_coord, \n",
    "            c='r', s=20, label='false')\n",
    "\n",
    "plt.legend()\n",
    "plt.show()"
   ]
  },
  {
   "cell_type": "markdown",
   "metadata": {},
   "source": [
    "... and we can view the same results for 1-star ratings. The results seem to show that points on the fringes are corectly predicted, and the false ratings tend to fall in the middle of the chart, which is harder to distinguish from other classes."
   ]
  },
  {
   "cell_type": "code",
   "execution_count": 89,
   "metadata": {
    "collapsed": false
   },
   "outputs": [
    {
     "data": {
      "image/png": "[encoded data removed]",
      "text/plain": [
       "<matplotlib.figure.Figure at 0x9a507320>"
      ]
     },
     "metadata": {},
     "output_type": "display_data"
    }
   ],
   "source": [
    "# 1-star correct and false predictions using MLPC\n",
    "plt.scatter(x = results_df.loc[(results_df['true_labels'] == 1) & (results_df['mlpc_labels'] == 1)].x_coord, \n",
    "            y = results_df.loc[(results_df['true_labels'] == 1) & (results_df['mlpc_labels'] == 1)].y_coord, \n",
    "            c='b', s=20, label='correct')\n",
    "\n",
    "plt.scatter(x = results_df.loc[(results_df['true_labels'] == 1) & (results_df['mlpc_labels'] != 1)].x_coord, \n",
    "            y = results_df.loc[(results_df['true_labels'] == 1) & (results_df['mlpc_labels'] != 1)].y_coord, \n",
    "            c='r', s=20, label='false')\n",
    "\n",
    "plt.legend()\n",
    "plt.show()"
   ]
  },
  {
   "cell_type": "code",
   "execution_count": null,
   "metadata": {
    "collapsed": true
   },
   "outputs": [],
   "source": []
  }
 ],
 "metadata": {
  "kernelspec": {
   "display_name": "Python 2",
   "language": "python",
   "name": "python2"
  },
  "language_info": {
   "codemirror_mode": {
    "name": "ipython",
    "version": 2
   },
   "file_extension": ".py",
   "mimetype": "text/x-python",
   "name": "python",
   "nbconvert_exporter": "python",
   "pygments_lexer": "ipython2",
   "version": "2.7.13"
  }
 },
 "nbformat": 4,
 "nbformat_minor": 2
}
