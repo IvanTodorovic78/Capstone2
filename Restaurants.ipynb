{
 "cells": [
  {
   "cell_type": "markdown",
   "metadata": {},
   "source": [
    "# Predicting Restaurant Ratings"
   ]
  },
  {
   "cell_type": "markdown",
   "metadata": {},
   "source": [
    "This notebook will combine the information about restaurants and the processed text from reviews and perform machine learning algorithms to make predictions about ratings based on the restaurants' features and reviews.\n",
    "The analysis will focus on restaurants from Phoenix, Arizona, as this represents a compact data set with approx. 3,500 restaurants and just over 300,000 reviews about them. The analysis involves the following steps:\n",
    "1. Importing the raw data from the _'business.json'_ file, filtering for restaurants in Phoenix, AZ, and converted to a pandas DataFrame format\n",
    "2. Extracting features of each business for analysis\n",
    "3. Importing the reviews from the _'review.json'_ file and converting each review to a vector, to be used with the already trained word2vec model\n",
    "4. Sentiment modeling - this involves two parts: first, a training set of reviews will be used for supervised learning of the reviews' sentiment (positive or negative), using the star ratings as labels. Then the entiment will be predicted on a test set and its accuracy scored against the actual ratings. A variety of prediction models will be tested, including random forest and neural networks (MLPC).\n",
    "5. Predicting actual star ratings based on the text of a review using a number of classifier models: random forest, ada boost and MLPC.\n",
    "6. Visualising star rating predictions in 2-dimensional space, using t-SNE dimensionality reduction\n",
    "\n"
   ]
  },
  {
   "cell_type": "markdown",
   "metadata": {},
   "source": [
    "# 1. Importing Restaurant  Data"
   ]
  },
  {
   "cell_type": "code",
   "execution_count": 1,
   "metadata": {
    "collapsed": true
   },
   "outputs": [],
   "source": [
    "import pandas as pd\n",
    "import numpy as np\n",
    "import json"
   ]
  },
  {
   "cell_type": "code",
   "execution_count": 2,
   "metadata": {
    "collapsed": false
   },
   "outputs": [],
   "source": [
    "# import raw data from json in the first run and save to .csv file\n",
    "# for new runs load data directly from a .csv file to speed up the process \n",
    "if 0 == 1:\n",
    "    businesses_df = pd.read_json('data/dataset/business.json', lines=True)\n",
    "    businesses_df['restaurants'] = businesses_df['categories'].apply(lambda x: 'Restaurants' in x)\n",
    "    restaurants_df = businesses_df[businesses_df['restaurants'] == True]\n",
    "    restaurants_df.to_csv('data/restaurants.csv', encoding='utf-8')\n",
    "\n",
    "else:\n",
    "    restaurants_df = pd.read_csv('data/restaurants.csv', encoding='utf-8')"
   ]
  },
  {
   "cell_type": "code",
   "execution_count": 3,
   "metadata": {
    "collapsed": false
   },
   "outputs": [
    {
     "data": {
      "text/plain": [
       "(51613, 15)"
      ]
     },
     "execution_count": 3,
     "metadata": {},
     "output_type": "execute_result"
    }
   ],
   "source": [
    "restaurants_df = restaurants_df.drop(['Unnamed: 0', 'restaurants'], axis=1)\n",
    "restaurants_df.shape"
   ]
  },
  {
   "cell_type": "code",
   "execution_count": 4,
   "metadata": {
    "collapsed": false
   },
   "outputs": [
    {
     "data": {
      "text/html": [
       "<div>\n",
       "<style>\n",
       "    .dataframe thead tr:only-child th {\n",
       "        text-align: right;\n",
       "    }\n",
       "\n",
       "    .dataframe thead th {\n",
       "        text-align: left;\n",
       "    }\n",
       "\n",
       "    .dataframe tbody tr th {\n",
       "        vertical-align: top;\n",
       "    }\n",
       "</style>\n",
       "<table border=\"1\" class=\"dataframe\">\n",
       "  <thead>\n",
       "    <tr style=\"text-align: right;\">\n",
       "      <th></th>\n",
       "      <th>address</th>\n",
       "      <th>attributes</th>\n",
       "      <th>business_id</th>\n",
       "      <th>categories</th>\n",
       "      <th>city</th>\n",
       "      <th>hours</th>\n",
       "      <th>is_open</th>\n",
       "      <th>latitude</th>\n",
       "      <th>longitude</th>\n",
       "      <th>name</th>\n",
       "      <th>neighborhood</th>\n",
       "      <th>postal_code</th>\n",
       "      <th>review_count</th>\n",
       "      <th>stars</th>\n",
       "      <th>state</th>\n",
       "    </tr>\n",
       "  </thead>\n",
       "  <tbody>\n",
       "    <tr>\n",
       "      <th>0</th>\n",
       "      <td>2824 Milton Rd</td>\n",
       "      <td>{u'GoodForMeal': {u'dessert': False, u'latenig...</td>\n",
       "      <td>mLwM-h2YhXl2NCgdS84_Bw</td>\n",
       "      <td>[Food, Soul Food, Convenience Stores, Restaura...</td>\n",
       "      <td>Charlotte</td>\n",
       "      <td>{u'Monday': u'10:00-22:00', u'Tuesday': u'10:0...</td>\n",
       "      <td>0</td>\n",
       "      <td>35.236870</td>\n",
       "      <td>-80.741976</td>\n",
       "      <td>South Florida Style Chicken &amp; Ribs</td>\n",
       "      <td>Eastland</td>\n",
       "      <td>28215</td>\n",
       "      <td>4</td>\n",
       "      <td>4.5</td>\n",
       "      <td>NC</td>\n",
       "    </tr>\n",
       "    <tr>\n",
       "      <th>1</th>\n",
       "      <td>4719 N 20Th St</td>\n",
       "      <td>{u'GoodForMeal': {u'dessert': False, u'latenig...</td>\n",
       "      <td>duHFBe87uNSXImQmvBh87Q</td>\n",
       "      <td>[Sandwiches, Restaurants]</td>\n",
       "      <td>Phoenix</td>\n",
       "      <td>{}</td>\n",
       "      <td>0</td>\n",
       "      <td>33.505928</td>\n",
       "      <td>-112.038847</td>\n",
       "      <td>Blimpie</td>\n",
       "      <td>NaN</td>\n",
       "      <td>85016</td>\n",
       "      <td>10</td>\n",
       "      <td>4.5</td>\n",
       "      <td>AZ</td>\n",
       "    </tr>\n",
       "  </tbody>\n",
       "</table>\n",
       "</div>"
      ],
      "text/plain": [
       "          address                                         attributes  \\\n",
       "0  2824 Milton Rd  {u'GoodForMeal': {u'dessert': False, u'latenig...   \n",
       "1  4719 N 20Th St  {u'GoodForMeal': {u'dessert': False, u'latenig...   \n",
       "\n",
       "              business_id                                         categories  \\\n",
       "0  mLwM-h2YhXl2NCgdS84_Bw  [Food, Soul Food, Convenience Stores, Restaura...   \n",
       "1  duHFBe87uNSXImQmvBh87Q                          [Sandwiches, Restaurants]   \n",
       "\n",
       "        city                                              hours  is_open  \\\n",
       "0  Charlotte  {u'Monday': u'10:00-22:00', u'Tuesday': u'10:0...        0   \n",
       "1    Phoenix                                                 {}        0   \n",
       "\n",
       "    latitude   longitude                                name neighborhood  \\\n",
       "0  35.236870  -80.741976  South Florida Style Chicken & Ribs     Eastland   \n",
       "1  33.505928 -112.038847                             Blimpie          NaN   \n",
       "\n",
       "  postal_code  review_count  stars state  \n",
       "0       28215             4    4.5    NC  \n",
       "1       85016            10    4.5    AZ  "
      ]
     },
     "execution_count": 4,
     "metadata": {},
     "output_type": "execute_result"
    }
   ],
   "source": [
    "restaurants_df.head(2)"
   ]
  },
  {
   "cell_type": "code",
   "execution_count": 5,
   "metadata": {
    "collapsed": false
   },
   "outputs": [
    {
     "data": {
      "text/plain": [
       "Index([u'address', u'attributes', u'business_id', u'categories', u'city',\n",
       "       u'hours', u'is_open', u'latitude', u'longitude', u'name',\n",
       "       u'neighborhood', u'postal_code', u'review_count', u'stars', u'state'],\n",
       "      dtype='object')"
      ]
     },
     "execution_count": 5,
     "metadata": {},
     "output_type": "execute_result"
    }
   ],
   "source": [
    "restaurants_df.columns"
   ]
  },
  {
   "cell_type": "markdown",
   "metadata": {},
   "source": [
    "Data required is now loaded as restaurants_df data frame. The line below shows the structure of data by state - first Arizona (AZ) was selected as having a large data set of 10,000+ restaurants, and then Phoenix with 3,500+ restaurants. Choosing a single city with a wealth of data means that restaurants are comparable to each other and that meaningful conclusions can be drawn. However, the analysis can be easily expanded in scope to include other cities / states. Additionally, avoiding e.g. Quebec means that the analysis is limited to English language reviews."
   ]
  },
  {
   "cell_type": "code",
   "execution_count": 6,
   "metadata": {
    "collapsed": false,
    "scrolled": false
   },
   "outputs": [
    {
     "data": {
      "text/plain": [
       "state\n",
       "01         6\n",
       "3          1\n",
       "ABE        1\n",
       "AZ     10219\n",
       "BW      1759\n",
       "BY         3\n",
       "C         23\n",
       "CA         1\n",
       "EDH     1396\n",
       "ELN       19\n",
       "ESX        3\n",
       "FIF       27\n",
       "HH         1\n",
       "HLD       60\n",
       "IL       598\n",
       "KHL        1\n",
       "MLN       92\n",
       "NC      3625\n",
       "NI         8\n",
       "NV      6883\n",
       "NY        11\n",
       "NYK       12\n",
       "OH      4513\n",
       "ON     12634\n",
       "PA      3435\n",
       "PKN        1\n",
       "QC      4567\n",
       "RCC        1\n",
       "SC       201\n",
       "ST         4\n",
       "WA         1\n",
       "WHT        1\n",
       "WI      1486\n",
       "WLN       18\n",
       "XGL        1\n",
       "ZET        1\n",
       "Name: stars, dtype: int64"
      ]
     },
     "execution_count": 6,
     "metadata": {},
     "output_type": "execute_result"
    }
   ],
   "source": [
    "by_state = restaurants_df.groupby('state')['stars'].count()\n",
    "by_state"
   ]
  },
  {
   "cell_type": "code",
   "execution_count": 7,
   "metadata": {
    "collapsed": false
   },
   "outputs": [
    {
     "data": {
      "text/plain": [
       "(36L,)"
      ]
     },
     "execution_count": 7,
     "metadata": {},
     "output_type": "execute_result"
    }
   ],
   "source": [
    "by_state.shape"
   ]
  },
  {
   "cell_type": "code",
   "execution_count": 8,
   "metadata": {
    "collapsed": false
   },
   "outputs": [
    {
     "data": {
      "text/plain": [
       "(3515, 15)"
      ]
     },
     "execution_count": 8,
     "metadata": {},
     "output_type": "execute_result"
    }
   ],
   "source": [
    "arizona = restaurants_df.loc[restaurants_df.state == 'AZ']\n",
    "phoenix = arizona.loc[arizona.city == 'Phoenix']\n",
    "phoenix.shape"
   ]
  },
  {
   "cell_type": "code",
   "execution_count": 9,
   "metadata": {
    "collapsed": false
   },
   "outputs": [
    {
     "data": {
      "text/plain": [
       "302259L"
      ]
     },
     "execution_count": 9,
     "metadata": {},
     "output_type": "execute_result"
    }
   ],
   "source": [
    "phoenix.groupby('postal_code')['review_count'].sum().sum()"
   ]
  },
  {
   "cell_type": "code",
   "execution_count": 10,
   "metadata": {
    "collapsed": false
   },
   "outputs": [
    {
     "data": {
      "text/plain": [
       "302400L"
      ]
     },
     "execution_count": 10,
     "metadata": {},
     "output_type": "execute_result"
    }
   ],
   "source": [
    "phoenix.review_count.sum()"
   ]
  },
  {
   "cell_type": "code",
   "execution_count": 11,
   "metadata": {
    "collapsed": false
   },
   "outputs": [
    {
     "data": {
      "text/plain": [
       "set"
      ]
     },
     "execution_count": 11,
     "metadata": {},
     "output_type": "execute_result"
    }
   ],
   "source": [
    "# save id's as set for faster searching\n",
    "phx_ids = set(phoenix.business_id)\n",
    "type(phx_ids)"
   ]
  },
  {
   "cell_type": "markdown",
   "metadata": {},
   "source": [
    "The Phoenix restaurants are contained in the 'phoenix' data frame and the related business id data is kept in the 'phx-ids' set to be used when loading reviews."
   ]
  },
  {
   "cell_type": "code",
   "execution_count": 12,
   "metadata": {
    "collapsed": true
   },
   "outputs": [],
   "source": [
    "import matplotlib.pyplot as plt\n",
    "% matplotlib inline"
   ]
  },
  {
   "cell_type": "code",
   "execution_count": 13,
   "metadata": {
    "collapsed": false
   },
   "outputs": [
    {
     "data": {
      "image/png": "[encoded data removed]",
      "text/plain": [
       "<matplotlib.figure.Figure at 0x16e9f828>"
      ]
     },
     "metadata": {},
     "output_type": "display_data"
    }
   ],
   "source": [
    "stars_rating = phoenix.stars\n",
    "#log_stars = np.log(stars_rating)\n",
    "plt.hist(phoenix.stars, bins=9)\n",
    "plt.show()"
   ]
  },
  {
   "cell_type": "code",
   "execution_count": 14,
   "metadata": {
    "collapsed": false
   },
   "outputs": [
    {
     "data": {
      "text/plain": [
       "4.0    877\n",
       "3.5    804\n",
       "3.0    603\n",
       "4.5    431\n",
       "2.5    368\n",
       "2.0    218\n",
       "5.0    100\n",
       "1.5     82\n",
       "1.0     32\n",
       "Name: stars, dtype: int64"
      ]
     },
     "execution_count": 14,
     "metadata": {},
     "output_type": "execute_result"
    }
   ],
   "source": [
    "phoenix.stars.value_counts()"
   ]
  },
  {
   "cell_type": "code",
   "execution_count": 15,
   "metadata": {
    "collapsed": false
   },
   "outputs": [
    {
     "data": {
      "text/plain": [
       "3515"
      ]
     },
     "execution_count": 15,
     "metadata": {},
     "output_type": "execute_result"
    }
   ],
   "source": [
    "phoenix.stars.count()"
   ]
  },
  {
   "cell_type": "code",
   "execution_count": 16,
   "metadata": {
    "collapsed": false
   },
   "outputs": [
    {
     "name": "stdout",
     "output_type": "stream",
     "text": [
      "0.400568990043\n",
      "0.0944523470839\n"
     ]
    }
   ],
   "source": [
    "high_ratings = phoenix.stars[phoenix.stars >= 4]\n",
    "low_ratings = phoenix.stars[phoenix.stars <= 2]\n",
    "print high_ratings.count() / 3515.0\n",
    "print low_ratings.count() / 3515.0"
   ]
  },
  {
   "cell_type": "markdown",
   "metadata": {},
   "source": [
    "# 2. Extracting Business Features "
   ]
  },
  {
   "cell_type": "markdown",
   "metadata": {},
   "source": [
    "The code below extracts data from the 'business.json' file and converts into a pandas data frame  using the json_normalize function. This will form the features matrix for machine learniong algorithms. Items such as parking, ambience and food choice are included. The json_normalize function extracts all the information in one step for each line of the json file. "
   ]
  },
  {
   "cell_type": "code",
   "execution_count": 17,
   "metadata": {
    "collapsed": true
   },
   "outputs": [],
   "source": [
    "from pandas.io.json import json_normalize\n",
    "import codecs\n",
    "import os\n",
    "#import jsonlines"
   ]
  },
  {
   "cell_type": "code",
   "execution_count": 18,
   "metadata": {
    "collapsed": false
   },
   "outputs": [
    {
     "name": "stdout",
     "output_type": "stream",
     "text": [
      "Wall time: 2min 4s\n"
     ]
    }
   ],
   "source": [
    "%%time\n",
    "\n",
    "# set the file path\n",
    "business_json_filepath = os.path.abspath('data/dataset/business.json')\n",
    "\n",
    "# initiate empty data frame\n",
    "featuresdf = pd.DataFrame(zip([],[]))\n",
    "\n",
    "# extract info line by line for each \n",
    "with codecs.open(business_json_filepath, encoding='utf_8') as f:\n",
    "    for line in f:\n",
    "        business = json.loads(line)\n",
    "        bus_id = business[u'business_id'] \n",
    "        if bus_id not in phx_ids:\n",
    "            continue\n",
    "        norm = json_normalize(business) \n",
    "\n",
    "        featuresdf = featuresdf.append(norm)\n",
    "        "
   ]
  },
  {
   "cell_type": "code",
   "execution_count": 19,
   "metadata": {
    "collapsed": false
   },
   "outputs": [
    {
     "data": {
      "text/plain": [
       "(3515, 93)"
      ]
     },
     "execution_count": 19,
     "metadata": {},
     "output_type": "execute_result"
    }
   ],
   "source": [
    "featuresdf.shape"
   ]
  },
  {
   "cell_type": "code",
   "execution_count": 619,
   "metadata": {
    "collapsed": false,
    "scrolled": false
   },
   "outputs": [
    {
     "data": {
      "text/html": [
       "<div>\n",
       "<style>\n",
       "    .dataframe thead tr:only-child th {\n",
       "        text-align: right;\n",
       "    }\n",
       "\n",
       "    .dataframe thead th {\n",
       "        text-align: left;\n",
       "    }\n",
       "\n",
       "    .dataframe tbody tr th {\n",
       "        vertical-align: top;\n",
       "    }\n",
       "</style>\n",
       "<table border=\"1\" class=\"dataframe\">\n",
       "  <thead>\n",
       "    <tr style=\"text-align: right;\">\n",
       "      <th></th>\n",
       "      <th>address</th>\n",
       "      <th>attributes.AcceptsInsurance</th>\n",
       "      <th>attributes.AgesAllowed</th>\n",
       "      <th>attributes.Alcohol</th>\n",
       "      <th>attributes.Ambience.casual</th>\n",
       "      <th>attributes.Ambience.classy</th>\n",
       "      <th>attributes.Ambience.divey</th>\n",
       "      <th>attributes.Ambience.hipster</th>\n",
       "      <th>attributes.Ambience.intimate</th>\n",
       "      <th>attributes.Ambience.romantic</th>\n",
       "      <th>...</th>\n",
       "      <th>hours.Wednesday</th>\n",
       "      <th>is_open</th>\n",
       "      <th>latitude</th>\n",
       "      <th>longitude</th>\n",
       "      <th>name</th>\n",
       "      <th>neighborhood</th>\n",
       "      <th>postal_code</th>\n",
       "      <th>review_count</th>\n",
       "      <th>stars</th>\n",
       "      <th>state</th>\n",
       "    </tr>\n",
       "  </thead>\n",
       "  <tbody>\n",
       "    <tr>\n",
       "      <th>0</th>\n",
       "      <td>4719 N 20Th St</td>\n",
       "      <td>NaN</td>\n",
       "      <td>NaN</td>\n",
       "      <td>none</td>\n",
       "      <td>False</td>\n",
       "      <td>False</td>\n",
       "      <td>False</td>\n",
       "      <td>False</td>\n",
       "      <td>False</td>\n",
       "      <td>False</td>\n",
       "      <td>...</td>\n",
       "      <td>NaN</td>\n",
       "      <td>0</td>\n",
       "      <td>33.505928</td>\n",
       "      <td>-112.038847</td>\n",
       "      <td>Blimpie</td>\n",
       "      <td></td>\n",
       "      <td>85016</td>\n",
       "      <td>10</td>\n",
       "      <td>4.5</td>\n",
       "      <td>AZ</td>\n",
       "    </tr>\n",
       "    <tr>\n",
       "      <th>0</th>\n",
       "      <td>2641 N 44th St, Ste 100</td>\n",
       "      <td>NaN</td>\n",
       "      <td>NaN</td>\n",
       "      <td>none</td>\n",
       "      <td>True</td>\n",
       "      <td>False</td>\n",
       "      <td>False</td>\n",
       "      <td>False</td>\n",
       "      <td>False</td>\n",
       "      <td>False</td>\n",
       "      <td>...</td>\n",
       "      <td>10:00-22:00</td>\n",
       "      <td>1</td>\n",
       "      <td>33.478043</td>\n",
       "      <td>-111.986370</td>\n",
       "      <td>Five Guys</td>\n",
       "      <td></td>\n",
       "      <td>85008</td>\n",
       "      <td>63</td>\n",
       "      <td>3.5</td>\n",
       "      <td>AZ</td>\n",
       "    </tr>\n",
       "  </tbody>\n",
       "</table>\n",
       "<p>2 rows × 93 columns</p>\n",
       "</div>"
      ],
      "text/plain": [
       "                   address attributes.AcceptsInsurance attributes.AgesAllowed  \\\n",
       "0           4719 N 20Th St                         NaN                    NaN   \n",
       "0  2641 N 44th St, Ste 100                         NaN                    NaN   \n",
       "\n",
       "  attributes.Alcohol attributes.Ambience.casual attributes.Ambience.classy  \\\n",
       "0               none                      False                      False   \n",
       "0               none                       True                      False   \n",
       "\n",
       "  attributes.Ambience.divey attributes.Ambience.hipster  \\\n",
       "0                     False                       False   \n",
       "0                     False                       False   \n",
       "\n",
       "  attributes.Ambience.intimate attributes.Ambience.romantic  ...   \\\n",
       "0                        False                        False  ...    \n",
       "0                        False                        False  ...    \n",
       "\n",
       "  hours.Wednesday is_open   latitude   longitude       name neighborhood  \\\n",
       "0             NaN       0  33.505928 -112.038847    Blimpie                \n",
       "0     10:00-22:00       1  33.478043 -111.986370  Five Guys                \n",
       "\n",
       "  postal_code review_count stars state  \n",
       "0       85016           10   4.5    AZ  \n",
       "0       85008           63   3.5    AZ  \n",
       "\n",
       "[2 rows x 93 columns]"
      ]
     },
     "execution_count": 619,
     "metadata": {},
     "output_type": "execute_result"
    }
   ],
   "source": [
    "featuresdf.head(2)"
   ]
  },
  {
   "cell_type": "code",
   "execution_count": 157,
   "metadata": {
    "collapsed": false,
    "scrolled": false
   },
   "outputs": [
    {
     "name": "stdout",
     "output_type": "stream",
     "text": [
      "<class 'pandas.core.frame.DataFrame'>\n",
      "Int64Index: 3515 entries, 0 to 0\n",
      "Data columns (total 93 columns):\n",
      "address                                       3515 non-null object\n",
      "attributes.AcceptsInsurance                   2 non-null object\n",
      "attributes.AgesAllowed                        4 non-null object\n",
      "attributes.Alcohol                            2977 non-null object\n",
      "attributes.Ambience.casual                    2841 non-null object\n",
      "attributes.Ambience.classy                    2841 non-null object\n",
      "attributes.Ambience.divey                     2841 non-null object\n",
      "attributes.Ambience.hipster                   2841 non-null object\n",
      "attributes.Ambience.intimate                  2841 non-null object\n",
      "attributes.Ambience.romantic                  2841 non-null object\n",
      "attributes.Ambience.touristy                  2841 non-null object\n",
      "attributes.Ambience.trendy                    2841 non-null object\n",
      "attributes.Ambience.upscale                   2841 non-null object\n",
      "attributes.BYOB                               143 non-null object\n",
      "attributes.BYOBCorkage                        238 non-null object\n",
      "attributes.BestNights.friday                  281 non-null object\n",
      "attributes.BestNights.monday                  281 non-null object\n",
      "attributes.BestNights.saturday                281 non-null object\n",
      "attributes.BestNights.sunday                  281 non-null object\n",
      "attributes.BestNights.thursday                281 non-null object\n",
      "attributes.BestNights.tuesday                 281 non-null object\n",
      "attributes.BestNights.wednesday               281 non-null object\n",
      "attributes.BikeParking                        2505 non-null object\n",
      "attributes.BusinessAcceptsBitcoin             298 non-null object\n",
      "attributes.BusinessAcceptsCreditCards         3406 non-null object\n",
      "attributes.BusinessParking.garage             3032 non-null object\n",
      "attributes.BusinessParking.lot                3032 non-null object\n",
      "attributes.BusinessParking.street             3032 non-null object\n",
      "attributes.BusinessParking.valet              3032 non-null object\n",
      "attributes.BusinessParking.validated          3032 non-null object\n",
      "attributes.ByAppointmentOnly                  42 non-null object\n",
      "attributes.Caters                             2425 non-null object\n",
      "attributes.CoatCheck                          330 non-null object\n",
      "attributes.Corkage                            106 non-null object\n",
      "attributes.DietaryRestrictions.dairy-free     22 non-null object\n",
      "attributes.DietaryRestrictions.gluten-free    22 non-null object\n",
      "attributes.DietaryRestrictions.halal          22 non-null object\n",
      "attributes.DietaryRestrictions.kosher         22 non-null object\n",
      "attributes.DietaryRestrictions.soy-free       22 non-null object\n",
      "attributes.DietaryRestrictions.vegan          22 non-null object\n",
      "attributes.DietaryRestrictions.vegetarian     22 non-null object\n",
      "attributes.DogsAllowed                        466 non-null object\n",
      "attributes.DriveThru                          597 non-null object\n",
      "attributes.GoodForDancing                     332 non-null object\n",
      "attributes.GoodForKids                        3271 non-null object\n",
      "attributes.GoodForMeal.breakfast              3136 non-null object\n",
      "attributes.GoodForMeal.brunch                 3136 non-null object\n",
      "attributes.GoodForMeal.dessert                3136 non-null object\n",
      "attributes.GoodForMeal.dinner                 3136 non-null object\n",
      "attributes.GoodForMeal.latenight              3136 non-null object\n",
      "attributes.GoodForMeal.lunch                  3136 non-null object\n",
      "attributes.HappyHour                          344 non-null object\n",
      "attributes.HasTV                              2904 non-null object\n",
      "attributes.Music.background_music             327 non-null object\n",
      "attributes.Music.dj                           327 non-null object\n",
      "attributes.Music.jukebox                      327 non-null object\n",
      "attributes.Music.karaoke                      327 non-null object\n",
      "attributes.Music.live                         327 non-null object\n",
      "attributes.Music.no_music                     327 non-null object\n",
      "attributes.Music.video                        327 non-null object\n",
      "attributes.NoiseLevel                         2706 non-null object\n",
      "attributes.Open24Hours                        60 non-null object\n",
      "attributes.OutdoorSeating                     3168 non-null object\n",
      "attributes.RestaurantsAttire                  3224 non-null object\n",
      "attributes.RestaurantsCounterService          90 non-null object\n",
      "attributes.RestaurantsDelivery                3233 non-null object\n",
      "attributes.RestaurantsGoodForGroups           3274 non-null object\n",
      "attributes.RestaurantsPriceRange2             3346 non-null float64\n",
      "attributes.RestaurantsReservations            3213 non-null object\n",
      "attributes.RestaurantsTableService            2982 non-null object\n",
      "attributes.RestaurantsTakeOut                 3297 non-null object\n",
      "attributes.Smoking                            305 non-null object\n",
      "attributes.WheelchairAccessible               1923 non-null object\n",
      "attributes.WiFi                               2585 non-null object\n",
      "business_id                                   3515 non-null object\n",
      "categories                                    3515 non-null object\n",
      "city                                          3515 non-null object\n",
      "hours.Friday                                  2464 non-null object\n",
      "hours.Monday                                  2293 non-null object\n",
      "hours.Saturday                                2367 non-null object\n",
      "hours.Sunday                                  2057 non-null object\n",
      "hours.Thursday                                2459 non-null object\n",
      "hours.Tuesday                                 2436 non-null object\n",
      "hours.Wednesday                               2451 non-null object\n",
      "is_open                                       3515 non-null int64\n",
      "latitude                                      3515 non-null float64\n",
      "longitude                                     3515 non-null float64\n",
      "name                                          3515 non-null object\n",
      "neighborhood                                  3515 non-null object\n",
      "postal_code                                   3515 non-null object\n",
      "review_count                                  3515 non-null int64\n",
      "stars                                         3515 non-null float64\n",
      "state                                         3515 non-null object\n",
      "dtypes: float64(4), int64(2), object(87)\n",
      "memory usage: 2.6+ MB\n"
     ]
    }
   ],
   "source": [
    "featuresdf.info()"
   ]
  },
  {
   "cell_type": "markdown",
   "metadata": {},
   "source": [
    "This needs to be modified to priduce a useful features matrix. First we need to drop columns:\n",
    "- those that appear too few times such as 'attribuites.accepts_insurance' \n",
    "- opening hours need to be modified to a more meaningful format\n",
    "- neighborhood, city and state to be removed as the data set focuses on a single city (for Phoenix no neighbourhood data is given)\n",
    "- name of business, stars rating and id to be removed from the np array"
   ]
  },
  {
   "cell_type": "code",
   "execution_count": 161,
   "metadata": {
    "collapsed": false
   },
   "outputs": [
    {
     "data": {
      "text/plain": [
       "(3515, 75)"
      ]
     },
     "execution_count": 161,
     "metadata": {},
     "output_type": "execute_result"
    }
   ],
   "source": [
    "featuresdf1 = featuresdf.drop([u'address', u'attributes.AgesAllowed', u'attributes.ByAppointmentOnly', \n",
    "                               u'attributes.AcceptsInsurance', u'attributes.DietaryRestrictions.dairy-free',     \n",
    "                               u'attributes.DietaryRestrictions.gluten-free', \n",
    "                                u'attributes.DietaryRestrictions.halal', \n",
    "                                u'attributes.DietaryRestrictions.kosher',\n",
    "                                u'attributes.DietaryRestrictions.soy-free',      \n",
    "                                u'attributes.DietaryRestrictions.vegan',          \n",
    "                                u'attributes.DietaryRestrictions.vegetarian',\n",
    "                               u'attributes.Open24Hours', u'attributes.RestaurantsCounterService',\n",
    "                               u'name', u'neighborhood', u'city', u'state', u'stars'], axis=1)\n",
    "featuresdf1.shape"
   ]
  },
  {
   "cell_type": "code",
   "execution_count": 162,
   "metadata": {
    "collapsed": false
   },
   "outputs": [],
   "source": [
    "def sum_open_hrs(s):\n",
    "    if type(s) == unicode:\n",
    "        times = [line[0] for line in re.findall(r'\\b(([0-2][0-4]|0?[1-9]):([0-5][0-9]))',s)]\n",
    "        times = [[i,j] for i,j in zip(times[0::2], times[1::2])]\n",
    "        fmt = '%H:%M'\n",
    "        time_objects = [datetime.strptime(b,fmt)-datetime.strptime(a,fmt) for a,b in times]\n",
    "        finaltime = [td.seconds//3600 for td in time_objects]\n",
    "        sumtime=sum(finaltime)\n",
    "        return sumtime\n",
    "    else:\n",
    "        return None"
   ]
  },
  {
   "cell_type": "code",
   "execution_count": 163,
   "metadata": {
    "collapsed": false
   },
   "outputs": [],
   "source": [
    "featuresdf1[u'hours.Friday'] = featuresdf1[u'hours.Friday'].apply(lambda x: sum_open_hrs(x))\n",
    "featuresdf1[u'hours.Monday'] = featuresdf1[u'hours.Monday'].apply(lambda x: sum_open_hrs(x))\n",
    "featuresdf1[u'hours.Saturday'] = featuresdf1[u'hours.Saturday'].apply(lambda x: sum_open_hrs(x))\n",
    "featuresdf1[u'hours.Sunday'] = featuresdf1[u'hours.Sunday'].apply(lambda x: sum_open_hrs(x))\n",
    "featuresdf1[u'hours.Tuesday'] = featuresdf1[u'hours.Tuesday'].apply(lambda x: sum_open_hrs(x))\n",
    "featuresdf1[u'hours.Thursday'] = featuresdf1[u'hours.Thursday'].apply(lambda x: sum_open_hrs(x))\n",
    "featuresdf1[u'hours.Wednesday'] = featuresdf1[u'hours.Wednesday'].apply(lambda x: sum_open_hrs(x))"
   ]
  },
  {
   "cell_type": "code",
   "execution_count": 204,
   "metadata": {
    "collapsed": false
   },
   "outputs": [],
   "source": [
    "categories_dict = dict((i,categories_list.count(i)) for i in categories_set)\n",
    "categories_series = pd.Series(categories_dict, index=categories_dict.keys())\n",
    "categories_included = categories_series.sort_values(ascending=False)[:24]"
   ]
  },
  {
   "cell_type": "code",
   "execution_count": 311,
   "metadata": {
    "collapsed": false
   },
   "outputs": [
    {
     "data": {
      "text/plain": [
       "[None, None, None, 0, None, None]"
      ]
     },
     "execution_count": 311,
     "metadata": {},
     "output_type": "execute_result"
    }
   ],
   "source": [
    "# convert alcohol categories to numerical\n",
    "dict_transform = {\"none\":0, \"beer_and_wine\":1, \"full_bar\": 2}\n",
    "featuresdf1['attributes.Alcohol'] = featuresdf1['attributes.Alcohol'].apply(lambda x: dict_transform.get(x))"
   ]
  },
  {
   "cell_type": "code",
   "execution_count": 326,
   "metadata": {
    "collapsed": false
   },
   "outputs": [
    {
     "data": {
      "text/plain": [
       "{nan, u'average', u'loud', u'quiet', u'very_loud'}"
      ]
     },
     "execution_count": 326,
     "metadata": {},
     "output_type": "execute_result"
    }
   ],
   "source": [
    "# convert noise categories to numerical\n",
    "noise = set(featuresdf1['attributes.NoiseLevel'])\n",
    "noise"
   ]
  },
  {
   "cell_type": "code",
   "execution_count": 327,
   "metadata": {
    "collapsed": true
   },
   "outputs": [],
   "source": [
    "noise_transform = {\"quiet\":1, \"average\":2, \"loud\": 3, \"very_loud\":4}\n",
    "featuresdf1['attributes.NoiseLevel'] = featuresdf1['attributes.NoiseLevel'].apply(lambda x: noise_transform.get(x))"
   ]
  },
  {
   "cell_type": "code",
   "execution_count": 329,
   "metadata": {
    "collapsed": false
   },
   "outputs": [
    {
     "data": {
      "text/plain": [
       "{nan, u'casual', u'dressy', u'formal'}"
      ]
     },
     "execution_count": 329,
     "metadata": {},
     "output_type": "execute_result"
    }
   ],
   "source": [
    "# convert attire categories to numerical\n",
    "attire = set(featuresdf1['attributes.RestaurantsAttire'])\n",
    "attire"
   ]
  },
  {
   "cell_type": "code",
   "execution_count": 330,
   "metadata": {
    "collapsed": true
   },
   "outputs": [],
   "source": [
    "attire_transform = {\"casual\":1, \"dressy\":2, \"formal\":3}\n",
    "featuresdf1['attributes.RestaurantsAttire'] = featuresdf1['attributes.RestaurantsAttire'].apply(lambda x: attire_transform.get(x))"
   ]
  },
  {
   "cell_type": "code",
   "execution_count": 331,
   "metadata": {
    "collapsed": false
   },
   "outputs": [
    {
     "data": {
      "text/plain": [
       "{nan, u'free', u'no', u'paid'}"
      ]
     },
     "execution_count": 331,
     "metadata": {},
     "output_type": "execute_result"
    }
   ],
   "source": [
    "# wifi to numerical\n",
    "wifi = set(featuresdf1['attributes.WiFi'])\n",
    "wifi"
   ]
  },
  {
   "cell_type": "code",
   "execution_count": 332,
   "metadata": {
    "collapsed": true
   },
   "outputs": [],
   "source": [
    "wifi_transform = {\"free\":2, \"no\":0, \"paid\":1}\n",
    "featuresdf1['attributes.WiFi'] = featuresdf1['attributes.WiFi'].apply(lambda x: wifi_transform.get(x))"
   ]
  },
  {
   "cell_type": "code",
   "execution_count": 334,
   "metadata": {
    "collapsed": false
   },
   "outputs": [
    {
     "data": {
      "text/plain": [
       "{nan, u'no', u'outdoor', u'yes'}"
      ]
     },
     "execution_count": 334,
     "metadata": {},
     "output_type": "execute_result"
    }
   ],
   "source": [
    "# smoking to numerical\n",
    "sm = set(featuresdf1['attributes.Smoking'])\n",
    "sm"
   ]
  },
  {
   "cell_type": "code",
   "execution_count": 335,
   "metadata": {
    "collapsed": true
   },
   "outputs": [],
   "source": [
    "sm_transform = {\"no\":0, \"outdoor\":1, \"yes\":2}\n",
    "featuresdf1['attributes.Smoking'] = featuresdf1['attributes.Smoking'].apply(lambda x: sm_transform.get(x))"
   ]
  },
  {
   "cell_type": "code",
   "execution_count": 632,
   "metadata": {
    "collapsed": false
   },
   "outputs": [],
   "source": [
    "# convert object type columns to numeric values\n",
    "featuresdf2 = featuresdf1.apply(pd.to_numeric, args=('coerce',))"
   ]
  },
  {
   "cell_type": "code",
   "execution_count": 638,
   "metadata": {
    "collapsed": false
   },
   "outputs": [
    {
     "data": {
      "text/html": [
       "<div>\n",
       "<style>\n",
       "    .dataframe thead tr:only-child th {\n",
       "        text-align: right;\n",
       "    }\n",
       "\n",
       "    .dataframe thead th {\n",
       "        text-align: left;\n",
       "    }\n",
       "\n",
       "    .dataframe tbody tr th {\n",
       "        vertical-align: top;\n",
       "    }\n",
       "</style>\n",
       "<table border=\"1\" class=\"dataframe\">\n",
       "  <thead>\n",
       "    <tr style=\"text-align: right;\">\n",
       "      <th></th>\n",
       "      <th>attributes.Alcohol</th>\n",
       "      <th>attributes.Ambience.casual</th>\n",
       "      <th>attributes.Ambience.classy</th>\n",
       "      <th>attributes.Ambience.divey</th>\n",
       "      <th>attributes.Ambience.hipster</th>\n",
       "      <th>attributes.Ambience.intimate</th>\n",
       "      <th>attributes.Ambience.romantic</th>\n",
       "      <th>attributes.Ambience.touristy</th>\n",
       "      <th>attributes.Ambience.trendy</th>\n",
       "      <th>attributes.Ambience.upscale</th>\n",
       "      <th>...</th>\n",
       "      <th>hours.Monday</th>\n",
       "      <th>hours.Saturday</th>\n",
       "      <th>hours.Sunday</th>\n",
       "      <th>hours.Thursday</th>\n",
       "      <th>hours.Tuesday</th>\n",
       "      <th>hours.Wednesday</th>\n",
       "      <th>is_open</th>\n",
       "      <th>latitude</th>\n",
       "      <th>longitude</th>\n",
       "      <th>review_count</th>\n",
       "    </tr>\n",
       "  </thead>\n",
       "  <tbody>\n",
       "    <tr>\n",
       "      <th>0</th>\n",
       "      <td>0.0</td>\n",
       "      <td>0.0</td>\n",
       "      <td>0.0</td>\n",
       "      <td>0.0</td>\n",
       "      <td>0.0</td>\n",
       "      <td>0.0</td>\n",
       "      <td>0.0</td>\n",
       "      <td>0.0</td>\n",
       "      <td>0.0</td>\n",
       "      <td>0.0</td>\n",
       "      <td>...</td>\n",
       "      <td>NaN</td>\n",
       "      <td>NaN</td>\n",
       "      <td>NaN</td>\n",
       "      <td>NaN</td>\n",
       "      <td>NaN</td>\n",
       "      <td>NaN</td>\n",
       "      <td>0</td>\n",
       "      <td>33.505928</td>\n",
       "      <td>-112.038847</td>\n",
       "      <td>10</td>\n",
       "    </tr>\n",
       "    <tr>\n",
       "      <th>1</th>\n",
       "      <td>0.0</td>\n",
       "      <td>1.0</td>\n",
       "      <td>0.0</td>\n",
       "      <td>0.0</td>\n",
       "      <td>0.0</td>\n",
       "      <td>0.0</td>\n",
       "      <td>0.0</td>\n",
       "      <td>0.0</td>\n",
       "      <td>0.0</td>\n",
       "      <td>0.0</td>\n",
       "      <td>...</td>\n",
       "      <td>12.0</td>\n",
       "      <td>12.0</td>\n",
       "      <td>12.0</td>\n",
       "      <td>12.0</td>\n",
       "      <td>12.0</td>\n",
       "      <td>12.0</td>\n",
       "      <td>1</td>\n",
       "      <td>33.478043</td>\n",
       "      <td>-111.986370</td>\n",
       "      <td>63</td>\n",
       "    </tr>\n",
       "    <tr>\n",
       "      <th>2</th>\n",
       "      <td>2.0</td>\n",
       "      <td>1.0</td>\n",
       "      <td>0.0</td>\n",
       "      <td>0.0</td>\n",
       "      <td>0.0</td>\n",
       "      <td>0.0</td>\n",
       "      <td>0.0</td>\n",
       "      <td>0.0</td>\n",
       "      <td>0.0</td>\n",
       "      <td>0.0</td>\n",
       "      <td>...</td>\n",
       "      <td>11.0</td>\n",
       "      <td>11.0</td>\n",
       "      <td>11.0</td>\n",
       "      <td>11.0</td>\n",
       "      <td>11.0</td>\n",
       "      <td>11.0</td>\n",
       "      <td>1</td>\n",
       "      <td>33.445363</td>\n",
       "      <td>-112.067496</td>\n",
       "      <td>127</td>\n",
       "    </tr>\n",
       "    <tr>\n",
       "      <th>3</th>\n",
       "      <td>0.0</td>\n",
       "      <td>0.0</td>\n",
       "      <td>0.0</td>\n",
       "      <td>0.0</td>\n",
       "      <td>0.0</td>\n",
       "      <td>0.0</td>\n",
       "      <td>0.0</td>\n",
       "      <td>0.0</td>\n",
       "      <td>0.0</td>\n",
       "      <td>0.0</td>\n",
       "      <td>...</td>\n",
       "      <td>11.0</td>\n",
       "      <td>12.0</td>\n",
       "      <td>12.0</td>\n",
       "      <td>11.0</td>\n",
       "      <td>11.0</td>\n",
       "      <td>11.0</td>\n",
       "      <td>1</td>\n",
       "      <td>33.465952</td>\n",
       "      <td>-112.121577</td>\n",
       "      <td>13</td>\n",
       "    </tr>\n",
       "    <tr>\n",
       "      <th>4</th>\n",
       "      <td>2.0</td>\n",
       "      <td>1.0</td>\n",
       "      <td>0.0</td>\n",
       "      <td>0.0</td>\n",
       "      <td>0.0</td>\n",
       "      <td>0.0</td>\n",
       "      <td>0.0</td>\n",
       "      <td>0.0</td>\n",
       "      <td>0.0</td>\n",
       "      <td>0.0</td>\n",
       "      <td>...</td>\n",
       "      <td>11.0</td>\n",
       "      <td>11.0</td>\n",
       "      <td>11.0</td>\n",
       "      <td>11.0</td>\n",
       "      <td>11.0</td>\n",
       "      <td>11.0</td>\n",
       "      <td>1</td>\n",
       "      <td>33.599661</td>\n",
       "      <td>-111.982293</td>\n",
       "      <td>232</td>\n",
       "    </tr>\n",
       "  </tbody>\n",
       "</table>\n",
       "<p>5 rows × 69 columns</p>\n",
       "</div>"
      ],
      "text/plain": [
       "   attributes.Alcohol  attributes.Ambience.casual  attributes.Ambience.classy  \\\n",
       "0                 0.0                         0.0                         0.0   \n",
       "1                 0.0                         1.0                         0.0   \n",
       "2                 2.0                         1.0                         0.0   \n",
       "3                 0.0                         0.0                         0.0   \n",
       "4                 2.0                         1.0                         0.0   \n",
       "\n",
       "   attributes.Ambience.divey  attributes.Ambience.hipster  \\\n",
       "0                        0.0                          0.0   \n",
       "1                        0.0                          0.0   \n",
       "2                        0.0                          0.0   \n",
       "3                        0.0                          0.0   \n",
       "4                        0.0                          0.0   \n",
       "\n",
       "   attributes.Ambience.intimate  attributes.Ambience.romantic  \\\n",
       "0                           0.0                           0.0   \n",
       "1                           0.0                           0.0   \n",
       "2                           0.0                           0.0   \n",
       "3                           0.0                           0.0   \n",
       "4                           0.0                           0.0   \n",
       "\n",
       "   attributes.Ambience.touristy  attributes.Ambience.trendy  \\\n",
       "0                           0.0                         0.0   \n",
       "1                           0.0                         0.0   \n",
       "2                           0.0                         0.0   \n",
       "3                           0.0                         0.0   \n",
       "4                           0.0                         0.0   \n",
       "\n",
       "   attributes.Ambience.upscale      ...       hours.Monday  hours.Saturday  \\\n",
       "0                          0.0      ...                NaN             NaN   \n",
       "1                          0.0      ...               12.0            12.0   \n",
       "2                          0.0      ...               11.0            11.0   \n",
       "3                          0.0      ...               11.0            12.0   \n",
       "4                          0.0      ...               11.0            11.0   \n",
       "\n",
       "   hours.Sunday  hours.Thursday  hours.Tuesday  hours.Wednesday  is_open  \\\n",
       "0           NaN             NaN            NaN              NaN        0   \n",
       "1          12.0            12.0           12.0             12.0        1   \n",
       "2          11.0            11.0           11.0             11.0        1   \n",
       "3          12.0            11.0           11.0             11.0        1   \n",
       "4          11.0            11.0           11.0             11.0        1   \n",
       "\n",
       "    latitude   longitude  review_count  \n",
       "0  33.505928 -112.038847            10  \n",
       "1  33.478043 -111.986370            63  \n",
       "2  33.445363 -112.067496           127  \n",
       "3  33.465952 -112.121577            13  \n",
       "4  33.599661 -111.982293           232  \n",
       "\n",
       "[5 rows x 69 columns]"
      ]
     },
     "execution_count": 638,
     "metadata": {},
     "output_type": "execute_result"
    }
   ],
   "source": [
    "# drop columns that are not used\n",
    "business_id = featuresdf1[u'business_id'].reset_index(drop=True)\n",
    "featuresdf3 = featuresdf2.drop([u'business_id', u'attributes.BYOB', u'attributes.BYOBCorkage', u'attributes.Corkage', u'categories', u'postal_code'], axis=1)\n",
    "featuresdf3 = featuresdf3.reset_index(drop=True)\n",
    "featuresdf3.head()"
   ]
  },
  {
   "cell_type": "markdown",
   "metadata": {},
   "source": [
    "__Preparing the X-matrix and y-vector__"
   ]
  },
  {
   "cell_type": "code",
   "execution_count": 383,
   "metadata": {
    "collapsed": false
   },
   "outputs": [],
   "source": [
    "import numpy.ma as ma"
   ]
  },
  {
   "cell_type": "code",
   "execution_count": 376,
   "metadata": {
    "collapsed": false
   },
   "outputs": [
    {
     "data": {
      "text/plain": [
       "False"
      ]
     },
     "execution_count": 376,
     "metadata": {},
     "output_type": "execute_result"
    }
   ],
   "source": [
    "# extract values into numpy array\n",
    "f3val = featuresdf3.values\n",
    "# replace nan values with column-wise means\n",
    "f3val = np.where(np.isnan(f3val), ma.array(f3val, mask=np.isnan(f3val)).mean(axis=0), f3val) \n",
    "np.isnan(np.sum(f3val))"
   ]
  },
  {
   "cell_type": "code",
   "execution_count": 384,
   "metadata": {
    "collapsed": false
   },
   "outputs": [
    {
     "data": {
      "text/plain": [
       "(3515L, 69L)"
      ]
     },
     "execution_count": 384,
     "metadata": {},
     "output_type": "execute_result"
    }
   ],
   "source": [
    "f3val.shape"
   ]
  },
  {
   "cell_type": "code",
   "execution_count": 382,
   "metadata": {
    "collapsed": false
   },
   "outputs": [
    {
     "data": {
      "text/plain": [
       "(3515L,)"
      ]
     },
     "execution_count": 382,
     "metadata": {},
     "output_type": "execute_result"
    }
   ],
   "source": [
    "y_feat = phoenix[u'stars'].values\n",
    "y_feat.shape"
   ]
  },
  {
   "cell_type": "markdown",
   "metadata": {},
   "source": [
    "Now split data into training and test sets and try different algorithms:"
   ]
  },
  {
   "cell_type": "code",
   "execution_count": 387,
   "metadata": {
    "collapsed": true
   },
   "outputs": [],
   "source": [
    "from sklearn.model_selection import train_test_split"
   ]
  },
  {
   "cell_type": "code",
   "execution_count": 682,
   "metadata": {
    "collapsed": false
   },
   "outputs": [],
   "source": [
    "Xf_train, Xf_test, yf_train, yf_test, indices_train, indices_test = train_test_split(f3val, y_feat, featuresdf3.index, test_size=0.3, random_state=8)"
   ]
  },
  {
   "cell_type": "code",
   "execution_count": 683,
   "metadata": {
    "collapsed": false
   },
   "outputs": [
    {
     "name": "stdout",
     "output_type": "stream",
     "text": [
      "(2460L, 69L) (2460L,)\n"
     ]
    }
   ],
   "source": [
    "print Xf_train.shape, yf_train.shape"
   ]
  },
  {
   "cell_type": "code",
   "execution_count": 684,
   "metadata": {
    "collapsed": false
   },
   "outputs": [
    {
     "data": {
      "text/plain": [
       "Int64Index([  92, 2981,  879, 1199, 1260,   99,  322, 1569, 1870, 1997,\n",
       "            ...\n",
       "            2096, 1384, 2899, 2184,  986, 2181, 2409, 2033, 1364,  451],\n",
       "           dtype='int64', length=2460)"
      ]
     },
     "execution_count": 684,
     "metadata": {},
     "output_type": "execute_result"
    }
   ],
   "source": [
    "indices_train"
   ]
  },
  {
   "cell_type": "markdown",
   "metadata": {},
   "source": [
    "__Linear Regression Model__"
   ]
  },
  {
   "cell_type": "code",
   "execution_count": 685,
   "metadata": {
    "collapsed": true
   },
   "outputs": [],
   "source": [
    "from sklearn import linear_model"
   ]
  },
  {
   "cell_type": "code",
   "execution_count": 686,
   "metadata": {
    "collapsed": true
   },
   "outputs": [],
   "source": [
    "from sklearn.metrics import mean_squared_error"
   ]
  },
  {
   "cell_type": "code",
   "execution_count": 687,
   "metadata": {
    "collapsed": false
   },
   "outputs": [
    {
     "name": "stdout",
     "output_type": "stream",
     "text": [
      "0.217502609955\n",
      "0.180946151502\n",
      "0.581617457994\n"
     ]
    }
   ],
   "source": [
    "reg = linear_model.LinearRegression()\n",
    "reg.fit(Xf_train, yf_train)\n",
    "print reg.score(Xf_train, yf_train)\n",
    "print reg.score(Xf_test, yf_test)\n",
    "print mean_squared_error(yf_test, reg.predict(Xf_test))"
   ]
  },
  {
   "cell_type": "markdown",
   "metadata": {},
   "source": [
    "__Ridge Regression__"
   ]
  },
  {
   "cell_type": "code",
   "execution_count": 592,
   "metadata": {
    "collapsed": true
   },
   "outputs": [],
   "source": [
    "from sklearn.linear_model import Ridge"
   ]
  },
  {
   "cell_type": "code",
   "execution_count": 689,
   "metadata": {
    "collapsed": false
   },
   "outputs": [
    {
     "name": "stdout",
     "output_type": "stream",
     "text": [
      "0.217502609689\n",
      "0.180945294494\n",
      "0.581618066563\n"
     ]
    }
   ],
   "source": [
    "ridge_reg = Ridge(alpha=0.001)\n",
    "ridge_reg.fit(Xf_train, yf_train)\n",
    "print ridge_reg.score(Xf_train, yf_train)\n",
    "print ridge_reg.score(Xf_test, yf_test)\n",
    "print mean_squared_error(yf_test, ridge_reg.predict(Xf_test))"
   ]
  },
  {
   "cell_type": "markdown",
   "metadata": {},
   "source": [
    "__Lasso Linear Model__"
   ]
  },
  {
   "cell_type": "code",
   "execution_count": 690,
   "metadata": {
    "collapsed": false
   },
   "outputs": [
    {
     "name": "stdout",
     "output_type": "stream",
     "text": [
      "0.217501214748\n",
      "0.180941066013\n",
      "0.581621069245\n"
     ]
    }
   ],
   "source": [
    "reg_lasso = linear_model.Lasso(alpha = 0.00001)\n",
    "reg_lasso.fit(Xf_train, yf_train)\n",
    "print reg_lasso.score(Xf_train, yf_train)\n",
    "print reg_lasso.score(Xf_test, yf_test)\n",
    "print mean_squared_error(yf_test, reg_lasso.predict(Xf_test))"
   ]
  },
  {
   "cell_type": "code",
   "execution_count": 691,
   "metadata": {
    "collapsed": true
   },
   "outputs": [],
   "source": [
    "import matplotlib.pyplot as plt"
   ]
  },
  {
   "cell_type": "code",
   "execution_count": 692,
   "metadata": {
    "collapsed": false
   },
   "outputs": [
    {
     "data": {
      "image/png": "[encoded data removed]",
      "text/plain": [
       "<matplotlib.figure.Figure at 0x18f63ba8>"
      ]
     },
     "metadata": {},
     "output_type": "display_data"
    }
   ],
   "source": [
    "## visualize results\n",
    "plt.scatter(x=yf_test, y=reg_lasso.predict(Xf_test))\n",
    "plt.show()"
   ]
  },
  {
   "cell_type": "markdown",
   "metadata": {},
   "source": [
    "All 3 models give the same results, so the linear model is not appropriate in this case. We can try other methods to see if an improvement can be made - Random Forest based ensemble methods and neural network based models."
   ]
  },
  {
   "cell_type": "markdown",
   "metadata": {},
   "source": [
    "__Random Forest Regression Model__"
   ]
  },
  {
   "cell_type": "code",
   "execution_count": 693,
   "metadata": {
    "collapsed": true
   },
   "outputs": [],
   "source": [
    "from sklearn.ensemble import RandomForestRegressor"
   ]
  },
  {
   "cell_type": "code",
   "execution_count": 694,
   "metadata": {
    "collapsed": false
   },
   "outputs": [
    {
     "name": "stdout",
     "output_type": "stream",
     "text": [
      "0.860252946219\n",
      "0.2441150431\n",
      "0.536760663507\n"
     ]
    }
   ],
   "source": [
    "rf_regr = RandomForestRegressor(max_depth=100, random_state=0)\n",
    "rf_regr.fit(Xf_train, yf_train)\n",
    "print rf_regr.score(Xf_train, yf_train)\n",
    "print rf_regr.score(Xf_test, yf_test)\n",
    "print mean_squared_error(yf_test, rf_regr.predict(Xf_test))"
   ]
  },
  {
   "cell_type": "markdown",
   "metadata": {},
   "source": [
    "__Gradient Boosting Regression Model__"
   ]
  },
  {
   "cell_type": "code",
   "execution_count": 601,
   "metadata": {
    "collapsed": false
   },
   "outputs": [],
   "source": [
    "from sklearn.ensemble import GradientBoostingRegressor"
   ]
  },
  {
   "cell_type": "code",
   "execution_count": 695,
   "metadata": {
    "collapsed": false
   },
   "outputs": [
    {
     "name": "stdout",
     "output_type": "stream",
     "text": [
      "0.692193085693\n",
      "0.302762849923\n",
      "0.495114331726\n"
     ]
    }
   ],
   "source": [
    "gbr = GradientBoostingRegressor(n_estimators=200, loss= 'ls',  max_depth=5, learning_rate=0.1, max_features='log2')\n",
    "gbr.fit(Xf_train, yf_train)\n",
    "print gbr.score(Xf_train, yf_train)\n",
    "print gbr.score(Xf_test, yf_test)\n",
    "print mean_squared_error(yf_test, gbr.predict(Xf_test))"
   ]
  },
  {
   "cell_type": "markdown",
   "metadata": {},
   "source": [
    "This is a tangible improvement of results and we can use the scatter plot and histigram of errors to visualize results:"
   ]
  },
  {
   "cell_type": "code",
   "execution_count": 696,
   "metadata": {
    "collapsed": false
   },
   "outputs": [
    {
     "data": {
      "image/png": "[encoded data removed]",
      "text/plain": [
       "<matplotlib.figure.Figure at 0x110e18d0>"
      ]
     },
     "metadata": {},
     "output_type": "display_data"
    }
   ],
   "source": [
    "plt.scatter(x=yf_test, y=gbr.predict(Xf_test))\n",
    "plt.title('Gradient Boost Regression')\n",
    "plt.xlabel('Actual average rating')\n",
    "plt.ylabel('Predicted rating')\n",
    "plt.show()"
   ]
  },
  {
   "cell_type": "code",
   "execution_count": 697,
   "metadata": {
    "collapsed": false
   },
   "outputs": [
    {
     "data": {
      "image/png": "[encoded data removed]",
      "text/plain": [
       "<matplotlib.figure.Figure at 0x10d9e358>"
      ]
     },
     "metadata": {},
     "output_type": "display_data"
    }
   ],
   "source": [
    "plt.hist(gbr.predict(Xf_test) - yf_test, bins=20)\n",
    "plt.title('Gradient Boosting Regression - prediction errors')\n",
    "plt.xlabel('Absolute error on test data')\n",
    "plt.ylabel('Frequency')\n",
    "plt.show()"
   ]
  },
  {
   "cell_type": "code",
   "execution_count": 698,
   "metadata": {
    "collapsed": false
   },
   "outputs": [
    {
     "data": {
      "text/plain": [
       "(1055L, 69L)"
      ]
     },
     "execution_count": 698,
     "metadata": {},
     "output_type": "execute_result"
    }
   ],
   "source": [
    "Xf_test.shape"
   ]
  },
  {
   "cell_type": "code",
   "execution_count": 699,
   "metadata": {
    "collapsed": false
   },
   "outputs": [
    {
     "name": "stdout",
     "output_type": "stream",
     "text": [
      "Mean of the absolute predction error:  -1.34700044694e-17\n",
      "Standard deviation of the mean-centered raw data:  0.842679617266\n",
      "Standard deviation of the absolute prediction error:  0.702743384612\n"
     ]
    }
   ],
   "source": [
    "print 'Mean of the absolute predction error: ', (yf_test - yf_test.mean()).mean()\n",
    "print 'Standard deviation of the mean-centered raw data: ', (yf_test - yf_test.mean()).std()\n",
    "print 'Standard deviation of the absolute prediction error: ', (gbr.predict(Xf_test) - yf_test).std()"
   ]
  },
  {
   "cell_type": "markdown",
   "metadata": {},
   "source": [
    "The reduced standard deviation of the predicted data vs. raw data means that the algorithm did produce some predictive power; however the prediction is not very accurate or robust."
   ]
  },
  {
   "cell_type": "markdown",
   "metadata": {},
   "source": [
    "__MLP Regression Model__"
   ]
  },
  {
   "cell_type": "code",
   "execution_count": 700,
   "metadata": {
    "collapsed": true
   },
   "outputs": [],
   "source": [
    "from sklearn.neural_network import MLPRegressor"
   ]
  },
  {
   "cell_type": "code",
   "execution_count": 701,
   "metadata": {
    "collapsed": false
   },
   "outputs": [
    {
     "name": "stdout",
     "output_type": "stream",
     "text": [
      "0.247617125651\n",
      "0.182409272169\n",
      "0.580578482932\n"
     ]
    }
   ],
   "source": [
    "mlpr = MLPRegressor(solver='lbfgs', alpha=0.0001, hidden_layer_sizes = (1000,), learning_rate='adaptive')\n",
    "mlpr.fit(Xf_train, yf_train)\n",
    "print mlpr.score(Xf_train, yf_train)\n",
    "print mlpr.score(Xf_test, yf_test)\n",
    "print mean_squared_error(yf_test, mlpr.predict(Xf_test))"
   ]
  },
  {
   "cell_type": "markdown",
   "metadata": {},
   "source": [
    "__Summarize results in data frame__"
   ]
  },
  {
   "cell_type": "code",
   "execution_count": 870,
   "metadata": {
    "collapsed": false
   },
   "outputs": [
    {
     "data": {
      "text/html": [
       "<div>\n",
       "<style>\n",
       "    .dataframe thead tr:only-child th {\n",
       "        text-align: right;\n",
       "    }\n",
       "\n",
       "    .dataframe thead th {\n",
       "        text-align: left;\n",
       "    }\n",
       "\n",
       "    .dataframe tbody tr th {\n",
       "        vertical-align: top;\n",
       "    }\n",
       "</style>\n",
       "<table border=\"1\" class=\"dataframe\">\n",
       "  <thead>\n",
       "    <tr style=\"text-align: right;\">\n",
       "      <th></th>\n",
       "      <th>business_id</th>\n",
       "      <th>yelp_rounded_rating</th>\n",
       "      <th>MLPR_feature_prediction</th>\n",
       "    </tr>\n",
       "  </thead>\n",
       "  <tbody>\n",
       "    <tr>\n",
       "      <th>0</th>\n",
       "      <td>TEqsEqIRFSQdDm8jwPHdkw</td>\n",
       "      <td>3.5</td>\n",
       "      <td>3.170932</td>\n",
       "    </tr>\n",
       "    <tr>\n",
       "      <th>1</th>\n",
       "      <td>MO8vR9uw--ELG5J8CbdZCA</td>\n",
       "      <td>5.0</td>\n",
       "      <td>3.251591</td>\n",
       "    </tr>\n",
       "    <tr>\n",
       "      <th>2</th>\n",
       "      <td>bBM6OguT_lLYSlq4NaMuzw</td>\n",
       "      <td>3.5</td>\n",
       "      <td>3.207077</td>\n",
       "    </tr>\n",
       "    <tr>\n",
       "      <th>3</th>\n",
       "      <td>5WtKBzHv1mL2-w1wcz3kpw</td>\n",
       "      <td>3.0</td>\n",
       "      <td>3.802303</td>\n",
       "    </tr>\n",
       "    <tr>\n",
       "      <th>4</th>\n",
       "      <td>bbMJNMWjd7n2ztcE79ZwfQ</td>\n",
       "      <td>1.5</td>\n",
       "      <td>3.718332</td>\n",
       "    </tr>\n",
       "  </tbody>\n",
       "</table>\n",
       "</div>"
      ],
      "text/plain": [
       "              business_id  yelp_rounded_rating  MLPR_feature_prediction\n",
       "0  TEqsEqIRFSQdDm8jwPHdkw                  3.5                 3.170932\n",
       "1  MO8vR9uw--ELG5J8CbdZCA                  5.0                 3.251591\n",
       "2  bBM6OguT_lLYSlq4NaMuzw                  3.5                 3.207077\n",
       "3  5WtKBzHv1mL2-w1wcz3kpw                  3.0                 3.802303\n",
       "4  bbMJNMWjd7n2ztcE79ZwfQ                  1.5                 3.718332"
      ]
     },
     "execution_count": 870,
     "metadata": {},
     "output_type": "execute_result"
    }
   ],
   "source": [
    "feature_results = pd.DataFrame(zip(business_id[indices_test], yf_test, mlpr.predict(Xf_test)))\n",
    "feature_results.columns = ['business_id', 'yelp_rounded_rating', 'MLPR_feature_prediction']\n",
    "feature_results.head()"
   ]
  },
  {
   "cell_type": "code",
   "execution_count": 871,
   "metadata": {
    "collapsed": false
   },
   "outputs": [
    {
     "data": {
      "text/plain": [
       "(1055, 3)"
      ]
     },
     "execution_count": 871,
     "metadata": {},
     "output_type": "execute_result"
    }
   ],
   "source": [
    "feature_results.shape"
   ]
  },
  {
   "cell_type": "markdown",
   "metadata": {},
   "source": [
    "The neural network model performs worse than gradient boosting regression. The next section will try to modify the features matrix further in order to seek improvements."
   ]
  },
  {
   "cell_type": "code",
   "execution_count": 564,
   "metadata": {
    "collapsed": false
   },
   "outputs": [],
   "source": [
    "# look for features that have low importance and have dominant nan values\n",
    "imp = gbr.feature_importances_\n",
    "not_nans = [np.isnan(x).sum() for x in featuresdf3.T.values]\n",
    "features_importance = pd.DataFrame(zip(featuresdf3.columns, imp.T, not_nans))\n",
    "features_importance = features_importance.sort_values(by=2, ascending=True).reset_index()\n",
    "\n",
    "# list of columns to drop based on number of nan values\n",
    "drop_list = list(features_importance[0].tail(18))"
   ]
  },
  {
   "cell_type": "code",
   "execution_count": 482,
   "metadata": {
    "collapsed": false
   },
   "outputs": [
    {
     "data": {
      "text/plain": [
       "0"
      ]
     },
     "execution_count": 482,
     "metadata": {},
     "output_type": "execute_result"
    }
   ],
   "source": [
    "# try a different treatment of missing values: set nan to zero\n",
    "# logis is this is closer to how the user will percieve it: no info == feature does not exist\n",
    "f3val_zeros = np.nan_to_num(featuresdf3.values)\n",
    "np.isnan(f3val_zeros).sum()"
   ]
  },
  {
   "cell_type": "code",
   "execution_count": 484,
   "metadata": {
    "collapsed": false
   },
   "outputs": [],
   "source": [
    "Xfz_train, Xfz_test, yfz_train, yfz_test = train_test_split(f3val_zeros, y_feat, test_size = 0.3)"
   ]
  },
  {
   "cell_type": "code",
   "execution_count": 497,
   "metadata": {
    "collapsed": false
   },
   "outputs": [
    {
     "name": "stdout",
     "output_type": "stream",
     "text": [
      "0.634761150714\n",
      "0.281756900413\n",
      "0.499818857013\n"
     ]
    }
   ],
   "source": [
    "gbr = GradientBoostingRegressor(n_estimators=200, loss= 'ls',  max_depth=5, learning_rate=0.1, max_features='log2')\n",
    "gbr.fit(Xfz_train, yfz_train)\n",
    "print gbr.score(Xfz_train, yfz_train)\n",
    "print gbr.score(Xfz_test, yfz_test)\n",
    "print mean_squared_error(yfz_test, gbr.predict(Xfz_test))"
   ]
  },
  {
   "cell_type": "code",
   "execution_count": 525,
   "metadata": {
    "collapsed": false
   },
   "outputs": [
    {
     "name": "stdout",
     "output_type": "stream",
     "text": [
      "0.260795023689\n",
      "0.214715511879\n",
      "0.546472351086\n"
     ]
    }
   ],
   "source": [
    "mlpr = MLPRegressor(solver='lbfgs', alpha=0.0001, hidden_layer_sizes = (1000,), learning_rate='adaptive')\n",
    "mlpr.fit(Xfz_train, yfz_train)\n",
    "print mlpr.score(Xfz_train, yfz_train)\n",
    "print mlpr.score(Xfz_test, yfz_test)\n",
    "print mean_squared_error(yfz_test, mlpr.predict(Xfz_test))"
   ]
  },
  {
   "cell_type": "markdown",
   "metadata": {},
   "source": [
    "The following section will try to improve on existing results through modifications to the features matrix (in particular for the neural network model):\n",
    "- dropping a further 18 columns where the majority of fields are missing data in order to simplify the features and explore if this will improve or deteriorate the model\n",
    "- mean-centering the longitude and latitude columns (two of the most significant features)"
   ]
  },
  {
   "cell_type": "code",
   "execution_count": 575,
   "metadata": {
    "collapsed": false
   },
   "outputs": [
    {
     "data": {
      "text/plain": [
       "(3515, 51)"
      ]
     },
     "execution_count": 575,
     "metadata": {},
     "output_type": "execute_result"
    }
   ],
   "source": [
    "# create new features matrix based on copy of the existing one\n",
    "featuresdf4 = featuresdf3.copy()\n",
    "\n",
    "# mean-center longitide and latitude\n",
    "long_mean = featuresdf3['longitude'].mean()\n",
    "lat_mean = featuresdf3['latitude'].mean()\n",
    "featuresdf4['longitude'] = featuresdf4['longitude'].apply(lambda x: x-long_mean)\n",
    "featuresdf4['latitude'] = featuresdf4['latitude'].apply(lambda x: x-lat_mean)\n",
    "\n",
    "# drop columns\n",
    "featuresdf4 = featuresdf4.drop(drop_list, axis=1)\n",
    "featuresdf4.shape"
   ]
  },
  {
   "cell_type": "code",
   "execution_count": 566,
   "metadata": {
    "collapsed": false
   },
   "outputs": [
    {
     "data": {
      "text/plain": [
       "False"
      ]
     },
     "execution_count": 566,
     "metadata": {},
     "output_type": "execute_result"
    }
   ],
   "source": [
    "# extract the values in numpy array and fill nan values with column means\n",
    "f4val = featuresdf4.values\n",
    "f4val = np.where(np.isnan(f4val), ma.array(f4val, mask=np.isnan(f4val)).mean(axis=0), f4val) \n",
    "\n",
    "# check that no nan values remain outstanding\n",
    "np.isnan(np.sum(f4val))"
   ]
  },
  {
   "cell_type": "code",
   "execution_count": 567,
   "metadata": {
    "collapsed": false
   },
   "outputs": [],
   "source": [
    "# split into training and dest samples\n",
    "Xf_train, Xf_test, yf_train, yf_test = train_test_split(f4val, y_feat, test_size = 0.3)"
   ]
  },
  {
   "cell_type": "markdown",
   "metadata": {},
   "source": [
    "__Gradient Boosting Regressor__"
   ]
  },
  {
   "cell_type": "code",
   "execution_count": 573,
   "metadata": {
    "collapsed": false
   },
   "outputs": [
    {
     "name": "stdout",
     "output_type": "stream",
     "text": [
      "0.702836755005\n",
      "0.267595923339\n",
      "0.479178258376\n"
     ]
    }
   ],
   "source": [
    "gbr = GradientBoostingRegressor(n_estimators=200, loss= 'ls',  max_depth=5, learning_rate=0.1, max_features='log2')\n",
    "gbr.fit(Xf_train, yf_train)\n",
    "print gbr.score(Xf_train, yf_train)\n",
    "print gbr.score(Xf_test, yf_test)\n",
    "print mean_squared_error(yf_test, gbr.predict(Xf_test))"
   ]
  },
  {
   "cell_type": "markdown",
   "metadata": {},
   "source": [
    "__MLP Regressor__"
   ]
  },
  {
   "cell_type": "code",
   "execution_count": 580,
   "metadata": {
    "collapsed": false
   },
   "outputs": [
    {
     "name": "stdout",
     "output_type": "stream",
     "text": [
      "0.173338848485\n",
      "0.106491106648\n",
      "0.584581720669\n"
     ]
    }
   ],
   "source": [
    "mlpr = MLPRegressor(solver='lbfgs', alpha=0.00001, hidden_layer_sizes = (5000,), learning_rate='adaptive')\n",
    "mlpr.fit(Xf_train, yf_train)\n",
    "print mlpr.score(Xf_train, yf_train)\n",
    "print mlpr.score(Xf_test, yf_test)\n",
    "print mean_squared_error(yf_test, mlpr.predict(Xf_test))"
   ]
  },
  {
   "cell_type": "markdown",
   "metadata": {},
   "source": [
    "The changes did not improve the predictions. In fact we can see that:\n",
    "- Gradient Boosting regression yields quite similar results in terms of R^2 score and MSE\n",
    "- MLP regression yields worse results - the reduction of features has taken away some of the texture in the data, and the result presented above (test score of 0.11 and MSE of 0.58) is the best obtained after parameter tuning"
   ]
  },
  {
   "cell_type": "markdown",
   "metadata": {},
   "source": [
    "__Conclusion__\n",
    "\n",
    "The best prediction result was obtained using Gradient Boosting regression on the full set of features. This gave an R^2 value of 0.68 on the training data and 0.34 on the test data, with a test MSE of 0.45. From these results and the scatter plot, we can conclude that there is a significant amount of randomness in the data and that a given restaurant's features can be used to provide a broad estimate of its probable average ratings, but not a very accurate prediction. In business terms, the 'specification' of a restaurant lacks the subjective information that is important ti users when rating a restaurant - items such as quality of food, level of service, and overall feeling of well-being. This is the information we will try to capture from the text of the reviews in order to determine the reviewer's sentiment and likely rating score."
   ]
  },
  {
   "cell_type": "markdown",
   "metadata": {},
   "source": [
    "# 3. Importing Reviews Data"
   ]
  },
  {
   "cell_type": "code",
   "execution_count": 702,
   "metadata": {
    "collapsed": false
   },
   "outputs": [
    {
     "name": "stdout",
     "output_type": "stream",
     "text": [
      "302403\n",
      "302403\n",
      "302403\n"
     ]
    }
   ],
   "source": [
    "# extract reviews data from the json file and store to data frame\n",
    "review_json_filepath = os.path.abspath('data/dataset/review.json')\n",
    "\n",
    "biz_data = []\n",
    "rating_data = []\n",
    "review_data = []\n",
    "\n",
    "\n",
    "with codecs.open(review_json_filepath, encoding='utf_8') as f:\n",
    "    for line in f:\n",
    "        business = json.loads(line)\n",
    "        bus_id = business[u'business_id'] \n",
    "        # filter restaurants in Phoenix\n",
    "        if bus_id not in phx_ids:\n",
    "            continue\n",
    "        biz_data.append(bus_id)\n",
    "        rating_data.append(business[u'stars'])\n",
    "        review_data.append(business[u'text'])\n",
    "\n",
    "print len(biz_data)\n",
    "print len(rating_data)\n",
    "print len(review_data)"
   ]
  },
  {
   "cell_type": "code",
   "execution_count": 703,
   "metadata": {
    "collapsed": false
   },
   "outputs": [
    {
     "data": {
      "text/html": [
       "<div>\n",
       "<style>\n",
       "    .dataframe thead tr:only-child th {\n",
       "        text-align: right;\n",
       "    }\n",
       "\n",
       "    .dataframe thead th {\n",
       "        text-align: left;\n",
       "    }\n",
       "\n",
       "    .dataframe tbody tr th {\n",
       "        vertical-align: top;\n",
       "    }\n",
       "</style>\n",
       "<table border=\"1\" class=\"dataframe\">\n",
       "  <thead>\n",
       "    <tr style=\"text-align: right;\">\n",
       "      <th></th>\n",
       "      <th>business_id</th>\n",
       "      <th>stars_rating</th>\n",
       "      <th>review</th>\n",
       "    </tr>\n",
       "  </thead>\n",
       "  <tbody>\n",
       "    <tr>\n",
       "      <th>0</th>\n",
       "      <td>_mqUzNXs_sJ1EJYgYZYszg</td>\n",
       "      <td>4</td>\n",
       "      <td>A really good sandwich place. It's location is...</td>\n",
       "    </tr>\n",
       "    <tr>\n",
       "      <th>1</th>\n",
       "      <td>_mqUzNXs_sJ1EJYgYZYszg</td>\n",
       "      <td>5</td>\n",
       "      <td>The food was definitely solid but what stood o...</td>\n",
       "    </tr>\n",
       "    <tr>\n",
       "      <th>2</th>\n",
       "      <td>_mqUzNXs_sJ1EJYgYZYszg</td>\n",
       "      <td>4</td>\n",
       "      <td>Great place to grab lunch. The location is a l...</td>\n",
       "    </tr>\n",
       "    <tr>\n",
       "      <th>3</th>\n",
       "      <td>_mqUzNXs_sJ1EJYgYZYszg</td>\n",
       "      <td>5</td>\n",
       "      <td>What a find, right behind the Radisson, fresh ...</td>\n",
       "    </tr>\n",
       "    <tr>\n",
       "      <th>4</th>\n",
       "      <td>_mqUzNXs_sJ1EJYgYZYszg</td>\n",
       "      <td>5</td>\n",
       "      <td>I work in a office building right around the c...</td>\n",
       "    </tr>\n",
       "    <tr>\n",
       "      <th>5</th>\n",
       "      <td>_mqUzNXs_sJ1EJYgYZYszg</td>\n",
       "      <td>3</td>\n",
       "      <td>I can't figure out why their food isn't that g...</td>\n",
       "    </tr>\n",
       "    <tr>\n",
       "      <th>6</th>\n",
       "      <td>_mqUzNXs_sJ1EJYgYZYszg</td>\n",
       "      <td>4</td>\n",
       "      <td>Only open for lunch spot, a nice little sandwi...</td>\n",
       "    </tr>\n",
       "    <tr>\n",
       "      <th>7</th>\n",
       "      <td>_mqUzNXs_sJ1EJYgYZYszg</td>\n",
       "      <td>5</td>\n",
       "      <td>After arriving at PHX airport we searched for ...</td>\n",
       "    </tr>\n",
       "    <tr>\n",
       "      <th>8</th>\n",
       "      <td>_mqUzNXs_sJ1EJYgYZYszg</td>\n",
       "      <td>3</td>\n",
       "      <td>I have visited The Lunch Lounge 3 times since ...</td>\n",
       "    </tr>\n",
       "    <tr>\n",
       "      <th>9</th>\n",
       "      <td>_mqUzNXs_sJ1EJYgYZYszg</td>\n",
       "      <td>5</td>\n",
       "      <td>Happy to have found this place! Great food, de...</td>\n",
       "    </tr>\n",
       "  </tbody>\n",
       "</table>\n",
       "</div>"
      ],
      "text/plain": [
       "              business_id  stars_rating  \\\n",
       "0  _mqUzNXs_sJ1EJYgYZYszg             4   \n",
       "1  _mqUzNXs_sJ1EJYgYZYszg             5   \n",
       "2  _mqUzNXs_sJ1EJYgYZYszg             4   \n",
       "3  _mqUzNXs_sJ1EJYgYZYszg             5   \n",
       "4  _mqUzNXs_sJ1EJYgYZYszg             5   \n",
       "5  _mqUzNXs_sJ1EJYgYZYszg             3   \n",
       "6  _mqUzNXs_sJ1EJYgYZYszg             4   \n",
       "7  _mqUzNXs_sJ1EJYgYZYszg             5   \n",
       "8  _mqUzNXs_sJ1EJYgYZYszg             3   \n",
       "9  _mqUzNXs_sJ1EJYgYZYszg             5   \n",
       "\n",
       "                                              review  \n",
       "0  A really good sandwich place. It's location is...  \n",
       "1  The food was definitely solid but what stood o...  \n",
       "2  Great place to grab lunch. The location is a l...  \n",
       "3  What a find, right behind the Radisson, fresh ...  \n",
       "4  I work in a office building right around the c...  \n",
       "5  I can't figure out why their food isn't that g...  \n",
       "6  Only open for lunch spot, a nice little sandwi...  \n",
       "7  After arriving at PHX airport we searched for ...  \n",
       "8  I have visited The Lunch Lounge 3 times since ...  \n",
       "9  Happy to have found this place! Great food, de...  "
      ]
     },
     "execution_count": 703,
     "metadata": {},
     "output_type": "execute_result"
    }
   ],
   "source": [
    "reviews_df = pd.DataFrame(zip(biz_data, rating_data, review_data))\n",
    "reviews_df.columns = ['business_id', 'stars_rating', 'review']\n",
    "reviews_df.head(10)"
   ]
  },
  {
   "cell_type": "markdown",
   "metadata": {},
   "source": [
    "Reviews data stored in 'reviews_df' data frame and includes business id, stars rating and revew text. Line below extracts one sample review text (stored as unicode):"
   ]
  },
  {
   "cell_type": "code",
   "execution_count": 704,
   "metadata": {
    "collapsed": false
   },
   "outputs": [
    {
     "data": {
      "text/plain": [
       "u'I absolutely always enjoy the jade red chicken.  A little disappointed they do not have egg rolls but the heat selection of Asian beers definitely make up for it'"
      ]
     },
     "execution_count": 704,
     "metadata": {},
     "output_type": "execute_result"
    }
   ],
   "source": [
    "reviews_df.review[299522]"
   ]
  },
  {
   "cell_type": "code",
   "execution_count": 705,
   "metadata": {
    "collapsed": false
   },
   "outputs": [
    {
     "data": {
      "text/plain": [
       "3.803288988535167"
      ]
     },
     "execution_count": 705,
     "metadata": {},
     "output_type": "execute_result"
    }
   ],
   "source": [
    "# mean of the ratings\n",
    "reviews_df.stars_rating.mean()"
   ]
  },
  {
   "cell_type": "code",
   "execution_count": 706,
   "metadata": {
    "collapsed": false
   },
   "outputs": [
    {
     "data": {
      "image/png": "[encoded data removed]",
      "text/plain": [
       "<matplotlib.figure.Figure at 0x109af748>"
      ]
     },
     "metadata": {},
     "output_type": "display_data"
    }
   ],
   "source": [
    "# histogram of individual ratings\n",
    "plt.hist(reviews_df.stars_rating, bins=5)\n",
    "plt.show()"
   ]
  },
  {
   "cell_type": "markdown",
   "metadata": {},
   "source": [
    "# 4. Sentiment Modeling"
   ]
  },
  {
   "cell_type": "markdown",
   "metadata": {},
   "source": [
    "## 4.1. Importing the Trained NLP Model"
   ]
  },
  {
   "cell_type": "markdown",
   "metadata": {},
   "source": [
    "We now have two data frames for the set of approx. 3500 restaurant businesses in Phoenix. - one with business information and one containing 300,000+ reviews about them. \n",
    "\n",
    "The next step uses the NLP model (already trained on the entire dataset of 2.9 million reviews) to extract summary information from the reviews about each business and add this information to the features matrix.\n",
    "\n",
    "The model will be imported as a gensim word2vec model and each review will be converted to a feature vector. As reviews vary in length, a method is needed to obtain a representative feature vector for each review in the same format. The solution used here is to generate a feature vector for each word in the review (in its lemma form, excluding punctuation, white space and stop words), add vectors for all words in the review, and divide by the number of words. This will create an average feature vector that is a representation of the broad meaning of the review."
   ]
  },
  {
   "cell_type": "code",
   "execution_count": 707,
   "metadata": {
    "collapsed": true
   },
   "outputs": [],
   "source": [
    "# this is to access the file where the ENglish language model is located\n",
    "import sys\n",
    "sys.path.append('C:\\Windows\\System32\\.env\\Lib\\site-packages')"
   ]
  },
  {
   "cell_type": "code",
   "execution_count": 708,
   "metadata": {
    "collapsed": false
   },
   "outputs": [],
   "source": [
    "# import spact for processing text in reviews\n",
    "import spacy\n",
    "import en_core_web_sm\n",
    "nlp = en_core_web_sm.load() "
   ]
  },
  {
   "cell_type": "code",
   "execution_count": 709,
   "metadata": {
    "collapsed": false
   },
   "outputs": [
    {
     "name": "stderr",
     "output_type": "stream",
     "text": [
      "C:\\Users\\Work\\Anaconda2\\lib\\site-packages\\gensim\\utils.py:865: UserWarning: detected Windows; aliasing chunkize to chunkize_serial\n",
      "  warnings.warn(\"detected Windows; aliasing chunkize to chunkize_serial\")\n",
      "Using CNTK backend\n",
      "C:\\Users\\Work\\Anaconda2\\lib\\site-packages\\keras\\backend\\cntk_backend.py:19: UserWarning: CNTK backend warning: GPU is not detected. CNTK's CPU version is not fully optimized,please run with GPU to get better performance.\n",
      "  'CNTK backend warning: GPU is not detected. '\n"
     ]
    }
   ],
   "source": [
    "# import gensime module to use word2vec model created\n",
    "from gensim.models import Word2Vec"
   ]
  },
  {
   "cell_type": "code",
   "execution_count": 710,
   "metadata": {
    "collapsed": false
   },
   "outputs": [],
   "source": [
    "# import the trained word2vec model\n",
    "model = Word2Vec.load('data/intermediate/word2vec_model_all')"
   ]
  },
  {
   "cell_type": "code",
   "execution_count": 711,
   "metadata": {
    "collapsed": false
   },
   "outputs": [],
   "source": [
    "# create set of words in word2vec model\n",
    "index2word_set = set(model.wv.index2word)"
   ]
  },
  {
   "cell_type": "code",
   "execution_count": 712,
   "metadata": {
    "collapsed": false
   },
   "outputs": [
    {
     "data": {
      "text/plain": [
       "array([ 0.44177014,  0.34545311, -0.4863095 ,  0.35393116,  0.20394039,\n",
       "        0.32689789, -0.04189698,  0.09583075,  0.59013194,  0.13289815,\n",
       "       -0.43105602,  0.4870742 , -0.16222502, -0.2792412 ,  0.29100522,\n",
       "       -0.23376985, -0.16161127, -0.33476841,  0.11884616, -0.02219654,\n",
       "       -0.06832016,  0.18777724, -0.31993359,  0.41420466,  0.02011142,\n",
       "        0.34190252, -0.02196711,  0.16111246, -0.16246185,  0.0499949 ,\n",
       "       -0.19975521, -0.16161473,  0.17163743, -0.22013833,  0.23611847,\n",
       "       -0.27877772, -0.37166238,  0.0329407 ,  0.58188915,  0.24307698,\n",
       "        0.4378143 ,  0.02364679, -0.20428382,  0.06199164,  0.05651153,\n",
       "       -0.15151869,  0.58012015, -0.288416  ,  0.45948359,  0.33597344,\n",
       "        0.13952601, -0.23661782, -0.20378302,  0.42699447, -0.07695791,\n",
       "       -0.21763811, -0.12416524,  0.39530164,  0.24426317, -0.08625464,\n",
       "        0.01122354,  0.07476675,  0.07364706,  0.05514677,  0.03141041,\n",
       "       -0.44871995, -0.64922386,  0.27328208, -0.46428677, -0.07973774,\n",
       "       -0.11277536, -0.03787094, -0.13846612,  0.00076886, -0.31760025,\n",
       "       -0.07917943,  0.03352406,  0.55011755, -0.10536788, -0.11815295,\n",
       "       -0.03641997,  0.09829271,  0.20049158, -0.03420196, -0.1365761 ,\n",
       "       -0.1268909 , -0.29851314, -0.41611037, -0.13607046, -0.22747231,\n",
       "       -0.29927588, -0.25337467, -0.19961017, -0.22294429, -0.20607883,\n",
       "        0.10806422, -0.15409589,  0.04500968,  0.04672743,  0.39272976], dtype=float32)"
      ]
     },
     "execution_count": 712,
     "metadata": {},
     "output_type": "execute_result"
    }
   ],
   "source": [
    "# show feature vector for selected words\n",
    "model['excellent']"
   ]
  },
  {
   "cell_type": "code",
   "execution_count": 713,
   "metadata": {
    "collapsed": false
   },
   "outputs": [],
   "source": [
    "def punct_space_stop(token):\n",
    "    \"\"\"\n",
    "    helper function to eliminate tokens\n",
    "    that are pure punctuation, whitespace and stop words\n",
    "    \"\"\"\n",
    "    \n",
    "    return token.is_punct or token.is_space or token.is_stop\n"
   ]
  },
  {
   "cell_type": "code",
   "execution_count": 714,
   "metadata": {
    "collapsed": false
   },
   "outputs": [],
   "source": [
    "def makeFeatureVec(words, model, num_features):\n",
    "    \"\"\"\n",
    "    Function to average all of the word vectors in a review\n",
    "    \"\"\"\n",
    "    # process the unicode input text to tokens\n",
    "    nlp_words = nlp(words)\n",
    "    # Pre-initialize an empty numpy array (for speed)\n",
    "    featureVec = np.zeros((num_features,),dtype=\"float32\")\n",
    "    #\n",
    "    nwords = 0.\n",
    "    # Loop over each word in the review and, if it is in the model's\n",
    "    # vocaublary, add its feature vector to the total\n",
    "    for word in nlp_words:\n",
    "        if not punct_space_stop(word):\n",
    "            # convert to lemma and unicode \n",
    "            uw = unicode(word.lemma_)\n",
    "            if uw in index2word_set: \n",
    "                nwords = nwords + 1.\n",
    "                featureVec = np.add(featureVec,model[uw])\n",
    "    # \n",
    "    # Divide the result by the number of words to get the average\n",
    "    featureVec = np.divide(featureVec,nwords)\n",
    "    return featureVec"
   ]
  },
  {
   "cell_type": "code",
   "execution_count": 715,
   "metadata": {
    "collapsed": false
   },
   "outputs": [],
   "source": [
    "def getAvgFeatureVecs(reviews, model, num_features):\n",
    "    \"\"\"\n",
    "    Function to calculate the average feature vector for each \n",
    "    review given a list of reviews and return a 2D numpy array. \n",
    "    If list of reviews is a pandas DataFrame column, a slice of the column \n",
    "    needs to be fed into the function and not simply the column name\n",
    "    \"\"\"\n",
    "    # Initialize a counter\n",
    "    counter = 0\n",
    "    # \n",
    "    # Preallocate a 2D numpy array, for speed\n",
    "    reviewFeatureVecs = np.zeros((len(reviews),num_features),dtype=\"float32\")\n",
    "    # \n",
    "    # Loop through the reviews and update progress everu 1000 reviews\n",
    "    for review in reviews:\n",
    "        # keep track of progress\n",
    "        if counter%10000 == 0:\n",
    "            print \"Review %d of %d\" % (counter, len(reviews)) \n",
    "            \n",
    "        # Call the function (defined above) that makes average feature vectors\n",
    "        reviewFeatureVecs[counter] = makeFeatureVec(review, model, num_features)\n",
    "       \n",
    "        # Increment the counter\n",
    "        counter = counter + 1\n",
    "    return reviewFeatureVecs\n"
   ]
  },
  {
   "cell_type": "markdown",
   "metadata": {},
   "source": [
    "## 4.2. Random Forest Classifier "
   ]
  },
  {
   "cell_type": "markdown",
   "metadata": {},
   "source": [
    "The first attemt to classify data will use a random forest model. Paramneters to be tuned to optimize the model are: number of trees used, maximum tree depth, minimum items in a leaf. In addition the n_jobs parameter can be set to parallelize the process, using all 4 cores (importnat for the whole data set of 300k+ reviews)."
   ]
  },
  {
   "cell_type": "code",
   "execution_count": 716,
   "metadata": {
    "collapsed": true
   },
   "outputs": [],
   "source": [
    "from sklearn.ensemble import RandomForestClassifier"
   ]
  },
  {
   "cell_type": "code",
   "execution_count": 717,
   "metadata": {
    "collapsed": true
   },
   "outputs": [],
   "source": [
    "# function to map star ratings to sentiment\n",
    "# 1-2 stars: set to 0, 'negative review'\n",
    "# 4-5 stars: set to 1, 'positive review'\n",
    "# 3 stars: net to None and drop values at later stage, 'neutral review that is not useful for sentiment analysis'\n",
    "def ratings_map(x):\n",
    "    if x in [1,2]:\n",
    "        xnew = 0\n",
    "    elif x in [4,5]:\n",
    "        xnew = 1\n",
    "    else: \n",
    "        xnew = None\n",
    "    return xnew"
   ]
  },
  {
   "cell_type": "code",
   "execution_count": 718,
   "metadata": {
    "collapsed": false
   },
   "outputs": [
    {
     "data": {
      "text/plain": [
       "(302403, 4)"
      ]
     },
     "execution_count": 718,
     "metadata": {},
     "output_type": "execute_result"
    }
   ],
   "source": [
    "# add sentiment column to the entire data set (300k reviews)\n",
    "reviews_df.loc[:,'sentiment'] = reviews_df.stars_rating.apply(lambda x: ratings_map(x))\n",
    "reviews_df.shape"
   ]
  },
  {
   "cell_type": "code",
   "execution_count": 719,
   "metadata": {
    "collapsed": false
   },
   "outputs": [
    {
     "data": {
      "text/plain": [
       "(265745, 4)"
      ]
     },
     "execution_count": 719,
     "metadata": {},
     "output_type": "execute_result"
    }
   ],
   "source": [
    "# drop the 3's and save to reviews_df1\n",
    "reviews_df1 = reviews_df.dropna()\n",
    "reviews_df1.shape"
   ]
  },
  {
   "cell_type": "code",
   "execution_count": 720,
   "metadata": {
    "collapsed": false
   },
   "outputs": [
    {
     "name": "stdout",
     "output_type": "stream",
     "text": [
      "Wall time: 294 ms\n"
     ]
    }
   ],
   "source": [
    "%%time\n",
    "# create feature matrix X and results vector y\n",
    "# for X need to extract feature vectors for all reviews in the large data set\n",
    "\n",
    "if 0==1:\n",
    "    X2 = getAvgFeatureVecs(reviews_df1.review[:], model, 100)\n",
    "    # if the array contains NaN, convert to zero\n",
    "    X21 = np.nan_to_num(X2) \n",
    "    np.save('X_matrix', X21)\n",
    "    \n",
    "else: \n",
    "    X21 = np.load('X_matrix.npy')\n",
    "y2 = reviews_df1.sentiment"
   ]
  },
  {
   "cell_type": "code",
   "execution_count": 721,
   "metadata": {
    "collapsed": false
   },
   "outputs": [],
   "source": [
    "# split data into training and test sets\n",
    "X2_train, X2_test, y2_train, y2_test = train_test_split(X21, y2, test_size=0.3)"
   ]
  },
  {
   "cell_type": "code",
   "execution_count": 722,
   "metadata": {
    "collapsed": false
   },
   "outputs": [
    {
     "name": "stdout",
     "output_type": "stream",
     "text": [
      "0.916499423009\n",
      "Wall time: 14min 17s\n"
     ]
    }
   ],
   "source": [
    "%%time\n",
    "# fit random forest model to training set\n",
    "# use to predict sentiment on test set\n",
    "# evaluate score as proportion of accurate predictions\n",
    "\n",
    "forest2 = RandomForestClassifier(n_estimators = 500, n_jobs=4)\n",
    "forest2 = forest2.fit(X2_train, y2_train)\n",
    "result2 = forest2.predict(X2_test)\n",
    "score = (result2 - y2_test) == 0\n",
    "print float(score.sum())/len(score)"
   ]
  },
  {
   "cell_type": "markdown",
   "metadata": {},
   "source": [
    "Results:\n",
    "- RandomForestClassifier(n_estimators = 500, n_jobs=4); score: 0.9165\n",
    "\n",
    "The best result was obtained using default paramteres; changing settings did not result in any improvement."
   ]
  },
  {
   "cell_type": "markdown",
   "metadata": {},
   "source": [
    "## 4.3. Neural Network Classifier "
   ]
  },
  {
   "cell_type": "markdown",
   "metadata": {},
   "source": [
    "The next part is an attempt to produce better prediction results using a neural network model on the same data. The model used is the Multi-layer Perceptron (MLP) classifier from the scikit-learn library. Further, a range of parameters will be tested in order to tune the model for optimal results."
   ]
  },
  {
   "cell_type": "code",
   "execution_count": 723,
   "metadata": {
    "collapsed": false
   },
   "outputs": [],
   "source": [
    "from sklearn.neural_network import MLPClassifier"
   ]
  },
  {
   "cell_type": "code",
   "execution_count": 724,
   "metadata": {
    "collapsed": true
   },
   "outputs": [],
   "source": [
    "clf = MLPClassifier(solver='adam', alpha=1e-4, random_state=1)"
   ]
  },
  {
   "cell_type": "code",
   "execution_count": 725,
   "metadata": {
    "collapsed": false
   },
   "outputs": [
    {
     "data": {
      "text/plain": [
       "MLPClassifier(activation='relu', alpha=0.0001, batch_size='auto', beta_1=0.9,\n",
       "       beta_2=0.999, early_stopping=False, epsilon=1e-08,\n",
       "       hidden_layer_sizes=(100,), learning_rate='constant',\n",
       "       learning_rate_init=0.001, max_iter=200, momentum=0.9,\n",
       "       nesterovs_momentum=True, power_t=0.5, random_state=1, shuffle=True,\n",
       "       solver='adam', tol=0.0001, validation_fraction=0.1, verbose=False,\n",
       "       warm_start=False)"
      ]
     },
     "execution_count": 725,
     "metadata": {},
     "output_type": "execute_result"
    }
   ],
   "source": [
    "clf.fit(X2_train, y2_train)"
   ]
  },
  {
   "cell_type": "code",
   "execution_count": 726,
   "metadata": {
    "collapsed": false
   },
   "outputs": [
    {
     "name": "stdout",
     "output_type": "stream",
     "text": [
      "0.940845918419\n"
     ]
    }
   ],
   "source": [
    "clf_result = clf.predict(X2_test)\n",
    "score = (clf_result - y2_test) == 0\n",
    "print float(score.sum())/len(score)"
   ]
  },
  {
   "cell_type": "markdown",
   "metadata": {},
   "source": [
    "Results:\n",
    " - MLPClassifier(solver='lbfgs', alpha=1e-5, random_state=1); score: 0.9400\n",
    " - MLPClassifier(solver='lbfgs', alpha=1e-4, random_state=1); score: 0.9406\n",
    " - MLPClassifier(solver='lbfgs', alpha=1e-3, random_state=1); score: 0.9397\n",
    " - MLPClassifier(solver='sgd', alpha=1e-4, random_state=1); score: 0.9360\n",
    " - MLPClassifier(solver='sgd', alpha=1e-4, random_state=1, learning_rate='adaptive'); score: 0.9362\n",
    " - MLPClassifier(solver='sgd', alpha=1e-4, random_state=1, learning_rate='invscaling'); score: 0.7796\n",
    " - MLPClassifier(solver='adam', alpha=1e-4, random_state=1); score: 0.9412 \n",
    " - MLPClassifier(solver='adam', alpha=1e-3, random_state=1); score = 0.9419 (this took much longer to run)"
   ]
  },
  {
   "cell_type": "markdown",
   "metadata": {},
   "source": [
    "The standard MLP classifier, with default settings gives a prediction accuracy of 94.0%. Using different solvers and varying values of alpha (L2 regularization parameter that helps avoid overfitting) gave little variation in accuracy. The best result obtained was 94.2% using the 'adam' solver. According to the scikit-learn documentation, the 'adam' solver works relatively well on large data sets. The only outlier in the model is the 'sgd' solver with an inverse scaling learning rate, which only gave 78% accuracy.  \n",
    "\n",
    "Overall, this model gave better results that the random forest model, with an increase in accuracy of approximately 2.5 percentage points."
   ]
  },
  {
   "cell_type": "markdown",
   "metadata": {},
   "source": [
    "We can look back at the original data to check the distribution of positive/negative sentiment and see how the test predictions compare to teh distribution of the original data:"
   ]
  },
  {
   "cell_type": "code",
   "execution_count": 727,
   "metadata": {
    "collapsed": false
   },
   "outputs": [
    {
     "data": {
      "text/plain": [
       "0.78232401786162264"
      ]
     },
     "execution_count": 727,
     "metadata": {},
     "output_type": "execute_result"
    }
   ],
   "source": [
    "positive_sentiment = (y2_test ==1).sum() / float(len(y2_test))\n",
    "positive_sentiment"
   ]
  },
  {
   "cell_type": "markdown",
   "metadata": {},
   "source": [
    "# 5. Predicting Star Ratings"
   ]
  },
  {
   "cell_type": "markdown",
   "metadata": {},
   "source": [
    "The previous section analyzed sentiment predictions for reviews as a positive (rating of 4 or 5 stars) or negative (rating of 1 or 2 stars). The 3-star reviews were ignored altogether. Using a random forest or MLP classifier bith gave good results with accuracy of 92% (random forest) and 94% (MLP). This is not surprising, as the elimination of 3-star reviews has provided a clearer separation of the two classes.\n",
    "\n",
    "In the next section, we will try to predict the actual star rating of a review. In order to provide a more computationally manageable data set, the analysis will be performed on a slice of the original data, containing 56,590 reviews. This will be split into training and test data. The trining set will be used to 'learn' the data, using 3 types of classifier:\n",
    "- Random Forest\n",
    "- Ada Boost\n",
    "- MLP\n",
    "\n",
    "A test sample will be used to predict the data and obtain a prediction accuracy as the mean squared error (MSE). Further, we will look at the proportion of correct predictions for each model, and the proportion of 'bad' predictions (where the error is 2 or higher)."
   ]
  },
  {
   "cell_type": "markdown",
   "metadata": {},
   "source": [
    "First, we will make sure only to include training samples from the previous features analysis. The test data from the features analysis will also form the test data for review predictions, therefore we will be comparing two models on teh same test data."
   ]
  },
  {
   "cell_type": "code",
   "execution_count": 737,
   "metadata": {
    "collapsed": false
   },
   "outputs": [
    {
     "name": "stdout",
     "output_type": "stream",
     "text": [
      "2460 1055\n"
     ]
    }
   ],
   "source": [
    "training_set = set(business_id[indices_train])\n",
    "test_set = set(business_id[indices_test])\n",
    "print len(training_set), len(test_set)"
   ]
  },
  {
   "cell_type": "code",
   "execution_count": 743,
   "metadata": {
    "collapsed": false
   },
   "outputs": [
    {
     "data": {
      "text/plain": [
       "(56590, 5)"
      ]
     },
     "execution_count": 743,
     "metadata": {},
     "output_type": "execute_result"
    }
   ],
   "source": [
    "reviews_df['train'] = reviews_df['business_id'].apply(lambda x: x in training_set)\n",
    "reviews_sample = reviews_df[reviews_df['train'] == True]\n",
    "reviews_sample = reviews_sample.loc[:80000,:]\n",
    "reviews_sample.shape"
   ]
  },
  {
   "cell_type": "code",
   "execution_count": 744,
   "metadata": {
    "collapsed": false
   },
   "outputs": [
    {
     "name": "stdout",
     "output_type": "stream",
     "text": [
      "Review 0 of 56590\n",
      "Review 10000 of 56590\n"
     ]
    },
    {
     "name": "stderr",
     "output_type": "stream",
     "text": [
      "C:\\Users\\Work\\Anaconda2\\lib\\site-packages\\ipykernel\\__main__.py:22: RuntimeWarning: invalid value encountered in divide\n"
     ]
    },
    {
     "name": "stdout",
     "output_type": "stream",
     "text": [
      "Review 20000 of 56590\n",
      "Review 30000 of 56590\n",
      "Review 40000 of 56590\n",
      "Review 50000 of 56590\n",
      "Wall time: 9min\n"
     ]
    }
   ],
   "source": [
    "%%time\n",
    "if 0 == 0:\n",
    "    X3 = getAvgFeatureVecs(reviews_sample.review[:], model, 100)\n",
    "    np.save('X_matrix_classification', X3)\n",
    "else: X3 = np.load('X_matrix_classification.npy')"
   ]
  },
  {
   "cell_type": "code",
   "execution_count": 745,
   "metadata": {
    "collapsed": true
   },
   "outputs": [],
   "source": [
    "# this is to resolve the warning raised and convert nan vaslues to zeros \n",
    "# only a handful of such cases are present in the data set and will not harm the results\n",
    "X3 = np.nan_to_num(X3)"
   ]
  },
  {
   "cell_type": "code",
   "execution_count": 746,
   "metadata": {
    "collapsed": false
   },
   "outputs": [
    {
     "data": {
      "text/plain": [
       "(array([1, 2, 3, 4, 5], dtype=int64),\n",
       " array([ 7208,  5587,  7329, 15123, 21343], dtype=int64))"
      ]
     },
     "execution_count": 746,
     "metadata": {},
     "output_type": "execute_result"
    }
   ],
   "source": [
    "y3 = reviews_sample.stars_rating.values\n",
    "np.unique(y3, return_counts=True)"
   ]
  },
  {
   "cell_type": "code",
   "execution_count": 747,
   "metadata": {
    "collapsed": true
   },
   "outputs": [],
   "source": [
    "# split data into training and test sets\n",
    "X3_train, X3_test, y3_train, y3_test = train_test_split(X3, y3, test_size=0.3)"
   ]
  },
  {
   "cell_type": "markdown",
   "metadata": {
    "collapsed": true
   },
   "source": [
    "__Random Forest Classifier__"
   ]
  },
  {
   "cell_type": "code",
   "execution_count": 748,
   "metadata": {
    "collapsed": false
   },
   "outputs": [
    {
     "name": "stdout",
     "output_type": "stream",
     "text": [
      "MSE on random forect classifier:  1.27030688579\n",
      "Proportion of correct predictions:  0.536608352477\n"
     ]
    }
   ],
   "source": [
    "# random forest classifier\n",
    "\n",
    "rfc = RandomForestClassifier(n_estimators = 200, max_depth = 100, min_samples_leaf = 1, n_jobs=4)\n",
    "rfc = rfc.fit(X3_train, y3_train)\n",
    "result_rfc = rfc.predict(X3_test)\n",
    "mse_rfc = mean_squared_error(y3_test, result_rfc)\n",
    "correct_pred_rfc = (result_rfc - y3_test) == 0\n",
    "print 'MSE on random forect classifier: ', mse_rfc\n",
    "print 'Proportion of correct predictions: ', correct_pred_rfc.sum() / float(len(y3_test))"
   ]
  },
  {
   "cell_type": "markdown",
   "metadata": {},
   "source": [
    "__Ada Boost Classifier__"
   ]
  },
  {
   "cell_type": "code",
   "execution_count": 749,
   "metadata": {
    "collapsed": true
   },
   "outputs": [],
   "source": [
    "from sklearn.ensemble import AdaBoostClassifier"
   ]
  },
  {
   "cell_type": "code",
   "execution_count": 750,
   "metadata": {
    "collapsed": false
   },
   "outputs": [
    {
     "name": "stdout",
     "output_type": "stream",
     "text": [
      "MSE on Ada Boost classifier:  1.11550921835\n",
      "Proportion of correct predictions:  0.535548094481\n"
     ]
    }
   ],
   "source": [
    "ada = AdaBoostClassifier(n_estimators = 100, random_state=1)\n",
    "ada = ada.fit(X3_train, y3_train)\n",
    "result_ada = ada.predict(X3_test)\n",
    "mse_ada = mean_squared_error(y3_test, result_ada)\n",
    "correct_pred_ada = (result_ada - y3_test) == 0\n",
    "print 'MSE on Ada Boost classifier: ', mse_ada\n",
    "print 'Proportion of correct predictions: ', correct_pred_ada.sum() / float(len(y3_test))              "
   ]
  },
  {
   "cell_type": "markdown",
   "metadata": {},
   "source": [
    "__MLP CLassifier__"
   ]
  },
  {
   "cell_type": "code",
   "execution_count": 751,
   "metadata": {
    "collapsed": false
   },
   "outputs": [
    {
     "name": "stdout",
     "output_type": "stream",
     "text": [
      "MSE on MLP classifier:  0.872121105024\n",
      "Proportion of correct predictions:  0.573599575897\n"
     ]
    }
   ],
   "source": [
    "# MLPClassifier\n",
    "\n",
    "mlpc = MLPClassifier(solver='adam', alpha=1e-4, random_state=1)\n",
    "mlpc = mlpc.fit(X3_train, y3_train)\n",
    "result_mlpc = mlpc.predict(X3_test)\n",
    "mse_mlpc = mean_squared_error(y3_test, result_mlpc)\n",
    "correct_pred_mlpc = (result_mlpc - y3_test) == 0\n",
    "print 'MSE on MLP classifier: ', mse_mlpc\n",
    "print 'Proportion of correct predictions: ', correct_pred_mlpc.sum() / float(len(y3_test))"
   ]
  },
  {
   "cell_type": "markdown",
   "metadata": {},
   "source": [
    "__Summary of Results__"
   ]
  },
  {
   "cell_type": "code",
   "execution_count": 752,
   "metadata": {
    "collapsed": false
   },
   "outputs": [
    {
     "name": "stdout",
     "output_type": "stream",
     "text": [
      "Random forest classifier bad predictions:  0.102138186959\n",
      "Ada Boost classifier bad predictions:  0.065677092537\n",
      "MLP classifier bad predictions:  0.0385816104141\n"
     ]
    }
   ],
   "source": [
    "# proportion of 'bad' predictions\n",
    "bads_rfc = ((result_rfc - y3_test) >= 2).sum() / float(len(y3_test))\n",
    "bads_ada = ((result_ada - y3_test) >= 2).sum() / float(len(y3_test))\n",
    "bads_mlpc = ((result_mlpc - y3_test) >= 2).sum() / float(len(y3_test))\n",
    "\n",
    "print 'Random forest classifier bad predictions: ', bads_rfc\n",
    "print 'Ada Boost classifier bad predictions: ', bads_ada\n",
    "print 'MLP classifier bad predictions: ', bads_mlpc\n"
   ]
  },
  {
   "cell_type": "code",
   "execution_count": 753,
   "metadata": {
    "collapsed": false
   },
   "outputs": [],
   "source": [
    "# accurate predictions\n",
    "acc_rfc = correct_pred_rfc.sum() / float(len(y3_test))\n",
    "acc_ada = correct_pred_ada.sum() / float(len(y3_test))\n",
    "acc_mlpc = correct_pred_mlpc.sum() / float(len(y3_test))"
   ]
  },
  {
   "cell_type": "code",
   "execution_count": 754,
   "metadata": {
    "collapsed": false
   },
   "outputs": [
    {
     "data": {
      "text/html": [
       "<div>\n",
       "<style>\n",
       "    .dataframe thead tr:only-child th {\n",
       "        text-align: right;\n",
       "    }\n",
       "\n",
       "    .dataframe thead th {\n",
       "        text-align: left;\n",
       "    }\n",
       "\n",
       "    .dataframe tbody tr th {\n",
       "        vertical-align: top;\n",
       "    }\n",
       "</style>\n",
       "<table border=\"1\" class=\"dataframe\">\n",
       "  <thead>\n",
       "    <tr style=\"text-align: right;\">\n",
       "      <th></th>\n",
       "      <th>Accurate predictions</th>\n",
       "      <th>Bad predictions</th>\n",
       "      <th>MSE</th>\n",
       "    </tr>\n",
       "  </thead>\n",
       "  <tbody>\n",
       "    <tr>\n",
       "      <th>Random Forest</th>\n",
       "      <td>0.536608</td>\n",
       "      <td>0.102138</td>\n",
       "      <td>1.270307</td>\n",
       "    </tr>\n",
       "    <tr>\n",
       "      <th>Ada Boost</th>\n",
       "      <td>0.535548</td>\n",
       "      <td>0.065677</td>\n",
       "      <td>1.115509</td>\n",
       "    </tr>\n",
       "    <tr>\n",
       "      <th>MLP</th>\n",
       "      <td>0.573600</td>\n",
       "      <td>0.038582</td>\n",
       "      <td>0.872121</td>\n",
       "    </tr>\n",
       "  </tbody>\n",
       "</table>\n",
       "</div>"
      ],
      "text/plain": [
       "               Accurate predictions  Bad predictions       MSE\n",
       "Random Forest              0.536608         0.102138  1.270307\n",
       "Ada Boost                  0.535548         0.065677  1.115509\n",
       "MLP                        0.573600         0.038582  0.872121"
      ]
     },
     "execution_count": 754,
     "metadata": {},
     "output_type": "execute_result"
    }
   ],
   "source": [
    "results_summary = pd.DataFrame({'MSE': [mse_rfc, mse_ada, mse_mlpc],\n",
    "                               'Accurate predictions': [acc_rfc, acc_ada, acc_mlpc],\n",
    "                               'Bad predictions': [bads_rfc, bads_ada, bads_mlpc]})\n",
    "results_summary.index = ['Random Forest', 'Ada Boost', 'MLP'] \n",
    "results_summary                               "
   ]
  },
  {
   "cell_type": "markdown",
   "metadata": {},
   "source": [
    "For this clasification exercise, the MLP classifier gave the best results, with the lowest MSE, highest proportion of accurate predictions and lowest number of 'bad' predictions with an error >= 2. The Ada Boost and random forest models were equal in accurate predictions, but Ada Boost outperformed the random forest model by having fewer 'bad' predictions, resulting in a lower mean squared error. \n",
    "\n",
    "A possible further improvement of the neural network classifier would be to use a deep learning model, e.g. using the keras package.\n",
    "\n",
    "A simpler way is to first try regression models on the same data and compare results:"
   ]
  },
  {
   "cell_type": "markdown",
   "metadata": {},
   "source": [
    "__MLP Regression__"
   ]
  },
  {
   "cell_type": "code",
   "execution_count": 785,
   "metadata": {
    "collapsed": false
   },
   "outputs": [
    {
     "name": "stdout",
     "output_type": "stream",
     "text": [
      "0.694047714961\n",
      "0.683656776483\n",
      "0.612859879498\n",
      "0.699240148436\n"
     ]
    }
   ],
   "source": [
    "mlpr1 = MLPRegressor(solver='lbfgs', alpha=0.0001, hidden_layer_sizes = (1000,), learning_rate='adaptive')\n",
    "mlpr1.fit(X3_train, y3_train)\n",
    "print mlpr1.score(X3_train, y3_train)\n",
    "print mlpr1.score(X3_test, y3_test)\n",
    "print mean_squared_error(y3_test, mlpr1.predict(X3_test))\n",
    "# convert predictions to integer values to make the MSE comparable to classifier models\n",
    "print mean_squared_error(y3_test, np.rint(mlpr1.predict(X3_test)))"
   ]
  },
  {
   "cell_type": "markdown",
   "metadata": {},
   "source": [
    "__Gradient Boosting__"
   ]
  },
  {
   "cell_type": "code",
   "execution_count": 786,
   "metadata": {
    "collapsed": false
   },
   "outputs": [
    {
     "name": "stdout",
     "output_type": "stream",
     "text": [
      "0.711983679182\n",
      "0.622963419137\n",
      "0.730442684831\n",
      "0.818106850445\n"
     ]
    }
   ],
   "source": [
    "# try a Gradient Boosting Regresion model to compare results:\n",
    "gbr1 = GradientBoostingRegressor(n_estimators=200, loss= 'ls',  max_depth=5, learning_rate=0.1, max_features='log2')\n",
    "gbr1.fit(X3_train, y3_train)\n",
    "print gbr1.score(X3_train, y3_train)\n",
    "print gbr1.score(X3_test, y3_test)\n",
    "print mean_squared_error(y3_test, gbr1.predict(X3_test))\n",
    "# convert predictions to integer values to make the MSE comparable to classifier models\n",
    "print mean_squared_error(y3_test, np.rint(gbr1.predict(X3_test)))"
   ]
  },
  {
   "cell_type": "code",
   "execution_count": 758,
   "metadata": {
    "collapsed": false
   },
   "outputs": [
    {
     "data": {
      "text/html": [
       "<div>\n",
       "<style>\n",
       "    .dataframe thead tr:only-child th {\n",
       "        text-align: right;\n",
       "    }\n",
       "\n",
       "    .dataframe thead th {\n",
       "        text-align: left;\n",
       "    }\n",
       "\n",
       "    .dataframe tbody tr th {\n",
       "        vertical-align: top;\n",
       "    }\n",
       "</style>\n",
       "<table border=\"1\" class=\"dataframe\">\n",
       "  <thead>\n",
       "    <tr style=\"text-align: right;\">\n",
       "      <th></th>\n",
       "      <th>business_id</th>\n",
       "      <th>stars_rating</th>\n",
       "      <th>review</th>\n",
       "      <th>sentiment</th>\n",
       "      <th>train</th>\n",
       "    </tr>\n",
       "  </thead>\n",
       "  <tbody>\n",
       "    <tr>\n",
       "      <th>0</th>\n",
       "      <td>_mqUzNXs_sJ1EJYgYZYszg</td>\n",
       "      <td>4</td>\n",
       "      <td>A really good sandwich place. It's location is...</td>\n",
       "      <td>1.0</td>\n",
       "      <td>False</td>\n",
       "    </tr>\n",
       "    <tr>\n",
       "      <th>1</th>\n",
       "      <td>_mqUzNXs_sJ1EJYgYZYszg</td>\n",
       "      <td>5</td>\n",
       "      <td>The food was definitely solid but what stood o...</td>\n",
       "      <td>1.0</td>\n",
       "      <td>False</td>\n",
       "    </tr>\n",
       "    <tr>\n",
       "      <th>2</th>\n",
       "      <td>_mqUzNXs_sJ1EJYgYZYszg</td>\n",
       "      <td>4</td>\n",
       "      <td>Great place to grab lunch. The location is a l...</td>\n",
       "      <td>1.0</td>\n",
       "      <td>False</td>\n",
       "    </tr>\n",
       "    <tr>\n",
       "      <th>3</th>\n",
       "      <td>_mqUzNXs_sJ1EJYgYZYszg</td>\n",
       "      <td>5</td>\n",
       "      <td>What a find, right behind the Radisson, fresh ...</td>\n",
       "      <td>1.0</td>\n",
       "      <td>False</td>\n",
       "    </tr>\n",
       "    <tr>\n",
       "      <th>4</th>\n",
       "      <td>_mqUzNXs_sJ1EJYgYZYszg</td>\n",
       "      <td>5</td>\n",
       "      <td>I work in a office building right around the c...</td>\n",
       "      <td>1.0</td>\n",
       "      <td>False</td>\n",
       "    </tr>\n",
       "  </tbody>\n",
       "</table>\n",
       "</div>"
      ],
      "text/plain": [
       "              business_id  stars_rating  \\\n",
       "0  _mqUzNXs_sJ1EJYgYZYszg             4   \n",
       "1  _mqUzNXs_sJ1EJYgYZYszg             5   \n",
       "2  _mqUzNXs_sJ1EJYgYZYszg             4   \n",
       "3  _mqUzNXs_sJ1EJYgYZYszg             5   \n",
       "4  _mqUzNXs_sJ1EJYgYZYszg             5   \n",
       "\n",
       "                                              review  sentiment  train  \n",
       "0  A really good sandwich place. It's location is...        1.0  False  \n",
       "1  The food was definitely solid but what stood o...        1.0  False  \n",
       "2  Great place to grab lunch. The location is a l...        1.0  False  \n",
       "3  What a find, right behind the Radisson, fresh ...        1.0  False  \n",
       "4  I work in a office building right around the c...        1.0  False  "
      ]
     },
     "execution_count": 758,
     "metadata": {},
     "output_type": "execute_result"
    }
   ],
   "source": [
    "test_reviews = reviews_df[reviews_df['train'] == False]\n",
    "test_reviews.head()"
   ]
  },
  {
   "cell_type": "code",
   "execution_count": 759,
   "metadata": {
    "collapsed": false
   },
   "outputs": [
    {
     "name": "stdout",
     "output_type": "stream",
     "text": [
      "Review 0 of 86349\n",
      "Review 10000 of 86349\n",
      "Review 20000 of 86349\n",
      "Review 30000 of 86349\n"
     ]
    },
    {
     "name": "stderr",
     "output_type": "stream",
     "text": [
      "C:\\Users\\Work\\Anaconda2\\lib\\site-packages\\ipykernel\\__main__.py:22: RuntimeWarning: invalid value encountered in divide\n"
     ]
    },
    {
     "name": "stdout",
     "output_type": "stream",
     "text": [
      "Review 40000 of 86349\n",
      "Review 50000 of 86349\n",
      "Review 60000 of 86349\n",
      "Review 70000 of 86349\n",
      "Review 80000 of 86349\n"
     ]
    }
   ],
   "source": [
    "X_test_reviews = getAvgFeatureVecs(test_reviews.review[:], model, 100)\n",
    "np.save('X_test_reviews', X_test_reviews)"
   ]
  },
  {
   "cell_type": "code",
   "execution_count": 760,
   "metadata": {
    "collapsed": true
   },
   "outputs": [],
   "source": [
    "X_test_reviews = np.nan_to_num(X_test_reviews)"
   ]
  },
  {
   "cell_type": "code",
   "execution_count": 838,
   "metadata": {
    "collapsed": false
   },
   "outputs": [
    {
     "data": {
      "text/html": [
       "<div>\n",
       "<style>\n",
       "    .dataframe thead tr:only-child th {\n",
       "        text-align: right;\n",
       "    }\n",
       "\n",
       "    .dataframe thead th {\n",
       "        text-align: left;\n",
       "    }\n",
       "\n",
       "    .dataframe tbody tr th {\n",
       "        vertical-align: top;\n",
       "    }\n",
       "</style>\n",
       "<table border=\"1\" class=\"dataframe\">\n",
       "  <thead>\n",
       "    <tr style=\"text-align: right;\">\n",
       "      <th></th>\n",
       "      <th>business_id</th>\n",
       "      <th>stars_rating</th>\n",
       "      <th>review</th>\n",
       "      <th>sentiment</th>\n",
       "      <th>train</th>\n",
       "      <th>MLPC_predicted_rating</th>\n",
       "      <th>MLPR_predicted_rating</th>\n",
       "    </tr>\n",
       "  </thead>\n",
       "  <tbody>\n",
       "    <tr>\n",
       "      <th>302169</th>\n",
       "      <td>rCD-XFLBhscylZdg1OkCSQ</td>\n",
       "      <td>5</td>\n",
       "      <td>The food is good,there is no question about it...</td>\n",
       "      <td>1.0</td>\n",
       "      <td>False</td>\n",
       "      <td>5</td>\n",
       "      <td>3.664219</td>\n",
       "    </tr>\n",
       "    <tr>\n",
       "      <th>302170</th>\n",
       "      <td>rCD-XFLBhscylZdg1OkCSQ</td>\n",
       "      <td>3</td>\n",
       "      <td>Salvadoreno # 2 is a very plain, very simple r...</td>\n",
       "      <td>NaN</td>\n",
       "      <td>False</td>\n",
       "      <td>4</td>\n",
       "      <td>3.279644</td>\n",
       "    </tr>\n",
       "    <tr>\n",
       "      <th>302171</th>\n",
       "      <td>rCD-XFLBhscylZdg1OkCSQ</td>\n",
       "      <td>2</td>\n",
       "      <td>I Love this place, I usually order Pupusas but...</td>\n",
       "      <td>0.0</td>\n",
       "      <td>False</td>\n",
       "      <td>1</td>\n",
       "      <td>1.867932</td>\n",
       "    </tr>\n",
       "    <tr>\n",
       "      <th>302172</th>\n",
       "      <td>rCD-XFLBhscylZdg1OkCSQ</td>\n",
       "      <td>5</td>\n",
       "      <td>This place was a gem. I looked when I first mo...</td>\n",
       "      <td>1.0</td>\n",
       "      <td>False</td>\n",
       "      <td>5</td>\n",
       "      <td>4.791274</td>\n",
       "    </tr>\n",
       "    <tr>\n",
       "      <th>302173</th>\n",
       "      <td>rCD-XFLBhscylZdg1OkCSQ</td>\n",
       "      <td>4</td>\n",
       "      <td>This place is great. The papusas are fantastic...</td>\n",
       "      <td>1.0</td>\n",
       "      <td>False</td>\n",
       "      <td>4</td>\n",
       "      <td>4.020236</td>\n",
       "    </tr>\n",
       "  </tbody>\n",
       "</table>\n",
       "</div>"
      ],
      "text/plain": [
       "                   business_id  stars_rating  \\\n",
       "302169  rCD-XFLBhscylZdg1OkCSQ             5   \n",
       "302170  rCD-XFLBhscylZdg1OkCSQ             3   \n",
       "302171  rCD-XFLBhscylZdg1OkCSQ             2   \n",
       "302172  rCD-XFLBhscylZdg1OkCSQ             5   \n",
       "302173  rCD-XFLBhscylZdg1OkCSQ             4   \n",
       "\n",
       "                                                   review  sentiment  train  \\\n",
       "302169  The food is good,there is no question about it...        1.0  False   \n",
       "302170  Salvadoreno # 2 is a very plain, very simple r...        NaN  False   \n",
       "302171  I Love this place, I usually order Pupusas but...        0.0  False   \n",
       "302172  This place was a gem. I looked when I first mo...        1.0  False   \n",
       "302173  This place is great. The papusas are fantastic...        1.0  False   \n",
       "\n",
       "        MLPC_predicted_rating  MLPR_predicted_rating  \n",
       "302169                      5               3.664219  \n",
       "302170                      4               3.279644  \n",
       "302171                      1               1.867932  \n",
       "302172                      5               4.791274  \n",
       "302173                      4               4.020236  "
      ]
     },
     "execution_count": 838,
     "metadata": {},
     "output_type": "execute_result"
    }
   ],
   "source": [
    "test_reviews.loc[:,'MLPC_predicted_rating'] = mlpc.predict(X_test_reviews)\n",
    "test_reviews.loc[:,'MLPR_predicted_rating'] = mlpr1.predict(X_test_reviews)\n",
    "test_reviews.tail()"
   ]
  },
  {
   "cell_type": "code",
   "execution_count": 764,
   "metadata": {
    "collapsed": false
   },
   "outputs": [
    {
     "data": {
      "text/plain": [
       "(86349L,)"
      ]
     },
     "execution_count": 764,
     "metadata": {},
     "output_type": "execute_result"
    }
   ],
   "source": [
    "predicted_test_reviews = mlpc.predict(X_test_reviews)\n",
    "predicted_test_reviews.shape"
   ]
  },
  {
   "cell_type": "code",
   "execution_count": 789,
   "metadata": {
    "collapsed": false
   },
   "outputs": [
    {
     "name": "stdout",
     "output_type": "stream",
     "text": [
      "MSE on MLPC:  0.841804769019\n",
      "MSE on MLPR:  0.581063825998\n"
     ]
    }
   ],
   "source": [
    "print 'MSE on MLPC: ', mean_squared_error(test_reviews.MLPC_predicted_rating, test_reviews.stars_rating)\n",
    "print 'MSE on MLPR: ', mean_squared_error(test_reviews.MLPR_predicted_rating, test_reviews.stars_rating)"
   ]
  },
  {
   "cell_type": "code",
   "execution_count": 875,
   "metadata": {
    "collapsed": false
   },
   "outputs": [
    {
     "data": {
      "text/html": [
       "<div>\n",
       "<style>\n",
       "    .dataframe thead tr:only-child th {\n",
       "        text-align: right;\n",
       "    }\n",
       "\n",
       "    .dataframe thead th {\n",
       "        text-align: left;\n",
       "    }\n",
       "\n",
       "    .dataframe tbody tr th {\n",
       "        vertical-align: top;\n",
       "    }\n",
       "</style>\n",
       "<table border=\"1\" class=\"dataframe\">\n",
       "  <thead>\n",
       "    <tr style=\"text-align: right;\">\n",
       "      <th></th>\n",
       "      <th>yelp_avg_rating</th>\n",
       "      <th>MLPC_predicted_avg_rating</th>\n",
       "      <th>MLPR_predicted_avg_rating</th>\n",
       "    </tr>\n",
       "    <tr>\n",
       "      <th>business_id</th>\n",
       "      <th></th>\n",
       "      <th></th>\n",
       "      <th></th>\n",
       "    </tr>\n",
       "  </thead>\n",
       "  <tbody>\n",
       "    <tr>\n",
       "      <th>--g-a85VwrdZJNf0R95GcQ</th>\n",
       "      <td>4.458333</td>\n",
       "      <td>4.583333</td>\n",
       "      <td>4.493067</td>\n",
       "    </tr>\n",
       "    <tr>\n",
       "      <th>-0WegMt6Cy966qlDKhu6jA</th>\n",
       "      <td>2.162162</td>\n",
       "      <td>2.324324</td>\n",
       "      <td>2.579582</td>\n",
       "    </tr>\n",
       "    <tr>\n",
       "      <th>-0aIra_B6iALlfqAriBSYA</th>\n",
       "      <td>4.863636</td>\n",
       "      <td>4.727273</td>\n",
       "      <td>4.386350</td>\n",
       "    </tr>\n",
       "    <tr>\n",
       "      <th>-2isRNVb6PDuBagELL5EBw</th>\n",
       "      <td>2.875000</td>\n",
       "      <td>2.750000</td>\n",
       "      <td>2.891334</td>\n",
       "    </tr>\n",
       "    <tr>\n",
       "      <th>-8JaNeG3etLgOVyg2gOIiA</th>\n",
       "      <td>3.770492</td>\n",
       "      <td>3.983607</td>\n",
       "      <td>3.885540</td>\n",
       "    </tr>\n",
       "  </tbody>\n",
       "</table>\n",
       "</div>"
      ],
      "text/plain": [
       "                        yelp_avg_rating  MLPC_predicted_avg_rating  \\\n",
       "business_id                                                          \n",
       "--g-a85VwrdZJNf0R95GcQ         4.458333                   4.583333   \n",
       "-0WegMt6Cy966qlDKhu6jA         2.162162                   2.324324   \n",
       "-0aIra_B6iALlfqAriBSYA         4.863636                   4.727273   \n",
       "-2isRNVb6PDuBagELL5EBw         2.875000                   2.750000   \n",
       "-8JaNeG3etLgOVyg2gOIiA         3.770492                   3.983607   \n",
       "\n",
       "                        MLPR_predicted_avg_rating  \n",
       "business_id                                        \n",
       "--g-a85VwrdZJNf0R95GcQ                   4.493067  \n",
       "-0WegMt6Cy966qlDKhu6jA                   2.579582  \n",
       "-0aIra_B6iALlfqAriBSYA                   4.386350  \n",
       "-2isRNVb6PDuBagELL5EBw                   2.891334  \n",
       "-8JaNeG3etLgOVyg2gOIiA                   3.885540  "
      ]
     },
     "execution_count": 875,
     "metadata": {},
     "output_type": "execute_result"
    }
   ],
   "source": [
    "grouped_by_business = test_reviews.groupby('business_id')['stars_rating', 'MLPC_predicted_rating', 'MLPR_predicted_rating'].mean()\n",
    "grouped_by_business.columns = ['yelp_avg_rating', 'MLPC_predicted_avg_rating', 'MLPR_predicted_avg_rating']\n",
    "grouped_by_business.head(5)"
   ]
  },
  {
   "cell_type": "code",
   "execution_count": 876,
   "metadata": {
    "collapsed": false
   },
   "outputs": [
    {
     "data": {
      "text/plain": [
       "(1055, 3)"
      ]
     },
     "execution_count": 876,
     "metadata": {},
     "output_type": "execute_result"
    }
   ],
   "source": [
    "grouped_by_business.shape"
   ]
  },
  {
   "cell_type": "code",
   "execution_count": 879,
   "metadata": {
    "collapsed": false
   },
   "outputs": [
    {
     "name": "stdout",
     "output_type": "stream",
     "text": [
      "Grouped MSE on MLPC:  0.11428446037\n",
      "Grouped MSE on MLPR:  0.0975355722055\n"
     ]
    }
   ],
   "source": [
    "print 'Grouped MSE on MLPC: ', mean_squared_error(grouped_by_business.yelp_avg_rating, grouped_by_business.MLPC_predicted_avg_rating)\n",
    "print 'Grouped MSE on MLPR: ', mean_squared_error(grouped_by_business.yelp_avg_rating, grouped_by_business.MLPR_predicted_avg_rating)"
   ]
  },
  {
   "cell_type": "code",
   "execution_count": 880,
   "metadata": {
    "collapsed": false
   },
   "outputs": [
    {
     "data": {
      "text/html": [
       "<div>\n",
       "<style>\n",
       "    .dataframe thead tr:only-child th {\n",
       "        text-align: right;\n",
       "    }\n",
       "\n",
       "    .dataframe thead th {\n",
       "        text-align: left;\n",
       "    }\n",
       "\n",
       "    .dataframe tbody tr th {\n",
       "        vertical-align: top;\n",
       "    }\n",
       "</style>\n",
       "<table border=\"1\" class=\"dataframe\">\n",
       "  <thead>\n",
       "    <tr style=\"text-align: right;\">\n",
       "      <th></th>\n",
       "      <th>business_id</th>\n",
       "      <th>yelp_avg_rating</th>\n",
       "      <th>MLPC_predicted_avg_rating</th>\n",
       "      <th>MLPR_predicted_avg_rating</th>\n",
       "      <th>yelp_rounded_rating</th>\n",
       "      <th>MLPR_feature_prediction</th>\n",
       "    </tr>\n",
       "  </thead>\n",
       "  <tbody>\n",
       "    <tr>\n",
       "      <th>0</th>\n",
       "      <td>--g-a85VwrdZJNf0R95GcQ</td>\n",
       "      <td>4.458333</td>\n",
       "      <td>4.583333</td>\n",
       "      <td>4.493067</td>\n",
       "      <td>4.5</td>\n",
       "      <td>3.276656</td>\n",
       "    </tr>\n",
       "    <tr>\n",
       "      <th>1</th>\n",
       "      <td>-0WegMt6Cy966qlDKhu6jA</td>\n",
       "      <td>2.162162</td>\n",
       "      <td>2.324324</td>\n",
       "      <td>2.579582</td>\n",
       "      <td>2.0</td>\n",
       "      <td>3.483553</td>\n",
       "    </tr>\n",
       "    <tr>\n",
       "      <th>2</th>\n",
       "      <td>-0aIra_B6iALlfqAriBSYA</td>\n",
       "      <td>4.863636</td>\n",
       "      <td>4.727273</td>\n",
       "      <td>4.386350</td>\n",
       "      <td>5.0</td>\n",
       "      <td>3.263882</td>\n",
       "    </tr>\n",
       "    <tr>\n",
       "      <th>3</th>\n",
       "      <td>-2isRNVb6PDuBagELL5EBw</td>\n",
       "      <td>2.875000</td>\n",
       "      <td>2.750000</td>\n",
       "      <td>2.891334</td>\n",
       "      <td>3.0</td>\n",
       "      <td>2.977961</td>\n",
       "    </tr>\n",
       "    <tr>\n",
       "      <th>4</th>\n",
       "      <td>-8JaNeG3etLgOVyg2gOIiA</td>\n",
       "      <td>3.770492</td>\n",
       "      <td>3.983607</td>\n",
       "      <td>3.885540</td>\n",
       "      <td>4.0</td>\n",
       "      <td>3.604405</td>\n",
       "    </tr>\n",
       "    <tr>\n",
       "      <th>5</th>\n",
       "      <td>-9eNGMp8XiygI8t8QFuFWw</td>\n",
       "      <td>3.704918</td>\n",
       "      <td>3.778689</td>\n",
       "      <td>3.776992</td>\n",
       "      <td>3.5</td>\n",
       "      <td>3.964494</td>\n",
       "    </tr>\n",
       "    <tr>\n",
       "      <th>6</th>\n",
       "      <td>-A9sm-E6uQxWTJ_MuyOzFw</td>\n",
       "      <td>3.180952</td>\n",
       "      <td>3.209524</td>\n",
       "      <td>3.331553</td>\n",
       "      <td>3.0</td>\n",
       "      <td>3.493885</td>\n",
       "    </tr>\n",
       "    <tr>\n",
       "      <th>7</th>\n",
       "      <td>-DrDzpZaMrNnH55ZVyTXRQ</td>\n",
       "      <td>3.516129</td>\n",
       "      <td>3.731183</td>\n",
       "      <td>3.807924</td>\n",
       "      <td>3.5</td>\n",
       "      <td>3.388997</td>\n",
       "    </tr>\n",
       "    <tr>\n",
       "      <th>8</th>\n",
       "      <td>-Du1WSRseqUXbCt_K-D-ww</td>\n",
       "      <td>3.481481</td>\n",
       "      <td>3.333333</td>\n",
       "      <td>3.313896</td>\n",
       "      <td>3.5</td>\n",
       "      <td>3.789896</td>\n",
       "    </tr>\n",
       "    <tr>\n",
       "      <th>9</th>\n",
       "      <td>-FveSBaantlFExq__ESLcw</td>\n",
       "      <td>3.750000</td>\n",
       "      <td>4.000000</td>\n",
       "      <td>3.788593</td>\n",
       "      <td>4.0</td>\n",
       "      <td>3.318471</td>\n",
       "    </tr>\n",
       "  </tbody>\n",
       "</table>\n",
       "</div>"
      ],
      "text/plain": [
       "              business_id  yelp_avg_rating  MLPC_predicted_avg_rating  \\\n",
       "0  --g-a85VwrdZJNf0R95GcQ         4.458333                   4.583333   \n",
       "1  -0WegMt6Cy966qlDKhu6jA         2.162162                   2.324324   \n",
       "2  -0aIra_B6iALlfqAriBSYA         4.863636                   4.727273   \n",
       "3  -2isRNVb6PDuBagELL5EBw         2.875000                   2.750000   \n",
       "4  -8JaNeG3etLgOVyg2gOIiA         3.770492                   3.983607   \n",
       "5  -9eNGMp8XiygI8t8QFuFWw         3.704918                   3.778689   \n",
       "6  -A9sm-E6uQxWTJ_MuyOzFw         3.180952                   3.209524   \n",
       "7  -DrDzpZaMrNnH55ZVyTXRQ         3.516129                   3.731183   \n",
       "8  -Du1WSRseqUXbCt_K-D-ww         3.481481                   3.333333   \n",
       "9  -FveSBaantlFExq__ESLcw         3.750000                   4.000000   \n",
       "\n",
       "   MLPR_predicted_avg_rating  yelp_rounded_rating  MLPR_feature_prediction  \n",
       "0                   4.493067                  4.5                 3.276656  \n",
       "1                   2.579582                  2.0                 3.483553  \n",
       "2                   4.386350                  5.0                 3.263882  \n",
       "3                   2.891334                  3.0                 2.977961  \n",
       "4                   3.885540                  4.0                 3.604405  \n",
       "5                   3.776992                  3.5                 3.964494  \n",
       "6                   3.331553                  3.0                 3.493885  \n",
       "7                   3.807924                  3.5                 3.388997  \n",
       "8                   3.313896                  3.5                 3.789896  \n",
       "9                   3.788593                  4.0                 3.318471  "
      ]
     },
     "execution_count": 880,
     "metadata": {},
     "output_type": "execute_result"
    }
   ],
   "source": [
    "grouped_by_business = grouped_by_business.reset_index(drop=False)\n",
    "overall_results = grouped_by_business.merge(feature_results, on='business_id')\n",
    "overall_results.head(10)"
   ]
  },
  {
   "cell_type": "code",
   "execution_count": 885,
   "metadata": {
    "collapsed": false
   },
   "outputs": [
    {
     "name": "stdout",
     "output_type": "stream",
     "text": [
      "MLPC_predicted_avg_rating :\t-0.014334659655 \t0.337915983976\n",
      "MLPR_predicted_avg_rating :\t0.0271211586046 \t0.311274566232\n",
      "MLPR_feature_prediction :\t-0.0246128990301 \t0.742330149411\n"
     ]
    }
   ],
   "source": [
    "methods = ['MLPC_predicted_avg_rating', 'MLPR_predicted_avg_rating', 'MLPR_feature_prediction']\n",
    "for method in methods:\n",
    "    errors = overall_results[method] - overall_results.yelp_avg_rating\n",
    "    print method, ':\\t', errors.mean(), '\\t', errors.std()"
   ]
  },
  {
   "cell_type": "code",
   "execution_count": 891,
   "metadata": {
    "collapsed": false
   },
   "outputs": [
    {
     "data": {
      "text/html": [
       "<div>\n",
       "<style>\n",
       "    .dataframe thead tr:only-child th {\n",
       "        text-align: right;\n",
       "    }\n",
       "\n",
       "    .dataframe thead th {\n",
       "        text-align: left;\n",
       "    }\n",
       "\n",
       "    .dataframe tbody tr th {\n",
       "        vertical-align: top;\n",
       "    }\n",
       "</style>\n",
       "<table border=\"1\" class=\"dataframe\">\n",
       "  <thead>\n",
       "    <tr style=\"text-align: right;\">\n",
       "      <th></th>\n",
       "      <th>yelp_avg_rating</th>\n",
       "      <th>MLPC_predicted_avg_rating</th>\n",
       "      <th>MLPR_predicted_avg_rating</th>\n",
       "      <th>yelp_rounded_rating</th>\n",
       "      <th>MLPR_feature_prediction</th>\n",
       "    </tr>\n",
       "  </thead>\n",
       "  <tbody>\n",
       "    <tr>\n",
       "      <th>yelp_avg_rating</th>\n",
       "      <td>1.000000</td>\n",
       "      <td>0.916495</td>\n",
       "      <td>0.930111</td>\n",
       "      <td>0.985207</td>\n",
       "      <td>0.437285</td>\n",
       "    </tr>\n",
       "    <tr>\n",
       "      <th>MLPC_predicted_avg_rating</th>\n",
       "      <td>0.916495</td>\n",
       "      <td>1.000000</td>\n",
       "      <td>0.970577</td>\n",
       "      <td>0.901750</td>\n",
       "      <td>0.455483</td>\n",
       "    </tr>\n",
       "    <tr>\n",
       "      <th>MLPR_predicted_avg_rating</th>\n",
       "      <td>0.930111</td>\n",
       "      <td>0.970577</td>\n",
       "      <td>1.000000</td>\n",
       "      <td>0.914608</td>\n",
       "      <td>0.457404</td>\n",
       "    </tr>\n",
       "    <tr>\n",
       "      <th>yelp_rounded_rating</th>\n",
       "      <td>0.985207</td>\n",
       "      <td>0.901750</td>\n",
       "      <td>0.914608</td>\n",
       "      <td>1.000000</td>\n",
       "      <td>0.428750</td>\n",
       "    </tr>\n",
       "    <tr>\n",
       "      <th>MLPR_feature_prediction</th>\n",
       "      <td>0.437285</td>\n",
       "      <td>0.455483</td>\n",
       "      <td>0.457404</td>\n",
       "      <td>0.428750</td>\n",
       "      <td>1.000000</td>\n",
       "    </tr>\n",
       "  </tbody>\n",
       "</table>\n",
       "</div>"
      ],
      "text/plain": [
       "                           yelp_avg_rating  MLPC_predicted_avg_rating  \\\n",
       "yelp_avg_rating                   1.000000                   0.916495   \n",
       "MLPC_predicted_avg_rating         0.916495                   1.000000   \n",
       "MLPR_predicted_avg_rating         0.930111                   0.970577   \n",
       "yelp_rounded_rating               0.985207                   0.901750   \n",
       "MLPR_feature_prediction           0.437285                   0.455483   \n",
       "\n",
       "                           MLPR_predicted_avg_rating  yelp_rounded_rating  \\\n",
       "yelp_avg_rating                             0.930111             0.985207   \n",
       "MLPC_predicted_avg_rating                   0.970577             0.901750   \n",
       "MLPR_predicted_avg_rating                   1.000000             0.914608   \n",
       "yelp_rounded_rating                         0.914608             1.000000   \n",
       "MLPR_feature_prediction                     0.457404             0.428750   \n",
       "\n",
       "                           MLPR_feature_prediction  \n",
       "yelp_avg_rating                           0.437285  \n",
       "MLPC_predicted_avg_rating                 0.455483  \n",
       "MLPR_predicted_avg_rating                 0.457404  \n",
       "yelp_rounded_rating                       0.428750  \n",
       "MLPR_feature_prediction                   1.000000  "
      ]
     },
     "execution_count": 891,
     "metadata": {},
     "output_type": "execute_result"
    }
   ],
   "source": [
    "overall_results.corr()"
   ]
  },
  {
   "cell_type": "markdown",
   "metadata": {},
   "source": [
    "# 6. Visualising Classification Results"
   ]
  },
  {
   "cell_type": "code",
   "execution_count": 78,
   "metadata": {
    "collapsed": true
   },
   "outputs": [],
   "source": [
    "from sklearn.manifold import TSNE"
   ]
  },
  {
   "cell_type": "code",
   "execution_count": 79,
   "metadata": {
    "collapsed": true
   },
   "outputs": [],
   "source": [
    "from sklearn.decomposition import PCA"
   ]
  },
  {
   "cell_type": "code",
   "execution_count": 80,
   "metadata": {
    "collapsed": true
   },
   "outputs": [],
   "source": [
    "pca = PCA(n_components=2)\n",
    "pca_vectors = pca.fit_transform(X3)"
   ]
  },
  {
   "cell_type": "code",
   "execution_count": 81,
   "metadata": {
    "collapsed": false
   },
   "outputs": [
    {
     "data": {
      "text/plain": [
       "array([ 0.07562994,  0.04948046], dtype=float32)"
      ]
     },
     "execution_count": 81,
     "metadata": {},
     "output_type": "execute_result"
    }
   ],
   "source": [
    "pca.explained_variance_ "
   ]
  },
  {
   "cell_type": "code",
   "execution_count": 82,
   "metadata": {
    "collapsed": false
   },
   "outputs": [
    {
     "data": {
      "text/plain": [
       "(500L, 100L)"
      ]
     },
     "execution_count": 82,
     "metadata": {},
     "output_type": "execute_result"
    }
   ],
   "source": [
    "# reduce the set to 500 data points from the test set, for easier dimensionality reduction and visualisation\n",
    "Xtest = X3_test[:500]\n",
    "Xtest.shape"
   ]
  },
  {
   "cell_type": "code",
   "execution_count": 83,
   "metadata": {
    "collapsed": false
   },
   "outputs": [],
   "source": [
    "# use t-SNE for dimensionality reduction to 2D\n",
    "tsne = TSNE()\n",
    "tsne_vectors = tsne.fit_transform(Xtest)\n",
    "coords = tsne.embedding_"
   ]
  },
  {
   "cell_type": "code",
   "execution_count": 84,
   "metadata": {
    "collapsed": false
   },
   "outputs": [
    {
     "data": {
      "text/html": [
       "<div>\n",
       "<style>\n",
       "    .dataframe thead tr:only-child th {\n",
       "        text-align: right;\n",
       "    }\n",
       "\n",
       "    .dataframe thead th {\n",
       "        text-align: left;\n",
       "    }\n",
       "\n",
       "    .dataframe tbody tr th {\n",
       "        vertical-align: top;\n",
       "    }\n",
       "</style>\n",
       "<table border=\"1\" class=\"dataframe\">\n",
       "  <thead>\n",
       "    <tr style=\"text-align: right;\">\n",
       "      <th></th>\n",
       "      <th>x_coord</th>\n",
       "      <th>y_coord</th>\n",
       "      <th>true_labels</th>\n",
       "      <th>mlpc_labels</th>\n",
       "      <th>ada_labels</th>\n",
       "      <th>rf_labels</th>\n",
       "    </tr>\n",
       "  </thead>\n",
       "  <tbody>\n",
       "    <tr>\n",
       "      <th>480</th>\n",
       "      <td>-3.804321</td>\n",
       "      <td>4.707441</td>\n",
       "      <td>5</td>\n",
       "      <td>5</td>\n",
       "      <td>5</td>\n",
       "      <td>5</td>\n",
       "    </tr>\n",
       "    <tr>\n",
       "      <th>481</th>\n",
       "      <td>-12.070126</td>\n",
       "      <td>-1.330015</td>\n",
       "      <td>5</td>\n",
       "      <td>5</td>\n",
       "      <td>5</td>\n",
       "      <td>5</td>\n",
       "    </tr>\n",
       "    <tr>\n",
       "      <th>482</th>\n",
       "      <td>0.727990</td>\n",
       "      <td>7.378148</td>\n",
       "      <td>5</td>\n",
       "      <td>2</td>\n",
       "      <td>1</td>\n",
       "      <td>5</td>\n",
       "    </tr>\n",
       "    <tr>\n",
       "      <th>483</th>\n",
       "      <td>-13.206208</td>\n",
       "      <td>1.465818</td>\n",
       "      <td>5</td>\n",
       "      <td>4</td>\n",
       "      <td>5</td>\n",
       "      <td>4</td>\n",
       "    </tr>\n",
       "    <tr>\n",
       "      <th>484</th>\n",
       "      <td>-13.284616</td>\n",
       "      <td>1.367914</td>\n",
       "      <td>4</td>\n",
       "      <td>4</td>\n",
       "      <td>4</td>\n",
       "      <td>4</td>\n",
       "    </tr>\n",
       "    <tr>\n",
       "      <th>485</th>\n",
       "      <td>-1.743398</td>\n",
       "      <td>-1.995149</td>\n",
       "      <td>5</td>\n",
       "      <td>5</td>\n",
       "      <td>5</td>\n",
       "      <td>5</td>\n",
       "    </tr>\n",
       "    <tr>\n",
       "      <th>486</th>\n",
       "      <td>5.917442</td>\n",
       "      <td>-2.263778</td>\n",
       "      <td>4</td>\n",
       "      <td>5</td>\n",
       "      <td>4</td>\n",
       "      <td>4</td>\n",
       "    </tr>\n",
       "    <tr>\n",
       "      <th>487</th>\n",
       "      <td>-7.411382</td>\n",
       "      <td>6.321702</td>\n",
       "      <td>4</td>\n",
       "      <td>4</td>\n",
       "      <td>5</td>\n",
       "      <td>5</td>\n",
       "    </tr>\n",
       "    <tr>\n",
       "      <th>488</th>\n",
       "      <td>0.101799</td>\n",
       "      <td>4.075646</td>\n",
       "      <td>2</td>\n",
       "      <td>4</td>\n",
       "      <td>5</td>\n",
       "      <td>5</td>\n",
       "    </tr>\n",
       "    <tr>\n",
       "      <th>489</th>\n",
       "      <td>-2.044399</td>\n",
       "      <td>4.126488</td>\n",
       "      <td>5</td>\n",
       "      <td>5</td>\n",
       "      <td>5</td>\n",
       "      <td>5</td>\n",
       "    </tr>\n",
       "    <tr>\n",
       "      <th>490</th>\n",
       "      <td>-10.979782</td>\n",
       "      <td>2.672521</td>\n",
       "      <td>4</td>\n",
       "      <td>5</td>\n",
       "      <td>5</td>\n",
       "      <td>5</td>\n",
       "    </tr>\n",
       "    <tr>\n",
       "      <th>491</th>\n",
       "      <td>-7.688374</td>\n",
       "      <td>-3.791448</td>\n",
       "      <td>4</td>\n",
       "      <td>4</td>\n",
       "      <td>5</td>\n",
       "      <td>5</td>\n",
       "    </tr>\n",
       "    <tr>\n",
       "      <th>492</th>\n",
       "      <td>1.906789</td>\n",
       "      <td>9.182252</td>\n",
       "      <td>2</td>\n",
       "      <td>1</td>\n",
       "      <td>1</td>\n",
       "      <td>1</td>\n",
       "    </tr>\n",
       "    <tr>\n",
       "      <th>493</th>\n",
       "      <td>-1.780311</td>\n",
       "      <td>0.446585</td>\n",
       "      <td>5</td>\n",
       "      <td>5</td>\n",
       "      <td>5</td>\n",
       "      <td>5</td>\n",
       "    </tr>\n",
       "    <tr>\n",
       "      <th>494</th>\n",
       "      <td>2.367477</td>\n",
       "      <td>-0.139413</td>\n",
       "      <td>3</td>\n",
       "      <td>5</td>\n",
       "      <td>2</td>\n",
       "      <td>1</td>\n",
       "    </tr>\n",
       "    <tr>\n",
       "      <th>495</th>\n",
       "      <td>-4.661551</td>\n",
       "      <td>8.202293</td>\n",
       "      <td>4</td>\n",
       "      <td>5</td>\n",
       "      <td>4</td>\n",
       "      <td>5</td>\n",
       "    </tr>\n",
       "    <tr>\n",
       "      <th>496</th>\n",
       "      <td>-1.016469</td>\n",
       "      <td>-8.497925</td>\n",
       "      <td>4</td>\n",
       "      <td>5</td>\n",
       "      <td>5</td>\n",
       "      <td>5</td>\n",
       "    </tr>\n",
       "    <tr>\n",
       "      <th>497</th>\n",
       "      <td>1.661185</td>\n",
       "      <td>2.018171</td>\n",
       "      <td>5</td>\n",
       "      <td>5</td>\n",
       "      <td>4</td>\n",
       "      <td>4</td>\n",
       "    </tr>\n",
       "    <tr>\n",
       "      <th>498</th>\n",
       "      <td>4.099822</td>\n",
       "      <td>-9.302789</td>\n",
       "      <td>4</td>\n",
       "      <td>4</td>\n",
       "      <td>5</td>\n",
       "      <td>4</td>\n",
       "    </tr>\n",
       "    <tr>\n",
       "      <th>499</th>\n",
       "      <td>-6.361690</td>\n",
       "      <td>-5.133227</td>\n",
       "      <td>3</td>\n",
       "      <td>5</td>\n",
       "      <td>5</td>\n",
       "      <td>5</td>\n",
       "    </tr>\n",
       "  </tbody>\n",
       "</table>\n",
       "</div>"
      ],
      "text/plain": [
       "       x_coord   y_coord  true_labels  mlpc_labels  ada_labels  rf_labels\n",
       "480  -3.804321  4.707441            5            5           5          5\n",
       "481 -12.070126 -1.330015            5            5           5          5\n",
       "482   0.727990  7.378148            5            2           1          5\n",
       "483 -13.206208  1.465818            5            4           5          4\n",
       "484 -13.284616  1.367914            4            4           4          4\n",
       "485  -1.743398 -1.995149            5            5           5          5\n",
       "486   5.917442 -2.263778            4            5           4          4\n",
       "487  -7.411382  6.321702            4            4           5          5\n",
       "488   0.101799  4.075646            2            4           5          5\n",
       "489  -2.044399  4.126488            5            5           5          5\n",
       "490 -10.979782  2.672521            4            5           5          5\n",
       "491  -7.688374 -3.791448            4            4           5          5\n",
       "492   1.906789  9.182252            2            1           1          1\n",
       "493  -1.780311  0.446585            5            5           5          5\n",
       "494   2.367477 -0.139413            3            5           2          1\n",
       "495  -4.661551  8.202293            4            5           4          5\n",
       "496  -1.016469 -8.497925            4            5           5          5\n",
       "497   1.661185  2.018171            5            5           4          4\n",
       "498   4.099822 -9.302789            4            4           5          4\n",
       "499  -6.361690 -5.133227            3            5           5          5"
      ]
     },
     "execution_count": 84,
     "metadata": {},
     "output_type": "execute_result"
    }
   ],
   "source": [
    "# assemble relevant arrays in a data frame\n",
    "x_coord = coords[:, 0]\n",
    "y_coord = coords[:, 1]\n",
    "true_labels = y3_test[:500]\n",
    "mlpc = result_mlpc[:500]\n",
    "ada = result_ada[:500]\n",
    "rf = result_rfc[:500]\n",
    "results_df = pd.DataFrame(zip(x_coord, y_coord, true_labels, mlpc, ada, rf))\n",
    "results_df.columns = ['x_coord', 'y_coord', 'true_labels', 'mlpc_labels', 'ada_labels', 'rf_labels']\n",
    "results_df.tail(20)"
   ]
  },
  {
   "cell_type": "code",
   "execution_count": 85,
   "metadata": {
    "collapsed": true
   },
   "outputs": [],
   "source": [
    "results_df.to_csv('data/2dresults.csv')"
   ]
  },
  {
   "cell_type": "code",
   "execution_count": 86,
   "metadata": {
    "collapsed": false
   },
   "outputs": [
    {
     "data": {
      "image/png": "[encoded data removed]",
      "text/plain": [
       "<matplotlib.figure.Figure at 0xa9f12b38>"
      ]
     },
     "metadata": {},
     "output_type": "display_data"
    }
   ],
   "source": [
    "plt.scatter(x = results_df.loc[results_df['true_labels'] == 5].x_coord, \n",
    "            y = results_df.loc[results_df['true_labels'] == 5].y_coord, c='b', s=20, label='5 stars')\n",
    "plt.scatter(x = results_df.loc[results_df['true_labels'] == 4].x_coord, \n",
    "            y = results_df.loc[results_df['true_labels'] == 4].y_coord, c='g', s=20, label='4 stars')\n",
    "plt.scatter(x = results_df.loc[results_df['true_labels'] == 3].x_coord, \n",
    "            y = results_df.loc[results_df['true_labels'] == 3].y_coord, c='k', s=20, label='3 stars')\n",
    "plt.scatter(x = results_df.loc[results_df['true_labels'] == 2].x_coord, \n",
    "            y = results_df.loc[results_df['true_labels'] == 2].y_coord, c='y', s=20, label='3 stars')\n",
    "plt.scatter(x = results_df.loc[results_df['true_labels'] == 1].x_coord, \n",
    "            y = results_df.loc[results_df['true_labels'] == 1].y_coord, c='r', s=20, label='1 star')\n",
    "plt.legend()\n",
    "plt.title('True embeddings of all 5 classes in 2D space')\n",
    "plt.show()"
   ]
  },
  {
   "cell_type": "markdown",
   "metadata": {},
   "source": [
    "Due to the large number of features, the 2-D representation does not show clear boundaries between the classes. Charts below show the positioning of 5-star and 1-star classes (two classes that are the most different from each other). The MLPC model misclassifies between these two labels (true 5 predicted as 1, and true 1 predicted as 5) in <1% of cases. "
   ]
  },
  {
   "cell_type": "code",
   "execution_count": 87,
   "metadata": {
    "collapsed": false
   },
   "outputs": [
    {
     "data": {
      "image/png": "[encoded data removed]",
      "text/plain": [
       "<matplotlib.figure.Figure at 0xb8d63d68>"
      ]
     },
     "metadata": {},
     "output_type": "display_data"
    }
   ],
   "source": [
    "plt.scatter(x = results_df.loc[results_df['true_labels'] == 5].x_coord, \n",
    "            y = results_df.loc[results_df['true_labels'] == 5].y_coord, c='b', s=20, label='5 stars')\n",
    "\n",
    "plt.scatter(x = results_df.loc[results_df['true_labels'] == 1].x_coord, \n",
    "            y = results_df.loc[results_df['true_labels'] == 1].y_coord, c='r', s=20, label='1 star')\n",
    "plt.legend()\n",
    "plt.show()"
   ]
  },
  {
   "cell_type": "markdown",
   "metadata": {},
   "source": [
    "Looking at 5-star ratings only, we can visualise which points are correctly/falsely predicted by the MLPC model..."
   ]
  },
  {
   "cell_type": "code",
   "execution_count": 88,
   "metadata": {
    "collapsed": false
   },
   "outputs": [
    {
     "data": {
      "image/png": "[encoded data removed]",
      "text/plain": [
       "<matplotlib.figure.Figure at 0xb8d63390>"
      ]
     },
     "metadata": {},
     "output_type": "display_data"
    }
   ],
   "source": [
    "# 5-star correct and false predictions using MLPC\n",
    "plt.scatter(x = results_df.loc[(results_df['true_labels'] == 5) & (results_df['mlpc_labels'] == 5)].x_coord, \n",
    "            y = results_df.loc[(results_df['true_labels'] == 5) & (results_df['mlpc_labels'] == 5)].y_coord, \n",
    "            c='b', s=20, label='correct')\n",
    "\n",
    "plt.scatter(x = results_df.loc[(results_df['true_labels'] == 5) & (results_df['mlpc_labels'] != 5)].x_coord, \n",
    "            y = results_df.loc[(results_df['true_labels'] == 5) & (results_df['mlpc_labels'] != 5)].y_coord, \n",
    "            c='r', s=20, label='false')\n",
    "\n",
    "plt.legend()\n",
    "plt.show()"
   ]
  },
  {
   "cell_type": "markdown",
   "metadata": {},
   "source": [
    "... and we can view the same results for 1-star ratings. The results seem to show that points on the fringes are corectly predicted, and the false ratings tend to fall in the middle of the chart, which is harder to distinguish from other classes."
   ]
  },
  {
   "cell_type": "code",
   "execution_count": 89,
   "metadata": {
    "collapsed": false
   },
   "outputs": [
    {
     "data": {
      "image/png": "[encoded data removed]",
      "text/plain": [
       "<matplotlib.figure.Figure at 0x9a507320>"
      ]
     },
     "metadata": {},
     "output_type": "display_data"
    }
   ],
   "source": [
    "# 1-star correct and false predictions using MLPC\n",
    "plt.scatter(x = results_df.loc[(results_df['true_labels'] == 1) & (results_df['mlpc_labels'] == 1)].x_coord, \n",
    "            y = results_df.loc[(results_df['true_labels'] == 1) & (results_df['mlpc_labels'] == 1)].y_coord, \n",
    "            c='b', s=20, label='correct')\n",
    "\n",
    "plt.scatter(x = results_df.loc[(results_df['true_labels'] == 1) & (results_df['mlpc_labels'] != 1)].x_coord, \n",
    "            y = results_df.loc[(results_df['true_labels'] == 1) & (results_df['mlpc_labels'] != 1)].y_coord, \n",
    "            c='r', s=20, label='false')\n",
    "\n",
    "plt.legend()\n",
    "plt.show()"
   ]
  },
  {
   "cell_type": "code",
   "execution_count": null,
   "metadata": {
    "collapsed": true
   },
   "outputs": [],
   "source": []
  }
 ],
 "metadata": {
  "kernelspec": {
   "display_name": "Python 2",
   "language": "python",
   "name": "python2"
  },
  "language_info": {
   "codemirror_mode": {
    "name": "ipython",
    "version": 2
   },
   "file_extension": ".py",
   "mimetype": "text/x-python",
   "name": "python",
   "nbconvert_exporter": "python",
   "pygments_lexer": "ipython2",
   "version": "2.7.13"
  }
 },
 "nbformat": 4,
 "nbformat_minor": 2
}
