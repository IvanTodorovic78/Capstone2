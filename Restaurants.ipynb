{
 "cells": [
  {
   "cell_type": "markdown",
   "metadata": {},
   "source": [
    "# Predicting Restaurant Ratings"
   ]
  },
  {
   "cell_type": "markdown",
   "metadata": {},
   "source": [
    "This notebook will combine the information about restaurants and the processed text from reviews and perform machine learning algorithms to make predictions about ratings based on the restaurants' features and reviews.\n",
    "The analysis will focus on restaurants from Phoenix, Arizona, as this represents a compact data set with approx. 3,500 restaurants and just over 300,000 reviews about them. The analysis involves the following steps:\n",
    "1. Importing the raw data from the _'business.json'_ file, filtering for restaurants in Phoenix, AZ, and converted to a pandas DataFrame format\n",
    "2. Extracting features of each business for analysis\n",
    "3. Importing the reviews from the _'review.json'_ file and converting each review to a vector, to be used with the already trained word2vec model\n",
    "4. Sentiment modeling - this involves two parts: first, a training set of reviews will be used for supervised learning of the reviews' sentiment (positive or negative), using the star ratings as labels. Then the entiment will be predicted on a test set and its accuracy scored against the actual ratings. A variety of prediction models will be tested, including random forest and neural networks (MLPC).\n",
    "5. Predicting actual star ratings based on the text of a review using a number of classifier models: random forest, ada boost and MLPC.\n",
    "6. Visualising star rating predictions in 2-dimensional space, using t-SNE dimensionality reduction\n",
    "\n"
   ]
  },
  {
   "cell_type": "markdown",
   "metadata": {},
   "source": [
    "# 1. Importing Restaurant  Data"
   ]
  },
  {
   "cell_type": "code",
   "execution_count": 1,
   "metadata": {
    "collapsed": true
   },
   "outputs": [],
   "source": [
    "import pandas as pd\n",
    "import numpy as np\n",
    "import json"
   ]
  },
  {
   "cell_type": "code",
   "execution_count": 2,
   "metadata": {
    "collapsed": false
   },
   "outputs": [],
   "source": [
    "# import raw data from json in the first run and save to .csv file\n",
    "# for new runs load data directly from a .csv file to speed up the process \n",
    "if 0 == 1:\n",
    "    businesses_df = pd.read_json('data/dataset/business.json', lines=True)\n",
    "    businesses_df['restaurants'] = businesses_df['categories'].apply(lambda x: 'Restaurants' in x)\n",
    "    restaurants_df = businesses_df[businesses_df['restaurants'] == True]\n",
    "    restaurants_df.to_csv('data/restaurants.csv', encoding='utf-8')\n",
    "\n",
    "else:\n",
    "    restaurants_df = pd.read_csv('data/restaurants.csv', encoding='utf-8')"
   ]
  },
  {
   "cell_type": "code",
   "execution_count": 3,
   "metadata": {
    "collapsed": false
   },
   "outputs": [
    {
     "data": {
      "text/plain": [
       "(51613, 15)"
      ]
     },
     "execution_count": 3,
     "metadata": {},
     "output_type": "execute_result"
    }
   ],
   "source": [
    "restaurants_df = restaurants_df.drop(['Unnamed: 0', 'restaurants'], axis=1)\n",
    "restaurants_df.shape"
   ]
  },
  {
   "cell_type": "code",
   "execution_count": 4,
   "metadata": {
    "collapsed": false
   },
   "outputs": [
    {
     "data": {
      "text/html": [
       "<div>\n",
       "<style>\n",
       "    .dataframe thead tr:only-child th {\n",
       "        text-align: right;\n",
       "    }\n",
       "\n",
       "    .dataframe thead th {\n",
       "        text-align: left;\n",
       "    }\n",
       "\n",
       "    .dataframe tbody tr th {\n",
       "        vertical-align: top;\n",
       "    }\n",
       "</style>\n",
       "<table border=\"1\" class=\"dataframe\">\n",
       "  <thead>\n",
       "    <tr style=\"text-align: right;\">\n",
       "      <th></th>\n",
       "      <th>address</th>\n",
       "      <th>attributes</th>\n",
       "      <th>business_id</th>\n",
       "      <th>categories</th>\n",
       "      <th>city</th>\n",
       "      <th>hours</th>\n",
       "      <th>is_open</th>\n",
       "      <th>latitude</th>\n",
       "      <th>longitude</th>\n",
       "      <th>name</th>\n",
       "      <th>neighborhood</th>\n",
       "      <th>postal_code</th>\n",
       "      <th>review_count</th>\n",
       "      <th>stars</th>\n",
       "      <th>state</th>\n",
       "    </tr>\n",
       "  </thead>\n",
       "  <tbody>\n",
       "    <tr>\n",
       "      <th>0</th>\n",
       "      <td>2824 Milton Rd</td>\n",
       "      <td>{u'GoodForMeal': {u'dessert': False, u'latenig...</td>\n",
       "      <td>mLwM-h2YhXl2NCgdS84_Bw</td>\n",
       "      <td>[Food, Soul Food, Convenience Stores, Restaura...</td>\n",
       "      <td>Charlotte</td>\n",
       "      <td>{u'Monday': u'10:00-22:00', u'Tuesday': u'10:0...</td>\n",
       "      <td>0</td>\n",
       "      <td>35.236870</td>\n",
       "      <td>-80.741976</td>\n",
       "      <td>South Florida Style Chicken &amp; Ribs</td>\n",
       "      <td>Eastland</td>\n",
       "      <td>28215</td>\n",
       "      <td>4</td>\n",
       "      <td>4.5</td>\n",
       "      <td>NC</td>\n",
       "    </tr>\n",
       "    <tr>\n",
       "      <th>1</th>\n",
       "      <td>4719 N 20Th St</td>\n",
       "      <td>{u'GoodForMeal': {u'dessert': False, u'latenig...</td>\n",
       "      <td>duHFBe87uNSXImQmvBh87Q</td>\n",
       "      <td>[Sandwiches, Restaurants]</td>\n",
       "      <td>Phoenix</td>\n",
       "      <td>{}</td>\n",
       "      <td>0</td>\n",
       "      <td>33.505928</td>\n",
       "      <td>-112.038847</td>\n",
       "      <td>Blimpie</td>\n",
       "      <td>NaN</td>\n",
       "      <td>85016</td>\n",
       "      <td>10</td>\n",
       "      <td>4.5</td>\n",
       "      <td>AZ</td>\n",
       "    </tr>\n",
       "  </tbody>\n",
       "</table>\n",
       "</div>"
      ],
      "text/plain": [
       "          address                                         attributes  \\\n",
       "0  2824 Milton Rd  {u'GoodForMeal': {u'dessert': False, u'latenig...   \n",
       "1  4719 N 20Th St  {u'GoodForMeal': {u'dessert': False, u'latenig...   \n",
       "\n",
       "              business_id                                         categories  \\\n",
       "0  mLwM-h2YhXl2NCgdS84_Bw  [Food, Soul Food, Convenience Stores, Restaura...   \n",
       "1  duHFBe87uNSXImQmvBh87Q                          [Sandwiches, Restaurants]   \n",
       "\n",
       "        city                                              hours  is_open  \\\n",
       "0  Charlotte  {u'Monday': u'10:00-22:00', u'Tuesday': u'10:0...        0   \n",
       "1    Phoenix                                                 {}        0   \n",
       "\n",
       "    latitude   longitude                                name neighborhood  \\\n",
       "0  35.236870  -80.741976  South Florida Style Chicken & Ribs     Eastland   \n",
       "1  33.505928 -112.038847                             Blimpie          NaN   \n",
       "\n",
       "  postal_code  review_count  stars state  \n",
       "0       28215             4    4.5    NC  \n",
       "1       85016            10    4.5    AZ  "
      ]
     },
     "execution_count": 4,
     "metadata": {},
     "output_type": "execute_result"
    }
   ],
   "source": [
    "restaurants_df.head(2)"
   ]
  },
  {
   "cell_type": "code",
   "execution_count": 5,
   "metadata": {
    "collapsed": false
   },
   "outputs": [
    {
     "data": {
      "text/plain": [
       "Index([u'address', u'attributes', u'business_id', u'categories', u'city',\n",
       "       u'hours', u'is_open', u'latitude', u'longitude', u'name',\n",
       "       u'neighborhood', u'postal_code', u'review_count', u'stars', u'state'],\n",
       "      dtype='object')"
      ]
     },
     "execution_count": 5,
     "metadata": {},
     "output_type": "execute_result"
    }
   ],
   "source": [
    "restaurants_df.columns"
   ]
  },
  {
   "cell_type": "markdown",
   "metadata": {},
   "source": [
    "Data required is now loaded as restaurants_df data frame. The line below shows the structure of data by state - first Arizona (AZ) was selected as having a large data set of 10,000+ restaurants, and then Phoenix with 3,500+ restaurants. Choosing a single city with a wealth of data means that restaurants are comparable to each other and that meaningful conclusions can be drawn. However, the analysis can be easily expanded in scope to include other cities / states. Additionally, avoiding e.g. Quebec means that the analysis is limited to English language reviews."
   ]
  },
  {
   "cell_type": "code",
   "execution_count": 6,
   "metadata": {
    "collapsed": false,
    "scrolled": false
   },
   "outputs": [
    {
     "data": {
      "text/plain": [
       "state\n",
       "ON     12634\n",
       "AZ     10219\n",
       "NV      6883\n",
       "QC      4567\n",
       "OH      4513\n",
       "NC      3625\n",
       "PA      3435\n",
       "BW      1759\n",
       "WI      1486\n",
       "EDH     1396\n",
       "Name: stars, dtype: int64"
      ]
     },
     "execution_count": 6,
     "metadata": {},
     "output_type": "execute_result"
    }
   ],
   "source": [
    "by_state = restaurants_df.groupby('state')['stars'].count()\n",
    "by_state.sort_values(ascending=False)[:10]"
   ]
  },
  {
   "cell_type": "code",
   "execution_count": 7,
   "metadata": {
    "collapsed": false
   },
   "outputs": [
    {
     "data": {
      "text/plain": [
       "(36L,)"
      ]
     },
     "execution_count": 7,
     "metadata": {},
     "output_type": "execute_result"
    }
   ],
   "source": [
    "by_state.shape"
   ]
  },
  {
   "cell_type": "code",
   "execution_count": 8,
   "metadata": {
    "collapsed": false
   },
   "outputs": [
    {
     "data": {
      "text/plain": [
       "(3515, 15)"
      ]
     },
     "execution_count": 8,
     "metadata": {},
     "output_type": "execute_result"
    }
   ],
   "source": [
    "arizona = restaurants_df.loc[restaurants_df.state == 'AZ']\n",
    "phoenix = arizona.loc[arizona.city == 'Phoenix']\n",
    "phoenix.shape"
   ]
  },
  {
   "cell_type": "code",
   "execution_count": 9,
   "metadata": {
    "collapsed": false
   },
   "outputs": [
    {
     "data": {
      "text/plain": [
       "set"
      ]
     },
     "execution_count": 9,
     "metadata": {},
     "output_type": "execute_result"
    }
   ],
   "source": [
    "# save id's as set for faster searching\n",
    "phx_ids = set(phoenix.business_id)\n",
    "type(phx_ids)"
   ]
  },
  {
   "cell_type": "markdown",
   "metadata": {},
   "source": [
    "The Phoenix restaurants are contained in the 'phoenix' data frame and the related business id data is kept in the 'phx-ids' set to be used when loading reviews."
   ]
  },
  {
   "cell_type": "code",
   "execution_count": 10,
   "metadata": {
    "collapsed": true
   },
   "outputs": [],
   "source": [
    "import matplotlib.pyplot as plt\n",
    "% matplotlib inline"
   ]
  },
  {
   "cell_type": "code",
   "execution_count": 11,
   "metadata": {
    "collapsed": false
   },
   "outputs": [
    {
     "data": {
      "image/png": "[encoded data removed]",
      "text/plain": [
       "<matplotlib.figure.Figure at 0x170127f0>"
      ]
     },
     "metadata": {},
     "output_type": "display_data"
    }
   ],
   "source": [
    "stars_rating = phoenix.stars\n",
    "#log_stars = np.log(stars_rating)\n",
    "plt.hist(phoenix.stars, bins=9)\n",
    "plt.show()"
   ]
  },
  {
   "cell_type": "code",
   "execution_count": 12,
   "metadata": {
    "collapsed": false
   },
   "outputs": [
    {
     "data": {
      "text/plain": [
       "1.0     32\n",
       "1.5     82\n",
       "2.0    218\n",
       "2.5    368\n",
       "3.0    603\n",
       "3.5    804\n",
       "4.0    877\n",
       "4.5    431\n",
       "5.0    100\n",
       "Name: stars, dtype: int64"
      ]
     },
     "execution_count": 12,
     "metadata": {},
     "output_type": "execute_result"
    }
   ],
   "source": [
    "phoenix.stars.value_counts().sort_index()"
   ]
  },
  {
   "cell_type": "code",
   "execution_count": 13,
   "metadata": {
    "collapsed": false
   },
   "outputs": [
    {
     "data": {
      "text/plain": [
       "3.437126600284495"
      ]
     },
     "execution_count": 13,
     "metadata": {},
     "output_type": "execute_result"
    }
   ],
   "source": [
    "phoenix.stars.mean()"
   ]
  },
  {
   "cell_type": "code",
   "execution_count": 14,
   "metadata": {
    "collapsed": false
   },
   "outputs": [
    {
     "name": "stdout",
     "output_type": "stream",
     "text": [
      "0.400568990043\n",
      "0.0944523470839\n"
     ]
    }
   ],
   "source": [
    "high_ratings = phoenix.stars[phoenix.stars >= 4]\n",
    "low_ratings = phoenix.stars[phoenix.stars <= 2]\n",
    "print high_ratings.count() / 3515.0\n",
    "print low_ratings.count() / 3515.0"
   ]
  },
  {
   "cell_type": "markdown",
   "metadata": {},
   "source": [
    "We now have a data set of 3,515 restaurants in Phoenix. The star ratings distribution has a positive skew, i.e. there are more positive than negative reviews, and the mean is approximately 3.4 stars."
   ]
  },
  {
   "cell_type": "markdown",
   "metadata": {},
   "source": [
    "# 2. Extracting Business Features "
   ]
  },
  {
   "cell_type": "markdown",
   "metadata": {},
   "source": [
    "The code below extracts data from the 'business.json' file and converts into a pandas data frame  using the json_normalize function. This will form the features matrix for machine learniong algorithms. Items such as parking, ambience and food choice are included. The json_normalize function extracts all the information in one step for each line of the json file. "
   ]
  },
  {
   "cell_type": "code",
   "execution_count": 15,
   "metadata": {
    "collapsed": true
   },
   "outputs": [],
   "source": [
    "from pandas.io.json import json_normalize\n",
    "import codecs\n",
    "import os\n"
   ]
  },
  {
   "cell_type": "code",
   "execution_count": 16,
   "metadata": {
    "collapsed": false
   },
   "outputs": [
    {
     "name": "stdout",
     "output_type": "stream",
     "text": [
      "Wall time: 2min 10s\n"
     ]
    }
   ],
   "source": [
    "%%time\n",
    "\n",
    "# set the file path\n",
    "business_json_filepath = os.path.abspath('data/dataset/business.json')\n",
    "\n",
    "# initiate empty data frame\n",
    "featuresdf = pd.DataFrame(zip([],[]))\n",
    "\n",
    "# extract info line by line for each restaurant in the phx_ids set\n",
    "with codecs.open(business_json_filepath, encoding='utf_8') as f:\n",
    "    for line in f:\n",
    "        business = json.loads(line)\n",
    "        bus_id = business[u'business_id'] \n",
    "        if bus_id not in phx_ids:\n",
    "            continue\n",
    "        norm = json_normalize(business) \n",
    "\n",
    "        featuresdf = featuresdf.append(norm)\n",
    "        "
   ]
  },
  {
   "cell_type": "code",
   "execution_count": 17,
   "metadata": {
    "collapsed": false
   },
   "outputs": [
    {
     "data": {
      "text/plain": [
       "(3515, 93)"
      ]
     },
     "execution_count": 17,
     "metadata": {},
     "output_type": "execute_result"
    }
   ],
   "source": [
    "featuresdf.shape"
   ]
  },
  {
   "cell_type": "code",
   "execution_count": 18,
   "metadata": {
    "collapsed": false,
    "scrolled": false
   },
   "outputs": [
    {
     "data": {
      "text/html": [
       "<div>\n",
       "<style>\n",
       "    .dataframe thead tr:only-child th {\n",
       "        text-align: right;\n",
       "    }\n",
       "\n",
       "    .dataframe thead th {\n",
       "        text-align: left;\n",
       "    }\n",
       "\n",
       "    .dataframe tbody tr th {\n",
       "        vertical-align: top;\n",
       "    }\n",
       "</style>\n",
       "<table border=\"1\" class=\"dataframe\">\n",
       "  <thead>\n",
       "    <tr style=\"text-align: right;\">\n",
       "      <th></th>\n",
       "      <th>address</th>\n",
       "      <th>attributes.AcceptsInsurance</th>\n",
       "      <th>attributes.AgesAllowed</th>\n",
       "      <th>attributes.Alcohol</th>\n",
       "      <th>attributes.Ambience.casual</th>\n",
       "      <th>attributes.Ambience.classy</th>\n",
       "      <th>attributes.Ambience.divey</th>\n",
       "      <th>attributes.Ambience.hipster</th>\n",
       "      <th>attributes.Ambience.intimate</th>\n",
       "      <th>attributes.Ambience.romantic</th>\n",
       "      <th>...</th>\n",
       "      <th>hours.Wednesday</th>\n",
       "      <th>is_open</th>\n",
       "      <th>latitude</th>\n",
       "      <th>longitude</th>\n",
       "      <th>name</th>\n",
       "      <th>neighborhood</th>\n",
       "      <th>postal_code</th>\n",
       "      <th>review_count</th>\n",
       "      <th>stars</th>\n",
       "      <th>state</th>\n",
       "    </tr>\n",
       "  </thead>\n",
       "  <tbody>\n",
       "    <tr>\n",
       "      <th>0</th>\n",
       "      <td>4719 N 20Th St</td>\n",
       "      <td>NaN</td>\n",
       "      <td>NaN</td>\n",
       "      <td>none</td>\n",
       "      <td>False</td>\n",
       "      <td>False</td>\n",
       "      <td>False</td>\n",
       "      <td>False</td>\n",
       "      <td>False</td>\n",
       "      <td>False</td>\n",
       "      <td>...</td>\n",
       "      <td>NaN</td>\n",
       "      <td>0</td>\n",
       "      <td>33.505928</td>\n",
       "      <td>-112.038847</td>\n",
       "      <td>Blimpie</td>\n",
       "      <td></td>\n",
       "      <td>85016</td>\n",
       "      <td>10</td>\n",
       "      <td>4.5</td>\n",
       "      <td>AZ</td>\n",
       "    </tr>\n",
       "    <tr>\n",
       "      <th>0</th>\n",
       "      <td>2641 N 44th St, Ste 100</td>\n",
       "      <td>NaN</td>\n",
       "      <td>NaN</td>\n",
       "      <td>none</td>\n",
       "      <td>True</td>\n",
       "      <td>False</td>\n",
       "      <td>False</td>\n",
       "      <td>False</td>\n",
       "      <td>False</td>\n",
       "      <td>False</td>\n",
       "      <td>...</td>\n",
       "      <td>10:00-22:00</td>\n",
       "      <td>1</td>\n",
       "      <td>33.478043</td>\n",
       "      <td>-111.986370</td>\n",
       "      <td>Five Guys</td>\n",
       "      <td></td>\n",
       "      <td>85008</td>\n",
       "      <td>63</td>\n",
       "      <td>3.5</td>\n",
       "      <td>AZ</td>\n",
       "    </tr>\n",
       "  </tbody>\n",
       "</table>\n",
       "<p>2 rows × 93 columns</p>\n",
       "</div>"
      ],
      "text/plain": [
       "                   address attributes.AcceptsInsurance attributes.AgesAllowed  \\\n",
       "0           4719 N 20Th St                         NaN                    NaN   \n",
       "0  2641 N 44th St, Ste 100                         NaN                    NaN   \n",
       "\n",
       "  attributes.Alcohol attributes.Ambience.casual attributes.Ambience.classy  \\\n",
       "0               none                      False                      False   \n",
       "0               none                       True                      False   \n",
       "\n",
       "  attributes.Ambience.divey attributes.Ambience.hipster  \\\n",
       "0                     False                       False   \n",
       "0                     False                       False   \n",
       "\n",
       "  attributes.Ambience.intimate attributes.Ambience.romantic  ...   \\\n",
       "0                        False                        False  ...    \n",
       "0                        False                        False  ...    \n",
       "\n",
       "  hours.Wednesday is_open   latitude   longitude       name neighborhood  \\\n",
       "0             NaN       0  33.505928 -112.038847    Blimpie                \n",
       "0     10:00-22:00       1  33.478043 -111.986370  Five Guys                \n",
       "\n",
       "  postal_code review_count stars state  \n",
       "0       85016           10   4.5    AZ  \n",
       "0       85008           63   3.5    AZ  \n",
       "\n",
       "[2 rows x 93 columns]"
      ]
     },
     "execution_count": 18,
     "metadata": {},
     "output_type": "execute_result"
    }
   ],
   "source": [
    "featuresdf.head(2)"
   ]
  },
  {
   "cell_type": "code",
   "execution_count": 19,
   "metadata": {
    "collapsed": false
   },
   "outputs": [
    {
     "name": "stdout",
     "output_type": "stream",
     "text": [
      "<class 'pandas.core.frame.DataFrame'>\n",
      "Int64Index: 3515 entries, 0 to 0\n",
      "Data columns (total 93 columns):\n",
      "address                                       3515 non-null object\n",
      "attributes.AcceptsInsurance                   2 non-null object\n",
      "attributes.AgesAllowed                        4 non-null object\n",
      "attributes.Alcohol                            2977 non-null object\n",
      "attributes.Ambience.casual                    2841 non-null object\n",
      "attributes.Ambience.classy                    2841 non-null object\n",
      "attributes.Ambience.divey                     2841 non-null object\n",
      "attributes.Ambience.hipster                   2841 non-null object\n",
      "attributes.Ambience.intimate                  2841 non-null object\n",
      "attributes.Ambience.romantic                  2841 non-null object\n",
      "attributes.Ambience.touristy                  2841 non-null object\n",
      "attributes.Ambience.trendy                    2841 non-null object\n",
      "attributes.Ambience.upscale                   2841 non-null object\n",
      "attributes.BYOB                               143 non-null object\n",
      "attributes.BYOBCorkage                        238 non-null object\n",
      "attributes.BestNights.friday                  281 non-null object\n",
      "attributes.BestNights.monday                  281 non-null object\n",
      "attributes.BestNights.saturday                281 non-null object\n",
      "attributes.BestNights.sunday                  281 non-null object\n",
      "attributes.BestNights.thursday                281 non-null object\n",
      "attributes.BestNights.tuesday                 281 non-null object\n",
      "attributes.BestNights.wednesday               281 non-null object\n",
      "attributes.BikeParking                        2505 non-null object\n",
      "attributes.BusinessAcceptsBitcoin             298 non-null object\n",
      "attributes.BusinessAcceptsCreditCards         3406 non-null object\n",
      "attributes.BusinessParking.garage             3032 non-null object\n",
      "attributes.BusinessParking.lot                3032 non-null object\n",
      "attributes.BusinessParking.street             3032 non-null object\n",
      "attributes.BusinessParking.valet              3032 non-null object\n",
      "attributes.BusinessParking.validated          3032 non-null object\n",
      "attributes.ByAppointmentOnly                  42 non-null object\n",
      "attributes.Caters                             2425 non-null object\n",
      "attributes.CoatCheck                          330 non-null object\n",
      "attributes.Corkage                            106 non-null object\n",
      "attributes.DietaryRestrictions.dairy-free     22 non-null object\n",
      "attributes.DietaryRestrictions.gluten-free    22 non-null object\n",
      "attributes.DietaryRestrictions.halal          22 non-null object\n",
      "attributes.DietaryRestrictions.kosher         22 non-null object\n",
      "attributes.DietaryRestrictions.soy-free       22 non-null object\n",
      "attributes.DietaryRestrictions.vegan          22 non-null object\n",
      "attributes.DietaryRestrictions.vegetarian     22 non-null object\n",
      "attributes.DogsAllowed                        466 non-null object\n",
      "attributes.DriveThru                          597 non-null object\n",
      "attributes.GoodForDancing                     332 non-null object\n",
      "attributes.GoodForKids                        3271 non-null object\n",
      "attributes.GoodForMeal.breakfast              3136 non-null object\n",
      "attributes.GoodForMeal.brunch                 3136 non-null object\n",
      "attributes.GoodForMeal.dessert                3136 non-null object\n",
      "attributes.GoodForMeal.dinner                 3136 non-null object\n",
      "attributes.GoodForMeal.latenight              3136 non-null object\n",
      "attributes.GoodForMeal.lunch                  3136 non-null object\n",
      "attributes.HappyHour                          344 non-null object\n",
      "attributes.HasTV                              2904 non-null object\n",
      "attributes.Music.background_music             327 non-null object\n",
      "attributes.Music.dj                           327 non-null object\n",
      "attributes.Music.jukebox                      327 non-null object\n",
      "attributes.Music.karaoke                      327 non-null object\n",
      "attributes.Music.live                         327 non-null object\n",
      "attributes.Music.no_music                     327 non-null object\n",
      "attributes.Music.video                        327 non-null object\n",
      "attributes.NoiseLevel                         2706 non-null object\n",
      "attributes.Open24Hours                        60 non-null object\n",
      "attributes.OutdoorSeating                     3168 non-null object\n",
      "attributes.RestaurantsAttire                  3224 non-null object\n",
      "attributes.RestaurantsCounterService          90 non-null object\n",
      "attributes.RestaurantsDelivery                3233 non-null object\n",
      "attributes.RestaurantsGoodForGroups           3274 non-null object\n",
      "attributes.RestaurantsPriceRange2             3346 non-null float64\n",
      "attributes.RestaurantsReservations            3213 non-null object\n",
      "attributes.RestaurantsTableService            2982 non-null object\n",
      "attributes.RestaurantsTakeOut                 3297 non-null object\n",
      "attributes.Smoking                            305 non-null object\n",
      "attributes.WheelchairAccessible               1923 non-null object\n",
      "attributes.WiFi                               2585 non-null object\n",
      "business_id                                   3515 non-null object\n",
      "categories                                    3515 non-null object\n",
      "city                                          3515 non-null object\n",
      "hours.Friday                                  2464 non-null object\n",
      "hours.Monday                                  2293 non-null object\n",
      "hours.Saturday                                2367 non-null object\n",
      "hours.Sunday                                  2057 non-null object\n",
      "hours.Thursday                                2459 non-null object\n",
      "hours.Tuesday                                 2436 non-null object\n",
      "hours.Wednesday                               2451 non-null object\n",
      "is_open                                       3515 non-null int64\n",
      "latitude                                      3515 non-null float64\n",
      "longitude                                     3515 non-null float64\n",
      "name                                          3515 non-null object\n",
      "neighborhood                                  3515 non-null object\n",
      "postal_code                                   3515 non-null object\n",
      "review_count                                  3515 non-null int64\n",
      "stars                                         3515 non-null float64\n",
      "state                                         3515 non-null object\n",
      "dtypes: float64(4), int64(2), object(87)\n",
      "memory usage: 2.5+ MB\n"
     ]
    }
   ],
   "source": [
    "featuresdf.info()"
   ]
  },
  {
   "cell_type": "markdown",
   "metadata": {},
   "source": [
    "The data includes 93 features and needs to be modified to produce a useful features matrix. First we need to drop columns:\n",
    "- those that appear in only a handful of lines, such as 'attribuites.accepts_insurance' \n",
    "- opening hours need to be modified to a more meaningful format\n",
    "- other categorical data need to be quantified\n",
    "- neighborhood, city and state to be removed as the data set focuses on a single city (for Phoenix no neighbourhood data is given)\n",
    "- name of business, stars rating and id to be removed"
   ]
  },
  {
   "cell_type": "markdown",
   "metadata": {},
   "source": [
    "__Exploratory Data Analysis of the Features__:\n",
    "\n",
    "In this section we will visualize some aspects of the data that look the most relevant to determining aveareg ratings. First of all it is important to note that there are many missing values: there are many features in the data set but an individual restaurant will only have a few of the features actually quoted, and the rest will be empty fiels. From the description of columns above, we can identify the more complete features:\n",
    "- fully complete columns that we can use in the prediction model are the longitude/latitude and is_open binary feature\n",
    "- relatively well-formed columns (say > 2,000 entries) relate to opening hours,  type of meals offered, price range, parking, ambiance, alcohol and some others. \n",
    "\n",
    "We can inspect if there is a significant correlation with ratings for some of these items:"
   ]
  },
  {
   "cell_type": "code",
   "execution_count": 20,
   "metadata": {
    "collapsed": false
   },
   "outputs": [
    {
     "data": {
      "image/png": "[encoded data removed]",
      "text/plain": [
       "<matplotlib.figure.Figure at 0xe2168d0>"
      ]
     },
     "metadata": {},
     "output_type": "display_data"
    }
   ],
   "source": [
    "# compare all ratings\n",
    "col = (featuresdf.stars.astype(int)) * 2\n",
    "plt.figure(figsize=(10,10))\n",
    "plt.scatter(x=featuresdf.longitude, y=featuresdf.latitude, c=col, s=7, alpha=0.7)\n",
    "plt.axis(xmin=-112.3, xmax=-111.9, ymin=33.3, ymax=33.9)\n",
    "plt.show()"
   ]
  },
  {
   "cell_type": "code",
   "execution_count": 21,
   "metadata": {
    "collapsed": false
   },
   "outputs": [
    {
     "data": {
      "image/png": "[encoded data removed]",
      "text/plain": [
       "<matplotlib.figure.Figure at 0x17152dd8>"
      ]
     },
     "metadata": {},
     "output_type": "display_data"
    }
   ],
   "source": [
    "# compare two ratings\n",
    "plt.figure(figsize=(10,10))\n",
    "plt.scatter(x=featuresdf[featuresdf.stars==1.5].longitude, y=featuresdf[featuresdf.stars==1.5].latitude, c='r', s=10, alpha=0.7)\n",
    "plt.scatter(x=featuresdf[featuresdf.stars==5.0].longitude, y=featuresdf[featuresdf.stars==5.0].latitude, c='b', s=10, alpha=0.7)\n",
    "plt.axis(xmin=-112.3, xmax=-111.9, ymin=33.3, ymax=33.9)\n",
    "plt.show()"
   ]
  },
  {
   "cell_type": "markdown",
   "metadata": {},
   "source": [
    "The above charts show us that restaurants follow the gridline structire of the city and there are popular location clusters. A range of ratings is present in clusters and even ratings on the opposite sides of the scale are difficult to distinguish by location alone."
   ]
  },
  {
   "cell_type": "code",
   "execution_count": 22,
   "metadata": {
    "collapsed": false
   },
   "outputs": [
    {
     "data": {
      "text/plain": [
       "(3515, 75)"
      ]
     },
     "execution_count": 22,
     "metadata": {},
     "output_type": "execute_result"
    }
   ],
   "source": [
    "featuresdf1 = featuresdf.drop([u'address', u'attributes.AgesAllowed', u'attributes.ByAppointmentOnly', \n",
    "                               u'attributes.AcceptsInsurance', u'attributes.DietaryRestrictions.dairy-free',     \n",
    "                               u'attributes.DietaryRestrictions.gluten-free', \n",
    "                                u'attributes.DietaryRestrictions.halal', \n",
    "                                u'attributes.DietaryRestrictions.kosher',\n",
    "                                u'attributes.DietaryRestrictions.soy-free',      \n",
    "                                u'attributes.DietaryRestrictions.vegan',          \n",
    "                                u'attributes.DietaryRestrictions.vegetarian',\n",
    "                               u'attributes.Open24Hours', u'attributes.RestaurantsCounterService',\n",
    "                               u'name', u'neighborhood', u'city', u'state', u'stars'], axis=1)\n",
    "featuresdf1.shape"
   ]
  },
  {
   "cell_type": "code",
   "execution_count": 23,
   "metadata": {
    "collapsed": true
   },
   "outputs": [],
   "source": [
    "import re\n",
    "import datetime as dt\n",
    "from datetime import datetime"
   ]
  },
  {
   "cell_type": "code",
   "execution_count": 24,
   "metadata": {
    "collapsed": false
   },
   "outputs": [],
   "source": [
    "# function to convert opening hours to the total number of hours open during each day\n",
    "def sum_open_hrs(s):\n",
    "    if type(s) == unicode:\n",
    "        times = [line[0] for line in re.findall(r'\\b(([0-2][0-4]|0?[1-9]):([0-5][0-9]))',s)]\n",
    "        times = [[i,j] for i,j in zip(times[0::2], times[1::2])]\n",
    "        fmt = '%H:%M'\n",
    "        time_objects = [datetime.strptime(b,fmt)-datetime.strptime(a,fmt) for a,b in times]\n",
    "        finaltime = [td.seconds//3600 for td in time_objects]\n",
    "        sumtime=sum(finaltime)\n",
    "        return sumtime\n",
    "    else:\n",
    "        return None"
   ]
  },
  {
   "cell_type": "code",
   "execution_count": 25,
   "metadata": {
    "collapsed": false
   },
   "outputs": [],
   "source": [
    "featuresdf1[u'hours.Friday'] = featuresdf1[u'hours.Friday'].apply(lambda x: sum_open_hrs(x))\n",
    "featuresdf1[u'hours.Monday'] = featuresdf1[u'hours.Monday'].apply(lambda x: sum_open_hrs(x))\n",
    "featuresdf1[u'hours.Saturday'] = featuresdf1[u'hours.Saturday'].apply(lambda x: sum_open_hrs(x))\n",
    "featuresdf1[u'hours.Sunday'] = featuresdf1[u'hours.Sunday'].apply(lambda x: sum_open_hrs(x))\n",
    "featuresdf1[u'hours.Tuesday'] = featuresdf1[u'hours.Tuesday'].apply(lambda x: sum_open_hrs(x))\n",
    "featuresdf1[u'hours.Thursday'] = featuresdf1[u'hours.Thursday'].apply(lambda x: sum_open_hrs(x))\n",
    "featuresdf1[u'hours.Wednesday'] = featuresdf1[u'hours.Wednesday'].apply(lambda x: sum_open_hrs(x))"
   ]
  },
  {
   "cell_type": "code",
   "execution_count": 26,
   "metadata": {
    "collapsed": false
   },
   "outputs": [
    {
     "data": {
      "image/png": "[encoded data removed]",
      "text/plain": [
       "<matplotlib.figure.Figure at 0x170fc470>"
      ]
     },
     "metadata": {},
     "output_type": "display_data"
    }
   ],
   "source": [
    "# look at opening hours on a given day\n",
    "plt.scatter(x=featuresdf1['hours.Sunday'], y=featuresdf.stars, s=7, alpha=0.2)\n",
    "plt.show()"
   ]
  },
  {
   "cell_type": "markdown",
   "metadata": {},
   "source": [
    "The chart looks similar for all days: we have missing values (represented as zero) which distort the picture. Where data is available, we can see that a place does not need long opening hours to be rated highly, the trend may even be that good places with high ratings have limited opening hours. "
   ]
  },
  {
   "cell_type": "code",
   "execution_count": 27,
   "metadata": {
    "collapsed": false
   },
   "outputs": [],
   "source": [
    "# convert alcohol categories to numerical\n",
    "dict_transform = {\"none\":0, \"beer_and_wine\":1, \"full_bar\": 2}\n",
    "featuresdf1['attributes.Alcohol'] = featuresdf1['attributes.Alcohol'].apply(lambda x: dict_transform.get(x))"
   ]
  },
  {
   "cell_type": "code",
   "execution_count": 28,
   "metadata": {
    "collapsed": false
   },
   "outputs": [
    {
     "name": "stdout",
     "output_type": "stream",
     "text": [
      "none: 3.37763078773\n",
      "beer_and_wine: 3.65288220551\n",
      "full_bar: 3.52896174863\n"
     ]
    }
   ],
   "source": [
    "# mean ratings per alcohol category:\n",
    "print 'none:',featuresdf[featuresdf['attributes.Alcohol'] == 'none'].stars.mean()\n",
    "print 'beer_and_wine:',featuresdf[featuresdf['attributes.Alcohol'] == 'beer_and_wine'].stars.mean()\n",
    "print 'full_bar:',featuresdf[featuresdf['attributes.Alcohol'] == 'full_bar'].stars.mean()"
   ]
  },
  {
   "cell_type": "markdown",
   "metadata": {},
   "source": [
    "The availability of alcohol is highly dependent on the type of restaurant (e.g. a sandwich place does not need a full bar). There is little variation in scoring, places with a beer and wine score highest."
   ]
  },
  {
   "cell_type": "code",
   "execution_count": 29,
   "metadata": {
    "collapsed": false
   },
   "outputs": [
    {
     "data": {
      "text/plain": [
       "{nan, u'average', u'loud', u'quiet', u'very_loud'}"
      ]
     },
     "execution_count": 29,
     "metadata": {},
     "output_type": "execute_result"
    }
   ],
   "source": [
    "# convert noise categories to numerical\n",
    "noise = set(featuresdf1['attributes.NoiseLevel'])\n",
    "noise"
   ]
  },
  {
   "cell_type": "code",
   "execution_count": 30,
   "metadata": {
    "collapsed": true
   },
   "outputs": [],
   "source": [
    "noise_transform = {\"quiet\":1, \"average\":2, \"loud\": 3, \"very_loud\":4}\n",
    "featuresdf1['attributes.NoiseLevel'] = featuresdf1['attributes.NoiseLevel'].apply(lambda x: noise_transform.get(x))"
   ]
  },
  {
   "cell_type": "code",
   "execution_count": 31,
   "metadata": {
    "collapsed": false
   },
   "outputs": [
    {
     "name": "stdout",
     "output_type": "stream",
     "text": [
      "quiet: 3.52705223881\n",
      "average: 3.50669412976\n",
      "loud: 3.09119496855\n",
      "very_loud: 2.86231884058\n"
     ]
    }
   ],
   "source": [
    "# mean ratings per noise level category:\n",
    "print 'quiet:',featuresdf[featuresdf['attributes.NoiseLevel'] == 'quiet'].stars.mean()\n",
    "print 'average:',featuresdf[featuresdf['attributes.NoiseLevel'] == 'average'].stars.mean()\n",
    "print 'loud:',featuresdf[featuresdf['attributes.NoiseLevel'] == 'loud'].stars.mean()\n",
    "print 'very_loud:',featuresdf[featuresdf['attributes.NoiseLevel'] == 'very_loud'].stars.mean()"
   ]
  },
  {
   "cell_type": "markdown",
   "metadata": {},
   "source": [
    "There is a trend here for people prefering quieter places."
   ]
  },
  {
   "cell_type": "code",
   "execution_count": 32,
   "metadata": {
    "collapsed": false
   },
   "outputs": [
    {
     "data": {
      "text/plain": [
       "{nan, u'casual', u'dressy', u'formal'}"
      ]
     },
     "execution_count": 32,
     "metadata": {},
     "output_type": "execute_result"
    }
   ],
   "source": [
    "# convert attire categories to numerical\n",
    "attire = set(featuresdf1['attributes.RestaurantsAttire'])\n",
    "attire"
   ]
  },
  {
   "cell_type": "code",
   "execution_count": 33,
   "metadata": {
    "collapsed": false
   },
   "outputs": [
    {
     "name": "stdout",
     "output_type": "stream",
     "text": [
      "casual: 3.42317380353\n",
      "dressy: 3.73863636364\n",
      "formal: 3.0\n",
      "formal places ratings: [4.5, 3.0, 2.5, 2.0]\n"
     ]
    }
   ],
   "source": [
    "# mean ratings per attire category:\n",
    "print 'casual:',featuresdf[featuresdf['attributes.RestaurantsAttire'] == 'casual'].stars.mean()\n",
    "print 'dressy:',featuresdf[featuresdf['attributes.RestaurantsAttire'] == 'dressy'].stars.mean()\n",
    "print 'formal:',featuresdf[featuresdf['attributes.RestaurantsAttire'] == 'formal'].stars.mean()\n",
    "print 'formal places ratings:', list(featuresdf[featuresdf['attributes.RestaurantsAttire'] == 'formal'].stars)"
   ]
  },
  {
   "cell_type": "markdown",
   "metadata": {},
   "source": [
    "Dressy scores highest, followed by casual. There are only 4 places classes as 'formal' in the whole data set, only one rated highly."
   ]
  },
  {
   "cell_type": "code",
   "execution_count": 34,
   "metadata": {
    "collapsed": true
   },
   "outputs": [],
   "source": [
    "attire_transform = {\"casual\":1, \"dressy\":2, \"formal\":3}\n",
    "featuresdf1['attributes.RestaurantsAttire'] = featuresdf1['attributes.RestaurantsAttire'].apply(lambda x: attire_transform.get(x))"
   ]
  },
  {
   "cell_type": "code",
   "execution_count": 35,
   "metadata": {
    "collapsed": false
   },
   "outputs": [
    {
     "data": {
      "text/plain": [
       "{nan, u'free', u'no', u'paid'}"
      ]
     },
     "execution_count": 35,
     "metadata": {},
     "output_type": "execute_result"
    }
   ],
   "source": [
    "# wifi to numerical\n",
    "wifi = set(featuresdf1['attributes.WiFi'])\n",
    "wifi"
   ]
  },
  {
   "cell_type": "code",
   "execution_count": 36,
   "metadata": {
    "collapsed": true
   },
   "outputs": [],
   "source": [
    "wifi_transform = {\"free\":2, \"no\":0, \"paid\":1}\n",
    "featuresdf1['attributes.WiFi'] = featuresdf1['attributes.WiFi'].apply(lambda x: wifi_transform.get(x))"
   ]
  },
  {
   "cell_type": "code",
   "execution_count": 37,
   "metadata": {
    "collapsed": false
   },
   "outputs": [
    {
     "name": "stdout",
     "output_type": "stream",
     "text": [
      "free: 3.53927911275\n",
      "paid: 3.23076923077\n",
      "no: 3.46812080537\n"
     ]
    }
   ],
   "source": [
    "# wifi in relation to scores\n",
    "print 'free:',featuresdf[featuresdf['attributes.WiFi'] == 'free'].stars.mean()\n",
    "print 'paid:',featuresdf[featuresdf['attributes.WiFi'] == 'paid'].stars.mean()\n",
    "print 'no:',featuresdf[featuresdf['attributes.WiFi'] == 'no'].stars.mean()"
   ]
  },
  {
   "cell_type": "markdown",
   "metadata": {},
   "source": [
    "Free wiFi does seem to contribute to a higher score on average. However this is a category prone to change and it is hard to imagine a place with paid WiFi today, though it may have been an important feature to reviewers some years back."
   ]
  },
  {
   "cell_type": "code",
   "execution_count": 38,
   "metadata": {
    "collapsed": false
   },
   "outputs": [
    {
     "data": {
      "text/plain": [
       "{nan, u'no', u'outdoor', u'yes'}"
      ]
     },
     "execution_count": 38,
     "metadata": {},
     "output_type": "execute_result"
    }
   ],
   "source": [
    "# smoking to numerical\n",
    "sm = set(featuresdf1['attributes.Smoking'])\n",
    "sm"
   ]
  },
  {
   "cell_type": "code",
   "execution_count": 39,
   "metadata": {
    "collapsed": true
   },
   "outputs": [],
   "source": [
    "sm_transform = {\"no\":0, \"outdoor\":1, \"yes\":2}\n",
    "featuresdf1['attributes.Smoking'] = featuresdf1['attributes.Smoking'].apply(lambda x: sm_transform.get(x))"
   ]
  },
  {
   "cell_type": "code",
   "execution_count": 40,
   "metadata": {
    "collapsed": false
   },
   "outputs": [],
   "source": [
    "# convert object type columns to numeric values\n",
    "featuresdf2 = featuresdf1.apply(pd.to_numeric, args=('coerce',))"
   ]
  },
  {
   "cell_type": "code",
   "execution_count": 41,
   "metadata": {
    "collapsed": false
   },
   "outputs": [
    {
     "data": {
      "text/html": [
       "<div>\n",
       "<style>\n",
       "    .dataframe thead tr:only-child th {\n",
       "        text-align: right;\n",
       "    }\n",
       "\n",
       "    .dataframe thead th {\n",
       "        text-align: left;\n",
       "    }\n",
       "\n",
       "    .dataframe tbody tr th {\n",
       "        vertical-align: top;\n",
       "    }\n",
       "</style>\n",
       "<table border=\"1\" class=\"dataframe\">\n",
       "  <thead>\n",
       "    <tr style=\"text-align: right;\">\n",
       "      <th></th>\n",
       "      <th>attributes.Alcohol</th>\n",
       "      <th>attributes.Ambience.casual</th>\n",
       "      <th>attributes.Ambience.classy</th>\n",
       "      <th>attributes.Ambience.divey</th>\n",
       "      <th>attributes.Ambience.hipster</th>\n",
       "      <th>attributes.Ambience.intimate</th>\n",
       "      <th>attributes.Ambience.romantic</th>\n",
       "      <th>attributes.Ambience.touristy</th>\n",
       "      <th>attributes.Ambience.trendy</th>\n",
       "      <th>attributes.Ambience.upscale</th>\n",
       "      <th>...</th>\n",
       "      <th>hours.Monday</th>\n",
       "      <th>hours.Saturday</th>\n",
       "      <th>hours.Sunday</th>\n",
       "      <th>hours.Thursday</th>\n",
       "      <th>hours.Tuesday</th>\n",
       "      <th>hours.Wednesday</th>\n",
       "      <th>is_open</th>\n",
       "      <th>latitude</th>\n",
       "      <th>longitude</th>\n",
       "      <th>review_count</th>\n",
       "    </tr>\n",
       "  </thead>\n",
       "  <tbody>\n",
       "    <tr>\n",
       "      <th>0</th>\n",
       "      <td>0.0</td>\n",
       "      <td>0.0</td>\n",
       "      <td>0.0</td>\n",
       "      <td>0.0</td>\n",
       "      <td>0.0</td>\n",
       "      <td>0.0</td>\n",
       "      <td>0.0</td>\n",
       "      <td>0.0</td>\n",
       "      <td>0.0</td>\n",
       "      <td>0.0</td>\n",
       "      <td>...</td>\n",
       "      <td>NaN</td>\n",
       "      <td>NaN</td>\n",
       "      <td>NaN</td>\n",
       "      <td>NaN</td>\n",
       "      <td>NaN</td>\n",
       "      <td>NaN</td>\n",
       "      <td>0</td>\n",
       "      <td>33.505928</td>\n",
       "      <td>-112.038847</td>\n",
       "      <td>10</td>\n",
       "    </tr>\n",
       "    <tr>\n",
       "      <th>1</th>\n",
       "      <td>0.0</td>\n",
       "      <td>1.0</td>\n",
       "      <td>0.0</td>\n",
       "      <td>0.0</td>\n",
       "      <td>0.0</td>\n",
       "      <td>0.0</td>\n",
       "      <td>0.0</td>\n",
       "      <td>0.0</td>\n",
       "      <td>0.0</td>\n",
       "      <td>0.0</td>\n",
       "      <td>...</td>\n",
       "      <td>12.0</td>\n",
       "      <td>12.0</td>\n",
       "      <td>12.0</td>\n",
       "      <td>12.0</td>\n",
       "      <td>12.0</td>\n",
       "      <td>12.0</td>\n",
       "      <td>1</td>\n",
       "      <td>33.478043</td>\n",
       "      <td>-111.986370</td>\n",
       "      <td>63</td>\n",
       "    </tr>\n",
       "    <tr>\n",
       "      <th>2</th>\n",
       "      <td>2.0</td>\n",
       "      <td>1.0</td>\n",
       "      <td>0.0</td>\n",
       "      <td>0.0</td>\n",
       "      <td>0.0</td>\n",
       "      <td>0.0</td>\n",
       "      <td>0.0</td>\n",
       "      <td>0.0</td>\n",
       "      <td>0.0</td>\n",
       "      <td>0.0</td>\n",
       "      <td>...</td>\n",
       "      <td>11.0</td>\n",
       "      <td>11.0</td>\n",
       "      <td>11.0</td>\n",
       "      <td>11.0</td>\n",
       "      <td>11.0</td>\n",
       "      <td>11.0</td>\n",
       "      <td>1</td>\n",
       "      <td>33.445363</td>\n",
       "      <td>-112.067496</td>\n",
       "      <td>127</td>\n",
       "    </tr>\n",
       "    <tr>\n",
       "      <th>3</th>\n",
       "      <td>0.0</td>\n",
       "      <td>0.0</td>\n",
       "      <td>0.0</td>\n",
       "      <td>0.0</td>\n",
       "      <td>0.0</td>\n",
       "      <td>0.0</td>\n",
       "      <td>0.0</td>\n",
       "      <td>0.0</td>\n",
       "      <td>0.0</td>\n",
       "      <td>0.0</td>\n",
       "      <td>...</td>\n",
       "      <td>11.0</td>\n",
       "      <td>12.0</td>\n",
       "      <td>12.0</td>\n",
       "      <td>11.0</td>\n",
       "      <td>11.0</td>\n",
       "      <td>11.0</td>\n",
       "      <td>1</td>\n",
       "      <td>33.465952</td>\n",
       "      <td>-112.121577</td>\n",
       "      <td>13</td>\n",
       "    </tr>\n",
       "    <tr>\n",
       "      <th>4</th>\n",
       "      <td>2.0</td>\n",
       "      <td>1.0</td>\n",
       "      <td>0.0</td>\n",
       "      <td>0.0</td>\n",
       "      <td>0.0</td>\n",
       "      <td>0.0</td>\n",
       "      <td>0.0</td>\n",
       "      <td>0.0</td>\n",
       "      <td>0.0</td>\n",
       "      <td>0.0</td>\n",
       "      <td>...</td>\n",
       "      <td>11.0</td>\n",
       "      <td>11.0</td>\n",
       "      <td>11.0</td>\n",
       "      <td>11.0</td>\n",
       "      <td>11.0</td>\n",
       "      <td>11.0</td>\n",
       "      <td>1</td>\n",
       "      <td>33.599661</td>\n",
       "      <td>-111.982293</td>\n",
       "      <td>232</td>\n",
       "    </tr>\n",
       "  </tbody>\n",
       "</table>\n",
       "<p>5 rows × 69 columns</p>\n",
       "</div>"
      ],
      "text/plain": [
       "   attributes.Alcohol  attributes.Ambience.casual  attributes.Ambience.classy  \\\n",
       "0                 0.0                         0.0                         0.0   \n",
       "1                 0.0                         1.0                         0.0   \n",
       "2                 2.0                         1.0                         0.0   \n",
       "3                 0.0                         0.0                         0.0   \n",
       "4                 2.0                         1.0                         0.0   \n",
       "\n",
       "   attributes.Ambience.divey  attributes.Ambience.hipster  \\\n",
       "0                        0.0                          0.0   \n",
       "1                        0.0                          0.0   \n",
       "2                        0.0                          0.0   \n",
       "3                        0.0                          0.0   \n",
       "4                        0.0                          0.0   \n",
       "\n",
       "   attributes.Ambience.intimate  attributes.Ambience.romantic  \\\n",
       "0                           0.0                           0.0   \n",
       "1                           0.0                           0.0   \n",
       "2                           0.0                           0.0   \n",
       "3                           0.0                           0.0   \n",
       "4                           0.0                           0.0   \n",
       "\n",
       "   attributes.Ambience.touristy  attributes.Ambience.trendy  \\\n",
       "0                           0.0                         0.0   \n",
       "1                           0.0                         0.0   \n",
       "2                           0.0                         0.0   \n",
       "3                           0.0                         0.0   \n",
       "4                           0.0                         0.0   \n",
       "\n",
       "   attributes.Ambience.upscale      ...       hours.Monday  hours.Saturday  \\\n",
       "0                          0.0      ...                NaN             NaN   \n",
       "1                          0.0      ...               12.0            12.0   \n",
       "2                          0.0      ...               11.0            11.0   \n",
       "3                          0.0      ...               11.0            12.0   \n",
       "4                          0.0      ...               11.0            11.0   \n",
       "\n",
       "   hours.Sunday  hours.Thursday  hours.Tuesday  hours.Wednesday  is_open  \\\n",
       "0           NaN             NaN            NaN              NaN        0   \n",
       "1          12.0            12.0           12.0             12.0        1   \n",
       "2          11.0            11.0           11.0             11.0        1   \n",
       "3          12.0            11.0           11.0             11.0        1   \n",
       "4          11.0            11.0           11.0             11.0        1   \n",
       "\n",
       "    latitude   longitude  review_count  \n",
       "0  33.505928 -112.038847            10  \n",
       "1  33.478043 -111.986370            63  \n",
       "2  33.445363 -112.067496           127  \n",
       "3  33.465952 -112.121577            13  \n",
       "4  33.599661 -111.982293           232  \n",
       "\n",
       "[5 rows x 69 columns]"
      ]
     },
     "execution_count": 41,
     "metadata": {},
     "output_type": "execute_result"
    }
   ],
   "source": [
    "# drop columns that are not used\n",
    "business_id = featuresdf1[u'business_id'].reset_index(drop=True)\n",
    "featuresdf3 = featuresdf2.drop([u'business_id', u'attributes.BYOB', u'attributes.BYOBCorkage', u'attributes.Corkage', u'categories', u'postal_code'], axis=1)\n",
    "featuresdf3 = featuresdf3.reset_index(drop=True)\n",
    "featuresdf3.head()"
   ]
  },
  {
   "cell_type": "markdown",
   "metadata": {},
   "source": [
    "__Preparing the X-matrix and y-vector__"
   ]
  },
  {
   "cell_type": "code",
   "execution_count": 42,
   "metadata": {
    "collapsed": false
   },
   "outputs": [],
   "source": [
    "import numpy.ma as ma"
   ]
  },
  {
   "cell_type": "code",
   "execution_count": 43,
   "metadata": {
    "collapsed": false
   },
   "outputs": [
    {
     "data": {
      "text/plain": [
       "False"
      ]
     },
     "execution_count": 43,
     "metadata": {},
     "output_type": "execute_result"
    }
   ],
   "source": [
    "# extract values into numpy array\n",
    "f3val = featuresdf3.values\n",
    "# replace nan values with column-wise means\n",
    "f3val = np.where(np.isnan(f3val), ma.array(f3val, mask=np.isnan(f3val)).mean(axis=0), f3val) \n",
    "np.isnan(np.sum(f3val))"
   ]
  },
  {
   "cell_type": "code",
   "execution_count": 44,
   "metadata": {
    "collapsed": false
   },
   "outputs": [
    {
     "data": {
      "text/plain": [
       "(3515L, 69L)"
      ]
     },
     "execution_count": 44,
     "metadata": {},
     "output_type": "execute_result"
    }
   ],
   "source": [
    "f3val.shape"
   ]
  },
  {
   "cell_type": "code",
   "execution_count": 45,
   "metadata": {
    "collapsed": false
   },
   "outputs": [
    {
     "data": {
      "text/plain": [
       "(3515L,)"
      ]
     },
     "execution_count": 45,
     "metadata": {},
     "output_type": "execute_result"
    }
   ],
   "source": [
    "y_feat = phoenix[u'stars'].values\n",
    "y_feat.shape"
   ]
  },
  {
   "cell_type": "markdown",
   "metadata": {},
   "source": [
    "Now split data into training and test sets and try different algorithms:"
   ]
  },
  {
   "cell_type": "code",
   "execution_count": 46,
   "metadata": {
    "collapsed": true
   },
   "outputs": [],
   "source": [
    "from sklearn.model_selection import train_test_split"
   ]
  },
  {
   "cell_type": "code",
   "execution_count": 47,
   "metadata": {
    "collapsed": false
   },
   "outputs": [],
   "source": [
    "Xf_train, Xf_test, yf_train, yf_test, indices_train, indices_test = train_test_split(f3val, y_feat, featuresdf3.index, test_size=0.3, random_state=8)"
   ]
  },
  {
   "cell_type": "code",
   "execution_count": 48,
   "metadata": {
    "collapsed": false
   },
   "outputs": [
    {
     "name": "stdout",
     "output_type": "stream",
     "text": [
      "(2460L, 69L) (2460L,)\n"
     ]
    }
   ],
   "source": [
    "print Xf_train.shape, yf_train.shape"
   ]
  },
  {
   "cell_type": "code",
   "execution_count": 49,
   "metadata": {
    "collapsed": false
   },
   "outputs": [
    {
     "data": {
      "text/plain": [
       "Int64Index([  92, 2981,  879, 1199, 1260,   99,  322, 1569, 1870, 1997,\n",
       "            ...\n",
       "            2096, 1384, 2899, 2184,  986, 2181, 2409, 2033, 1364,  451],\n",
       "           dtype='int64', length=2460)"
      ]
     },
     "execution_count": 49,
     "metadata": {},
     "output_type": "execute_result"
    }
   ],
   "source": [
    "indices_train"
   ]
  },
  {
   "cell_type": "markdown",
   "metadata": {},
   "source": [
    "__Linear Regression Model__"
   ]
  },
  {
   "cell_type": "code",
   "execution_count": 50,
   "metadata": {
    "collapsed": true
   },
   "outputs": [],
   "source": [
    "from sklearn import linear_model"
   ]
  },
  {
   "cell_type": "code",
   "execution_count": 51,
   "metadata": {
    "collapsed": true
   },
   "outputs": [],
   "source": [
    "from sklearn.metrics import mean_squared_error"
   ]
  },
  {
   "cell_type": "code",
   "execution_count": 52,
   "metadata": {
    "collapsed": false
   },
   "outputs": [
    {
     "name": "stdout",
     "output_type": "stream",
     "text": [
      "0.217502609955\n",
      "0.180946151502\n",
      "0.581617457994\n"
     ]
    }
   ],
   "source": [
    "reg = linear_model.LinearRegression()\n",
    "reg.fit(Xf_train, yf_train)\n",
    "print reg.score(Xf_train, yf_train)\n",
    "print reg.score(Xf_test, yf_test)\n",
    "print mean_squared_error(yf_test, reg.predict(Xf_test))"
   ]
  },
  {
   "cell_type": "markdown",
   "metadata": {},
   "source": [
    "__Ridge Regression__"
   ]
  },
  {
   "cell_type": "code",
   "execution_count": 53,
   "metadata": {
    "collapsed": true
   },
   "outputs": [],
   "source": [
    "from sklearn.linear_model import Ridge"
   ]
  },
  {
   "cell_type": "code",
   "execution_count": 54,
   "metadata": {
    "collapsed": false
   },
   "outputs": [
    {
     "name": "stdout",
     "output_type": "stream",
     "text": [
      "0.217502609689\n",
      "0.180945294494\n",
      "0.581618066563\n"
     ]
    }
   ],
   "source": [
    "ridge_reg = Ridge(alpha=0.001)\n",
    "ridge_reg.fit(Xf_train, yf_train)\n",
    "print ridge_reg.score(Xf_train, yf_train)\n",
    "print ridge_reg.score(Xf_test, yf_test)\n",
    "print mean_squared_error(yf_test, ridge_reg.predict(Xf_test))"
   ]
  },
  {
   "cell_type": "code",
   "execution_count": 55,
   "metadata": {
    "collapsed": true
   },
   "outputs": [],
   "source": [
    "import matplotlib.pyplot as plt"
   ]
  },
  {
   "cell_type": "code",
   "execution_count": 56,
   "metadata": {
    "collapsed": false
   },
   "outputs": [
    {
     "data": {
      "image/png": "[encoded data removed]",
      "text/plain": [
       "<matplotlib.figure.Figure at 0x10f73898>"
      ]
     },
     "metadata": {},
     "output_type": "display_data"
    }
   ],
   "source": [
    "## visualize results\n",
    "plt.scatter(x=yf_test, y=ridge_reg.predict(Xf_test))\n",
    "plt.show()"
   ]
  },
  {
   "cell_type": "markdown",
   "metadata": {},
   "source": [
    "Both models give the same results. Due to the presence of categorical and binary features, the data cannot be presented well by a linear model and we will only use this result as a benchmark to verify which alternative models can provide a substantially better score. We will test the Random Forest based ensemble methods and the MLP neural network model."
   ]
  },
  {
   "cell_type": "markdown",
   "metadata": {},
   "source": [
    "__Random Forest Regression Model__"
   ]
  },
  {
   "cell_type": "code",
   "execution_count": 57,
   "metadata": {
    "collapsed": true
   },
   "outputs": [],
   "source": [
    "from sklearn.ensemble import RandomForestRegressor"
   ]
  },
  {
   "cell_type": "code",
   "execution_count": 58,
   "metadata": {
    "collapsed": false
   },
   "outputs": [
    {
     "name": "stdout",
     "output_type": "stream",
     "text": [
      "0.860252946219\n",
      "0.2441150431\n",
      "0.536760663507\n"
     ]
    }
   ],
   "source": [
    "rf_regr = RandomForestRegressor(max_depth=100, random_state=0)\n",
    "rf_regr.fit(Xf_train, yf_train)\n",
    "print rf_regr.score(Xf_train, yf_train)\n",
    "print rf_regr.score(Xf_test, yf_test)\n",
    "print mean_squared_error(yf_test, rf_regr.predict(Xf_test))"
   ]
  },
  {
   "cell_type": "markdown",
   "metadata": {},
   "source": [
    "__Gradient Boosting Regression Model__"
   ]
  },
  {
   "cell_type": "code",
   "execution_count": 59,
   "metadata": {
    "collapsed": false
   },
   "outputs": [],
   "source": [
    "from sklearn.ensemble import GradientBoostingRegressor"
   ]
  },
  {
   "cell_type": "code",
   "execution_count": 60,
   "metadata": {
    "collapsed": false
   },
   "outputs": [
    {
     "name": "stdout",
     "output_type": "stream",
     "text": [
      "0.703459105291\n",
      "0.298088978455\n",
      "0.498433289628\n"
     ]
    }
   ],
   "source": [
    "gbr = GradientBoostingRegressor(n_estimators=200, loss= 'ls',  max_depth=5, learning_rate=0.1, max_features='log2')\n",
    "gbr.fit(Xf_train, yf_train)\n",
    "print gbr.score(Xf_train, yf_train)\n",
    "print gbr.score(Xf_test, yf_test)\n",
    "print mean_squared_error(yf_test, gbr.predict(Xf_test))"
   ]
  },
  {
   "cell_type": "markdown",
   "metadata": {},
   "source": [
    "This is a tangible improvement of results and we can use the scatter plot and histigram of errors to visualize results:"
   ]
  },
  {
   "cell_type": "code",
   "execution_count": 61,
   "metadata": {
    "collapsed": false
   },
   "outputs": [
    {
     "data": {
      "image/png": "[encoded data removed]",
      "text/plain": [
       "<matplotlib.figure.Figure at 0x112dd518>"
      ]
     },
     "metadata": {},
     "output_type": "display_data"
    }
   ],
   "source": [
    "plt.scatter(x=yf_test, y=gbr.predict(Xf_test))\n",
    "plt.title('Gradient Boost Regression')\n",
    "plt.xlabel('Actual average rating')\n",
    "plt.ylabel('Predicted rating')\n",
    "plt.axis(ymin=0.5, ymax=5.5)\n",
    "plt.show()"
   ]
  },
  {
   "cell_type": "code",
   "execution_count": 62,
   "metadata": {
    "collapsed": false
   },
   "outputs": [
    {
     "data": {
      "image/png": "[encoded data removed]",
      "text/plain": [
       "<matplotlib.figure.Figure at 0x112d3be0>"
      ]
     },
     "metadata": {},
     "output_type": "display_data"
    }
   ],
   "source": [
    "plt.hist(gbr.predict(Xf_test) - yf_test, bins=20)\n",
    "plt.title('Gradient Boosting Regression - prediction errors')\n",
    "plt.xlabel('Absolute error on test data')\n",
    "plt.ylabel('Frequency')\n",
    "plt.show()"
   ]
  },
  {
   "cell_type": "code",
   "execution_count": 63,
   "metadata": {
    "collapsed": false
   },
   "outputs": [
    {
     "name": "stdout",
     "output_type": "stream",
     "text": [
      "Mean of the absolute predction error:  -1.34700044694e-17\n",
      "Standard deviation of the mean-centered raw data:  0.842679617266\n",
      "Standard deviation of the absolute prediction error:  0.705039292108\n"
     ]
    }
   ],
   "source": [
    "print 'Mean of the absolute predction error: ', (yf_test - yf_test.mean()).mean()\n",
    "print 'Standard deviation of the mean-centered raw data: ', (yf_test - yf_test.mean()).std()\n",
    "print 'Standard deviation of the absolute prediction error: ', (gbr.predict(Xf_test) - yf_test).std()"
   ]
  },
  {
   "cell_type": "markdown",
   "metadata": {},
   "source": [
    "The reduced standard deviation of the predicted data vs. raw data means that the algorithm did produce some predictive power; however the prediction is not very accurate or robust."
   ]
  },
  {
   "cell_type": "markdown",
   "metadata": {},
   "source": [
    "__MLP Regression Model__"
   ]
  },
  {
   "cell_type": "code",
   "execution_count": 64,
   "metadata": {
    "collapsed": true
   },
   "outputs": [],
   "source": [
    "from sklearn.neural_network import MLPRegressor"
   ]
  },
  {
   "cell_type": "code",
   "execution_count": 65,
   "metadata": {
    "collapsed": false
   },
   "outputs": [
    {
     "name": "stdout",
     "output_type": "stream",
     "text": [
      "0.254314803583\n",
      "0.199206632581\n",
      "0.568650527179\n"
     ]
    }
   ],
   "source": [
    "mlpr = MLPRegressor(solver='lbfgs', alpha=0.0001, hidden_layer_sizes = (1000,), learning_rate='adaptive')\n",
    "mlpr.fit(Xf_train, yf_train)\n",
    "print mlpr.score(Xf_train, yf_train)\n",
    "print mlpr.score(Xf_test, yf_test)\n",
    "print mean_squared_error(yf_test, mlpr.predict(Xf_test))"
   ]
  },
  {
   "cell_type": "markdown",
   "metadata": {},
   "source": [
    "__Summarize results in data frame__"
   ]
  },
  {
   "cell_type": "code",
   "execution_count": 66,
   "metadata": {
    "collapsed": false
   },
   "outputs": [
    {
     "data": {
      "text/html": [
       "<div>\n",
       "<style>\n",
       "    .dataframe thead tr:only-child th {\n",
       "        text-align: right;\n",
       "    }\n",
       "\n",
       "    .dataframe thead th {\n",
       "        text-align: left;\n",
       "    }\n",
       "\n",
       "    .dataframe tbody tr th {\n",
       "        vertical-align: top;\n",
       "    }\n",
       "</style>\n",
       "<table border=\"1\" class=\"dataframe\">\n",
       "  <thead>\n",
       "    <tr style=\"text-align: right;\">\n",
       "      <th></th>\n",
       "      <th>business_id</th>\n",
       "      <th>yelp_rounded_rating</th>\n",
       "      <th>GBR_feature_prediction</th>\n",
       "    </tr>\n",
       "  </thead>\n",
       "  <tbody>\n",
       "    <tr>\n",
       "      <th>0</th>\n",
       "      <td>TEqsEqIRFSQdDm8jwPHdkw</td>\n",
       "      <td>3.5</td>\n",
       "      <td>3.188703</td>\n",
       "    </tr>\n",
       "    <tr>\n",
       "      <th>1</th>\n",
       "      <td>MO8vR9uw--ELG5J8CbdZCA</td>\n",
       "      <td>5.0</td>\n",
       "      <td>3.206683</td>\n",
       "    </tr>\n",
       "    <tr>\n",
       "      <th>2</th>\n",
       "      <td>bBM6OguT_lLYSlq4NaMuzw</td>\n",
       "      <td>3.5</td>\n",
       "      <td>3.015560</td>\n",
       "    </tr>\n",
       "    <tr>\n",
       "      <th>3</th>\n",
       "      <td>5WtKBzHv1mL2-w1wcz3kpw</td>\n",
       "      <td>3.0</td>\n",
       "      <td>3.563569</td>\n",
       "    </tr>\n",
       "    <tr>\n",
       "      <th>4</th>\n",
       "      <td>bbMJNMWjd7n2ztcE79ZwfQ</td>\n",
       "      <td>1.5</td>\n",
       "      <td>4.415314</td>\n",
       "    </tr>\n",
       "  </tbody>\n",
       "</table>\n",
       "</div>"
      ],
      "text/plain": [
       "              business_id  yelp_rounded_rating  GBR_feature_prediction\n",
       "0  TEqsEqIRFSQdDm8jwPHdkw                  3.5                3.188703\n",
       "1  MO8vR9uw--ELG5J8CbdZCA                  5.0                3.206683\n",
       "2  bBM6OguT_lLYSlq4NaMuzw                  3.5                3.015560\n",
       "3  5WtKBzHv1mL2-w1wcz3kpw                  3.0                3.563569\n",
       "4  bbMJNMWjd7n2ztcE79ZwfQ                  1.5                4.415314"
      ]
     },
     "execution_count": 66,
     "metadata": {},
     "output_type": "execute_result"
    }
   ],
   "source": [
    "feature_results = pd.DataFrame(zip(business_id[indices_test], yf_test, gbr.predict(Xf_test)))\n",
    "feature_results.columns = ['business_id', 'yelp_rounded_rating', 'GBR_feature_prediction']\n",
    "feature_results.head()"
   ]
  },
  {
   "cell_type": "code",
   "execution_count": 67,
   "metadata": {
    "collapsed": false,
    "scrolled": true
   },
   "outputs": [
    {
     "data": {
      "text/plain": [
       "(1055, 3)"
      ]
     },
     "execution_count": 67,
     "metadata": {},
     "output_type": "execute_result"
    }
   ],
   "source": [
    "feature_results.shape"
   ]
  },
  {
   "cell_type": "markdown",
   "metadata": {},
   "source": [
    "The neural network model performs worse than gradient boosting regression and does not offer an improvement over the linear model."
   ]
  },
  {
   "cell_type": "markdown",
   "metadata": {},
   "source": [
    "__Conclusion__\n",
    "\n",
    "The best prediction result was obtained using Gradient Boosting regression on the full set of features. This gave an R^2 value of 0.68 on the training data and 0.34 on the test data, with a test MSE of 0.45. From these results and the scatter plot, we can conclude that there is a significant amount of randomness in the data and that a given restaurant's features can be used to provide a broad estimate of its probable average ratings, but not a very accurate prediction. In business terms, the 'specification' of a restaurant lacks the subjective information that is important ti users when rating a restaurant - items such as quality of food, level of service, and overall feeling of well-being. This is the information we will try to capture from the text of the reviews in order to determine the reviewer's sentiment and likely rating score."
   ]
  },
  {
   "cell_type": "markdown",
   "metadata": {},
   "source": [
    "# 3. Importing Reviews Data"
   ]
  },
  {
   "cell_type": "code",
   "execution_count": 68,
   "metadata": {
    "collapsed": false
   },
   "outputs": [
    {
     "name": "stdout",
     "output_type": "stream",
     "text": [
      "302403\n",
      "302403\n",
      "302403\n"
     ]
    }
   ],
   "source": [
    "# extract reviews data from the json file and store to data frame\n",
    "review_json_filepath = os.path.abspath('data/dataset/review.json')\n",
    "\n",
    "biz_data = []\n",
    "rating_data = []\n",
    "review_data = []\n",
    "\n",
    "\n",
    "with codecs.open(review_json_filepath, encoding='utf_8') as f:\n",
    "    for line in f:\n",
    "        business = json.loads(line)\n",
    "        bus_id = business[u'business_id'] \n",
    "        # filter restaurants in Phoenix\n",
    "        if bus_id not in phx_ids:\n",
    "            continue\n",
    "        biz_data.append(bus_id)\n",
    "        rating_data.append(business[u'stars'])\n",
    "        review_data.append(business[u'text'])\n",
    "\n",
    "print len(biz_data)\n",
    "print len(rating_data)\n",
    "print len(review_data)"
   ]
  },
  {
   "cell_type": "code",
   "execution_count": 69,
   "metadata": {
    "collapsed": false
   },
   "outputs": [
    {
     "data": {
      "text/html": [
       "<div>\n",
       "<style>\n",
       "    .dataframe thead tr:only-child th {\n",
       "        text-align: right;\n",
       "    }\n",
       "\n",
       "    .dataframe thead th {\n",
       "        text-align: left;\n",
       "    }\n",
       "\n",
       "    .dataframe tbody tr th {\n",
       "        vertical-align: top;\n",
       "    }\n",
       "</style>\n",
       "<table border=\"1\" class=\"dataframe\">\n",
       "  <thead>\n",
       "    <tr style=\"text-align: right;\">\n",
       "      <th></th>\n",
       "      <th>business_id</th>\n",
       "      <th>stars_rating</th>\n",
       "      <th>review</th>\n",
       "    </tr>\n",
       "  </thead>\n",
       "  <tbody>\n",
       "    <tr>\n",
       "      <th>0</th>\n",
       "      <td>_mqUzNXs_sJ1EJYgYZYszg</td>\n",
       "      <td>4</td>\n",
       "      <td>A really good sandwich place. It's location is...</td>\n",
       "    </tr>\n",
       "    <tr>\n",
       "      <th>1</th>\n",
       "      <td>_mqUzNXs_sJ1EJYgYZYszg</td>\n",
       "      <td>5</td>\n",
       "      <td>The food was definitely solid but what stood o...</td>\n",
       "    </tr>\n",
       "    <tr>\n",
       "      <th>2</th>\n",
       "      <td>_mqUzNXs_sJ1EJYgYZYszg</td>\n",
       "      <td>4</td>\n",
       "      <td>Great place to grab lunch. The location is a l...</td>\n",
       "    </tr>\n",
       "    <tr>\n",
       "      <th>3</th>\n",
       "      <td>_mqUzNXs_sJ1EJYgYZYszg</td>\n",
       "      <td>5</td>\n",
       "      <td>What a find, right behind the Radisson, fresh ...</td>\n",
       "    </tr>\n",
       "    <tr>\n",
       "      <th>4</th>\n",
       "      <td>_mqUzNXs_sJ1EJYgYZYszg</td>\n",
       "      <td>5</td>\n",
       "      <td>I work in a office building right around the c...</td>\n",
       "    </tr>\n",
       "    <tr>\n",
       "      <th>5</th>\n",
       "      <td>_mqUzNXs_sJ1EJYgYZYszg</td>\n",
       "      <td>3</td>\n",
       "      <td>I can't figure out why their food isn't that g...</td>\n",
       "    </tr>\n",
       "    <tr>\n",
       "      <th>6</th>\n",
       "      <td>_mqUzNXs_sJ1EJYgYZYszg</td>\n",
       "      <td>4</td>\n",
       "      <td>Only open for lunch spot, a nice little sandwi...</td>\n",
       "    </tr>\n",
       "    <tr>\n",
       "      <th>7</th>\n",
       "      <td>_mqUzNXs_sJ1EJYgYZYszg</td>\n",
       "      <td>5</td>\n",
       "      <td>After arriving at PHX airport we searched for ...</td>\n",
       "    </tr>\n",
       "    <tr>\n",
       "      <th>8</th>\n",
       "      <td>_mqUzNXs_sJ1EJYgYZYszg</td>\n",
       "      <td>3</td>\n",
       "      <td>I have visited The Lunch Lounge 3 times since ...</td>\n",
       "    </tr>\n",
       "    <tr>\n",
       "      <th>9</th>\n",
       "      <td>_mqUzNXs_sJ1EJYgYZYszg</td>\n",
       "      <td>5</td>\n",
       "      <td>Happy to have found this place! Great food, de...</td>\n",
       "    </tr>\n",
       "  </tbody>\n",
       "</table>\n",
       "</div>"
      ],
      "text/plain": [
       "              business_id  stars_rating  \\\n",
       "0  _mqUzNXs_sJ1EJYgYZYszg             4   \n",
       "1  _mqUzNXs_sJ1EJYgYZYszg             5   \n",
       "2  _mqUzNXs_sJ1EJYgYZYszg             4   \n",
       "3  _mqUzNXs_sJ1EJYgYZYszg             5   \n",
       "4  _mqUzNXs_sJ1EJYgYZYszg             5   \n",
       "5  _mqUzNXs_sJ1EJYgYZYszg             3   \n",
       "6  _mqUzNXs_sJ1EJYgYZYszg             4   \n",
       "7  _mqUzNXs_sJ1EJYgYZYszg             5   \n",
       "8  _mqUzNXs_sJ1EJYgYZYszg             3   \n",
       "9  _mqUzNXs_sJ1EJYgYZYszg             5   \n",
       "\n",
       "                                              review  \n",
       "0  A really good sandwich place. It's location is...  \n",
       "1  The food was definitely solid but what stood o...  \n",
       "2  Great place to grab lunch. The location is a l...  \n",
       "3  What a find, right behind the Radisson, fresh ...  \n",
       "4  I work in a office building right around the c...  \n",
       "5  I can't figure out why their food isn't that g...  \n",
       "6  Only open for lunch spot, a nice little sandwi...  \n",
       "7  After arriving at PHX airport we searched for ...  \n",
       "8  I have visited The Lunch Lounge 3 times since ...  \n",
       "9  Happy to have found this place! Great food, de...  "
      ]
     },
     "execution_count": 69,
     "metadata": {},
     "output_type": "execute_result"
    }
   ],
   "source": [
    "reviews_df = pd.DataFrame(zip(biz_data, rating_data, review_data))\n",
    "reviews_df.columns = ['business_id', 'stars_rating', 'review']\n",
    "reviews_df.head(10)"
   ]
  },
  {
   "cell_type": "markdown",
   "metadata": {},
   "source": [
    "Reviews data stored in 'reviews_df' data frame and includes business id, stars rating and revew text. Line below extracts one sample review text (stored as unicode):"
   ]
  },
  {
   "cell_type": "code",
   "execution_count": 70,
   "metadata": {
    "collapsed": false
   },
   "outputs": [
    {
     "data": {
      "text/plain": [
       "u'I absolutely always enjoy the jade red chicken.  A little disappointed they do not have egg rolls but the heat selection of Asian beers definitely make up for it'"
      ]
     },
     "execution_count": 70,
     "metadata": {},
     "output_type": "execute_result"
    }
   ],
   "source": [
    "reviews_df.review[299522]"
   ]
  },
  {
   "cell_type": "code",
   "execution_count": 71,
   "metadata": {
    "collapsed": false
   },
   "outputs": [
    {
     "data": {
      "text/plain": [
       "3.803288988535167"
      ]
     },
     "execution_count": 71,
     "metadata": {},
     "output_type": "execute_result"
    }
   ],
   "source": [
    "# mean of the ratings\n",
    "reviews_df.stars_rating.mean()"
   ]
  },
  {
   "cell_type": "code",
   "execution_count": 72,
   "metadata": {
    "collapsed": false
   },
   "outputs": [
    {
     "data": {
      "text/plain": [
       "1     31578\n",
       "2     27113\n",
       "3     36658\n",
       "4     80922\n",
       "5    126132\n",
       "Name: stars_rating, dtype: int64"
      ]
     },
     "execution_count": 72,
     "metadata": {},
     "output_type": "execute_result"
    }
   ],
   "source": [
    "reviews_df.stars_rating.value_counts().sort_index()"
   ]
  },
  {
   "cell_type": "code",
   "execution_count": 73,
   "metadata": {
    "collapsed": false
   },
   "outputs": [
    {
     "data": {
      "image/png": "[encoded data removed]",
      "text/plain": [
       "<matplotlib.figure.Figure at 0x113697b8>"
      ]
     },
     "metadata": {},
     "output_type": "display_data"
    }
   ],
   "source": [
    "# histogram of individual ratings\n",
    "plt.hist(reviews_df.stars_rating, bins=5)\n",
    "plt.show()"
   ]
  },
  {
   "cell_type": "markdown",
   "metadata": {},
   "source": [
    "# 4. Sentiment Modeling"
   ]
  },
  {
   "cell_type": "markdown",
   "metadata": {},
   "source": [
    "## 4.1. Importing the Trained NLP Model"
   ]
  },
  {
   "cell_type": "markdown",
   "metadata": {},
   "source": [
    "We now have two data frames for the set of approx. 3500 restaurant businesses in Phoenix. - one with business information and one containing 300,000+ reviews about them. \n",
    "\n",
    "The next step uses the NLP model (already trained on the entire dataset of 2.9 million reviews) to extract summary information from the reviews about each business and add this information to the features matrix.\n",
    "\n",
    "The model will be imported as a gensim word2vec model and each review will be converted to a feature vector. As reviews vary in length, a method is needed to obtain a representative feature vector for each review in the same format. The solution used here is to generate a feature vector for each word in the review (in its lemma form, excluding punctuation, white space and stop words), add vectors for all words in the review, and divide by the number of words. This will create an average feature vector that is a representation of the broad meaning of the review."
   ]
  },
  {
   "cell_type": "code",
   "execution_count": 74,
   "metadata": {
    "collapsed": true
   },
   "outputs": [],
   "source": [
    "# this is to access the file where the ENglish language model is located\n",
    "import sys\n",
    "sys.path.append('C:\\Windows\\System32\\.env\\Lib\\site-packages')"
   ]
  },
  {
   "cell_type": "code",
   "execution_count": 75,
   "metadata": {
    "collapsed": false
   },
   "outputs": [],
   "source": [
    "# import spact for processing text in reviews\n",
    "import spacy\n",
    "import en_core_web_sm\n",
    "nlp = en_core_web_sm.load() "
   ]
  },
  {
   "cell_type": "code",
   "execution_count": 76,
   "metadata": {
    "collapsed": false
   },
   "outputs": [
    {
     "name": "stderr",
     "output_type": "stream",
     "text": [
      "C:\\Users\\Work\\Anaconda2\\lib\\site-packages\\gensim\\utils.py:865: UserWarning: detected Windows; aliasing chunkize to chunkize_serial\n",
      "  warnings.warn(\"detected Windows; aliasing chunkize to chunkize_serial\")\n",
      "Using CNTK backend\n",
      "C:\\Users\\Work\\Anaconda2\\lib\\site-packages\\keras\\backend\\cntk_backend.py:19: UserWarning: CNTK backend warning: GPU is not detected. CNTK's CPU version is not fully optimized,please run with GPU to get better performance.\n",
      "  'CNTK backend warning: GPU is not detected. '\n"
     ]
    }
   ],
   "source": [
    "# import gensime module to use word2vec model created\n",
    "from gensim.models import Word2Vec"
   ]
  },
  {
   "cell_type": "code",
   "execution_count": 77,
   "metadata": {
    "collapsed": false
   },
   "outputs": [],
   "source": [
    "# import the trained word2vec model\n",
    "model = Word2Vec.load('data/intermediate/word2vec_model_all')"
   ]
  },
  {
   "cell_type": "code",
   "execution_count": 78,
   "metadata": {
    "collapsed": false
   },
   "outputs": [],
   "source": [
    "# create set of words in word2vec model\n",
    "index2word_set = set(model.wv.index2word)"
   ]
  },
  {
   "cell_type": "code",
   "execution_count": 79,
   "metadata": {
    "collapsed": false
   },
   "outputs": [
    {
     "data": {
      "text/plain": [
       "array([ 0.44177014,  0.34545311, -0.4863095 ,  0.35393116,  0.20394039,\n",
       "        0.32689789, -0.04189698,  0.09583075,  0.59013194,  0.13289815,\n",
       "       -0.43105602,  0.4870742 , -0.16222502, -0.2792412 ,  0.29100522,\n",
       "       -0.23376985, -0.16161127, -0.33476841,  0.11884616, -0.02219654,\n",
       "       -0.06832016,  0.18777724, -0.31993359,  0.41420466,  0.02011142,\n",
       "        0.34190252, -0.02196711,  0.16111246, -0.16246185,  0.0499949 ,\n",
       "       -0.19975521, -0.16161473,  0.17163743, -0.22013833,  0.23611847,\n",
       "       -0.27877772, -0.37166238,  0.0329407 ,  0.58188915,  0.24307698,\n",
       "        0.4378143 ,  0.02364679, -0.20428382,  0.06199164,  0.05651153,\n",
       "       -0.15151869,  0.58012015, -0.288416  ,  0.45948359,  0.33597344,\n",
       "        0.13952601, -0.23661782, -0.20378302,  0.42699447, -0.07695791,\n",
       "       -0.21763811, -0.12416524,  0.39530164,  0.24426317, -0.08625464,\n",
       "        0.01122354,  0.07476675,  0.07364706,  0.05514677,  0.03141041,\n",
       "       -0.44871995, -0.64922386,  0.27328208, -0.46428677, -0.07973774,\n",
       "       -0.11277536, -0.03787094, -0.13846612,  0.00076886, -0.31760025,\n",
       "       -0.07917943,  0.03352406,  0.55011755, -0.10536788, -0.11815295,\n",
       "       -0.03641997,  0.09829271,  0.20049158, -0.03420196, -0.1365761 ,\n",
       "       -0.1268909 , -0.29851314, -0.41611037, -0.13607046, -0.22747231,\n",
       "       -0.29927588, -0.25337467, -0.19961017, -0.22294429, -0.20607883,\n",
       "        0.10806422, -0.15409589,  0.04500968,  0.04672743,  0.39272976], dtype=float32)"
      ]
     },
     "execution_count": 79,
     "metadata": {},
     "output_type": "execute_result"
    }
   ],
   "source": [
    "# show feature vector for selected words\n",
    "model['excellent']"
   ]
  },
  {
   "cell_type": "code",
   "execution_count": 80,
   "metadata": {
    "collapsed": false
   },
   "outputs": [],
   "source": [
    "def punct_space_stop(token):\n",
    "    \"\"\"\n",
    "    helper function to eliminate tokens\n",
    "    that are pure punctuation, whitespace and stop words\n",
    "    \"\"\"\n",
    "    \n",
    "    return token.is_punct or token.is_space or token.is_stop\n"
   ]
  },
  {
   "cell_type": "code",
   "execution_count": 81,
   "metadata": {
    "collapsed": false
   },
   "outputs": [],
   "source": [
    "def makeFeatureVec(words, model, num_features):\n",
    "    \"\"\"\n",
    "    Function to average all of the word vectors in a review\n",
    "    \"\"\"\n",
    "    # process the unicode input text to tokens\n",
    "    nlp_words = nlp(words)\n",
    "    # Pre-initialize an empty numpy array (for speed)\n",
    "    featureVec = np.zeros((num_features,),dtype=\"float32\")\n",
    "    #\n",
    "    nwords = 0.\n",
    "    # Loop over each word in the review and, if it is in the model's\n",
    "    # vocaublary, add its feature vector to the total\n",
    "    for word in nlp_words:\n",
    "        if not punct_space_stop(word):\n",
    "            # convert to lemma and unicode \n",
    "            uw = unicode(word.lemma_)\n",
    "            if uw in index2word_set: \n",
    "                nwords = nwords + 1.\n",
    "                featureVec = np.add(featureVec,model[uw])\n",
    "    # \n",
    "    # Divide the result by the number of words to get the average\n",
    "    featureVec = np.divide(featureVec,nwords)\n",
    "    return featureVec"
   ]
  },
  {
   "cell_type": "code",
   "execution_count": 82,
   "metadata": {
    "collapsed": false
   },
   "outputs": [],
   "source": [
    "def getAvgFeatureVecs(reviews, model, num_features):\n",
    "    \"\"\"\n",
    "    Function to calculate the average feature vector for each \n",
    "    review given a list of reviews and return a 2D numpy array. \n",
    "    If list of reviews is a pandas DataFrame column, a slice of the column \n",
    "    needs to be fed into the function and not simply the column name\n",
    "    \"\"\"\n",
    "    # Initialize a counter\n",
    "    counter = 0\n",
    "    # \n",
    "    # Preallocate a 2D numpy array, for speed\n",
    "    reviewFeatureVecs = np.zeros((len(reviews),num_features),dtype=\"float32\")\n",
    "    # \n",
    "    # Loop through the reviews and update progress everu 1000 reviews\n",
    "    for review in reviews:\n",
    "        # keep track of progress\n",
    "        if counter%10000 == 0:\n",
    "            print \"Review %d of %d\" % (counter, len(reviews)) \n",
    "            \n",
    "        # Call the function (defined above) that makes average feature vectors\n",
    "        reviewFeatureVecs[counter] = makeFeatureVec(review, model, num_features)\n",
    "       \n",
    "        # Increment the counter\n",
    "        counter = counter + 1\n",
    "    return reviewFeatureVecs\n"
   ]
  },
  {
   "cell_type": "markdown",
   "metadata": {},
   "source": [
    "## 4.2. Random Forest Classifier "
   ]
  },
  {
   "cell_type": "markdown",
   "metadata": {},
   "source": [
    "The first attemt to classify data will use a random forest model. Paramneters to be tuned to optimize the model are: number of trees used, maximum tree depth, minimum items in a leaf. In addition the n_jobs parameter can be set to parallelize the process, using all 4 cores (importnat for the whole data set of 300k+ reviews)."
   ]
  },
  {
   "cell_type": "code",
   "execution_count": 83,
   "metadata": {
    "collapsed": true
   },
   "outputs": [],
   "source": [
    "from sklearn.ensemble import RandomForestClassifier"
   ]
  },
  {
   "cell_type": "code",
   "execution_count": 84,
   "metadata": {
    "collapsed": true
   },
   "outputs": [],
   "source": [
    "# function to map star ratings to sentiment\n",
    "# 1-2 stars: set to 0, 'negative review'\n",
    "# 4-5 stars: set to 1, 'positive review'\n",
    "# 3 stars: net to None and drop values at later stage, 'neutral review that is not useful for sentiment analysis'\n",
    "def ratings_map(x):\n",
    "    if x in [1,2]:\n",
    "        xnew = 0\n",
    "    elif x in [4,5]:\n",
    "        xnew = 1\n",
    "    else: \n",
    "        xnew = None\n",
    "    return xnew"
   ]
  },
  {
   "cell_type": "code",
   "execution_count": 85,
   "metadata": {
    "collapsed": false
   },
   "outputs": [
    {
     "data": {
      "text/plain": [
       "(302403, 4)"
      ]
     },
     "execution_count": 85,
     "metadata": {},
     "output_type": "execute_result"
    }
   ],
   "source": [
    "# add sentiment column to the entire data set (300k reviews)\n",
    "reviews_df.loc[:,'sentiment'] = reviews_df.stars_rating.apply(lambda x: ratings_map(x))\n",
    "reviews_df.shape"
   ]
  },
  {
   "cell_type": "code",
   "execution_count": 86,
   "metadata": {
    "collapsed": false
   },
   "outputs": [
    {
     "data": {
      "text/plain": [
       "(265745, 4)"
      ]
     },
     "execution_count": 86,
     "metadata": {},
     "output_type": "execute_result"
    }
   ],
   "source": [
    "# drop the 3's and save to reviews_df1\n",
    "reviews_df1 = reviews_df.dropna()\n",
    "reviews_df1.shape"
   ]
  },
  {
   "cell_type": "code",
   "execution_count": 87,
   "metadata": {
    "collapsed": false
   },
   "outputs": [
    {
     "name": "stdout",
     "output_type": "stream",
     "text": [
      "Wall time: 269 ms\n"
     ]
    }
   ],
   "source": [
    "%%time\n",
    "# create feature matrix X and results vector y\n",
    "# for X need to extract feature vectors for all reviews in the large data set\n",
    "\n",
    "if 0==1:\n",
    "    X2 = getAvgFeatureVecs(reviews_df1.review[:], model, 100)\n",
    "    # if the array contains NaN, convert to zero\n",
    "    X21 = np.nan_to_num(X2) \n",
    "    np.save('X_matrix', X21)\n",
    "    \n",
    "else: \n",
    "    X21 = np.load('X_matrix.npy')\n",
    "y2 = reviews_df1.sentiment"
   ]
  },
  {
   "cell_type": "code",
   "execution_count": 88,
   "metadata": {
    "collapsed": false
   },
   "outputs": [],
   "source": [
    "# split data into training and test sets\n",
    "X2_train, X2_test, y2_train, y2_test = train_test_split(X21, y2, test_size=0.3)"
   ]
  },
  {
   "cell_type": "code",
   "execution_count": 89,
   "metadata": {
    "collapsed": false
   },
   "outputs": [
    {
     "name": "stdout",
     "output_type": "stream",
     "text": [
      "0.914643018414\n",
      "Wall time: 13min 17s\n"
     ]
    }
   ],
   "source": [
    "%%time\n",
    "# fit random forest model to training set\n",
    "# use to predict sentiment on test set\n",
    "# evaluate score as proportion of accurate predictions\n",
    "\n",
    "forest2 = RandomForestClassifier(n_estimators = 500, n_jobs=4)\n",
    "forest2 = forest2.fit(X2_train, y2_train)\n",
    "result2 = forest2.predict(X2_test)\n",
    "score = (result2 - y2_test) == 0\n",
    "print float(score.sum())/len(score)"
   ]
  },
  {
   "cell_type": "code",
   "execution_count": 90,
   "metadata": {
    "collapsed": true
   },
   "outputs": [],
   "source": [
    "y2_pred = forest2.predict(X2_test)"
   ]
  },
  {
   "cell_type": "code",
   "execution_count": 91,
   "metadata": {
    "collapsed": true
   },
   "outputs": [],
   "source": [
    "from sklearn.metrics import precision_score, recall_score"
   ]
  },
  {
   "cell_type": "code",
   "execution_count": 92,
   "metadata": {
    "collapsed": false
   },
   "outputs": [
    {
     "name": "stdout",
     "output_type": "stream",
     "text": [
      "Precision score:  0.975135587492\n",
      "Recall score:  0.920123914232\n"
     ]
    }
   ],
   "source": [
    "# precision and recall on positive sentiment reviews\n",
    "print 'Precision score: ', precision_score(y2_pred, y2_test)\n",
    "print 'Recall score: ', recall_score(y2_pred, y2_test)"
   ]
  },
  {
   "cell_type": "code",
   "execution_count": 93,
   "metadata": {
    "collapsed": false
   },
   "outputs": [
    {
     "name": "stdout",
     "output_type": "stream",
     "text": [
      "Precision score (negative sentiment):  0.700915448911\n",
      "Recall score (negative sentiment):  0.888624567474\n"
     ]
    }
   ],
   "source": [
    "# precision and recall on negative sentiment reviews\n",
    "print 'Precision score (negative sentiment): ', precision_score(y2_pred, y2_test, pos_label=0)\n",
    "print 'Recall score (negative sentiment): ', recall_score(y2_pred, y2_test, pos_label=0)"
   ]
  },
  {
   "cell_type": "code",
   "execution_count": 94,
   "metadata": {
    "collapsed": false
   },
   "outputs": [
    {
     "data": {
      "text/plain": [
       "0.77940143495057945"
      ]
     },
     "execution_count": 94,
     "metadata": {},
     "output_type": "execute_result"
    }
   ],
   "source": [
    "# proportion of positive reviews\n",
    "positive_sentiment = (y2_test ==1).sum() / float(len(y2_test))\n",
    "positive_sentiment"
   ]
  },
  {
   "cell_type": "markdown",
   "metadata": {},
   "source": [
    "__Results:__\n",
    "\n",
    "The RandomForestClassifier(n_estimators = 500, n_jobs=4) gives a score of 0.916. The best result was obtained using default paramteres; changing settings did not result in any improvement. As the positive reviews represent 78% of the data, the negative reviews are harder to identify and the critical score is the precision on negative reviews, at 0.70."
   ]
  },
  {
   "cell_type": "markdown",
   "metadata": {},
   "source": [
    "## 4.3. Neural Network Classifier "
   ]
  },
  {
   "cell_type": "markdown",
   "metadata": {},
   "source": [
    "The next part is an attempt to produce better prediction results using a neural network model on the same data. The model used is the Multi-layer Perceptron (MLP) classifier from the scikit-learn library. Further, a range of parameters will be tested in order to tune the model for optimal results."
   ]
  },
  {
   "cell_type": "code",
   "execution_count": 95,
   "metadata": {
    "collapsed": false
   },
   "outputs": [],
   "source": [
    "from sklearn.neural_network import MLPClassifier"
   ]
  },
  {
   "cell_type": "code",
   "execution_count": 96,
   "metadata": {
    "collapsed": true
   },
   "outputs": [],
   "source": [
    "clf = MLPClassifier(solver='adam', alpha=1e-4, random_state=1)"
   ]
  },
  {
   "cell_type": "code",
   "execution_count": 97,
   "metadata": {
    "collapsed": false
   },
   "outputs": [
    {
     "data": {
      "text/plain": [
       "MLPClassifier(activation='relu', alpha=0.0001, batch_size='auto', beta_1=0.9,\n",
       "       beta_2=0.999, early_stopping=False, epsilon=1e-08,\n",
       "       hidden_layer_sizes=(100,), learning_rate='constant',\n",
       "       learning_rate_init=0.001, max_iter=200, momentum=0.9,\n",
       "       nesterovs_momentum=True, power_t=0.5, random_state=1, shuffle=True,\n",
       "       solver='adam', tol=0.0001, validation_fraction=0.1, verbose=False,\n",
       "       warm_start=False)"
      ]
     },
     "execution_count": 97,
     "metadata": {},
     "output_type": "execute_result"
    }
   ],
   "source": [
    "clf.fit(X2_train, y2_train)"
   ]
  },
  {
   "cell_type": "code",
   "execution_count": 98,
   "metadata": {
    "collapsed": false
   },
   "outputs": [
    {
     "name": "stdout",
     "output_type": "stream",
     "text": [
      "0.940544879835\n"
     ]
    }
   ],
   "source": [
    "clf_result = clf.predict(X2_test)\n",
    "score = (clf_result - y2_test) == 0\n",
    "print float(score.sum())/len(score)"
   ]
  },
  {
   "cell_type": "code",
   "execution_count": 99,
   "metadata": {
    "collapsed": false
   },
   "outputs": [
    {
     "name": "stdout",
     "output_type": "stream",
     "text": [
      "Precision score:  0.961150361298\n",
      "Recall score:  0.962513497397\n"
     ]
    }
   ],
   "source": [
    "# precision and recall on positive sentiment reviews\n",
    "print 'Precision score: ', precision_score(clf_result, y2_test)\n",
    "print 'Recall score: ', recall_score(clf_result, y2_test)"
   ]
  },
  {
   "cell_type": "code",
   "execution_count": 100,
   "metadata": {
    "collapsed": false
   },
   "outputs": [
    {
     "name": "stdout",
     "output_type": "stream",
     "text": [
      "Precision score (negative sentiment):  0.867743219423\n",
      "Recall score (negative sentiment):  0.86342291372\n"
     ]
    }
   ],
   "source": [
    "# precision and recall on negative sentiment reviews\n",
    "print 'Precision score (negative sentiment): ', precision_score(clf_result, y2_test, pos_label=0)\n",
    "print 'Recall score (negative sentiment): ', recall_score(clf_result, y2_test, pos_label=0)"
   ]
  },
  {
   "cell_type": "markdown",
   "metadata": {},
   "source": [
    "Results:\n",
    " - MLPClassifier(solver='lbfgs', alpha=1e-5, random_state=1); score: 0.9400\n",
    " - MLPClassifier(solver='lbfgs', alpha=1e-4, random_state=1); score: 0.9406\n",
    " - MLPClassifier(solver='lbfgs', alpha=1e-3, random_state=1); score: 0.9397\n",
    " - MLPClassifier(solver='sgd', alpha=1e-4, random_state=1); score: 0.9360\n",
    " - MLPClassifier(solver='sgd', alpha=1e-4, random_state=1, learning_rate='adaptive'); score: 0.9362\n",
    " - MLPClassifier(solver='sgd', alpha=1e-4, random_state=1, learning_rate='invscaling'); score: 0.7796\n",
    " - MLPClassifier(solver='adam', alpha=1e-4, random_state=1); score: 0.9412 \n",
    " - MLPClassifier(solver='adam', alpha=1e-3, random_state=1); score = 0.9419 (this took much longer to run)"
   ]
  },
  {
   "cell_type": "markdown",
   "metadata": {},
   "source": [
    "The standard MLP classifier, with default settings gives a prediction accuracy of 94.0%. Using different solvers and varying values of alpha (L2 regularization parameter that helps avoid overfitting) gave little variation in accuracy. The best result obtained was 94.2% using the 'adam' solver. According to the scikit-learn documentation, the 'adam' solver works relatively well on large data sets. The only outlier in the model is the 'sgd' solver with an inverse scaling learning rate, which only gave 78% accuracy.  \n",
    "\n",
    "Overall, this model gave better results that the random forest model. The critical parameter, precision on negative reviews, gave a score of 0.87 using the MLP classifier compared to 0.70 using the Random Forest classifier."
   ]
  },
  {
   "cell_type": "markdown",
   "metadata": {},
   "source": [
    "# 5. Predicting Star Ratings"
   ]
  },
  {
   "cell_type": "markdown",
   "metadata": {},
   "source": [
    "The previous section analyzed sentiment predictions for reviews as a positive (rating of 4 or 5 stars) or negative (rating of 1 or 2 stars). The 3-star reviews were ignored altogether. Using a random forest or MLP classifier bith gave good results with accuracy of 92% (random forest) and 94% (MLP). This is not surprising, as the elimination of 3-star reviews has provided a clearer separation of the two classes.\n",
    "\n",
    "In the next section, we will try to predict the actual star rating of a review. In order to provide a more computationally manageable data set, the analysis will be performed on a slice of the original data, containing 56,590 reviews. This will be split into training and test data. The trining set will be used to 'learn' the data, and a test sample will be used to predict the data and obtain a prediction accuracy as the mean squared error (MSE). \n",
    "\n",
    "We will first use classification models, taking the 1-5 star ratings as class labels. The classifiers used are:\n",
    "- Random Forest\n",
    "- Ada Boost\n",
    "- MLP\n",
    "\n",
    "The scoring parameters will measure the proportion of correct predictions for each model, and the proportion of 'bad' predictions (where the error is 2 or higher) and the MSE.\n",
    "\n",
    "Next, regression models will be used to predict the star ratings as a quantitative measure. The MLP and Gradient Boosting regression models will be used."
   ]
  },
  {
   "cell_type": "markdown",
   "metadata": {},
   "source": [
    "__Separate training and test data from the features analysis in order to compare predictive power of features and reviews on the same test data:__"
   ]
  },
  {
   "cell_type": "markdown",
   "metadata": {},
   "source": [
    "First, we will make sure only to include training samples from the previous features analysis. The test data from the features analysis will also form the test data for review predictions, therefore we will be comparing two models on the same test data."
   ]
  },
  {
   "cell_type": "code",
   "execution_count": 101,
   "metadata": {
    "collapsed": false
   },
   "outputs": [
    {
     "name": "stdout",
     "output_type": "stream",
     "text": [
      "2460 1055\n"
     ]
    }
   ],
   "source": [
    "training_set = set(business_id[indices_train])\n",
    "test_set = set(business_id[indices_test])\n",
    "print len(training_set), len(test_set)"
   ]
  },
  {
   "cell_type": "code",
   "execution_count": 102,
   "metadata": {
    "collapsed": false
   },
   "outputs": [
    {
     "data": {
      "text/plain": [
       "(56590, 5)"
      ]
     },
     "execution_count": 102,
     "metadata": {},
     "output_type": "execute_result"
    }
   ],
   "source": [
    "reviews_df['train'] = reviews_df['business_id'].apply(lambda x: x in training_set)\n",
    "reviews_sample = reviews_df[reviews_df['train'] == True]\n",
    "reviews_sample = reviews_sample.loc[:80000,:]\n",
    "reviews_sample.shape"
   ]
  },
  {
   "cell_type": "code",
   "execution_count": 103,
   "metadata": {
    "collapsed": false
   },
   "outputs": [
    {
     "name": "stdout",
     "output_type": "stream",
     "text": [
      "Wall time: 60 ms\n"
     ]
    }
   ],
   "source": [
    "%%time\n",
    "if 0 == 1:\n",
    "    X3 = getAvgFeatureVecs(reviews_sample.review[:], model, 100)\n",
    "    np.save('X_matrix_classification', X3)\n",
    "else: X3 = np.load('X_matrix_classification.npy')"
   ]
  },
  {
   "cell_type": "code",
   "execution_count": 104,
   "metadata": {
    "collapsed": true
   },
   "outputs": [],
   "source": [
    "# this is to resolve the warning raised and convert nan vaslues to zeros \n",
    "# only a handful of such cases are present in the data set and will not harm the results\n",
    "X3 = np.nan_to_num(X3)"
   ]
  },
  {
   "cell_type": "code",
   "execution_count": 105,
   "metadata": {
    "collapsed": false
   },
   "outputs": [
    {
     "data": {
      "text/plain": [
       "(array([1, 2, 3, 4, 5], dtype=int64),\n",
       " array([ 7208,  5587,  7329, 15123, 21343], dtype=int64))"
      ]
     },
     "execution_count": 105,
     "metadata": {},
     "output_type": "execute_result"
    }
   ],
   "source": [
    "y3 = reviews_sample.stars_rating.values\n",
    "np.unique(y3, return_counts=True)"
   ]
  },
  {
   "cell_type": "code",
   "execution_count": 106,
   "metadata": {
    "collapsed": true
   },
   "outputs": [],
   "source": [
    "# split data into training and test sets\n",
    "X3_train, X3_test, y3_train, y3_test = train_test_split(X3, y3, test_size=0.3)"
   ]
  },
  {
   "cell_type": "markdown",
   "metadata": {},
   "source": [
    "## 5.1 Classification Models "
   ]
  },
  {
   "cell_type": "markdown",
   "metadata": {
    "collapsed": true
   },
   "source": [
    "__Random Forest Classifier__"
   ]
  },
  {
   "cell_type": "code",
   "execution_count": 107,
   "metadata": {
    "collapsed": false
   },
   "outputs": [
    {
     "name": "stdout",
     "output_type": "stream",
     "text": [
      "MSE on random forect classifier:  1.27278082111\n",
      "Proportion of correct predictions:  0.536372739589\n"
     ]
    }
   ],
   "source": [
    "# random forest classifier\n",
    "\n",
    "rfc = RandomForestClassifier(n_estimators = 200, max_depth = 100, min_samples_leaf = 1, n_jobs=4)\n",
    "rfc = rfc.fit(X3_train, y3_train)\n",
    "result_rfc = rfc.predict(X3_test)\n",
    "mse_rfc = mean_squared_error(y3_test, result_rfc)\n",
    "correct_pred_rfc = (result_rfc - y3_test) == 0\n",
    "print 'MSE on random forect classifier: ', mse_rfc\n",
    "print 'Proportion of correct predictions: ', correct_pred_rfc.sum() / float(len(y3_test))"
   ]
  },
  {
   "cell_type": "markdown",
   "metadata": {},
   "source": [
    "__Ada Boost Classifier__"
   ]
  },
  {
   "cell_type": "code",
   "execution_count": 108,
   "metadata": {
    "collapsed": true
   },
   "outputs": [],
   "source": [
    "from sklearn.ensemble import AdaBoostClassifier"
   ]
  },
  {
   "cell_type": "code",
   "execution_count": 109,
   "metadata": {
    "collapsed": false
   },
   "outputs": [
    {
     "name": "stdout",
     "output_type": "stream",
     "text": [
      "MSE on Ada Boost classifier:  1.12805560464\n",
      "Proportion of correct predictions:  0.534252223597\n"
     ]
    }
   ],
   "source": [
    "ada = AdaBoostClassifier(n_estimators = 100, random_state=1)\n",
    "ada = ada.fit(X3_train, y3_train)\n",
    "result_ada = ada.predict(X3_test)\n",
    "mse_ada = mean_squared_error(y3_test, result_ada)\n",
    "correct_pred_ada = (result_ada - y3_test) == 0\n",
    "print 'MSE on Ada Boost classifier: ', mse_ada\n",
    "print 'Proportion of correct predictions: ', correct_pred_ada.sum() / float(len(y3_test))              "
   ]
  },
  {
   "cell_type": "markdown",
   "metadata": {},
   "source": [
    "__MLP Classifier__"
   ]
  },
  {
   "cell_type": "code",
   "execution_count": 110,
   "metadata": {
    "collapsed": false
   },
   "outputs": [
    {
     "name": "stdout",
     "output_type": "stream",
     "text": [
      "MSE on MLP classifier:  0.85026800966\n",
      "Proportion of correct predictions:  0.572421511457\n"
     ]
    }
   ],
   "source": [
    "# MLPClassifier\n",
    "\n",
    "mlpc = MLPClassifier(solver='adam', alpha=1e-4, random_state=1)\n",
    "mlpc = mlpc.fit(X3_train, y3_train)\n",
    "result_mlpc = mlpc.predict(X3_test)\n",
    "mse_mlpc = mean_squared_error(y3_test, result_mlpc)\n",
    "correct_pred_mlpc = (result_mlpc - y3_test) == 0\n",
    "print 'MSE on MLP classifier: ', mse_mlpc\n",
    "print 'Proportion of correct predictions: ', correct_pred_mlpc.sum() / float(len(y3_test))"
   ]
  },
  {
   "cell_type": "markdown",
   "metadata": {},
   "source": [
    "__Summary of Results__"
   ]
  },
  {
   "cell_type": "code",
   "execution_count": 111,
   "metadata": {
    "collapsed": false
   },
   "outputs": [
    {
     "name": "stdout",
     "output_type": "stream",
     "text": [
      "Random forest classifier bad predictions:  0.101372445073\n",
      "Ada Boost classifier bad predictions:  0.0702715438534\n",
      "MLP classifier bad predictions:  0.0441774165047\n"
     ]
    }
   ],
   "source": [
    "# proportion of 'bad' predictions\n",
    "bads_rfc = ((result_rfc - y3_test) >= 2).sum() / float(len(y3_test))\n",
    "bads_ada = ((result_ada - y3_test) >= 2).sum() / float(len(y3_test))\n",
    "bads_mlpc = ((result_mlpc - y3_test) >= 2).sum() / float(len(y3_test))\n",
    "\n",
    "print 'Random forest classifier bad predictions: ', bads_rfc\n",
    "print 'Ada Boost classifier bad predictions: ', bads_ada\n",
    "print 'MLP classifier bad predictions: ', bads_mlpc\n"
   ]
  },
  {
   "cell_type": "code",
   "execution_count": 112,
   "metadata": {
    "collapsed": false
   },
   "outputs": [],
   "source": [
    "# accurate predictions\n",
    "acc_rfc = correct_pred_rfc.sum() / float(len(y3_test))\n",
    "acc_ada = correct_pred_ada.sum() / float(len(y3_test))\n",
    "acc_mlpc = correct_pred_mlpc.sum() / float(len(y3_test))"
   ]
  },
  {
   "cell_type": "code",
   "execution_count": 113,
   "metadata": {
    "collapsed": false
   },
   "outputs": [
    {
     "data": {
      "text/html": [
       "<div>\n",
       "<style>\n",
       "    .dataframe thead tr:only-child th {\n",
       "        text-align: right;\n",
       "    }\n",
       "\n",
       "    .dataframe thead th {\n",
       "        text-align: left;\n",
       "    }\n",
       "\n",
       "    .dataframe tbody tr th {\n",
       "        vertical-align: top;\n",
       "    }\n",
       "</style>\n",
       "<table border=\"1\" class=\"dataframe\">\n",
       "  <thead>\n",
       "    <tr style=\"text-align: right;\">\n",
       "      <th></th>\n",
       "      <th>Accurate predictions</th>\n",
       "      <th>Bad predictions</th>\n",
       "      <th>MSE</th>\n",
       "    </tr>\n",
       "  </thead>\n",
       "  <tbody>\n",
       "    <tr>\n",
       "      <th>Random Forest</th>\n",
       "      <td>0.536373</td>\n",
       "      <td>0.101372</td>\n",
       "      <td>1.272781</td>\n",
       "    </tr>\n",
       "    <tr>\n",
       "      <th>Ada Boost</th>\n",
       "      <td>0.534252</td>\n",
       "      <td>0.070272</td>\n",
       "      <td>1.128056</td>\n",
       "    </tr>\n",
       "    <tr>\n",
       "      <th>MLP</th>\n",
       "      <td>0.572422</td>\n",
       "      <td>0.044177</td>\n",
       "      <td>0.850268</td>\n",
       "    </tr>\n",
       "  </tbody>\n",
       "</table>\n",
       "</div>"
      ],
      "text/plain": [
       "               Accurate predictions  Bad predictions       MSE\n",
       "Random Forest              0.536373         0.101372  1.272781\n",
       "Ada Boost                  0.534252         0.070272  1.128056\n",
       "MLP                        0.572422         0.044177  0.850268"
      ]
     },
     "execution_count": 113,
     "metadata": {},
     "output_type": "execute_result"
    }
   ],
   "source": [
    "results_summary = pd.DataFrame({'MSE': [mse_rfc, mse_ada, mse_mlpc],\n",
    "                               'Accurate predictions': [acc_rfc, acc_ada, acc_mlpc],\n",
    "                               'Bad predictions': [bads_rfc, bads_ada, bads_mlpc]})\n",
    "results_summary.index = ['Random Forest', 'Ada Boost', 'MLP'] \n",
    "results_summary                               "
   ]
  },
  {
   "cell_type": "markdown",
   "metadata": {},
   "source": [
    "For this clasification exercise, the MLP classifier gave the best results, with the lowest MSE, highest proportion of accurate predictions and lowest number of 'bad' predictions with an error >= 2. The Ada Boost and random forest models were equal in accurate predictions, but Ada Boost outperformed the random forest model by having fewer 'bad' predictions, resulting in a lower mean squared error. \n",
    "\n",
    "A possible further improvement of the neural network classifier would be to use a deep learning model, e.g. using the keras package.\n",
    "\n",
    "A simpler way is to first try regression models on the same data and compare results:"
   ]
  },
  {
   "cell_type": "markdown",
   "metadata": {},
   "source": [
    "## 5.2 Regression Models "
   ]
  },
  {
   "cell_type": "markdown",
   "metadata": {},
   "source": [
    "__MLP Regression__"
   ]
  },
  {
   "cell_type": "code",
   "execution_count": 114,
   "metadata": {
    "collapsed": false
   },
   "outputs": [
    {
     "name": "stdout",
     "output_type": "stream",
     "text": [
      "Wall time: 6min 11s\n"
     ]
    }
   ],
   "source": [
    "%%time\n",
    "mlpr1 = MLPRegressor(solver='lbfgs', alpha=0.0001, hidden_layer_sizes = (1000,), learning_rate='adaptive')\n",
    "mlpr1.fit(X3_train, y3_train)\n",
    "y3_pred = mlpr1.predict(X3_test)"
   ]
  },
  {
   "cell_type": "code",
   "execution_count": 115,
   "metadata": {
    "collapsed": false
   },
   "outputs": [
    {
     "name": "stdout",
     "output_type": "stream",
     "text": [
      "Training score:  0.691988059175\n",
      "Test score:  0.678802040696\n",
      "MSE:  0.626020411502\n",
      "MSE on integer-rounded predictions:  0.716322082818\n"
     ]
    }
   ],
   "source": [
    "print 'Training score: ', mlpr1.score(X3_train, y3_train)\n",
    "print 'Test score: ', mlpr1.score(X3_test, y3_test)\n",
    "print 'MSE: ', mean_squared_error(y3_test, y3_pred)\n",
    "# convert predictions to integer values to make the MSE comparable to classifier models\n",
    "print 'MSE on integer-rounded predictions: ', mean_squared_error(y3_test, np.rint(y3_pred))"
   ]
  },
  {
   "cell_type": "markdown",
   "metadata": {},
   "source": [
    "__Gradient Boosting__"
   ]
  },
  {
   "cell_type": "code",
   "execution_count": 116,
   "metadata": {
    "collapsed": false
   },
   "outputs": [
    {
     "name": "stdout",
     "output_type": "stream",
     "text": [
      "Wall time: 28.6 s\n"
     ]
    }
   ],
   "source": [
    "%%time\n",
    "# try a Gradient Boosting Regresion model to compare results:\n",
    "gbr1 = GradientBoostingRegressor(n_estimators=200, loss= 'ls',  max_depth=5, learning_rate=0.1, max_features='log2')\n",
    "gbr1.fit(X3_train, y3_train)\n",
    "y3_pred_gb = gbr1.predict(X3_test)"
   ]
  },
  {
   "cell_type": "code",
   "execution_count": 117,
   "metadata": {
    "collapsed": false
   },
   "outputs": [
    {
     "name": "stdout",
     "output_type": "stream",
     "text": [
      "Training score:  0.712388365472\n",
      "Test score:  0.623898534365\n",
      "MSE:  0.733028300657\n",
      "MSE on integer-rounded predictions:  0.825823172528\n"
     ]
    }
   ],
   "source": [
    "print 'Training score: ',gbr1.score(X3_train, y3_train)\n",
    "print 'Test score: ',gbr1.score(X3_test, y3_test)\n",
    "print 'MSE: ',mean_squared_error(y3_test, y3_pred_gb)\n",
    "# convert predictions to integer values to make the MSE comparable to classifier models\n",
    "print 'MSE on integer-rounded predictions: ',mean_squared_error(y3_test, np.rint(y3_pred_gb))"
   ]
  },
  {
   "cell_type": "markdown",
   "metadata": {},
   "source": [
    "__Now construct the X-matrix and y-vector for test reviews:__"
   ]
  },
  {
   "cell_type": "code",
   "execution_count": 118,
   "metadata": {
    "collapsed": false
   },
   "outputs": [
    {
     "data": {
      "text/html": [
       "<div>\n",
       "<style>\n",
       "    .dataframe thead tr:only-child th {\n",
       "        text-align: right;\n",
       "    }\n",
       "\n",
       "    .dataframe thead th {\n",
       "        text-align: left;\n",
       "    }\n",
       "\n",
       "    .dataframe tbody tr th {\n",
       "        vertical-align: top;\n",
       "    }\n",
       "</style>\n",
       "<table border=\"1\" class=\"dataframe\">\n",
       "  <thead>\n",
       "    <tr style=\"text-align: right;\">\n",
       "      <th></th>\n",
       "      <th>business_id</th>\n",
       "      <th>stars_rating</th>\n",
       "      <th>review</th>\n",
       "      <th>sentiment</th>\n",
       "      <th>train</th>\n",
       "    </tr>\n",
       "  </thead>\n",
       "  <tbody>\n",
       "    <tr>\n",
       "      <th>0</th>\n",
       "      <td>_mqUzNXs_sJ1EJYgYZYszg</td>\n",
       "      <td>4</td>\n",
       "      <td>A really good sandwich place. It's location is...</td>\n",
       "      <td>1.0</td>\n",
       "      <td>False</td>\n",
       "    </tr>\n",
       "    <tr>\n",
       "      <th>1</th>\n",
       "      <td>_mqUzNXs_sJ1EJYgYZYszg</td>\n",
       "      <td>5</td>\n",
       "      <td>The food was definitely solid but what stood o...</td>\n",
       "      <td>1.0</td>\n",
       "      <td>False</td>\n",
       "    </tr>\n",
       "    <tr>\n",
       "      <th>2</th>\n",
       "      <td>_mqUzNXs_sJ1EJYgYZYszg</td>\n",
       "      <td>4</td>\n",
       "      <td>Great place to grab lunch. The location is a l...</td>\n",
       "      <td>1.0</td>\n",
       "      <td>False</td>\n",
       "    </tr>\n",
       "    <tr>\n",
       "      <th>3</th>\n",
       "      <td>_mqUzNXs_sJ1EJYgYZYszg</td>\n",
       "      <td>5</td>\n",
       "      <td>What a find, right behind the Radisson, fresh ...</td>\n",
       "      <td>1.0</td>\n",
       "      <td>False</td>\n",
       "    </tr>\n",
       "    <tr>\n",
       "      <th>4</th>\n",
       "      <td>_mqUzNXs_sJ1EJYgYZYszg</td>\n",
       "      <td>5</td>\n",
       "      <td>I work in a office building right around the c...</td>\n",
       "      <td>1.0</td>\n",
       "      <td>False</td>\n",
       "    </tr>\n",
       "  </tbody>\n",
       "</table>\n",
       "</div>"
      ],
      "text/plain": [
       "              business_id  stars_rating  \\\n",
       "0  _mqUzNXs_sJ1EJYgYZYszg             4   \n",
       "1  _mqUzNXs_sJ1EJYgYZYszg             5   \n",
       "2  _mqUzNXs_sJ1EJYgYZYszg             4   \n",
       "3  _mqUzNXs_sJ1EJYgYZYszg             5   \n",
       "4  _mqUzNXs_sJ1EJYgYZYszg             5   \n",
       "\n",
       "                                              review  sentiment  train  \n",
       "0  A really good sandwich place. It's location is...        1.0  False  \n",
       "1  The food was definitely solid but what stood o...        1.0  False  \n",
       "2  Great place to grab lunch. The location is a l...        1.0  False  \n",
       "3  What a find, right behind the Radisson, fresh ...        1.0  False  \n",
       "4  I work in a office building right around the c...        1.0  False  "
      ]
     },
     "execution_count": 118,
     "metadata": {},
     "output_type": "execute_result"
    }
   ],
   "source": [
    "test_reviews = reviews_df[reviews_df['train'] == False]\n",
    "test_reviews.head()"
   ]
  },
  {
   "cell_type": "code",
   "execution_count": 119,
   "metadata": {
    "collapsed": false
   },
   "outputs": [],
   "source": [
    "if 0 == 1:\n",
    "    X_test_reviews = getAvgFeatureVecs(test_reviews.review[:], model, 100)\n",
    "    np.save('X_test_reviews', X_test_reviews)\n",
    "else:\n",
    "    X_test_reviews = np.load('X_test_reviews.npy')"
   ]
  },
  {
   "cell_type": "code",
   "execution_count": 120,
   "metadata": {
    "collapsed": true
   },
   "outputs": [],
   "source": [
    "X_test_reviews = np.nan_to_num(X_test_reviews)"
   ]
  },
  {
   "cell_type": "code",
   "execution_count": 121,
   "metadata": {
    "collapsed": false
   },
   "outputs": [
    {
     "name": "stderr",
     "output_type": "stream",
     "text": [
      "C:\\Users\\Work\\Anaconda2\\lib\\site-packages\\pandas\\core\\indexing.py:337: SettingWithCopyWarning: \n",
      "A value is trying to be set on a copy of a slice from a DataFrame.\n",
      "Try using .loc[row_indexer,col_indexer] = value instead\n",
      "\n",
      "See the caveats in the documentation: http://pandas.pydata.org/pandas-docs/stable/indexing.html#indexing-view-versus-copy\n",
      "  self.obj[key] = _infer_fill_value(value)\n",
      "C:\\Users\\Work\\Anaconda2\\lib\\site-packages\\pandas\\core\\indexing.py:517: SettingWithCopyWarning: \n",
      "A value is trying to be set on a copy of a slice from a DataFrame.\n",
      "Try using .loc[row_indexer,col_indexer] = value instead\n",
      "\n",
      "See the caveats in the documentation: http://pandas.pydata.org/pandas-docs/stable/indexing.html#indexing-view-versus-copy\n",
      "  self.obj[item] = s\n"
     ]
    },
    {
     "data": {
      "text/html": [
       "<div>\n",
       "<style>\n",
       "    .dataframe thead tr:only-child th {\n",
       "        text-align: right;\n",
       "    }\n",
       "\n",
       "    .dataframe thead th {\n",
       "        text-align: left;\n",
       "    }\n",
       "\n",
       "    .dataframe tbody tr th {\n",
       "        vertical-align: top;\n",
       "    }\n",
       "</style>\n",
       "<table border=\"1\" class=\"dataframe\">\n",
       "  <thead>\n",
       "    <tr style=\"text-align: right;\">\n",
       "      <th></th>\n",
       "      <th>business_id</th>\n",
       "      <th>stars_rating</th>\n",
       "      <th>review</th>\n",
       "      <th>sentiment</th>\n",
       "      <th>train</th>\n",
       "      <th>MLPC_predicted_rating</th>\n",
       "      <th>MLPR_predicted_rating</th>\n",
       "    </tr>\n",
       "  </thead>\n",
       "  <tbody>\n",
       "    <tr>\n",
       "      <th>302169</th>\n",
       "      <td>rCD-XFLBhscylZdg1OkCSQ</td>\n",
       "      <td>5</td>\n",
       "      <td>The food is good,there is no question about it...</td>\n",
       "      <td>1.0</td>\n",
       "      <td>False</td>\n",
       "      <td>5</td>\n",
       "      <td>3.859756</td>\n",
       "    </tr>\n",
       "    <tr>\n",
       "      <th>302170</th>\n",
       "      <td>rCD-XFLBhscylZdg1OkCSQ</td>\n",
       "      <td>3</td>\n",
       "      <td>Salvadoreno # 2 is a very plain, very simple r...</td>\n",
       "      <td>NaN</td>\n",
       "      <td>False</td>\n",
       "      <td>4</td>\n",
       "      <td>3.174072</td>\n",
       "    </tr>\n",
       "    <tr>\n",
       "      <th>302171</th>\n",
       "      <td>rCD-XFLBhscylZdg1OkCSQ</td>\n",
       "      <td>2</td>\n",
       "      <td>I Love this place, I usually order Pupusas but...</td>\n",
       "      <td>0.0</td>\n",
       "      <td>False</td>\n",
       "      <td>1</td>\n",
       "      <td>1.985514</td>\n",
       "    </tr>\n",
       "    <tr>\n",
       "      <th>302172</th>\n",
       "      <td>rCD-XFLBhscylZdg1OkCSQ</td>\n",
       "      <td>5</td>\n",
       "      <td>This place was a gem. I looked when I first mo...</td>\n",
       "      <td>1.0</td>\n",
       "      <td>False</td>\n",
       "      <td>5</td>\n",
       "      <td>4.614179</td>\n",
       "    </tr>\n",
       "    <tr>\n",
       "      <th>302173</th>\n",
       "      <td>rCD-XFLBhscylZdg1OkCSQ</td>\n",
       "      <td>4</td>\n",
       "      <td>This place is great. The papusas are fantastic...</td>\n",
       "      <td>1.0</td>\n",
       "      <td>False</td>\n",
       "      <td>4</td>\n",
       "      <td>4.104722</td>\n",
       "    </tr>\n",
       "  </tbody>\n",
       "</table>\n",
       "</div>"
      ],
      "text/plain": [
       "                   business_id  stars_rating  \\\n",
       "302169  rCD-XFLBhscylZdg1OkCSQ             5   \n",
       "302170  rCD-XFLBhscylZdg1OkCSQ             3   \n",
       "302171  rCD-XFLBhscylZdg1OkCSQ             2   \n",
       "302172  rCD-XFLBhscylZdg1OkCSQ             5   \n",
       "302173  rCD-XFLBhscylZdg1OkCSQ             4   \n",
       "\n",
       "                                                   review  sentiment  train  \\\n",
       "302169  The food is good,there is no question about it...        1.0  False   \n",
       "302170  Salvadoreno # 2 is a very plain, very simple r...        NaN  False   \n",
       "302171  I Love this place, I usually order Pupusas but...        0.0  False   \n",
       "302172  This place was a gem. I looked when I first mo...        1.0  False   \n",
       "302173  This place is great. The papusas are fantastic...        1.0  False   \n",
       "\n",
       "        MLPC_predicted_rating  MLPR_predicted_rating  \n",
       "302169                      5               3.859756  \n",
       "302170                      4               3.174072  \n",
       "302171                      1               1.985514  \n",
       "302172                      5               4.614179  \n",
       "302173                      4               4.104722  "
      ]
     },
     "execution_count": 121,
     "metadata": {},
     "output_type": "execute_result"
    }
   ],
   "source": [
    "test_reviews.loc[:,'MLPC_predicted_rating'] = mlpc.predict(X_test_reviews)\n",
    "test_reviews.loc[:,'MLPR_predicted_rating'] = mlpr1.predict(X_test_reviews)\n",
    "test_reviews.tail()"
   ]
  },
  {
   "cell_type": "code",
   "execution_count": 122,
   "metadata": {
    "collapsed": false
   },
   "outputs": [
    {
     "data": {
      "text/plain": [
       "(86349L,)"
      ]
     },
     "execution_count": 122,
     "metadata": {},
     "output_type": "execute_result"
    }
   ],
   "source": [
    "predicted_test_reviews = mlpc.predict(X_test_reviews)\n",
    "predicted_test_reviews.shape"
   ]
  },
  {
   "cell_type": "code",
   "execution_count": 123,
   "metadata": {
    "collapsed": false
   },
   "outputs": [
    {
     "name": "stdout",
     "output_type": "stream",
     "text": [
      "MSE on MLPC:  0.788625230171\n",
      "MSE on MLPR:  0.583634379766\n",
      "MSE on MLPR rounded to integer ratings:  0.668785973202\n"
     ]
    }
   ],
   "source": [
    "print 'MSE on MLPC: ', mean_squared_error(test_reviews.MLPC_predicted_rating, test_reviews.stars_rating)\n",
    "print 'MSE on MLPR: ', mean_squared_error(test_reviews.MLPR_predicted_rating, test_reviews.stars_rating)\n",
    "print 'MSE on MLPR rounded to integer ratings: ', mean_squared_error(np.rint(test_reviews.MLPR_predicted_rating), test_reviews.stars_rating)"
   ]
  },
  {
   "cell_type": "markdown",
   "metadata": {},
   "source": [
    "The regression model provides better predictions on the reviews, with a significantly smaller MSE (0.58 for teh regression model vs. 0.80 for classification). Rounding the regression result to integer star ratings provides a level comparison between the two models and the regression model still provides a better result with MSE of 0.67. \n",
    "The regression model is the more natural choice here due to the quantitative meaning of the ratings that provide a scale for the regression to fit to. However the scaling from 1 to 5 is an arbitrary scale given by Yelp and does not necessarily mean that, for example, a rating of 5 is 5 times 'better' than a rating of 1 and 2.5 times 'better' than a rating of 2. Testing transformations of the scale may result in improvements of the prediction performance."
   ]
  },
  {
   "cell_type": "markdown",
   "metadata": {},
   "source": [
    "__Now group reviews by business_id and average rating predictions:__"
   ]
  },
  {
   "cell_type": "code",
   "execution_count": 124,
   "metadata": {
    "collapsed": false
   },
   "outputs": [
    {
     "data": {
      "text/html": [
       "<div>\n",
       "<style>\n",
       "    .dataframe thead tr:only-child th {\n",
       "        text-align: right;\n",
       "    }\n",
       "\n",
       "    .dataframe thead th {\n",
       "        text-align: left;\n",
       "    }\n",
       "\n",
       "    .dataframe tbody tr th {\n",
       "        vertical-align: top;\n",
       "    }\n",
       "</style>\n",
       "<table border=\"1\" class=\"dataframe\">\n",
       "  <thead>\n",
       "    <tr style=\"text-align: right;\">\n",
       "      <th></th>\n",
       "      <th>yelp_avg_rating</th>\n",
       "      <th>MLPC_predicted_avg_rating</th>\n",
       "      <th>MLPR_predicted_avg_rating</th>\n",
       "    </tr>\n",
       "    <tr>\n",
       "      <th>business_id</th>\n",
       "      <th></th>\n",
       "      <th></th>\n",
       "      <th></th>\n",
       "    </tr>\n",
       "  </thead>\n",
       "  <tbody>\n",
       "    <tr>\n",
       "      <th>--g-a85VwrdZJNf0R95GcQ</th>\n",
       "      <td>4.458333</td>\n",
       "      <td>4.458333</td>\n",
       "      <td>4.470844</td>\n",
       "    </tr>\n",
       "    <tr>\n",
       "      <th>-0WegMt6Cy966qlDKhu6jA</th>\n",
       "      <td>2.162162</td>\n",
       "      <td>2.405405</td>\n",
       "      <td>2.547603</td>\n",
       "    </tr>\n",
       "    <tr>\n",
       "      <th>-0aIra_B6iALlfqAriBSYA</th>\n",
       "      <td>4.863636</td>\n",
       "      <td>4.636364</td>\n",
       "      <td>4.389172</td>\n",
       "    </tr>\n",
       "    <tr>\n",
       "      <th>-2isRNVb6PDuBagELL5EBw</th>\n",
       "      <td>2.875000</td>\n",
       "      <td>2.750000</td>\n",
       "      <td>2.812636</td>\n",
       "    </tr>\n",
       "    <tr>\n",
       "      <th>-8JaNeG3etLgOVyg2gOIiA</th>\n",
       "      <td>3.770492</td>\n",
       "      <td>4.000000</td>\n",
       "      <td>3.903735</td>\n",
       "    </tr>\n",
       "  </tbody>\n",
       "</table>\n",
       "</div>"
      ],
      "text/plain": [
       "                        yelp_avg_rating  MLPC_predicted_avg_rating  \\\n",
       "business_id                                                          \n",
       "--g-a85VwrdZJNf0R95GcQ         4.458333                   4.458333   \n",
       "-0WegMt6Cy966qlDKhu6jA         2.162162                   2.405405   \n",
       "-0aIra_B6iALlfqAriBSYA         4.863636                   4.636364   \n",
       "-2isRNVb6PDuBagELL5EBw         2.875000                   2.750000   \n",
       "-8JaNeG3etLgOVyg2gOIiA         3.770492                   4.000000   \n",
       "\n",
       "                        MLPR_predicted_avg_rating  \n",
       "business_id                                        \n",
       "--g-a85VwrdZJNf0R95GcQ                   4.470844  \n",
       "-0WegMt6Cy966qlDKhu6jA                   2.547603  \n",
       "-0aIra_B6iALlfqAriBSYA                   4.389172  \n",
       "-2isRNVb6PDuBagELL5EBw                   2.812636  \n",
       "-8JaNeG3etLgOVyg2gOIiA                   3.903735  "
      ]
     },
     "execution_count": 124,
     "metadata": {},
     "output_type": "execute_result"
    }
   ],
   "source": [
    "grouped_by_business = test_reviews.groupby('business_id')['stars_rating', 'MLPC_predicted_rating', 'MLPR_predicted_rating'].mean()\n",
    "grouped_by_business.columns = ['yelp_avg_rating', 'MLPC_predicted_avg_rating', 'MLPR_predicted_avg_rating']\n",
    "grouped_by_business.head(5)"
   ]
  },
  {
   "cell_type": "code",
   "execution_count": 125,
   "metadata": {
    "collapsed": false
   },
   "outputs": [
    {
     "data": {
      "text/plain": [
       "(1055, 3)"
      ]
     },
     "execution_count": 125,
     "metadata": {},
     "output_type": "execute_result"
    }
   ],
   "source": [
    "grouped_by_business.shape"
   ]
  },
  {
   "cell_type": "code",
   "execution_count": 126,
   "metadata": {
    "collapsed": false
   },
   "outputs": [
    {
     "name": "stdout",
     "output_type": "stream",
     "text": [
      "Grouped MSE on MLPC:  0.115391693967\n",
      "Grouped MSE on MLPR:  0.0959101808233\n"
     ]
    }
   ],
   "source": [
    "print 'Grouped MSE on MLPC: ', mean_squared_error(grouped_by_business.yelp_avg_rating, grouped_by_business.MLPC_predicted_avg_rating)\n",
    "print 'Grouped MSE on MLPR: ', mean_squared_error(grouped_by_business.yelp_avg_rating, grouped_by_business.MLPR_predicted_avg_rating)"
   ]
  },
  {
   "cell_type": "markdown",
   "metadata": {},
   "source": [
    "The averaging of reviews by business has narrowed the margin between the classification and regression models and they now both provide a very robust prediction, with MSE of approx. 0.1."
   ]
  },
  {
   "cell_type": "markdown",
   "metadata": {},
   "source": [
    "__Merge feature predictions with reviews predictions and compare results:__"
   ]
  },
  {
   "cell_type": "code",
   "execution_count": 127,
   "metadata": {
    "collapsed": false
   },
   "outputs": [
    {
     "data": {
      "text/html": [
       "<div>\n",
       "<style>\n",
       "    .dataframe thead tr:only-child th {\n",
       "        text-align: right;\n",
       "    }\n",
       "\n",
       "    .dataframe thead th {\n",
       "        text-align: left;\n",
       "    }\n",
       "\n",
       "    .dataframe tbody tr th {\n",
       "        vertical-align: top;\n",
       "    }\n",
       "</style>\n",
       "<table border=\"1\" class=\"dataframe\">\n",
       "  <thead>\n",
       "    <tr style=\"text-align: right;\">\n",
       "      <th></th>\n",
       "      <th>business_id</th>\n",
       "      <th>yelp_avg_rating</th>\n",
       "      <th>MLPC_predicted_avg_rating</th>\n",
       "      <th>MLPR_predicted_avg_rating</th>\n",
       "      <th>yelp_rounded_rating</th>\n",
       "      <th>GBR_feature_prediction</th>\n",
       "    </tr>\n",
       "  </thead>\n",
       "  <tbody>\n",
       "    <tr>\n",
       "      <th>0</th>\n",
       "      <td>--g-a85VwrdZJNf0R95GcQ</td>\n",
       "      <td>4.458333</td>\n",
       "      <td>4.458333</td>\n",
       "      <td>4.470844</td>\n",
       "      <td>4.5</td>\n",
       "      <td>3.597609</td>\n",
       "    </tr>\n",
       "    <tr>\n",
       "      <th>1</th>\n",
       "      <td>-0WegMt6Cy966qlDKhu6jA</td>\n",
       "      <td>2.162162</td>\n",
       "      <td>2.405405</td>\n",
       "      <td>2.547603</td>\n",
       "      <td>2.0</td>\n",
       "      <td>3.187335</td>\n",
       "    </tr>\n",
       "    <tr>\n",
       "      <th>2</th>\n",
       "      <td>-0aIra_B6iALlfqAriBSYA</td>\n",
       "      <td>4.863636</td>\n",
       "      <td>4.636364</td>\n",
       "      <td>4.389172</td>\n",
       "      <td>5.0</td>\n",
       "      <td>3.688692</td>\n",
       "    </tr>\n",
       "    <tr>\n",
       "      <th>3</th>\n",
       "      <td>-2isRNVb6PDuBagELL5EBw</td>\n",
       "      <td>2.875000</td>\n",
       "      <td>2.750000</td>\n",
       "      <td>2.812636</td>\n",
       "      <td>3.0</td>\n",
       "      <td>2.803295</td>\n",
       "    </tr>\n",
       "    <tr>\n",
       "      <th>4</th>\n",
       "      <td>-8JaNeG3etLgOVyg2gOIiA</td>\n",
       "      <td>3.770492</td>\n",
       "      <td>4.000000</td>\n",
       "      <td>3.903735</td>\n",
       "      <td>4.0</td>\n",
       "      <td>3.973172</td>\n",
       "    </tr>\n",
       "    <tr>\n",
       "      <th>5</th>\n",
       "      <td>-9eNGMp8XiygI8t8QFuFWw</td>\n",
       "      <td>3.704918</td>\n",
       "      <td>3.795082</td>\n",
       "      <td>3.779318</td>\n",
       "      <td>3.5</td>\n",
       "      <td>3.976834</td>\n",
       "    </tr>\n",
       "    <tr>\n",
       "      <th>6</th>\n",
       "      <td>-A9sm-E6uQxWTJ_MuyOzFw</td>\n",
       "      <td>3.180952</td>\n",
       "      <td>3.438095</td>\n",
       "      <td>3.386005</td>\n",
       "      <td>3.0</td>\n",
       "      <td>3.433350</td>\n",
       "    </tr>\n",
       "    <tr>\n",
       "      <th>7</th>\n",
       "      <td>-DrDzpZaMrNnH55ZVyTXRQ</td>\n",
       "      <td>3.516129</td>\n",
       "      <td>3.806452</td>\n",
       "      <td>3.819508</td>\n",
       "      <td>3.5</td>\n",
       "      <td>3.616377</td>\n",
       "    </tr>\n",
       "    <tr>\n",
       "      <th>8</th>\n",
       "      <td>-Du1WSRseqUXbCt_K-D-ww</td>\n",
       "      <td>3.481481</td>\n",
       "      <td>3.444444</td>\n",
       "      <td>3.265264</td>\n",
       "      <td>3.5</td>\n",
       "      <td>3.512135</td>\n",
       "    </tr>\n",
       "    <tr>\n",
       "      <th>9</th>\n",
       "      <td>-FveSBaantlFExq__ESLcw</td>\n",
       "      <td>3.750000</td>\n",
       "      <td>3.500000</td>\n",
       "      <td>3.823602</td>\n",
       "      <td>4.0</td>\n",
       "      <td>3.621034</td>\n",
       "    </tr>\n",
       "  </tbody>\n",
       "</table>\n",
       "</div>"
      ],
      "text/plain": [
       "              business_id  yelp_avg_rating  MLPC_predicted_avg_rating  \\\n",
       "0  --g-a85VwrdZJNf0R95GcQ         4.458333                   4.458333   \n",
       "1  -0WegMt6Cy966qlDKhu6jA         2.162162                   2.405405   \n",
       "2  -0aIra_B6iALlfqAriBSYA         4.863636                   4.636364   \n",
       "3  -2isRNVb6PDuBagELL5EBw         2.875000                   2.750000   \n",
       "4  -8JaNeG3etLgOVyg2gOIiA         3.770492                   4.000000   \n",
       "5  -9eNGMp8XiygI8t8QFuFWw         3.704918                   3.795082   \n",
       "6  -A9sm-E6uQxWTJ_MuyOzFw         3.180952                   3.438095   \n",
       "7  -DrDzpZaMrNnH55ZVyTXRQ         3.516129                   3.806452   \n",
       "8  -Du1WSRseqUXbCt_K-D-ww         3.481481                   3.444444   \n",
       "9  -FveSBaantlFExq__ESLcw         3.750000                   3.500000   \n",
       "\n",
       "   MLPR_predicted_avg_rating  yelp_rounded_rating  GBR_feature_prediction  \n",
       "0                   4.470844                  4.5                3.597609  \n",
       "1                   2.547603                  2.0                3.187335  \n",
       "2                   4.389172                  5.0                3.688692  \n",
       "3                   2.812636                  3.0                2.803295  \n",
       "4                   3.903735                  4.0                3.973172  \n",
       "5                   3.779318                  3.5                3.976834  \n",
       "6                   3.386005                  3.0                3.433350  \n",
       "7                   3.819508                  3.5                3.616377  \n",
       "8                   3.265264                  3.5                3.512135  \n",
       "9                   3.823602                  4.0                3.621034  "
      ]
     },
     "execution_count": 127,
     "metadata": {},
     "output_type": "execute_result"
    }
   ],
   "source": [
    "grouped_by_business = grouped_by_business.reset_index(drop=False)\n",
    "overall_results = grouped_by_business.merge(feature_results, on='business_id')\n",
    "overall_results.head(10)"
   ]
  },
  {
   "cell_type": "code",
   "execution_count": 128,
   "metadata": {
    "collapsed": false
   },
   "outputs": [
    {
     "name": "stdout",
     "output_type": "stream",
     "text": [
      "MLPC_predicted_avg_rating :\t0.0328016569627 \t0.338266469265\n",
      "MLPR_predicted_avg_rating :\t0.0206445153755 \t0.309151381728\n",
      "GBR_feature_prediction :\t-0.0301212137719 \t0.685894095661\n"
     ]
    }
   ],
   "source": [
    "methods = ['MLPC_predicted_avg_rating', 'MLPR_predicted_avg_rating', 'GBR_feature_prediction']\n",
    "for method in methods:\n",
    "    errors = overall_results[method] - overall_results.yelp_avg_rating\n",
    "    print method, ':\\t', errors.mean(), '\\t', errors.std()"
   ]
  },
  {
   "cell_type": "code",
   "execution_count": 129,
   "metadata": {
    "collapsed": false
   },
   "outputs": [
    {
     "data": {
      "image/png": "[encoded data removed]",
      "text/plain": [
       "<matplotlib.figure.Figure at 0xbee30c88>"
      ]
     },
     "metadata": {},
     "output_type": "display_data"
    }
   ],
   "source": [
    "# scatter plot of the MLPR model\n",
    "plt.scatter(x=overall_results.yelp_avg_rating, y=overall_results.MLPR_predicted_avg_rating)\n",
    "plt.title('MLPR predicted rating')\n",
    "plt.xlabel('Actual average rating')\n",
    "plt.ylabel('Predicted rating')\n",
    "plt.axis(ymin=0.5, ymax=5.5)\n",
    "plt.show()"
   ]
  },
  {
   "cell_type": "code",
   "execution_count": 130,
   "metadata": {
    "collapsed": false
   },
   "outputs": [
    {
     "data": {
      "image/png": "[encoded data removed]",
      "text/plain": [
       "<matplotlib.figure.Figure at 0xbee5ea20>"
      ]
     },
     "metadata": {},
     "output_type": "display_data"
    }
   ],
   "source": [
    "plt.hist(overall_results.MLPR_predicted_avg_rating - overall_results.yelp_avg_rating, bins=50)\n",
    "plt.title('MLPR - prediction errors')\n",
    "plt.xlabel('Absolute error on test data')\n",
    "plt.ylabel('Frequency')\n",
    "plt.axis(xmin=-2.4, xmax=3.0)\n",
    "plt.show()"
   ]
  },
  {
   "cell_type": "code",
   "execution_count": 131,
   "metadata": {
    "collapsed": false
   },
   "outputs": [
    {
     "data": {
      "text/html": [
       "<div>\n",
       "<style>\n",
       "    .dataframe thead tr:only-child th {\n",
       "        text-align: right;\n",
       "    }\n",
       "\n",
       "    .dataframe thead th {\n",
       "        text-align: left;\n",
       "    }\n",
       "\n",
       "    .dataframe tbody tr th {\n",
       "        vertical-align: top;\n",
       "    }\n",
       "</style>\n",
       "<table border=\"1\" class=\"dataframe\">\n",
       "  <thead>\n",
       "    <tr style=\"text-align: right;\">\n",
       "      <th></th>\n",
       "      <th>yelp_avg_rating</th>\n",
       "      <th>MLPC_predicted_avg_rating</th>\n",
       "      <th>MLPR_predicted_avg_rating</th>\n",
       "      <th>yelp_rounded_rating</th>\n",
       "      <th>GBR_feature_prediction</th>\n",
       "    </tr>\n",
       "  </thead>\n",
       "  <tbody>\n",
       "    <tr>\n",
       "      <th>yelp_avg_rating</th>\n",
       "      <td>1.000000</td>\n",
       "      <td>0.913491</td>\n",
       "      <td>0.930256</td>\n",
       "      <td>0.985207</td>\n",
       "      <td>0.558144</td>\n",
       "    </tr>\n",
       "    <tr>\n",
       "      <th>MLPC_predicted_avg_rating</th>\n",
       "      <td>0.913491</td>\n",
       "      <td>1.000000</td>\n",
       "      <td>0.974074</td>\n",
       "      <td>0.897653</td>\n",
       "      <td>0.579278</td>\n",
       "    </tr>\n",
       "    <tr>\n",
       "      <th>MLPR_predicted_avg_rating</th>\n",
       "      <td>0.930256</td>\n",
       "      <td>0.974074</td>\n",
       "      <td>1.000000</td>\n",
       "      <td>0.914517</td>\n",
       "      <td>0.592585</td>\n",
       "    </tr>\n",
       "    <tr>\n",
       "      <th>yelp_rounded_rating</th>\n",
       "      <td>0.985207</td>\n",
       "      <td>0.897653</td>\n",
       "      <td>0.914517</td>\n",
       "      <td>1.000000</td>\n",
       "      <td>0.549284</td>\n",
       "    </tr>\n",
       "    <tr>\n",
       "      <th>GBR_feature_prediction</th>\n",
       "      <td>0.558144</td>\n",
       "      <td>0.579278</td>\n",
       "      <td>0.592585</td>\n",
       "      <td>0.549284</td>\n",
       "      <td>1.000000</td>\n",
       "    </tr>\n",
       "  </tbody>\n",
       "</table>\n",
       "</div>"
      ],
      "text/plain": [
       "                           yelp_avg_rating  MLPC_predicted_avg_rating  \\\n",
       "yelp_avg_rating                   1.000000                   0.913491   \n",
       "MLPC_predicted_avg_rating         0.913491                   1.000000   \n",
       "MLPR_predicted_avg_rating         0.930256                   0.974074   \n",
       "yelp_rounded_rating               0.985207                   0.897653   \n",
       "GBR_feature_prediction            0.558144                   0.579278   \n",
       "\n",
       "                           MLPR_predicted_avg_rating  yelp_rounded_rating  \\\n",
       "yelp_avg_rating                             0.930256             0.985207   \n",
       "MLPC_predicted_avg_rating                   0.974074             0.897653   \n",
       "MLPR_predicted_avg_rating                   1.000000             0.914517   \n",
       "yelp_rounded_rating                         0.914517             1.000000   \n",
       "GBR_feature_prediction                      0.592585             0.549284   \n",
       "\n",
       "                           GBR_feature_prediction  \n",
       "yelp_avg_rating                          0.558144  \n",
       "MLPC_predicted_avg_rating                0.579278  \n",
       "MLPR_predicted_avg_rating                0.592585  \n",
       "yelp_rounded_rating                      0.549284  \n",
       "GBR_feature_prediction                   1.000000  "
      ]
     },
     "execution_count": 131,
     "metadata": {},
     "output_type": "execute_result"
    }
   ],
   "source": [
    "overall_results.corr()"
   ]
  },
  {
   "cell_type": "markdown",
   "metadata": {},
   "source": [
    "## 5.3 Extracting Common Words "
   ]
  },
  {
   "cell_type": "markdown",
   "metadata": {},
   "source": [
    "In order to provide more human-interpretable conclusions from the data set, can look back at the at what words most commonly appear in the top-rated and bottom-rated restaurants and identofy what aspects are most commonly praised/criticized by reviewers."
   ]
  },
  {
   "cell_type": "code",
   "execution_count": 132,
   "metadata": {
    "collapsed": false
   },
   "outputs": [
    {
     "data": {
      "text/html": [
       "<div>\n",
       "<style>\n",
       "    .dataframe thead tr:only-child th {\n",
       "        text-align: right;\n",
       "    }\n",
       "\n",
       "    .dataframe thead th {\n",
       "        text-align: left;\n",
       "    }\n",
       "\n",
       "    .dataframe tbody tr th {\n",
       "        vertical-align: top;\n",
       "    }\n",
       "</style>\n",
       "<table border=\"1\" class=\"dataframe\">\n",
       "  <thead>\n",
       "    <tr style=\"text-align: right;\">\n",
       "      <th></th>\n",
       "      <th>business_id</th>\n",
       "      <th>review_count</th>\n",
       "    </tr>\n",
       "  </thead>\n",
       "  <tbody>\n",
       "    <tr>\n",
       "      <th>0</th>\n",
       "      <td>duHFBe87uNSXImQmvBh87Q</td>\n",
       "      <td>10</td>\n",
       "    </tr>\n",
       "    <tr>\n",
       "      <th>0</th>\n",
       "      <td>01xXe2m_z048W5gcBFpoJA</td>\n",
       "      <td>63</td>\n",
       "    </tr>\n",
       "    <tr>\n",
       "      <th>0</th>\n",
       "      <td>pPNcs_59jNiQSs0Yq13bGw</td>\n",
       "      <td>127</td>\n",
       "    </tr>\n",
       "    <tr>\n",
       "      <th>0</th>\n",
       "      <td>TqAXKLF1P5XAIG9Uq2eUmQ</td>\n",
       "      <td>13</td>\n",
       "    </tr>\n",
       "    <tr>\n",
       "      <th>0</th>\n",
       "      <td>fbLYRHIZAt3q839whhaBUg</td>\n",
       "      <td>232</td>\n",
       "    </tr>\n",
       "  </tbody>\n",
       "</table>\n",
       "</div>"
      ],
      "text/plain": [
       "              business_id  review_count\n",
       "0  duHFBe87uNSXImQmvBh87Q            10\n",
       "0  01xXe2m_z048W5gcBFpoJA            63\n",
       "0  pPNcs_59jNiQSs0Yq13bGw           127\n",
       "0  TqAXKLF1P5XAIG9Uq2eUmQ            13\n",
       "0  fbLYRHIZAt3q839whhaBUg           232"
      ]
     },
     "execution_count": 132,
     "metadata": {},
     "output_type": "execute_result"
    }
   ],
   "source": [
    "# prepare data frame with number of reviews by business_id\n",
    "reviews_count = featuresdf[['business_id', 'review_count']]\n",
    "reviews_count.head()"
   ]
  },
  {
   "cell_type": "code",
   "execution_count": 133,
   "metadata": {
    "collapsed": true
   },
   "outputs": [],
   "source": [
    "import collections"
   ]
  },
  {
   "cell_type": "code",
   "execution_count": 134,
   "metadata": {
    "collapsed": false
   },
   "outputs": [],
   "source": [
    "def makeWordDict(words):\n",
    "    \"\"\"\n",
    "    Function to load words from a review into a Counter\n",
    "    \"\"\"\n",
    "    # process the unicode input text to tokens\n",
    "    nlp_words = nlp(words)\n",
    "    #\n",
    "    #nwords = 0\n",
    "    \n",
    "    # Loop over each word in the review and, if it is in the model's\n",
    "    # vocaublary, add it to the total\n",
    "    counts = collections.Counter([unicode(word.lemma_) for word in nlp_words if not punct_space_stop(word)])\n",
    "        \n",
    "    return counts"
   ]
  },
  {
   "cell_type": "markdown",
   "metadata": {},
   "source": [
    "__Top-rated reviews__"
   ]
  },
  {
   "cell_type": "code",
   "execution_count": 135,
   "metadata": {
    "collapsed": false,
    "scrolled": true
   },
   "outputs": [
    {
     "data": {
      "text/html": [
       "<div>\n",
       "<style>\n",
       "    .dataframe thead tr:only-child th {\n",
       "        text-align: right;\n",
       "    }\n",
       "\n",
       "    .dataframe thead th {\n",
       "        text-align: left;\n",
       "    }\n",
       "\n",
       "    .dataframe tbody tr th {\n",
       "        vertical-align: top;\n",
       "    }\n",
       "</style>\n",
       "<table border=\"1\" class=\"dataframe\">\n",
       "  <thead>\n",
       "    <tr style=\"text-align: right;\">\n",
       "      <th></th>\n",
       "      <th>business_id</th>\n",
       "      <th>yelp_avg_rating</th>\n",
       "      <th>MLPC_predicted_avg_rating</th>\n",
       "      <th>MLPR_predicted_avg_rating</th>\n",
       "      <th>yelp_rounded_rating</th>\n",
       "      <th>GBR_feature_prediction</th>\n",
       "      <th>review_count</th>\n",
       "    </tr>\n",
       "  </thead>\n",
       "  <tbody>\n",
       "    <tr>\n",
       "      <th>15</th>\n",
       "      <td>pIeCFuUn7NWay1Ti0JzHtw</td>\n",
       "      <td>4.916667</td>\n",
       "      <td>4.375000</td>\n",
       "      <td>4.409916</td>\n",
       "      <td>5.0</td>\n",
       "      <td>3.942448</td>\n",
       "      <td>24</td>\n",
       "    </tr>\n",
       "    <tr>\n",
       "      <th>17</th>\n",
       "      <td>KDh82ODr4adz9ck6ltQ_YQ</td>\n",
       "      <td>4.875000</td>\n",
       "      <td>4.750000</td>\n",
       "      <td>4.490013</td>\n",
       "      <td>5.0</td>\n",
       "      <td>3.915658</td>\n",
       "      <td>24</td>\n",
       "    </tr>\n",
       "    <tr>\n",
       "      <th>18</th>\n",
       "      <td>fg69aogbeD-GKjmr_4cN4w</td>\n",
       "      <td>4.871795</td>\n",
       "      <td>4.769231</td>\n",
       "      <td>4.514474</td>\n",
       "      <td>5.0</td>\n",
       "      <td>3.771531</td>\n",
       "      <td>39</td>\n",
       "    </tr>\n",
       "    <tr>\n",
       "      <th>19</th>\n",
       "      <td>-0aIra_B6iALlfqAriBSYA</td>\n",
       "      <td>4.863636</td>\n",
       "      <td>4.636364</td>\n",
       "      <td>4.389172</td>\n",
       "      <td>5.0</td>\n",
       "      <td>3.688692</td>\n",
       "      <td>22</td>\n",
       "    </tr>\n",
       "    <tr>\n",
       "      <th>20</th>\n",
       "      <td>d6kfTFKpKJX93qAEPhBGAg</td>\n",
       "      <td>4.833333</td>\n",
       "      <td>4.400000</td>\n",
       "      <td>4.399578</td>\n",
       "      <td>5.0</td>\n",
       "      <td>3.388857</td>\n",
       "      <td>60</td>\n",
       "    </tr>\n",
       "    <tr>\n",
       "      <th>21</th>\n",
       "      <td>WZVnmFXoE42coc4FmcbEDQ</td>\n",
       "      <td>4.833333</td>\n",
       "      <td>4.633333</td>\n",
       "      <td>4.617311</td>\n",
       "      <td>5.0</td>\n",
       "      <td>3.870928</td>\n",
       "      <td>30</td>\n",
       "    </tr>\n",
       "    <tr>\n",
       "      <th>23</th>\n",
       "      <td>9IIhExGT0f6x26hTjyBbrw</td>\n",
       "      <td>4.800000</td>\n",
       "      <td>4.615385</td>\n",
       "      <td>4.443186</td>\n",
       "      <td>5.0</td>\n",
       "      <td>4.006359</td>\n",
       "      <td>131</td>\n",
       "    </tr>\n",
       "    <tr>\n",
       "      <th>27</th>\n",
       "      <td>dja9beNvdd_SmXxn8At5aQ</td>\n",
       "      <td>4.789474</td>\n",
       "      <td>4.705263</td>\n",
       "      <td>4.556494</td>\n",
       "      <td>5.0</td>\n",
       "      <td>3.358156</td>\n",
       "      <td>95</td>\n",
       "    </tr>\n",
       "    <tr>\n",
       "      <th>29</th>\n",
       "      <td>tU90S8KAgeg_2dZQeYfg0w</td>\n",
       "      <td>4.752000</td>\n",
       "      <td>4.784000</td>\n",
       "      <td>4.658838</td>\n",
       "      <td>5.0</td>\n",
       "      <td>3.777517</td>\n",
       "      <td>125</td>\n",
       "    </tr>\n",
       "    <tr>\n",
       "      <th>34</th>\n",
       "      <td>osJfovV0FGBDo4n7eD4-AQ</td>\n",
       "      <td>4.733696</td>\n",
       "      <td>4.559783</td>\n",
       "      <td>4.433338</td>\n",
       "      <td>4.5</td>\n",
       "      <td>4.228445</td>\n",
       "      <td>181</td>\n",
       "    </tr>\n",
       "    <tr>\n",
       "      <th>36</th>\n",
       "      <td>WB7346WSdkTHvtHfWPilaA</td>\n",
       "      <td>4.720183</td>\n",
       "      <td>4.628440</td>\n",
       "      <td>4.505277</td>\n",
       "      <td>4.5</td>\n",
       "      <td>4.303981</td>\n",
       "      <td>218</td>\n",
       "    </tr>\n",
       "    <tr>\n",
       "      <th>37</th>\n",
       "      <td>h9pEt23IAyjBtUaYA9v46A</td>\n",
       "      <td>4.716418</td>\n",
       "      <td>4.597015</td>\n",
       "      <td>4.449637</td>\n",
       "      <td>4.5</td>\n",
       "      <td>3.468778</td>\n",
       "      <td>67</td>\n",
       "    </tr>\n",
       "    <tr>\n",
       "      <th>39</th>\n",
       "      <td>WpzRURptZ2FIxBmJMl4MXA</td>\n",
       "      <td>4.714286</td>\n",
       "      <td>4.514286</td>\n",
       "      <td>4.449038</td>\n",
       "      <td>4.5</td>\n",
       "      <td>3.695186</td>\n",
       "      <td>175</td>\n",
       "    </tr>\n",
       "    <tr>\n",
       "      <th>40</th>\n",
       "      <td>hhhHgSaSl6GLtuDoDrMUZQ</td>\n",
       "      <td>4.705882</td>\n",
       "      <td>4.500000</td>\n",
       "      <td>4.406121</td>\n",
       "      <td>4.5</td>\n",
       "      <td>3.962535</td>\n",
       "      <td>67</td>\n",
       "    </tr>\n",
       "    <tr>\n",
       "      <th>44</th>\n",
       "      <td>WK6uBV2eSqb2wwEwXoFfNg</td>\n",
       "      <td>4.683721</td>\n",
       "      <td>4.586047</td>\n",
       "      <td>4.538821</td>\n",
       "      <td>4.5</td>\n",
       "      <td>3.875066</td>\n",
       "      <td>215</td>\n",
       "    </tr>\n",
       "    <tr>\n",
       "      <th>45</th>\n",
       "      <td>vUgCHg2pWUrbg_xrJZz6Lg</td>\n",
       "      <td>4.677215</td>\n",
       "      <td>4.772152</td>\n",
       "      <td>4.629496</td>\n",
       "      <td>4.5</td>\n",
       "      <td>3.916637</td>\n",
       "      <td>160</td>\n",
       "    </tr>\n",
       "    <tr>\n",
       "      <th>47</th>\n",
       "      <td>Veb_YSP2PL3xGbu9JJVuOA</td>\n",
       "      <td>4.666667</td>\n",
       "      <td>4.575758</td>\n",
       "      <td>4.485750</td>\n",
       "      <td>4.5</td>\n",
       "      <td>3.640840</td>\n",
       "      <td>33</td>\n",
       "    </tr>\n",
       "    <tr>\n",
       "      <th>51</th>\n",
       "      <td>erpMXkhBRNAwfXYfqIaC6Q</td>\n",
       "      <td>4.647727</td>\n",
       "      <td>4.568182</td>\n",
       "      <td>4.362036</td>\n",
       "      <td>4.5</td>\n",
       "      <td>4.232160</td>\n",
       "      <td>88</td>\n",
       "    </tr>\n",
       "    <tr>\n",
       "      <th>53</th>\n",
       "      <td>CV0knwCFA-x-8jJHot6Few</td>\n",
       "      <td>4.646465</td>\n",
       "      <td>4.461279</td>\n",
       "      <td>4.430173</td>\n",
       "      <td>4.5</td>\n",
       "      <td>4.104756</td>\n",
       "      <td>297</td>\n",
       "    </tr>\n",
       "    <tr>\n",
       "      <th>54</th>\n",
       "      <td>vM92DKxz5XJGm6Q5brHuGA</td>\n",
       "      <td>4.642857</td>\n",
       "      <td>4.571429</td>\n",
       "      <td>4.487392</td>\n",
       "      <td>4.5</td>\n",
       "      <td>4.301426</td>\n",
       "      <td>56</td>\n",
       "    </tr>\n",
       "    <tr>\n",
       "      <th>55</th>\n",
       "      <td>kYATtIsqVEoawS47UcSlDA</td>\n",
       "      <td>4.642857</td>\n",
       "      <td>4.785714</td>\n",
       "      <td>4.539534</td>\n",
       "      <td>4.5</td>\n",
       "      <td>3.477727</td>\n",
       "      <td>28</td>\n",
       "    </tr>\n",
       "    <tr>\n",
       "      <th>56</th>\n",
       "      <td>k-fLKf1Qbq08jDrOuNn5ZA</td>\n",
       "      <td>4.635220</td>\n",
       "      <td>4.477987</td>\n",
       "      <td>4.368607</td>\n",
       "      <td>4.5</td>\n",
       "      <td>4.066684</td>\n",
       "      <td>159</td>\n",
       "    </tr>\n",
       "    <tr>\n",
       "      <th>59</th>\n",
       "      <td>GLVahCssTKPBY_06LzUGQA</td>\n",
       "      <td>4.623853</td>\n",
       "      <td>4.633028</td>\n",
       "      <td>4.556044</td>\n",
       "      <td>4.5</td>\n",
       "      <td>3.549636</td>\n",
       "      <td>109</td>\n",
       "    </tr>\n",
       "    <tr>\n",
       "      <th>60</th>\n",
       "      <td>mRxUCEoUUe-XsEYS1SlrTA</td>\n",
       "      <td>4.620000</td>\n",
       "      <td>4.460000</td>\n",
       "      <td>4.135230</td>\n",
       "      <td>4.5</td>\n",
       "      <td>3.959288</td>\n",
       "      <td>50</td>\n",
       "    </tr>\n",
       "    <tr>\n",
       "      <th>61</th>\n",
       "      <td>aXRrMXXoAN7lawHICgmsxw</td>\n",
       "      <td>4.615385</td>\n",
       "      <td>4.512821</td>\n",
       "      <td>4.385249</td>\n",
       "      <td>4.5</td>\n",
       "      <td>3.498464</td>\n",
       "      <td>117</td>\n",
       "    </tr>\n",
       "    <tr>\n",
       "      <th>62</th>\n",
       "      <td>TgjB-wlAVzol6HoDpE8KYg</td>\n",
       "      <td>4.607509</td>\n",
       "      <td>4.501706</td>\n",
       "      <td>4.431574</td>\n",
       "      <td>4.5</td>\n",
       "      <td>4.262038</td>\n",
       "      <td>293</td>\n",
       "    </tr>\n",
       "    <tr>\n",
       "      <th>64</th>\n",
       "      <td>mhMhYsmJB4t0-ok1ABvNBg</td>\n",
       "      <td>4.600000</td>\n",
       "      <td>4.488889</td>\n",
       "      <td>4.350863</td>\n",
       "      <td>4.5</td>\n",
       "      <td>4.057541</td>\n",
       "      <td>45</td>\n",
       "    </tr>\n",
       "    <tr>\n",
       "      <th>65</th>\n",
       "      <td>PzItDWhnWrViLmAXQuMASQ</td>\n",
       "      <td>4.580645</td>\n",
       "      <td>4.096774</td>\n",
       "      <td>4.131360</td>\n",
       "      <td>4.5</td>\n",
       "      <td>3.435660</td>\n",
       "      <td>31</td>\n",
       "    </tr>\n",
       "    <tr>\n",
       "      <th>66</th>\n",
       "      <td>0N2y8rNxbet6p4UIBWTOrw</td>\n",
       "      <td>4.561497</td>\n",
       "      <td>4.550802</td>\n",
       "      <td>4.440413</td>\n",
       "      <td>4.5</td>\n",
       "      <td>4.394218</td>\n",
       "      <td>187</td>\n",
       "    </tr>\n",
       "    <tr>\n",
       "      <th>67</th>\n",
       "      <td>-X9QS8l7u5R3CswmfZtn-Q</td>\n",
       "      <td>4.558140</td>\n",
       "      <td>4.418605</td>\n",
       "      <td>4.049371</td>\n",
       "      <td>4.5</td>\n",
       "      <td>3.355429</td>\n",
       "      <td>43</td>\n",
       "    </tr>\n",
       "    <tr>\n",
       "      <th>69</th>\n",
       "      <td>pjpUOlJLlkIxBZ5BquA2PA</td>\n",
       "      <td>4.537522</td>\n",
       "      <td>4.453752</td>\n",
       "      <td>4.377281</td>\n",
       "      <td>4.5</td>\n",
       "      <td>3.963001</td>\n",
       "      <td>572</td>\n",
       "    </tr>\n",
       "    <tr>\n",
       "      <th>70</th>\n",
       "      <td>E7XMQjuNhU2v31JMwHDciA</td>\n",
       "      <td>4.527778</td>\n",
       "      <td>4.361111</td>\n",
       "      <td>4.243139</td>\n",
       "      <td>4.5</td>\n",
       "      <td>4.064847</td>\n",
       "      <td>36</td>\n",
       "    </tr>\n",
       "    <tr>\n",
       "      <th>71</th>\n",
       "      <td>AZQ6eiVqhMalpVL9Bbq6Iw</td>\n",
       "      <td>4.511628</td>\n",
       "      <td>4.267442</td>\n",
       "      <td>4.261945</td>\n",
       "      <td>4.5</td>\n",
       "      <td>3.889036</td>\n",
       "      <td>86</td>\n",
       "    </tr>\n",
       "    <tr>\n",
       "      <th>72</th>\n",
       "      <td>PJVjfGtVc71M0XlUr83teQ</td>\n",
       "      <td>4.505495</td>\n",
       "      <td>4.512821</td>\n",
       "      <td>4.324359</td>\n",
       "      <td>4.5</td>\n",
       "      <td>3.769171</td>\n",
       "      <td>273</td>\n",
       "    </tr>\n",
       "    <tr>\n",
       "      <th>73</th>\n",
       "      <td>E4JyAzB5_2quptwtemyhYA</td>\n",
       "      <td>4.504193</td>\n",
       "      <td>4.424528</td>\n",
       "      <td>4.319754</td>\n",
       "      <td>4.5</td>\n",
       "      <td>4.086818</td>\n",
       "      <td>954</td>\n",
       "    </tr>\n",
       "    <tr>\n",
       "      <th>74</th>\n",
       "      <td>yCK1Ok69D7TSWJESZQZHiQ</td>\n",
       "      <td>4.502513</td>\n",
       "      <td>4.391960</td>\n",
       "      <td>4.379085</td>\n",
       "      <td>4.5</td>\n",
       "      <td>3.994911</td>\n",
       "      <td>199</td>\n",
       "    </tr>\n",
       "    <tr>\n",
       "      <th>79</th>\n",
       "      <td>PlTdQdCWu2_hjbSuenB3pg</td>\n",
       "      <td>4.498701</td>\n",
       "      <td>4.348052</td>\n",
       "      <td>4.293926</td>\n",
       "      <td>4.5</td>\n",
       "      <td>4.434910</td>\n",
       "      <td>385</td>\n",
       "    </tr>\n",
       "    <tr>\n",
       "      <th>80</th>\n",
       "      <td>VJVEDDJKccmrW1fhJCWmsQ</td>\n",
       "      <td>4.491803</td>\n",
       "      <td>4.295082</td>\n",
       "      <td>4.250637</td>\n",
       "      <td>4.5</td>\n",
       "      <td>3.575076</td>\n",
       "      <td>61</td>\n",
       "    </tr>\n",
       "    <tr>\n",
       "      <th>81</th>\n",
       "      <td>FxEJjLZj6UdsOCGcgEufeA</td>\n",
       "      <td>4.488889</td>\n",
       "      <td>4.488889</td>\n",
       "      <td>4.391328</td>\n",
       "      <td>4.5</td>\n",
       "      <td>3.867015</td>\n",
       "      <td>45</td>\n",
       "    </tr>\n",
       "    <tr>\n",
       "      <th>82</th>\n",
       "      <td>_O2_jwNT_3FDaSRZ50jvrw</td>\n",
       "      <td>4.486111</td>\n",
       "      <td>4.347222</td>\n",
       "      <td>4.142130</td>\n",
       "      <td>4.5</td>\n",
       "      <td>3.860440</td>\n",
       "      <td>72</td>\n",
       "    </tr>\n",
       "    <tr>\n",
       "      <th>83</th>\n",
       "      <td>4aF5GfnVkJPj9IwJ2yxPtQ</td>\n",
       "      <td>4.483333</td>\n",
       "      <td>4.375000</td>\n",
       "      <td>4.337948</td>\n",
       "      <td>4.5</td>\n",
       "      <td>4.106176</td>\n",
       "      <td>120</td>\n",
       "    </tr>\n",
       "    <tr>\n",
       "      <th>84</th>\n",
       "      <td>H9tJl_ntsan-YSZElKKK2w</td>\n",
       "      <td>4.478723</td>\n",
       "      <td>4.372340</td>\n",
       "      <td>4.309447</td>\n",
       "      <td>4.5</td>\n",
       "      <td>3.623227</td>\n",
       "      <td>94</td>\n",
       "    </tr>\n",
       "    <tr>\n",
       "      <th>85</th>\n",
       "      <td>CFyPbqZaxoBTjOmVjSn_8Q</td>\n",
       "      <td>4.478261</td>\n",
       "      <td>4.195652</td>\n",
       "      <td>4.161252</td>\n",
       "      <td>4.5</td>\n",
       "      <td>3.735283</td>\n",
       "      <td>92</td>\n",
       "    </tr>\n",
       "    <tr>\n",
       "      <th>86</th>\n",
       "      <td>aXgF2q1ciYIwUS2ULNNCgQ</td>\n",
       "      <td>4.476923</td>\n",
       "      <td>4.492308</td>\n",
       "      <td>4.387630</td>\n",
       "      <td>4.5</td>\n",
       "      <td>3.986460</td>\n",
       "      <td>65</td>\n",
       "    </tr>\n",
       "    <tr>\n",
       "      <th>87</th>\n",
       "      <td>XPgurhZwZgNAwHcrpoe3Zg</td>\n",
       "      <td>4.473684</td>\n",
       "      <td>4.496241</td>\n",
       "      <td>4.327091</td>\n",
       "      <td>4.5</td>\n",
       "      <td>4.110406</td>\n",
       "      <td>133</td>\n",
       "    </tr>\n",
       "    <tr>\n",
       "      <th>88</th>\n",
       "      <td>KMxOoHyRKP74PgosuRkkdg</td>\n",
       "      <td>4.473118</td>\n",
       "      <td>4.433692</td>\n",
       "      <td>4.377600</td>\n",
       "      <td>4.5</td>\n",
       "      <td>3.970749</td>\n",
       "      <td>279</td>\n",
       "    </tr>\n",
       "    <tr>\n",
       "      <th>89</th>\n",
       "      <td>in3zjiaLpNzr9G3K35gAJQ</td>\n",
       "      <td>4.473054</td>\n",
       "      <td>4.395210</td>\n",
       "      <td>4.324216</td>\n",
       "      <td>4.5</td>\n",
       "      <td>3.907451</td>\n",
       "      <td>167</td>\n",
       "    </tr>\n",
       "    <tr>\n",
       "      <th>90</th>\n",
       "      <td>aPSRMtV2V7MPXi6DU_UlRA</td>\n",
       "      <td>4.466667</td>\n",
       "      <td>4.333333</td>\n",
       "      <td>4.256924</td>\n",
       "      <td>4.5</td>\n",
       "      <td>3.935725</td>\n",
       "      <td>75</td>\n",
       "    </tr>\n",
       "    <tr>\n",
       "      <th>91</th>\n",
       "      <td>3U__XOTBFptjhBeHrPGqrg</td>\n",
       "      <td>4.463768</td>\n",
       "      <td>4.442029</td>\n",
       "      <td>4.399284</td>\n",
       "      <td>4.5</td>\n",
       "      <td>3.966872</td>\n",
       "      <td>138</td>\n",
       "    </tr>\n",
       "    <tr>\n",
       "      <th>92</th>\n",
       "      <td>ViErpcikhbAjsDcpdAfwSQ</td>\n",
       "      <td>4.463158</td>\n",
       "      <td>4.294737</td>\n",
       "      <td>4.243528</td>\n",
       "      <td>4.5</td>\n",
       "      <td>3.845098</td>\n",
       "      <td>95</td>\n",
       "    </tr>\n",
       "  </tbody>\n",
       "</table>\n",
       "</div>"
      ],
      "text/plain": [
       "               business_id  yelp_avg_rating  MLPC_predicted_avg_rating  \\\n",
       "15  pIeCFuUn7NWay1Ti0JzHtw         4.916667                   4.375000   \n",
       "17  KDh82ODr4adz9ck6ltQ_YQ         4.875000                   4.750000   \n",
       "18  fg69aogbeD-GKjmr_4cN4w         4.871795                   4.769231   \n",
       "19  -0aIra_B6iALlfqAriBSYA         4.863636                   4.636364   \n",
       "20  d6kfTFKpKJX93qAEPhBGAg         4.833333                   4.400000   \n",
       "21  WZVnmFXoE42coc4FmcbEDQ         4.833333                   4.633333   \n",
       "23  9IIhExGT0f6x26hTjyBbrw         4.800000                   4.615385   \n",
       "27  dja9beNvdd_SmXxn8At5aQ         4.789474                   4.705263   \n",
       "29  tU90S8KAgeg_2dZQeYfg0w         4.752000                   4.784000   \n",
       "34  osJfovV0FGBDo4n7eD4-AQ         4.733696                   4.559783   \n",
       "36  WB7346WSdkTHvtHfWPilaA         4.720183                   4.628440   \n",
       "37  h9pEt23IAyjBtUaYA9v46A         4.716418                   4.597015   \n",
       "39  WpzRURptZ2FIxBmJMl4MXA         4.714286                   4.514286   \n",
       "40  hhhHgSaSl6GLtuDoDrMUZQ         4.705882                   4.500000   \n",
       "44  WK6uBV2eSqb2wwEwXoFfNg         4.683721                   4.586047   \n",
       "45  vUgCHg2pWUrbg_xrJZz6Lg         4.677215                   4.772152   \n",
       "47  Veb_YSP2PL3xGbu9JJVuOA         4.666667                   4.575758   \n",
       "51  erpMXkhBRNAwfXYfqIaC6Q         4.647727                   4.568182   \n",
       "53  CV0knwCFA-x-8jJHot6Few         4.646465                   4.461279   \n",
       "54  vM92DKxz5XJGm6Q5brHuGA         4.642857                   4.571429   \n",
       "55  kYATtIsqVEoawS47UcSlDA         4.642857                   4.785714   \n",
       "56  k-fLKf1Qbq08jDrOuNn5ZA         4.635220                   4.477987   \n",
       "59  GLVahCssTKPBY_06LzUGQA         4.623853                   4.633028   \n",
       "60  mRxUCEoUUe-XsEYS1SlrTA         4.620000                   4.460000   \n",
       "61  aXRrMXXoAN7lawHICgmsxw         4.615385                   4.512821   \n",
       "62  TgjB-wlAVzol6HoDpE8KYg         4.607509                   4.501706   \n",
       "64  mhMhYsmJB4t0-ok1ABvNBg         4.600000                   4.488889   \n",
       "65  PzItDWhnWrViLmAXQuMASQ         4.580645                   4.096774   \n",
       "66  0N2y8rNxbet6p4UIBWTOrw         4.561497                   4.550802   \n",
       "67  -X9QS8l7u5R3CswmfZtn-Q         4.558140                   4.418605   \n",
       "69  pjpUOlJLlkIxBZ5BquA2PA         4.537522                   4.453752   \n",
       "70  E7XMQjuNhU2v31JMwHDciA         4.527778                   4.361111   \n",
       "71  AZQ6eiVqhMalpVL9Bbq6Iw         4.511628                   4.267442   \n",
       "72  PJVjfGtVc71M0XlUr83teQ         4.505495                   4.512821   \n",
       "73  E4JyAzB5_2quptwtemyhYA         4.504193                   4.424528   \n",
       "74  yCK1Ok69D7TSWJESZQZHiQ         4.502513                   4.391960   \n",
       "79  PlTdQdCWu2_hjbSuenB3pg         4.498701                   4.348052   \n",
       "80  VJVEDDJKccmrW1fhJCWmsQ         4.491803                   4.295082   \n",
       "81  FxEJjLZj6UdsOCGcgEufeA         4.488889                   4.488889   \n",
       "82  _O2_jwNT_3FDaSRZ50jvrw         4.486111                   4.347222   \n",
       "83  4aF5GfnVkJPj9IwJ2yxPtQ         4.483333                   4.375000   \n",
       "84  H9tJl_ntsan-YSZElKKK2w         4.478723                   4.372340   \n",
       "85  CFyPbqZaxoBTjOmVjSn_8Q         4.478261                   4.195652   \n",
       "86  aXgF2q1ciYIwUS2ULNNCgQ         4.476923                   4.492308   \n",
       "87  XPgurhZwZgNAwHcrpoe3Zg         4.473684                   4.496241   \n",
       "88  KMxOoHyRKP74PgosuRkkdg         4.473118                   4.433692   \n",
       "89  in3zjiaLpNzr9G3K35gAJQ         4.473054                   4.395210   \n",
       "90  aPSRMtV2V7MPXi6DU_UlRA         4.466667                   4.333333   \n",
       "91  3U__XOTBFptjhBeHrPGqrg         4.463768                   4.442029   \n",
       "92  ViErpcikhbAjsDcpdAfwSQ         4.463158                   4.294737   \n",
       "\n",
       "    MLPR_predicted_avg_rating  yelp_rounded_rating  GBR_feature_prediction  \\\n",
       "15                   4.409916                  5.0                3.942448   \n",
       "17                   4.490013                  5.0                3.915658   \n",
       "18                   4.514474                  5.0                3.771531   \n",
       "19                   4.389172                  5.0                3.688692   \n",
       "20                   4.399578                  5.0                3.388857   \n",
       "21                   4.617311                  5.0                3.870928   \n",
       "23                   4.443186                  5.0                4.006359   \n",
       "27                   4.556494                  5.0                3.358156   \n",
       "29                   4.658838                  5.0                3.777517   \n",
       "34                   4.433338                  4.5                4.228445   \n",
       "36                   4.505277                  4.5                4.303981   \n",
       "37                   4.449637                  4.5                3.468778   \n",
       "39                   4.449038                  4.5                3.695186   \n",
       "40                   4.406121                  4.5                3.962535   \n",
       "44                   4.538821                  4.5                3.875066   \n",
       "45                   4.629496                  4.5                3.916637   \n",
       "47                   4.485750                  4.5                3.640840   \n",
       "51                   4.362036                  4.5                4.232160   \n",
       "53                   4.430173                  4.5                4.104756   \n",
       "54                   4.487392                  4.5                4.301426   \n",
       "55                   4.539534                  4.5                3.477727   \n",
       "56                   4.368607                  4.5                4.066684   \n",
       "59                   4.556044                  4.5                3.549636   \n",
       "60                   4.135230                  4.5                3.959288   \n",
       "61                   4.385249                  4.5                3.498464   \n",
       "62                   4.431574                  4.5                4.262038   \n",
       "64                   4.350863                  4.5                4.057541   \n",
       "65                   4.131360                  4.5                3.435660   \n",
       "66                   4.440413                  4.5                4.394218   \n",
       "67                   4.049371                  4.5                3.355429   \n",
       "69                   4.377281                  4.5                3.963001   \n",
       "70                   4.243139                  4.5                4.064847   \n",
       "71                   4.261945                  4.5                3.889036   \n",
       "72                   4.324359                  4.5                3.769171   \n",
       "73                   4.319754                  4.5                4.086818   \n",
       "74                   4.379085                  4.5                3.994911   \n",
       "79                   4.293926                  4.5                4.434910   \n",
       "80                   4.250637                  4.5                3.575076   \n",
       "81                   4.391328                  4.5                3.867015   \n",
       "82                   4.142130                  4.5                3.860440   \n",
       "83                   4.337948                  4.5                4.106176   \n",
       "84                   4.309447                  4.5                3.623227   \n",
       "85                   4.161252                  4.5                3.735283   \n",
       "86                   4.387630                  4.5                3.986460   \n",
       "87                   4.327091                  4.5                4.110406   \n",
       "88                   4.377600                  4.5                3.970749   \n",
       "89                   4.324216                  4.5                3.907451   \n",
       "90                   4.256924                  4.5                3.935725   \n",
       "91                   4.399284                  4.5                3.966872   \n",
       "92                   4.243528                  4.5                3.845098   \n",
       "\n",
       "    review_count  \n",
       "15            24  \n",
       "17            24  \n",
       "18            39  \n",
       "19            22  \n",
       "20            60  \n",
       "21            30  \n",
       "23           131  \n",
       "27            95  \n",
       "29           125  \n",
       "34           181  \n",
       "36           218  \n",
       "37            67  \n",
       "39           175  \n",
       "40            67  \n",
       "44           215  \n",
       "45           160  \n",
       "47            33  \n",
       "51            88  \n",
       "53           297  \n",
       "54            56  \n",
       "55            28  \n",
       "56           159  \n",
       "59           109  \n",
       "60            50  \n",
       "61           117  \n",
       "62           293  \n",
       "64            45  \n",
       "65            31  \n",
       "66           187  \n",
       "67            43  \n",
       "69           572  \n",
       "70            36  \n",
       "71            86  \n",
       "72           273  \n",
       "73           954  \n",
       "74           199  \n",
       "79           385  \n",
       "80            61  \n",
       "81            45  \n",
       "82            72  \n",
       "83           120  \n",
       "84            94  \n",
       "85            92  \n",
       "86            65  \n",
       "87           133  \n",
       "88           279  \n",
       "89           167  \n",
       "90            75  \n",
       "91           138  \n",
       "92            95  "
      ]
     },
     "execution_count": 135,
     "metadata": {},
     "output_type": "execute_result"
    }
   ],
   "source": [
    "# create data frame with top rated restaurants based on a minimum number of reviews threshold\n",
    "# take threshold of minimum 20 reviews and select top 20 rated restaurants\n",
    "top_rated = overall_results.sort_values(by='yelp_avg_rating', ascending=False).merge(reviews_count, on='business_id')\n",
    "top_rated = top_rated[top_rated.review_count > 20].iloc[:50]\n",
    "top_rated"
   ]
  },
  {
   "cell_type": "code",
   "execution_count": 136,
   "metadata": {
    "collapsed": false
   },
   "outputs": [
    {
     "data": {
      "text/plain": [
       "7110L"
      ]
     },
     "execution_count": 136,
     "metadata": {},
     "output_type": "execute_result"
    }
   ],
   "source": [
    "top_rated.review_count.sum()"
   ]
  },
  {
   "cell_type": "code",
   "execution_count": 137,
   "metadata": {
    "collapsed": false
   },
   "outputs": [
    {
     "data": {
      "text/html": [
       "<div>\n",
       "<style>\n",
       "    .dataframe thead tr:only-child th {\n",
       "        text-align: right;\n",
       "    }\n",
       "\n",
       "    .dataframe thead th {\n",
       "        text-align: left;\n",
       "    }\n",
       "\n",
       "    .dataframe tbody tr th {\n",
       "        vertical-align: top;\n",
       "    }\n",
       "</style>\n",
       "<table border=\"1\" class=\"dataframe\">\n",
       "  <thead>\n",
       "    <tr style=\"text-align: right;\">\n",
       "      <th></th>\n",
       "      <th>business_id</th>\n",
       "      <th>stars_rating</th>\n",
       "      <th>review</th>\n",
       "      <th>sentiment</th>\n",
       "      <th>train</th>\n",
       "      <th>yelp_avg_rating</th>\n",
       "      <th>MLPC_predicted_avg_rating</th>\n",
       "      <th>MLPR_predicted_avg_rating</th>\n",
       "      <th>yelp_rounded_rating</th>\n",
       "      <th>GBR_feature_prediction</th>\n",
       "      <th>review_count</th>\n",
       "    </tr>\n",
       "  </thead>\n",
       "  <tbody>\n",
       "    <tr>\n",
       "      <th>0</th>\n",
       "      <td>d6kfTFKpKJX93qAEPhBGAg</td>\n",
       "      <td>4</td>\n",
       "      <td>Delicious! Very nice staff and open late on we...</td>\n",
       "      <td>1.0</td>\n",
       "      <td>False</td>\n",
       "      <td>4.833333</td>\n",
       "      <td>4.4</td>\n",
       "      <td>4.399578</td>\n",
       "      <td>5.0</td>\n",
       "      <td>3.388857</td>\n",
       "      <td>60</td>\n",
       "    </tr>\n",
       "    <tr>\n",
       "      <th>1</th>\n",
       "      <td>d6kfTFKpKJX93qAEPhBGAg</td>\n",
       "      <td>5</td>\n",
       "      <td>Ah Lupita's. I was in love with Nogales hot do...</td>\n",
       "      <td>1.0</td>\n",
       "      <td>False</td>\n",
       "      <td>4.833333</td>\n",
       "      <td>4.4</td>\n",
       "      <td>4.399578</td>\n",
       "      <td>5.0</td>\n",
       "      <td>3.388857</td>\n",
       "      <td>60</td>\n",
       "    </tr>\n",
       "  </tbody>\n",
       "</table>\n",
       "</div>"
      ],
      "text/plain": [
       "              business_id  stars_rating  \\\n",
       "0  d6kfTFKpKJX93qAEPhBGAg             4   \n",
       "1  d6kfTFKpKJX93qAEPhBGAg             5   \n",
       "\n",
       "                                              review  sentiment  train  \\\n",
       "0  Delicious! Very nice staff and open late on we...        1.0  False   \n",
       "1  Ah Lupita's. I was in love with Nogales hot do...        1.0  False   \n",
       "\n",
       "   yelp_avg_rating  MLPC_predicted_avg_rating  MLPR_predicted_avg_rating  \\\n",
       "0         4.833333                        4.4                   4.399578   \n",
       "1         4.833333                        4.4                   4.399578   \n",
       "\n",
       "   yelp_rounded_rating  GBR_feature_prediction  review_count  \n",
       "0                  5.0                3.388857            60  \n",
       "1                  5.0                3.388857            60  "
      ]
     },
     "execution_count": 137,
     "metadata": {},
     "output_type": "execute_result"
    }
   ],
   "source": [
    "top_reviews = reviews_df.merge(top_rated, on='business_id', how='inner')\n",
    "top_reviews.head(2)"
   ]
  },
  {
   "cell_type": "code",
   "execution_count": 138,
   "metadata": {
    "collapsed": false,
    "scrolled": true
   },
   "outputs": [],
   "source": [
    "counts = collections.Counter()\n",
    "for index, row in top_reviews.iterrows():\n",
    "    txt = row['review']\n",
    "    new_counts = makeWordDict(txt)\n",
    "    counts.update(new_counts)\n",
    "#counts.most_common(100)"
   ]
  },
  {
   "cell_type": "code",
   "execution_count": 139,
   "metadata": {
    "collapsed": false
   },
   "outputs": [
    {
     "data": {
      "text/plain": [
       "289033"
      ]
     },
     "execution_count": 139,
     "metadata": {},
     "output_type": "execute_result"
    }
   ],
   "source": [
    "sum(counts.values())"
   ]
  },
  {
   "cell_type": "markdown",
   "metadata": {},
   "source": [
    "__Bottom-rated reviews__"
   ]
  },
  {
   "cell_type": "code",
   "execution_count": 140,
   "metadata": {
    "collapsed": false
   },
   "outputs": [
    {
     "data": {
      "text/html": [
       "<div>\n",
       "<style>\n",
       "    .dataframe thead tr:only-child th {\n",
       "        text-align: right;\n",
       "    }\n",
       "\n",
       "    .dataframe thead th {\n",
       "        text-align: left;\n",
       "    }\n",
       "\n",
       "    .dataframe tbody tr th {\n",
       "        vertical-align: top;\n",
       "    }\n",
       "</style>\n",
       "<table border=\"1\" class=\"dataframe\">\n",
       "  <thead>\n",
       "    <tr style=\"text-align: right;\">\n",
       "      <th></th>\n",
       "      <th>business_id</th>\n",
       "      <th>yelp_avg_rating</th>\n",
       "      <th>MLPC_predicted_avg_rating</th>\n",
       "      <th>MLPR_predicted_avg_rating</th>\n",
       "      <th>yelp_rounded_rating</th>\n",
       "      <th>GBR_feature_prediction</th>\n",
       "      <th>review_count</th>\n",
       "    </tr>\n",
       "  </thead>\n",
       "  <tbody>\n",
       "    <tr>\n",
       "      <th>9</th>\n",
       "      <td>bLRjPq9-pAdXirAWWTuZzg</td>\n",
       "      <td>1.227273</td>\n",
       "      <td>1.590909</td>\n",
       "      <td>1.728378</td>\n",
       "      <td>1.0</td>\n",
       "      <td>2.662826</td>\n",
       "      <td>22</td>\n",
       "    </tr>\n",
       "    <tr>\n",
       "      <th>12</th>\n",
       "      <td>nCIcVDlT2K5TBRFkAUlhDA</td>\n",
       "      <td>1.357143</td>\n",
       "      <td>1.285714</td>\n",
       "      <td>1.549853</td>\n",
       "      <td>1.5</td>\n",
       "      <td>2.247967</td>\n",
       "      <td>28</td>\n",
       "    </tr>\n",
       "    <tr>\n",
       "      <th>19</th>\n",
       "      <td>euxQLuOeFIfsZWj6PmHp7g</td>\n",
       "      <td>1.476190</td>\n",
       "      <td>1.142857</td>\n",
       "      <td>1.403640</td>\n",
       "      <td>1.5</td>\n",
       "      <td>2.283914</td>\n",
       "      <td>21</td>\n",
       "    </tr>\n",
       "    <tr>\n",
       "      <th>25</th>\n",
       "      <td>VqutAZTwEgFj7FNoTjk3CA</td>\n",
       "      <td>1.571429</td>\n",
       "      <td>1.571429</td>\n",
       "      <td>1.568038</td>\n",
       "      <td>1.5</td>\n",
       "      <td>2.107283</td>\n",
       "      <td>28</td>\n",
       "    </tr>\n",
       "    <tr>\n",
       "      <th>26</th>\n",
       "      <td>6c4AW8WTpTA_xZYOrJx3Eg</td>\n",
       "      <td>1.583333</td>\n",
       "      <td>1.527778</td>\n",
       "      <td>1.715245</td>\n",
       "      <td>1.5</td>\n",
       "      <td>2.687212</td>\n",
       "      <td>36</td>\n",
       "    </tr>\n",
       "  </tbody>\n",
       "</table>\n",
       "</div>"
      ],
      "text/plain": [
       "               business_id  yelp_avg_rating  MLPC_predicted_avg_rating  \\\n",
       "9   bLRjPq9-pAdXirAWWTuZzg         1.227273                   1.590909   \n",
       "12  nCIcVDlT2K5TBRFkAUlhDA         1.357143                   1.285714   \n",
       "19  euxQLuOeFIfsZWj6PmHp7g         1.476190                   1.142857   \n",
       "25  VqutAZTwEgFj7FNoTjk3CA         1.571429                   1.571429   \n",
       "26  6c4AW8WTpTA_xZYOrJx3Eg         1.583333                   1.527778   \n",
       "\n",
       "    MLPR_predicted_avg_rating  yelp_rounded_rating  GBR_feature_prediction  \\\n",
       "9                    1.728378                  1.0                2.662826   \n",
       "12                   1.549853                  1.5                2.247967   \n",
       "19                   1.403640                  1.5                2.283914   \n",
       "25                   1.568038                  1.5                2.107283   \n",
       "26                   1.715245                  1.5                2.687212   \n",
       "\n",
       "    review_count  \n",
       "9             22  \n",
       "12            28  \n",
       "19            21  \n",
       "25            28  \n",
       "26            36  "
      ]
     },
     "execution_count": 140,
     "metadata": {},
     "output_type": "execute_result"
    }
   ],
   "source": [
    "# create data frame with bottom rated restaurants based on a minimum number of reviews threshold\n",
    "# take threshold of minimum 20 reviews and select 50 restaurants to have ca. 2,000 reviews comparable to top-rated\n",
    "bottom_rated = overall_results.sort_values(by='yelp_avg_rating', ascending=True).merge(reviews_count, on='business_id')\n",
    "bottom_rated = bottom_rated[bottom_rated.review_count > 20].iloc[:120]\n",
    "bottom_rated.head()"
   ]
  },
  {
   "cell_type": "code",
   "execution_count": 141,
   "metadata": {
    "collapsed": false
   },
   "outputs": [
    {
     "data": {
      "text/plain": [
       "7637L"
      ]
     },
     "execution_count": 141,
     "metadata": {},
     "output_type": "execute_result"
    }
   ],
   "source": [
    "bottom_rated.review_count.sum()"
   ]
  },
  {
   "cell_type": "code",
   "execution_count": 142,
   "metadata": {
    "collapsed": false
   },
   "outputs": [
    {
     "data": {
      "text/plain": [
       "(7637, 11)"
      ]
     },
     "execution_count": 142,
     "metadata": {},
     "output_type": "execute_result"
    }
   ],
   "source": [
    "bottom_reviews = reviews_df.merge(bottom_rated, on='business_id', how='inner')\n",
    "bottom_reviews.shape"
   ]
  },
  {
   "cell_type": "code",
   "execution_count": 143,
   "metadata": {
    "collapsed": false,
    "scrolled": true
   },
   "outputs": [],
   "source": [
    "bad_counts = collections.Counter()\n",
    "for index, row in bottom_reviews.iterrows():\n",
    "    txt = row['review']\n",
    "    new_counts = makeWordDict(txt)\n",
    "    bad_counts.update(new_counts)\n",
    "#bad_counts.most_common(100)"
   ]
  },
  {
   "cell_type": "code",
   "execution_count": 144,
   "metadata": {
    "collapsed": false
   },
   "outputs": [
    {
     "data": {
      "text/plain": [
       "379121"
      ]
     },
     "execution_count": 144,
     "metadata": {},
     "output_type": "execute_result"
    }
   ],
   "source": [
    "sum(bad_counts.values())"
   ]
  },
  {
   "cell_type": "code",
   "execution_count": 145,
   "metadata": {
    "collapsed": false
   },
   "outputs": [
    {
     "data": {
      "text/html": [
       "<div>\n",
       "<style>\n",
       "    .dataframe thead tr:only-child th {\n",
       "        text-align: right;\n",
       "    }\n",
       "\n",
       "    .dataframe thead th {\n",
       "        text-align: left;\n",
       "    }\n",
       "\n",
       "    .dataframe tbody tr th {\n",
       "        vertical-align: top;\n",
       "    }\n",
       "</style>\n",
       "<table border=\"1\" class=\"dataframe\">\n",
       "  <thead>\n",
       "    <tr style=\"text-align: right;\">\n",
       "      <th></th>\n",
       "      <th>words</th>\n",
       "      <th>count_top_reviews</th>\n",
       "      <th>count_bottom_reviews</th>\n",
       "      <th>difference</th>\n",
       "    </tr>\n",
       "  </thead>\n",
       "  <tbody>\n",
       "    <tr>\n",
       "      <th>3458</th>\n",
       "      <td>delicious</td>\n",
       "      <td>1893.0</td>\n",
       "      <td>520.0</td>\n",
       "      <td>1373.0</td>\n",
       "    </tr>\n",
       "    <tr>\n",
       "      <th>3337</th>\n",
       "      <td>pizza</td>\n",
       "      <td>2138.0</td>\n",
       "      <td>827.0</td>\n",
       "      <td>1311.0</td>\n",
       "    </tr>\n",
       "    <tr>\n",
       "      <th>2493</th>\n",
       "      <td>great</td>\n",
       "      <td>3846.0</td>\n",
       "      <td>2565.0</td>\n",
       "      <td>1281.0</td>\n",
       "    </tr>\n",
       "    <tr>\n",
       "      <th>4340</th>\n",
       "      <td>breakfast</td>\n",
       "      <td>1505.0</td>\n",
       "      <td>404.0</td>\n",
       "      <td>1101.0</td>\n",
       "    </tr>\n",
       "    <tr>\n",
       "      <th>6466</th>\n",
       "      <td>amazing</td>\n",
       "      <td>1474.0</td>\n",
       "      <td>432.0</td>\n",
       "      <td>1042.0</td>\n",
       "    </tr>\n",
       "    <tr>\n",
       "      <th>2406</th>\n",
       "      <td>fresh</td>\n",
       "      <td>1642.0</td>\n",
       "      <td>645.0</td>\n",
       "      <td>997.0</td>\n",
       "    </tr>\n",
       "    <tr>\n",
       "      <th>2714</th>\n",
       "      <td>owner</td>\n",
       "      <td>1075.0</td>\n",
       "      <td>224.0</td>\n",
       "      <td>851.0</td>\n",
       "    </tr>\n",
       "    <tr>\n",
       "      <th>5525</th>\n",
       "      <td>friendly</td>\n",
       "      <td>1700.0</td>\n",
       "      <td>853.0</td>\n",
       "      <td>847.0</td>\n",
       "    </tr>\n",
       "    <tr>\n",
       "      <th>2451</th>\n",
       "      <td>try</td>\n",
       "      <td>2378.0</td>\n",
       "      <td>1607.0</td>\n",
       "      <td>771.0</td>\n",
       "    </tr>\n",
       "    <tr>\n",
       "      <th>5649</th>\n",
       "      <td>donut</td>\n",
       "      <td>829.0</td>\n",
       "      <td>71.0</td>\n",
       "      <td>758.0</td>\n",
       "    </tr>\n",
       "    <tr>\n",
       "      <th>872</th>\n",
       "      <td>love</td>\n",
       "      <td>1939.0</td>\n",
       "      <td>1192.0</td>\n",
       "      <td>747.0</td>\n",
       "    </tr>\n",
       "    <tr>\n",
       "      <th>3387</th>\n",
       "      <td>coffee</td>\n",
       "      <td>869.0</td>\n",
       "      <td>238.0</td>\n",
       "      <td>631.0</td>\n",
       "    </tr>\n",
       "    <tr>\n",
       "      <th>6691</th>\n",
       "      <td>definitely</td>\n",
       "      <td>1238.0</td>\n",
       "      <td>623.0</td>\n",
       "      <td>615.0</td>\n",
       "    </tr>\n",
       "    <tr>\n",
       "      <th>5003</th>\n",
       "      <td>pho</td>\n",
       "      <td>595.0</td>\n",
       "      <td>44.0</td>\n",
       "      <td>551.0</td>\n",
       "    </tr>\n",
       "    <tr>\n",
       "      <th>3558</th>\n",
       "      <td>toast</td>\n",
       "      <td>645.0</td>\n",
       "      <td>115.0</td>\n",
       "      <td>530.0</td>\n",
       "    </tr>\n",
       "    <tr>\n",
       "      <th>10233</th>\n",
       "      <td>ice</td>\n",
       "      <td>742.0</td>\n",
       "      <td>271.0</td>\n",
       "      <td>471.0</td>\n",
       "    </tr>\n",
       "    <tr>\n",
       "      <th>6688</th>\n",
       "      <td>dog</td>\n",
       "      <td>558.0</td>\n",
       "      <td>89.0</td>\n",
       "      <td>469.0</td>\n",
       "    </tr>\n",
       "    <tr>\n",
       "      <th>11385</th>\n",
       "      <td>sandwich</td>\n",
       "      <td>1042.0</td>\n",
       "      <td>616.0</td>\n",
       "      <td>426.0</td>\n",
       "    </tr>\n",
       "    <tr>\n",
       "      <th>7183</th>\n",
       "      <td>french</td>\n",
       "      <td>559.0</td>\n",
       "      <td>134.0</td>\n",
       "      <td>425.0</td>\n",
       "    </tr>\n",
       "    <tr>\n",
       "      <th>4940</th>\n",
       "      <td>egg</td>\n",
       "      <td>653.0</td>\n",
       "      <td>229.0</td>\n",
       "      <td>424.0</td>\n",
       "    </tr>\n",
       "    <tr>\n",
       "      <th>949</th>\n",
       "      <td>spot</td>\n",
       "      <td>661.0</td>\n",
       "      <td>243.0</td>\n",
       "      <td>418.0</td>\n",
       "    </tr>\n",
       "    <tr>\n",
       "      <th>6989</th>\n",
       "      <td>super</td>\n",
       "      <td>744.0</td>\n",
       "      <td>348.0</td>\n",
       "      <td>396.0</td>\n",
       "    </tr>\n",
       "    <tr>\n",
       "      <th>9661</th>\n",
       "      <td>excellent</td>\n",
       "      <td>629.0</td>\n",
       "      <td>242.0</td>\n",
       "      <td>387.0</td>\n",
       "    </tr>\n",
       "    <tr>\n",
       "      <th>7741</th>\n",
       "      <td>flavor</td>\n",
       "      <td>905.0</td>\n",
       "      <td>524.0</td>\n",
       "      <td>381.0</td>\n",
       "    </tr>\n",
       "    <tr>\n",
       "      <th>2610</th>\n",
       "      <td>perfect</td>\n",
       "      <td>566.0</td>\n",
       "      <td>198.0</td>\n",
       "      <td>368.0</td>\n",
       "    </tr>\n",
       "    <tr>\n",
       "      <th>7073</th>\n",
       "      <td>tamale</td>\n",
       "      <td>401.0</td>\n",
       "      <td>39.0</td>\n",
       "      <td>362.0</td>\n",
       "    </tr>\n",
       "    <tr>\n",
       "      <th>6419</th>\n",
       "      <td>recommend</td>\n",
       "      <td>821.0</td>\n",
       "      <td>463.0</td>\n",
       "      <td>358.0</td>\n",
       "    </tr>\n",
       "    <tr>\n",
       "      <th>7520</th>\n",
       "      <td>gyro</td>\n",
       "      <td>388.0</td>\n",
       "      <td>37.0</td>\n",
       "      <td>351.0</td>\n",
       "    </tr>\n",
       "    <tr>\n",
       "      <th>190</th>\n",
       "      <td>wine</td>\n",
       "      <td>441.0</td>\n",
       "      <td>102.0</td>\n",
       "      <td>339.0</td>\n",
       "    </tr>\n",
       "    <tr>\n",
       "      <th>6395</th>\n",
       "      <td>fantastic</td>\n",
       "      <td>464.0</td>\n",
       "      <td>140.0</td>\n",
       "      <td>324.0</td>\n",
       "    </tr>\n",
       "    <tr>\n",
       "      <th>924</th>\n",
       "      <td>awesome</td>\n",
       "      <td>747.0</td>\n",
       "      <td>424.0</td>\n",
       "      <td>323.0</td>\n",
       "    </tr>\n",
       "    <tr>\n",
       "      <th>7528</th>\n",
       "      <td>shop</td>\n",
       "      <td>373.0</td>\n",
       "      <td>57.0</td>\n",
       "      <td>316.0</td>\n",
       "    </tr>\n",
       "    <tr>\n",
       "      <th>8773</th>\n",
       "      <td>ingredient</td>\n",
       "      <td>428.0</td>\n",
       "      <td>122.0</td>\n",
       "      <td>306.0</td>\n",
       "    </tr>\n",
       "    <tr>\n",
       "      <th>1481</th>\n",
       "      <td>favorite</td>\n",
       "      <td>647.0</td>\n",
       "      <td>345.0</td>\n",
       "      <td>302.0</td>\n",
       "    </tr>\n",
       "    <tr>\n",
       "      <th>9529</th>\n",
       "      <td>yelp</td>\n",
       "      <td>463.0</td>\n",
       "      <td>162.0</td>\n",
       "      <td>301.0</td>\n",
       "    </tr>\n",
       "    <tr>\n",
       "      <th>3270</th>\n",
       "      <td>highly</td>\n",
       "      <td>396.0</td>\n",
       "      <td>113.0</td>\n",
       "      <td>283.0</td>\n",
       "    </tr>\n",
       "    <tr>\n",
       "      <th>8350</th>\n",
       "      <td>find</td>\n",
       "      <td>1043.0</td>\n",
       "      <td>762.0</td>\n",
       "      <td>281.0</td>\n",
       "    </tr>\n",
       "    <tr>\n",
       "      <th>4495</th>\n",
       "      <td>wonderful</td>\n",
       "      <td>378.0</td>\n",
       "      <td>102.0</td>\n",
       "      <td>276.0</td>\n",
       "    </tr>\n",
       "    <tr>\n",
       "      <th>5590</th>\n",
       "      <td>pancake</td>\n",
       "      <td>361.0</td>\n",
       "      <td>94.0</td>\n",
       "      <td>267.0</td>\n",
       "    </tr>\n",
       "    <tr>\n",
       "      <th>10358</th>\n",
       "      <td>phoenix</td>\n",
       "      <td>791.0</td>\n",
       "      <td>524.0</td>\n",
       "      <td>267.0</td>\n",
       "    </tr>\n",
       "    <tr>\n",
       "      <th>4314</th>\n",
       "      <td>pomo</td>\n",
       "      <td>262.0</td>\n",
       "      <td>3.0</td>\n",
       "      <td>259.0</td>\n",
       "    </tr>\n",
       "    <tr>\n",
       "      <th>7250</th>\n",
       "      <td>soup</td>\n",
       "      <td>523.0</td>\n",
       "      <td>270.0</td>\n",
       "      <td>253.0</td>\n",
       "    </tr>\n",
       "    <tr>\n",
       "      <th>9378</th>\n",
       "      <td>italian</td>\n",
       "      <td>349.0</td>\n",
       "      <td>103.0</td>\n",
       "      <td>246.0</td>\n",
       "    </tr>\n",
       "    <tr>\n",
       "      <th>10664</th>\n",
       "      <td>place</td>\n",
       "      <td>5034.0</td>\n",
       "      <td>4788.0</td>\n",
       "      <td>246.0</td>\n",
       "    </tr>\n",
       "    <tr>\n",
       "      <th>3549</th>\n",
       "      <td>crust</td>\n",
       "      <td>330.0</td>\n",
       "      <td>84.0</td>\n",
       "      <td>246.0</td>\n",
       "    </tr>\n",
       "    <tr>\n",
       "      <th>752</th>\n",
       "      <td>roll</td>\n",
       "      <td>618.0</td>\n",
       "      <td>378.0</td>\n",
       "      <td>240.0</td>\n",
       "    </tr>\n",
       "    <tr>\n",
       "      <th>5258</th>\n",
       "      <td>shave</td>\n",
       "      <td>234.0</td>\n",
       "      <td>4.0</td>\n",
       "      <td>230.0</td>\n",
       "    </tr>\n",
       "    <tr>\n",
       "      <th>1555</th>\n",
       "      <td>cream</td>\n",
       "      <td>573.0</td>\n",
       "      <td>345.0</td>\n",
       "      <td>228.0</td>\n",
       "    </tr>\n",
       "    <tr>\n",
       "      <th>8673</th>\n",
       "      <td>homemade</td>\n",
       "      <td>269.0</td>\n",
       "      <td>43.0</td>\n",
       "      <td>226.0</td>\n",
       "    </tr>\n",
       "    <tr>\n",
       "      <th>11169</th>\n",
       "      <td>tasty</td>\n",
       "      <td>620.0</td>\n",
       "      <td>401.0</td>\n",
       "      <td>219.0</td>\n",
       "    </tr>\n",
       "  </tbody>\n",
       "</table>\n",
       "</div>"
      ],
      "text/plain": [
       "            words  count_top_reviews  count_bottom_reviews  difference\n",
       "3458    delicious             1893.0                 520.0      1373.0\n",
       "3337        pizza             2138.0                 827.0      1311.0\n",
       "2493        great             3846.0                2565.0      1281.0\n",
       "4340    breakfast             1505.0                 404.0      1101.0\n",
       "6466      amazing             1474.0                 432.0      1042.0\n",
       "2406        fresh             1642.0                 645.0       997.0\n",
       "2714        owner             1075.0                 224.0       851.0\n",
       "5525     friendly             1700.0                 853.0       847.0\n",
       "2451          try             2378.0                1607.0       771.0\n",
       "5649        donut              829.0                  71.0       758.0\n",
       "872          love             1939.0                1192.0       747.0\n",
       "3387       coffee              869.0                 238.0       631.0\n",
       "6691   definitely             1238.0                 623.0       615.0\n",
       "5003          pho              595.0                  44.0       551.0\n",
       "3558        toast              645.0                 115.0       530.0\n",
       "10233         ice              742.0                 271.0       471.0\n",
       "6688          dog              558.0                  89.0       469.0\n",
       "11385    sandwich             1042.0                 616.0       426.0\n",
       "7183       french              559.0                 134.0       425.0\n",
       "4940          egg              653.0                 229.0       424.0\n",
       "949          spot              661.0                 243.0       418.0\n",
       "6989        super              744.0                 348.0       396.0\n",
       "9661    excellent              629.0                 242.0       387.0\n",
       "7741       flavor              905.0                 524.0       381.0\n",
       "2610      perfect              566.0                 198.0       368.0\n",
       "7073       tamale              401.0                  39.0       362.0\n",
       "6419    recommend              821.0                 463.0       358.0\n",
       "7520         gyro              388.0                  37.0       351.0\n",
       "190          wine              441.0                 102.0       339.0\n",
       "6395    fantastic              464.0                 140.0       324.0\n",
       "924       awesome              747.0                 424.0       323.0\n",
       "7528         shop              373.0                  57.0       316.0\n",
       "8773   ingredient              428.0                 122.0       306.0\n",
       "1481     favorite              647.0                 345.0       302.0\n",
       "9529         yelp              463.0                 162.0       301.0\n",
       "3270       highly              396.0                 113.0       283.0\n",
       "8350         find             1043.0                 762.0       281.0\n",
       "4495    wonderful              378.0                 102.0       276.0\n",
       "5590      pancake              361.0                  94.0       267.0\n",
       "10358     phoenix              791.0                 524.0       267.0\n",
       "4314         pomo              262.0                   3.0       259.0\n",
       "7250         soup              523.0                 270.0       253.0\n",
       "9378      italian              349.0                 103.0       246.0\n",
       "10664       place             5034.0                4788.0       246.0\n",
       "3549        crust              330.0                  84.0       246.0\n",
       "752          roll              618.0                 378.0       240.0\n",
       "5258        shave              234.0                   4.0       230.0\n",
       "1555        cream              573.0                 345.0       228.0\n",
       "8673     homemade              269.0                  43.0       226.0\n",
       "11169       tasty              620.0                 401.0       219.0"
      ]
     },
     "execution_count": 145,
     "metadata": {},
     "output_type": "execute_result"
    }
   ],
   "source": [
    "bw = pd.DataFrame.from_dict(bad_counts, orient='index').reset_index()\n",
    "bw.columns = ['words', 'count_bottom_reviews']\n",
    "gw = pd.DataFrame.from_dict(counts, orient='index').reset_index()\n",
    "gw.columns = ['words', 'count_top_reviews']\n",
    "words_df = gw.merge(bw, on='words', how='outer')\n",
    "words_df['difference'] = words_df.count_top_reviews - words_df.count_bottom_reviews\n",
    "words_df = words_df.sort_values(by = 'difference', ascending=False)\n",
    "words_df.head(50)"
   ]
  },
  {
   "cell_type": "code",
   "execution_count": 146,
   "metadata": {
    "collapsed": false
   },
   "outputs": [
    {
     "data": {
      "text/html": [
       "<div>\n",
       "<style>\n",
       "    .dataframe thead tr:only-child th {\n",
       "        text-align: right;\n",
       "    }\n",
       "\n",
       "    .dataframe thead th {\n",
       "        text-align: left;\n",
       "    }\n",
       "\n",
       "    .dataframe tbody tr th {\n",
       "        vertical-align: top;\n",
       "    }\n",
       "</style>\n",
       "<table border=\"1\" class=\"dataframe\">\n",
       "  <thead>\n",
       "    <tr style=\"text-align: right;\">\n",
       "      <th></th>\n",
       "      <th>words</th>\n",
       "      <th>count_top_reviews</th>\n",
       "      <th>count_bottom_reviews</th>\n",
       "      <th>difference</th>\n",
       "    </tr>\n",
       "  </thead>\n",
       "  <tbody>\n",
       "    <tr>\n",
       "      <th>4190</th>\n",
       "      <td>not</td>\n",
       "      <td>3419.0</td>\n",
       "      <td>6481.0</td>\n",
       "      <td>-3062.0</td>\n",
       "    </tr>\n",
       "    <tr>\n",
       "      <th>4536</th>\n",
       "      <td>food</td>\n",
       "      <td>4102.0</td>\n",
       "      <td>6824.0</td>\n",
       "      <td>-2722.0</td>\n",
       "    </tr>\n",
       "    <tr>\n",
       "      <th>3358</th>\n",
       "      <td>order</td>\n",
       "      <td>2277.0</td>\n",
       "      <td>4811.0</td>\n",
       "      <td>-2534.0</td>\n",
       "    </tr>\n",
       "    <tr>\n",
       "      <th>768</th>\n",
       "      <td>time</td>\n",
       "      <td>2060.0</td>\n",
       "      <td>3530.0</td>\n",
       "      <td>-1470.0</td>\n",
       "    </tr>\n",
       "    <tr>\n",
       "      <th>6735</th>\n",
       "      <td>bad</td>\n",
       "      <td>330.0</td>\n",
       "      <td>1709.0</td>\n",
       "      <td>-1379.0</td>\n",
       "    </tr>\n",
       "    <tr>\n",
       "      <th>5513</th>\n",
       "      <td>go</td>\n",
       "      <td>1342.0</td>\n",
       "      <td>2696.0</td>\n",
       "      <td>-1354.0</td>\n",
       "    </tr>\n",
       "    <tr>\n",
       "      <th>756</th>\n",
       "      <td>'s</td>\n",
       "      <td>1069.0</td>\n",
       "      <td>2403.0</td>\n",
       "      <td>-1334.0</td>\n",
       "    </tr>\n",
       "    <tr>\n",
       "      <th>2976</th>\n",
       "      <td>drink</td>\n",
       "      <td>469.0</td>\n",
       "      <td>1794.0</td>\n",
       "      <td>-1325.0</td>\n",
       "    </tr>\n",
       "    <tr>\n",
       "      <th>5034</th>\n",
       "      <td>ask</td>\n",
       "      <td>511.0</td>\n",
       "      <td>1696.0</td>\n",
       "      <td>-1185.0</td>\n",
       "    </tr>\n",
       "    <tr>\n",
       "      <th>9368</th>\n",
       "      <td>like</td>\n",
       "      <td>2206.0</td>\n",
       "      <td>3309.0</td>\n",
       "      <td>-1103.0</td>\n",
       "    </tr>\n",
       "    <tr>\n",
       "      <th>7555</th>\n",
       "      <td>get</td>\n",
       "      <td>1494.0</td>\n",
       "      <td>2545.0</td>\n",
       "      <td>-1051.0</td>\n",
       "    </tr>\n",
       "    <tr>\n",
       "      <th>2266</th>\n",
       "      <td>be</td>\n",
       "      <td>3740.0</td>\n",
       "      <td>4777.0</td>\n",
       "      <td>-1037.0</td>\n",
       "    </tr>\n",
       "    <tr>\n",
       "      <th>305</th>\n",
       "      <td>service</td>\n",
       "      <td>2173.0</td>\n",
       "      <td>3206.0</td>\n",
       "      <td>-1033.0</td>\n",
       "    </tr>\n",
       "    <tr>\n",
       "      <th>1149</th>\n",
       "      <td>say</td>\n",
       "      <td>511.0</td>\n",
       "      <td>1542.0</td>\n",
       "      <td>-1031.0</td>\n",
       "    </tr>\n",
       "    <tr>\n",
       "      <th>5797</th>\n",
       "      <td>minute</td>\n",
       "      <td>446.0</td>\n",
       "      <td>1474.0</td>\n",
       "      <td>-1028.0</td>\n",
       "    </tr>\n",
       "    <tr>\n",
       "      <th>10877</th>\n",
       "      <td>come</td>\n",
       "      <td>2338.0</td>\n",
       "      <td>3345.0</td>\n",
       "      <td>-1007.0</td>\n",
       "    </tr>\n",
       "    <tr>\n",
       "      <th>2213</th>\n",
       "      <td>location</td>\n",
       "      <td>289.0</td>\n",
       "      <td>1251.0</td>\n",
       "      <td>-962.0</td>\n",
       "    </tr>\n",
       "    <tr>\n",
       "      <th>1167</th>\n",
       "      <td>take</td>\n",
       "      <td>521.0</td>\n",
       "      <td>1458.0</td>\n",
       "      <td>-937.0</td>\n",
       "    </tr>\n",
       "    <tr>\n",
       "      <th>11052</th>\n",
       "      <td>table</td>\n",
       "      <td>627.0</td>\n",
       "      <td>1520.0</td>\n",
       "      <td>-893.0</td>\n",
       "    </tr>\n",
       "    <tr>\n",
       "      <th>7774</th>\n",
       "      <td>server</td>\n",
       "      <td>373.0</td>\n",
       "      <td>1226.0</td>\n",
       "      <td>-853.0</td>\n",
       "    </tr>\n",
       "    <tr>\n",
       "      <th>6730</th>\n",
       "      <td>bar</td>\n",
       "      <td>376.0</td>\n",
       "      <td>1176.0</td>\n",
       "      <td>-800.0</td>\n",
       "    </tr>\n",
       "    <tr>\n",
       "      <th>7108</th>\n",
       "      <td>manager</td>\n",
       "      <td>103.0</td>\n",
       "      <td>902.0</td>\n",
       "      <td>-799.0</td>\n",
       "    </tr>\n",
       "    <tr>\n",
       "      <th>9060</th>\n",
       "      <td>chicken</td>\n",
       "      <td>984.0</td>\n",
       "      <td>1676.0</td>\n",
       "      <td>-692.0</td>\n",
       "    </tr>\n",
       "    <tr>\n",
       "      <th>6231</th>\n",
       "      <td>eat</td>\n",
       "      <td>1297.0</td>\n",
       "      <td>1981.0</td>\n",
       "      <td>-684.0</td>\n",
       "    </tr>\n",
       "    <tr>\n",
       "      <th>3809</th>\n",
       "      <td>night</td>\n",
       "      <td>306.0</td>\n",
       "      <td>968.0</td>\n",
       "      <td>-662.0</td>\n",
       "    </tr>\n",
       "    <tr>\n",
       "      <th>7187</th>\n",
       "      <td>wait</td>\n",
       "      <td>1105.0</td>\n",
       "      <td>1767.0</td>\n",
       "      <td>-662.0</td>\n",
       "    </tr>\n",
       "    <tr>\n",
       "      <th>5337</th>\n",
       "      <td>$</td>\n",
       "      <td>817.0</td>\n",
       "      <td>1472.0</td>\n",
       "      <td>-655.0</td>\n",
       "    </tr>\n",
       "    <tr>\n",
       "      <th>9065</th>\n",
       "      <td>waitress</td>\n",
       "      <td>223.0</td>\n",
       "      <td>851.0</td>\n",
       "      <td>-628.0</td>\n",
       "    </tr>\n",
       "    <tr>\n",
       "      <th>12163</th>\n",
       "      <td>sit</td>\n",
       "      <td>406.0</td>\n",
       "      <td>1034.0</td>\n",
       "      <td>-628.0</td>\n",
       "    </tr>\n",
       "    <tr>\n",
       "      <th>6425</th>\n",
       "      <td>tell</td>\n",
       "      <td>541.0</td>\n",
       "      <td>1164.0</td>\n",
       "      <td>-623.0</td>\n",
       "    </tr>\n",
       "    <tr>\n",
       "      <th>7973</th>\n",
       "      <td>burger</td>\n",
       "      <td>179.0</td>\n",
       "      <td>794.0</td>\n",
       "      <td>-615.0</td>\n",
       "    </tr>\n",
       "    <tr>\n",
       "      <th>8062</th>\n",
       "      <td>hour</td>\n",
       "      <td>372.0</td>\n",
       "      <td>963.0</td>\n",
       "      <td>-591.0</td>\n",
       "    </tr>\n",
       "    <tr>\n",
       "      <th>3412</th>\n",
       "      <td>good</td>\n",
       "      <td>5540.0</td>\n",
       "      <td>6124.0</td>\n",
       "      <td>-584.0</td>\n",
       "    </tr>\n",
       "    <tr>\n",
       "      <th>820</th>\n",
       "      <td>leave</td>\n",
       "      <td>359.0</td>\n",
       "      <td>936.0</td>\n",
       "      <td>-577.0</td>\n",
       "    </tr>\n",
       "    <tr>\n",
       "      <th>7698</th>\n",
       "      <td>pay</td>\n",
       "      <td>205.0</td>\n",
       "      <td>771.0</td>\n",
       "      <td>-566.0</td>\n",
       "    </tr>\n",
       "    <tr>\n",
       "      <th>5171</th>\n",
       "      <td>pretty</td>\n",
       "      <td>546.0</td>\n",
       "      <td>1097.0</td>\n",
       "      <td>-551.0</td>\n",
       "    </tr>\n",
       "    <tr>\n",
       "      <th>148</th>\n",
       "      <td>want</td>\n",
       "      <td>891.0</td>\n",
       "      <td>1441.0</td>\n",
       "      <td>-550.0</td>\n",
       "    </tr>\n",
       "    <tr>\n",
       "      <th>3595</th>\n",
       "      <td>steak</td>\n",
       "      <td>210.0</td>\n",
       "      <td>754.0</td>\n",
       "      <td>-544.0</td>\n",
       "    </tr>\n",
       "    <tr>\n",
       "      <th>11090</th>\n",
       "      <td>ok</td>\n",
       "      <td>188.0</td>\n",
       "      <td>727.0</td>\n",
       "      <td>-539.0</td>\n",
       "    </tr>\n",
       "    <tr>\n",
       "      <th>6267</th>\n",
       "      <td>star</td>\n",
       "      <td>566.0</td>\n",
       "      <td>1085.0</td>\n",
       "      <td>-519.0</td>\n",
       "    </tr>\n",
       "    <tr>\n",
       "      <th>8422</th>\n",
       "      <td>restaurant</td>\n",
       "      <td>1187.0</td>\n",
       "      <td>1686.0</td>\n",
       "      <td>-499.0</td>\n",
       "    </tr>\n",
       "    <tr>\n",
       "      <th>12443</th>\n",
       "      <td>view</td>\n",
       "      <td>35.0</td>\n",
       "      <td>533.0</td>\n",
       "      <td>-498.0</td>\n",
       "    </tr>\n",
       "    <tr>\n",
       "      <th>6901</th>\n",
       "      <td>kid</td>\n",
       "      <td>238.0</td>\n",
       "      <td>726.0</td>\n",
       "      <td>-488.0</td>\n",
       "    </tr>\n",
       "    <tr>\n",
       "      <th>12372</th>\n",
       "      <td>bagel</td>\n",
       "      <td>24.0</td>\n",
       "      <td>499.0</td>\n",
       "      <td>-475.0</td>\n",
       "    </tr>\n",
       "    <tr>\n",
       "      <th>1683</th>\n",
       "      <td>experience</td>\n",
       "      <td>550.0</td>\n",
       "      <td>1024.0</td>\n",
       "      <td>-474.0</td>\n",
       "    </tr>\n",
       "    <tr>\n",
       "      <th>12634</th>\n",
       "      <td>know</td>\n",
       "      <td>763.0</td>\n",
       "      <td>1237.0</td>\n",
       "      <td>-474.0</td>\n",
       "    </tr>\n",
       "    <tr>\n",
       "      <th>1783</th>\n",
       "      <td>mexican</td>\n",
       "      <td>227.0</td>\n",
       "      <td>696.0</td>\n",
       "      <td>-469.0</td>\n",
       "    </tr>\n",
       "    <tr>\n",
       "      <th>7418</th>\n",
       "      <td>cheese</td>\n",
       "      <td>670.0</td>\n",
       "      <td>1135.0</td>\n",
       "      <td>-465.0</td>\n",
       "    </tr>\n",
       "    <tr>\n",
       "      <th>7415</th>\n",
       "      <td>think</td>\n",
       "      <td>802.0</td>\n",
       "      <td>1263.0</td>\n",
       "      <td>-461.0</td>\n",
       "    </tr>\n",
       "    <tr>\n",
       "      <th>12499</th>\n",
       "      <td>walk</td>\n",
       "      <td>401.0</td>\n",
       "      <td>859.0</td>\n",
       "      <td>-458.0</td>\n",
       "    </tr>\n",
       "  </tbody>\n",
       "</table>\n",
       "</div>"
      ],
      "text/plain": [
       "            words  count_top_reviews  count_bottom_reviews  difference\n",
       "4190          not             3419.0                6481.0     -3062.0\n",
       "4536         food             4102.0                6824.0     -2722.0\n",
       "3358        order             2277.0                4811.0     -2534.0\n",
       "768          time             2060.0                3530.0     -1470.0\n",
       "6735          bad              330.0                1709.0     -1379.0\n",
       "5513           go             1342.0                2696.0     -1354.0\n",
       "756            's             1069.0                2403.0     -1334.0\n",
       "2976        drink              469.0                1794.0     -1325.0\n",
       "5034          ask              511.0                1696.0     -1185.0\n",
       "9368         like             2206.0                3309.0     -1103.0\n",
       "7555          get             1494.0                2545.0     -1051.0\n",
       "2266           be             3740.0                4777.0     -1037.0\n",
       "305       service             2173.0                3206.0     -1033.0\n",
       "1149          say              511.0                1542.0     -1031.0\n",
       "5797       minute              446.0                1474.0     -1028.0\n",
       "10877        come             2338.0                3345.0     -1007.0\n",
       "2213     location              289.0                1251.0      -962.0\n",
       "1167         take              521.0                1458.0      -937.0\n",
       "11052       table              627.0                1520.0      -893.0\n",
       "7774       server              373.0                1226.0      -853.0\n",
       "6730          bar              376.0                1176.0      -800.0\n",
       "7108      manager              103.0                 902.0      -799.0\n",
       "9060      chicken              984.0                1676.0      -692.0\n",
       "6231          eat             1297.0                1981.0      -684.0\n",
       "3809        night              306.0                 968.0      -662.0\n",
       "7187         wait             1105.0                1767.0      -662.0\n",
       "5337            $              817.0                1472.0      -655.0\n",
       "9065     waitress              223.0                 851.0      -628.0\n",
       "12163         sit              406.0                1034.0      -628.0\n",
       "6425         tell              541.0                1164.0      -623.0\n",
       "7973       burger              179.0                 794.0      -615.0\n",
       "8062         hour              372.0                 963.0      -591.0\n",
       "3412         good             5540.0                6124.0      -584.0\n",
       "820         leave              359.0                 936.0      -577.0\n",
       "7698          pay              205.0                 771.0      -566.0\n",
       "5171       pretty              546.0                1097.0      -551.0\n",
       "148          want              891.0                1441.0      -550.0\n",
       "3595        steak              210.0                 754.0      -544.0\n",
       "11090          ok              188.0                 727.0      -539.0\n",
       "6267         star              566.0                1085.0      -519.0\n",
       "8422   restaurant             1187.0                1686.0      -499.0\n",
       "12443        view               35.0                 533.0      -498.0\n",
       "6901          kid              238.0                 726.0      -488.0\n",
       "12372       bagel               24.0                 499.0      -475.0\n",
       "1683   experience              550.0                1024.0      -474.0\n",
       "12634        know              763.0                1237.0      -474.0\n",
       "1783      mexican              227.0                 696.0      -469.0\n",
       "7418       cheese              670.0                1135.0      -465.0\n",
       "7415        think              802.0                1263.0      -461.0\n",
       "12499        walk              401.0                 859.0      -458.0"
      ]
     },
     "execution_count": 146,
     "metadata": {},
     "output_type": "execute_result"
    }
   ],
   "source": [
    "words_df.sort_values(by = 'difference', ascending=True).head(50)"
   ]
  },
  {
   "cell_type": "markdown",
   "metadata": {},
   "source": [
    "# 6. Visualising Classification Results"
   ]
  },
  {
   "cell_type": "code",
   "execution_count": 147,
   "metadata": {
    "collapsed": true
   },
   "outputs": [],
   "source": [
    "from sklearn.manifold import TSNE"
   ]
  },
  {
   "cell_type": "code",
   "execution_count": 148,
   "metadata": {
    "collapsed": true
   },
   "outputs": [],
   "source": [
    "from sklearn.decomposition import PCA"
   ]
  },
  {
   "cell_type": "code",
   "execution_count": 149,
   "metadata": {
    "collapsed": true
   },
   "outputs": [],
   "source": [
    "pca = PCA(n_components=2)\n",
    "pca_vectors = pca.fit_transform(X3)"
   ]
  },
  {
   "cell_type": "code",
   "execution_count": 150,
   "metadata": {
    "collapsed": false
   },
   "outputs": [
    {
     "data": {
      "text/plain": [
       "array([ 0.07528698,  0.04815674], dtype=float32)"
      ]
     },
     "execution_count": 150,
     "metadata": {},
     "output_type": "execute_result"
    }
   ],
   "source": [
    "pca.explained_variance_ "
   ]
  },
  {
   "cell_type": "code",
   "execution_count": 151,
   "metadata": {
    "collapsed": false
   },
   "outputs": [
    {
     "data": {
      "text/plain": [
       "(500L, 100L)"
      ]
     },
     "execution_count": 151,
     "metadata": {},
     "output_type": "execute_result"
    }
   ],
   "source": [
    "# reduce the set to 500 data points from the test set, for easier dimensionality reduction and visualisation\n",
    "Xtest = X3_test[:500]\n",
    "Xtest.shape"
   ]
  },
  {
   "cell_type": "code",
   "execution_count": 152,
   "metadata": {
    "collapsed": false
   },
   "outputs": [],
   "source": [
    "# use t-SNE for dimensionality reduction to 2D\n",
    "tsne = TSNE()\n",
    "tsne_vectors = tsne.fit_transform(Xtest)\n",
    "coords = tsne.embedding_"
   ]
  },
  {
   "cell_type": "code",
   "execution_count": 153,
   "metadata": {
    "collapsed": false
   },
   "outputs": [
    {
     "data": {
      "text/html": [
       "<div>\n",
       "<style>\n",
       "    .dataframe thead tr:only-child th {\n",
       "        text-align: right;\n",
       "    }\n",
       "\n",
       "    .dataframe thead th {\n",
       "        text-align: left;\n",
       "    }\n",
       "\n",
       "    .dataframe tbody tr th {\n",
       "        vertical-align: top;\n",
       "    }\n",
       "</style>\n",
       "<table border=\"1\" class=\"dataframe\">\n",
       "  <thead>\n",
       "    <tr style=\"text-align: right;\">\n",
       "      <th></th>\n",
       "      <th>x_coord</th>\n",
       "      <th>y_coord</th>\n",
       "      <th>true_labels</th>\n",
       "      <th>mlpc_labels</th>\n",
       "      <th>ada_labels</th>\n",
       "      <th>rf_labels</th>\n",
       "    </tr>\n",
       "  </thead>\n",
       "  <tbody>\n",
       "    <tr>\n",
       "      <th>480</th>\n",
       "      <td>-7.363711</td>\n",
       "      <td>6.342382</td>\n",
       "      <td>4</td>\n",
       "      <td>5</td>\n",
       "      <td>5</td>\n",
       "      <td>5</td>\n",
       "    </tr>\n",
       "    <tr>\n",
       "      <th>481</th>\n",
       "      <td>-1.662855</td>\n",
       "      <td>4.601886</td>\n",
       "      <td>5</td>\n",
       "      <td>5</td>\n",
       "      <td>5</td>\n",
       "      <td>5</td>\n",
       "    </tr>\n",
       "    <tr>\n",
       "      <th>482</th>\n",
       "      <td>0.573350</td>\n",
       "      <td>2.735011</td>\n",
       "      <td>5</td>\n",
       "      <td>4</td>\n",
       "      <td>5</td>\n",
       "      <td>5</td>\n",
       "    </tr>\n",
       "    <tr>\n",
       "      <th>483</th>\n",
       "      <td>-2.159074</td>\n",
       "      <td>5.758614</td>\n",
       "      <td>3</td>\n",
       "      <td>5</td>\n",
       "      <td>5</td>\n",
       "      <td>5</td>\n",
       "    </tr>\n",
       "    <tr>\n",
       "      <th>484</th>\n",
       "      <td>-8.486665</td>\n",
       "      <td>-6.959841</td>\n",
       "      <td>2</td>\n",
       "      <td>2</td>\n",
       "      <td>1</td>\n",
       "      <td>1</td>\n",
       "    </tr>\n",
       "    <tr>\n",
       "      <th>485</th>\n",
       "      <td>7.896356</td>\n",
       "      <td>-3.302954</td>\n",
       "      <td>3</td>\n",
       "      <td>3</td>\n",
       "      <td>3</td>\n",
       "      <td>4</td>\n",
       "    </tr>\n",
       "    <tr>\n",
       "      <th>486</th>\n",
       "      <td>-4.477042</td>\n",
       "      <td>2.477612</td>\n",
       "      <td>5</td>\n",
       "      <td>4</td>\n",
       "      <td>5</td>\n",
       "      <td>5</td>\n",
       "    </tr>\n",
       "    <tr>\n",
       "      <th>487</th>\n",
       "      <td>-2.847753</td>\n",
       "      <td>4.206314</td>\n",
       "      <td>4</td>\n",
       "      <td>5</td>\n",
       "      <td>5</td>\n",
       "      <td>5</td>\n",
       "    </tr>\n",
       "    <tr>\n",
       "      <th>488</th>\n",
       "      <td>10.077945</td>\n",
       "      <td>5.492285</td>\n",
       "      <td>2</td>\n",
       "      <td>4</td>\n",
       "      <td>5</td>\n",
       "      <td>5</td>\n",
       "    </tr>\n",
       "    <tr>\n",
       "      <th>489</th>\n",
       "      <td>7.591112</td>\n",
       "      <td>-3.959157</td>\n",
       "      <td>5</td>\n",
       "      <td>5</td>\n",
       "      <td>4</td>\n",
       "      <td>5</td>\n",
       "    </tr>\n",
       "    <tr>\n",
       "      <th>490</th>\n",
       "      <td>7.044894</td>\n",
       "      <td>2.267602</td>\n",
       "      <td>5</td>\n",
       "      <td>5</td>\n",
       "      <td>4</td>\n",
       "      <td>5</td>\n",
       "    </tr>\n",
       "    <tr>\n",
       "      <th>491</th>\n",
       "      <td>8.048820</td>\n",
       "      <td>-7.428037</td>\n",
       "      <td>3</td>\n",
       "      <td>4</td>\n",
       "      <td>3</td>\n",
       "      <td>4</td>\n",
       "    </tr>\n",
       "    <tr>\n",
       "      <th>492</th>\n",
       "      <td>-1.434568</td>\n",
       "      <td>-4.320919</td>\n",
       "      <td>4</td>\n",
       "      <td>4</td>\n",
       "      <td>4</td>\n",
       "      <td>4</td>\n",
       "    </tr>\n",
       "    <tr>\n",
       "      <th>493</th>\n",
       "      <td>9.377460</td>\n",
       "      <td>4.505572</td>\n",
       "      <td>5</td>\n",
       "      <td>5</td>\n",
       "      <td>5</td>\n",
       "      <td>5</td>\n",
       "    </tr>\n",
       "    <tr>\n",
       "      <th>494</th>\n",
       "      <td>-7.474708</td>\n",
       "      <td>-3.336564</td>\n",
       "      <td>3</td>\n",
       "      <td>4</td>\n",
       "      <td>5</td>\n",
       "      <td>5</td>\n",
       "    </tr>\n",
       "    <tr>\n",
       "      <th>495</th>\n",
       "      <td>6.233267</td>\n",
       "      <td>-3.759815</td>\n",
       "      <td>4</td>\n",
       "      <td>4</td>\n",
       "      <td>4</td>\n",
       "      <td>4</td>\n",
       "    </tr>\n",
       "    <tr>\n",
       "      <th>496</th>\n",
       "      <td>7.277361</td>\n",
       "      <td>0.380819</td>\n",
       "      <td>4</td>\n",
       "      <td>5</td>\n",
       "      <td>5</td>\n",
       "      <td>5</td>\n",
       "    </tr>\n",
       "    <tr>\n",
       "      <th>497</th>\n",
       "      <td>7.009401</td>\n",
       "      <td>-0.904233</td>\n",
       "      <td>5</td>\n",
       "      <td>5</td>\n",
       "      <td>5</td>\n",
       "      <td>5</td>\n",
       "    </tr>\n",
       "    <tr>\n",
       "      <th>498</th>\n",
       "      <td>6.192152</td>\n",
       "      <td>-7.122016</td>\n",
       "      <td>2</td>\n",
       "      <td>2</td>\n",
       "      <td>2</td>\n",
       "      <td>1</td>\n",
       "    </tr>\n",
       "    <tr>\n",
       "      <th>499</th>\n",
       "      <td>16.082064</td>\n",
       "      <td>1.187509</td>\n",
       "      <td>4</td>\n",
       "      <td>4</td>\n",
       "      <td>5</td>\n",
       "      <td>5</td>\n",
       "    </tr>\n",
       "  </tbody>\n",
       "</table>\n",
       "</div>"
      ],
      "text/plain": [
       "       x_coord   y_coord  true_labels  mlpc_labels  ada_labels  rf_labels\n",
       "480  -7.363711  6.342382            4            5           5          5\n",
       "481  -1.662855  4.601886            5            5           5          5\n",
       "482   0.573350  2.735011            5            4           5          5\n",
       "483  -2.159074  5.758614            3            5           5          5\n",
       "484  -8.486665 -6.959841            2            2           1          1\n",
       "485   7.896356 -3.302954            3            3           3          4\n",
       "486  -4.477042  2.477612            5            4           5          5\n",
       "487  -2.847753  4.206314            4            5           5          5\n",
       "488  10.077945  5.492285            2            4           5          5\n",
       "489   7.591112 -3.959157            5            5           4          5\n",
       "490   7.044894  2.267602            5            5           4          5\n",
       "491   8.048820 -7.428037            3            4           3          4\n",
       "492  -1.434568 -4.320919            4            4           4          4\n",
       "493   9.377460  4.505572            5            5           5          5\n",
       "494  -7.474708 -3.336564            3            4           5          5\n",
       "495   6.233267 -3.759815            4            4           4          4\n",
       "496   7.277361  0.380819            4            5           5          5\n",
       "497   7.009401 -0.904233            5            5           5          5\n",
       "498   6.192152 -7.122016            2            2           2          1\n",
       "499  16.082064  1.187509            4            4           5          5"
      ]
     },
     "execution_count": 153,
     "metadata": {},
     "output_type": "execute_result"
    }
   ],
   "source": [
    "# assemble relevant arrays in a data frame\n",
    "x_coord = coords[:, 0]\n",
    "y_coord = coords[:, 1]\n",
    "true_labels = y3_test[:500]\n",
    "mlpc = result_mlpc[:500]\n",
    "ada = result_ada[:500]\n",
    "rf = result_rfc[:500]\n",
    "results_df = pd.DataFrame(zip(x_coord, y_coord, true_labels, mlpc, ada, rf))\n",
    "results_df.columns = ['x_coord', 'y_coord', 'true_labels', 'mlpc_labels', 'ada_labels', 'rf_labels']\n",
    "results_df.tail(20)"
   ]
  },
  {
   "cell_type": "code",
   "execution_count": 154,
   "metadata": {
    "collapsed": true
   },
   "outputs": [],
   "source": [
    "results_df.to_csv('data/2dresults.csv')"
   ]
  },
  {
   "cell_type": "code",
   "execution_count": 155,
   "metadata": {
    "collapsed": false
   },
   "outputs": [
    {
     "data": {
      "image/png": "[encoded data removed]",
      "text/plain": [
       "<matplotlib.figure.Figure at 0x67585c18>"
      ]
     },
     "metadata": {},
     "output_type": "display_data"
    }
   ],
   "source": [
    "plt.scatter(x = results_df.loc[results_df['true_labels'] == 5].x_coord, \n",
    "            y = results_df.loc[results_df['true_labels'] == 5].y_coord, c='b', s=20, label='5 stars')\n",
    "plt.scatter(x = results_df.loc[results_df['true_labels'] == 4].x_coord, \n",
    "            y = results_df.loc[results_df['true_labels'] == 4].y_coord, c='g', s=20, label='4 stars')\n",
    "plt.scatter(x = results_df.loc[results_df['true_labels'] == 3].x_coord, \n",
    "            y = results_df.loc[results_df['true_labels'] == 3].y_coord, c='k', s=20, label='3 stars')\n",
    "plt.scatter(x = results_df.loc[results_df['true_labels'] == 2].x_coord, \n",
    "            y = results_df.loc[results_df['true_labels'] == 2].y_coord, c='y', s=20, label='3 stars')\n",
    "plt.scatter(x = results_df.loc[results_df['true_labels'] == 1].x_coord, \n",
    "            y = results_df.loc[results_df['true_labels'] == 1].y_coord, c='r', s=20, label='1 star')\n",
    "plt.legend()\n",
    "plt.title('True embeddings of all 5 classes in 2D space')\n",
    "plt.show()"
   ]
  },
  {
   "cell_type": "markdown",
   "metadata": {},
   "source": [
    "Due to the large number of features, the 2-D representation does not show clear boundaries between the classes. Charts below show the positioning of 5-star and 1-star classes (two classes that are the most different from each other). The MLPC model misclassifies between these two labels (true 5 predicted as 1, and true 1 predicted as 5) in <1% of cases. "
   ]
  },
  {
   "cell_type": "code",
   "execution_count": 156,
   "metadata": {
    "collapsed": false
   },
   "outputs": [
    {
     "data": {
      "image/png": "[encoded data removed]",
      "text/plain": [
       "<matplotlib.figure.Figure at 0xbe80b6a0>"
      ]
     },
     "metadata": {},
     "output_type": "display_data"
    }
   ],
   "source": [
    "plt.scatter(x = results_df.loc[results_df['true_labels'] == 5].x_coord, \n",
    "            y = results_df.loc[results_df['true_labels'] == 5].y_coord, c='b', s=20, label='5 stars')\n",
    "\n",
    "plt.scatter(x = results_df.loc[results_df['true_labels'] == 1].x_coord, \n",
    "            y = results_df.loc[results_df['true_labels'] == 1].y_coord, c='r', s=20, label='1 star')\n",
    "plt.legend()\n",
    "plt.show()"
   ]
  },
  {
   "cell_type": "markdown",
   "metadata": {},
   "source": [
    "Looking at 5-star ratings only, we can visualise which points are correctly/falsely predicted by the MLPC model..."
   ]
  },
  {
   "cell_type": "code",
   "execution_count": 157,
   "metadata": {
    "collapsed": false
   },
   "outputs": [
    {
     "data": {
      "image/png": "[encoded data removed]",
      "text/plain": [
       "<matplotlib.figure.Figure at 0xa46d3588>"
      ]
     },
     "metadata": {},
     "output_type": "display_data"
    }
   ],
   "source": [
    "# 5-star correct and false predictions using MLPC\n",
    "plt.scatter(x = results_df.loc[(results_df['true_labels'] == 5) & (results_df['mlpc_labels'] == 5)].x_coord, \n",
    "            y = results_df.loc[(results_df['true_labels'] == 5) & (results_df['mlpc_labels'] == 5)].y_coord, \n",
    "            c='b', s=20, label='correct')\n",
    "\n",
    "plt.scatter(x = results_df.loc[(results_df['true_labels'] == 5) & (results_df['mlpc_labels'] != 5)].x_coord, \n",
    "            y = results_df.loc[(results_df['true_labels'] == 5) & (results_df['mlpc_labels'] != 5)].y_coord, \n",
    "            c='r', s=20, label='false')\n",
    "\n",
    "plt.legend()\n",
    "plt.show()"
   ]
  },
  {
   "cell_type": "markdown",
   "metadata": {},
   "source": [
    "... and we can view the same results for 1-star ratings. The results seem to show that points on the fringes are corectly predicted, and the false ratings tend to fall in the middle of the chart, which is harder to distinguish from other classes."
   ]
  },
  {
   "cell_type": "code",
   "execution_count": 158,
   "metadata": {
    "collapsed": false,
    "scrolled": true
   },
   "outputs": [
    {
     "data": {
      "image/png": "[encoded data removed]",
      "text/plain": [
       "<matplotlib.figure.Figure at 0xbee5ec50>"
      ]
     },
     "metadata": {},
     "output_type": "display_data"
    }
   ],
   "source": [
    "# 1-star correct and false predictions using MLPC\n",
    "plt.scatter(x = results_df.loc[(results_df['true_labels'] == 1) & (results_df['mlpc_labels'] == 1)].x_coord, \n",
    "            y = results_df.loc[(results_df['true_labels'] == 1) & (results_df['mlpc_labels'] == 1)].y_coord, \n",
    "            c='b', s=20, label='correct')\n",
    "\n",
    "plt.scatter(x = results_df.loc[(results_df['true_labels'] == 1) & (results_df['mlpc_labels'] != 1)].x_coord, \n",
    "            y = results_df.loc[(results_df['true_labels'] == 1) & (results_df['mlpc_labels'] != 1)].y_coord, \n",
    "            c='r', s=20, label='false')\n",
    "\n",
    "plt.legend()\n",
    "plt.show()"
   ]
  },
  {
   "cell_type": "markdown",
   "metadata": {
    "collapsed": true
   },
   "source": [
    "# 7. Conclusion "
   ]
  },
  {
   "cell_type": "markdown",
   "metadata": {},
   "source": [
    "We now have two methods for predicting the average Yelp rating for a restaurant:\n",
    "1. Predicting the average rating based on a restaurant's features\n",
    "2. Predicting the rating of each review based on the review text and averaging across all reviews written about the restaurant\n",
    "\n",
    "The feature-based model is only able to give a general trend and provide a vague prediction that is marginally better than simply assuming that a restaurant will have a mena rating of 3.4 stars. The best model here was Gradient Boosting Regression (GBR), which provided a MSE of 0.5 stars, and a standard deviation of the prediction error of 0.68. \n",
    "\n",
    "The reviews-based model provides a better approximation. The MPL Regression algorithm gives a MSE of 0.57 on each individual review, and <0.1 when averaged over approx. 80 reviews per business. The standard deviation of prediction errors for a restaurant is 0.31 stars, which is a far more accurate and useful result.\n",
    "\n",
    "From the business perspective, we can conclude that features do have an impact on ratings, and the most important features are location and opening hours (from feature importance of the GBR method). However, the subjective, human aspect of a restaurant, as captured by the reviews, is the more important factor in determining ratings. Hence the text-based predictive model can be used to analyze any text written about a restaurant and provide either a positive/negative sentiment judgement or predict a Yelp-style rating from 1 to 5 stars. \n",
    "\n",
    "Further, we have identified words that most commonly appear in the top-rated and bottom-rated reviews. By looking at the words that have the most discrepancy between to and bottom reviews, some high-level conclusions can be made:\n",
    "- positive reviews are dominated by adjectives such as great/amazing/delicious (as expected), whereas negative reviews, aside from obvious words such as bad/not include more verbs (go/ask/get/order/take). It seems that negative reviews are often a narrative of what went wrong\n",
    "- positive reviews tend to praise the quality of food and the atmosphere; negative reviews complain about waiting, ordering, seating, cold food and similar\n",
    "- in terms of personnel, positive reviews commonly include the word 'owner', whereas negative reviews talk about the waiting staff and manager. Hence a dedicated owner is critical to top reviews, while poor service is responsible for bottom reviews\n",
    "- pizza, breakfast, donut and  coffee are more common in top reviews; bottom reviews mention items such as drink, bar, chicken and burger \n",
    "\n",
    "The word2vec model can be visualized in 2D in order to identify the embedding of reviews by rating. However as the dimensionality reduction is very large (from 100 to 2 dimensions), the visualization does not provide a clear and easily interpretable classification. "
   ]
  },
  {
   "cell_type": "code",
   "execution_count": null,
   "metadata": {
    "collapsed": true
   },
   "outputs": [],
   "source": []
  }
 ],
 "metadata": {
  "kernelspec": {
   "display_name": "Python 2",
   "language": "python",
   "name": "python2"
  },
  "language_info": {
   "codemirror_mode": {
    "name": "ipython",
    "version": 2
   },
   "file_extension": ".py",
   "mimetype": "text/x-python",
   "name": "python",
   "nbconvert_exporter": "python",
   "pygments_lexer": "ipython2",
   "version": "2.7.13"
  }
 },
 "nbformat": 4,
 "nbformat_minor": 2
}
